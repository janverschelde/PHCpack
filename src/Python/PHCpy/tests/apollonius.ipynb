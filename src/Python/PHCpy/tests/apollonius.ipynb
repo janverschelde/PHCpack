{
 "cells": [
  {
   "cell_type": "markdown",
   "id": "d5817f13-f682-41b3-a806-c70db714c6f9",
   "metadata": {},
   "source": [
    "This notebook illustrates the encapsulation of the blackbox solver."
   ]
  },
  {
   "cell_type": "markdown",
   "id": "11b6f119-f3ef-4a70-9e6e-6e54ca63b346",
   "metadata": {},
   "source": [
    "# The Circle Problem of Apollonius"
   ]
  },
  {
   "cell_type": "markdown",
   "id": "dab18c33-357b-4cfa-b2ce-c4ac4196282a",
   "metadata": {},
   "source": [
    "The circle problem of Apollonius has the following input/output specification:\n",
    "Given three circles, find all circles that are tangent to the given circles."
   ]
  },
  {
   "cell_type": "markdown",
   "id": "ccb7bcd1-fe68-48cd-9694-b867f2c35bda",
   "metadata": {},
   "source": [
    "## 1. The Polynomial Systems"
   ]
  },
  {
   "cell_type": "markdown",
   "id": "db5aebc9-e9a5-43e2-9966-f9332aa2412a",
   "metadata": {},
   "source": [
    "Without loss of generality, we take the first circle to be the unit circle,\n",
    "centered at (0, 0) and with radius 1.  The origin of the second circle lies\n",
    "on the first coordinate axis, so its center has coordinates (c2x, 0) and\n",
    "radius r2.  The third circle has center (c3x, c3y) and radius r3.\n",
    "So there are five parameters in this problem: c2x, r2, c3x, c3y, and r3.\n",
    "Values for the five parameters are defined by the first five equations.\n",
    "The next three equations determine the center (x, y) and the radius r\n",
    "of the circle which touches the three given circles.\n",
    "The condition on the center of the touching circle is that its distance\n",
    "to the center of the given circle is either the difference or the sum of\n",
    "the radii of both circles.  So we arrive at eight polynomial systems."
   ]
  },
  {
   "cell_type": "markdown",
   "id": "53acaa63-e8f8-4e6d-b63e-c338b17ae91b",
   "metadata": {},
   "source": [
    "The problem formulation is coded in the function `polynomials`."
   ]
  },
  {
   "cell_type": "code",
   "execution_count": 1,
   "id": "9ec9a027-e654-4135-a0f2-00c8104fe4f6",
   "metadata": {},
   "outputs": [],
   "source": [
    "def polynomials(c2x, r2, c3x, c3y, r3):\n",
    "    \"\"\"\n",
    "    On input are the five parameters of the circle problem of Apollonius:\n",
    "    c2x : the x-coordinate of the center of the second circle,\n",
    "    r2 : the radius of the second circle,\n",
    "    c3x : the x-coordinate of the center of the third circle,\n",
    "    c3y : the y-coordinate of the center of the third circle,\n",
    "    r3 : the radius of the third circle.\n",
    "    Returns a list of lists.  Each list contains a polynomial system.\n",
    "    Solutions to each polynomial system define center (x, y) and radius r\n",
    "    of a circle touching three given circles.\n",
    "    \"\"\"\n",
    "    e1m = 'x^2 + y^2 - (r-1)^2;'\n",
    "    e1p = 'x^2 + y^2 - (r+1)^2;'\n",
    "    e2m = '(x-%.15f)^2 + y^2 - (r-%.15f)^2;' % (c2x, r2)\n",
    "    e2p = '(x-%.15f)^2 + y^2 - (r+%.15f)^2;' % (c2x, r2)\n",
    "    e3m = '(x-%.15f)^2 + (y-%.15f)^2 - (r-%.15f)^2;' % (c3x, c3y, r3)\n",
    "    e3p = '(x-%.15f)^2 + (y-%.15f)^2 - (r+%.15f)^2;' % (c3x, c3y, r3)\n",
    "    eqs0 = [e1m,e2m,e3m]\n",
    "    eqs1 = [e1m,e2m,e3p]\n",
    "    eqs2 = [e1m,e2p,e3m]\n",
    "    eqs3 = [e1m,e2p,e3p]\n",
    "    eqs4 = [e1p,e2m,e3m]\n",
    "    eqs5 = [e1p,e2m,e3p]\n",
    "    eqs6 = [e1p,e2p,e3m]\n",
    "    eqs7 = [e1p,e2p,e3p]\n",
    "    return [eqs0,eqs1,eqs2,eqs3,eqs4,eqs5,eqs6,eqs7]"
   ]
  },
  {
   "cell_type": "markdown",
   "id": "aa38d7ab-db2a-47e1-99e1-7c3905d1d81d",
   "metadata": {},
   "source": [
    "As an example of a general problem, the center of the second circle is at `(2, 0)`, with radius `2/3`, and the third circle is centered at `(1, 1)`, with a radius of `1/3`."
   ]
  },
  {
   "cell_type": "markdown",
   "id": "fbc0836c-0f15-49c5-a8c7-7ded65230749",
   "metadata": {},
   "source": [
    "Let us look at the eight polynomial systems, computed as the output of the function `polynomials`."
   ]
  },
  {
   "cell_type": "code",
   "execution_count": 2,
   "id": "f61cb2e8-7283-4660-bfd4-885ef03f6e7d",
   "metadata": {},
   "outputs": [
    {
     "name": "stdout",
     "output_type": "stream",
     "text": [
      "['x^2 + y^2 - (r-1)^2;', '(x-2.000000000000000)^2 + y^2 - (r-0.666666666666667)^2;', '(x-1.000000000000000)^2 + (y-1.000000000000000)^2 - (r-0.333333333333333)^2;']\n",
      "['x^2 + y^2 - (r-1)^2;', '(x-2.000000000000000)^2 + y^2 - (r-0.666666666666667)^2;', '(x-1.000000000000000)^2 + (y-1.000000000000000)^2 - (r+0.333333333333333)^2;']\n",
      "['x^2 + y^2 - (r-1)^2;', '(x-2.000000000000000)^2 + y^2 - (r+0.666666666666667)^2;', '(x-1.000000000000000)^2 + (y-1.000000000000000)^2 - (r-0.333333333333333)^2;']\n",
      "['x^2 + y^2 - (r-1)^2;', '(x-2.000000000000000)^2 + y^2 - (r+0.666666666666667)^2;', '(x-1.000000000000000)^2 + (y-1.000000000000000)^2 - (r+0.333333333333333)^2;']\n",
      "['x^2 + y^2 - (r+1)^2;', '(x-2.000000000000000)^2 + y^2 - (r-0.666666666666667)^2;', '(x-1.000000000000000)^2 + (y-1.000000000000000)^2 - (r-0.333333333333333)^2;']\n",
      "['x^2 + y^2 - (r+1)^2;', '(x-2.000000000000000)^2 + y^2 - (r-0.666666666666667)^2;', '(x-1.000000000000000)^2 + (y-1.000000000000000)^2 - (r+0.333333333333333)^2;']\n",
      "['x^2 + y^2 - (r+1)^2;', '(x-2.000000000000000)^2 + y^2 - (r+0.666666666666667)^2;', '(x-1.000000000000000)^2 + (y-1.000000000000000)^2 - (r-0.333333333333333)^2;']\n",
      "['x^2 + y^2 - (r+1)^2;', '(x-2.000000000000000)^2 + y^2 - (r+0.666666666666667)^2;', '(x-1.000000000000000)^2 + (y-1.000000000000000)^2 - (r+0.333333333333333)^2;']\n"
     ]
    }
   ],
   "source": [
    "general_problem = polynomials(2, 2.0/3, 1, 1, 1.0/3)\n",
    "for pols in general_problem:\n",
    "    print(pols)"
   ]
  },
  {
   "cell_type": "markdown",
   "id": "1912ea48-e7cd-4ab5-b541-8e3bcf98a022",
   "metadata": {},
   "source": [
    "## 2. Plotting Circles"
   ]
  },
  {
   "cell_type": "markdown",
   "id": "a4684c44-f8a9-49f9-937f-15b41f09cf72",
   "metadata": {},
   "source": [
    "The package `matplotlib` has primitives to define circles."
   ]
  },
  {
   "cell_type": "code",
   "execution_count": 3,
   "id": "6185e548-7190-4df7-b4c2-88a65c556959",
   "metadata": {},
   "outputs": [],
   "source": [
    "import matplotlib.pyplot as plt"
   ]
  },
  {
   "cell_type": "markdown",
   "id": "405a6d05-8cac-49e8-a8a5-ac876a971c08",
   "metadata": {},
   "source": [
    "The input to the three given circles of the general problem is codified in the list of tuples set below."
   ]
  },
  {
   "cell_type": "code",
   "execution_count": 4,
   "id": "d5d9ef80-bf4f-4b11-b578-dbe5c4564231",
   "metadata": {},
   "outputs": [],
   "source": [
    "crcdata = [((0, 0), 1), ((2, 0), 2.0/3), ((1, 1), 1.0/3)]"
   ]
  },
  {
   "cell_type": "markdown",
   "id": "2b94810f-453b-489b-a044-5817d80516ed",
   "metadata": {},
   "source": [
    "The input circles will be shown as blue disks."
   ]
  },
  {
   "cell_type": "markdown",
   "id": "9768e197-bd83-4180-b6c1-9dee21077322",
   "metadata": {},
   "source": [
    "Let us then render our general configuration."
   ]
  },
  {
   "cell_type": "code",
   "execution_count": 5,
   "id": "443e4788-92d2-4ebb-8765-0910b2f23197",
   "metadata": {},
   "outputs": [
    {
     "data": {
      "text/plain": [
       "<contextlib.ExitStack at 0x1f45e19a110>"
      ]
     },
     "execution_count": 5,
     "metadata": {},
     "output_type": "execute_result"
    }
   ],
   "source": [
    "plt.ion()"
   ]
  },
  {
   "cell_type": "code",
   "execution_count": 6,
   "id": "3b864a76-58bc-4d9d-b6a8-a0136e7c111c",
   "metadata": {},
   "outputs": [],
   "source": [
    "(xa, xb, ya, yb) = (-2, 4, -2, 3)"
   ]
  },
  {
   "cell_type": "code",
   "execution_count": 7,
   "id": "8c38d04a-c9a0-49cc-ab99-be2a8cc33776",
   "metadata": {},
   "outputs": [
    {
     "data": {
      "image/png": "[encoded data removed]",
      "text/plain": [
       "<Figure size 640x480 with 1 Axes>"
      ]
     },
     "metadata": {},
     "output_type": "display_data"
    }
   ],
   "source": [
    "fig = plt.figure()\n",
    "axs = fig.add_subplot(111, aspect='equal')\n",
    "for (center, radius) in crcdata:\n",
    "    crc = plt.Circle(center, radius, edgecolor='blue', facecolor='blue')\n",
    "    axs.add_patch(crc)\n",
    "plt.axis([xa, xb, ya, yb])\n",
    "fig.canvas.draw()"
   ]
  },
  {
   "cell_type": "markdown",
   "id": "f195f49c-4188-45e9-add1-369da53ba2bf",
   "metadata": {},
   "source": [
    "## 3. Solving Polynomial Systems"
   ]
  },
  {
   "cell_type": "markdown",
   "id": "f1a34880-def1-49ef-84d5-a04f5124b7c5",
   "metadata": {},
   "source": [
    "To solve the polynomial systems, we apply the blackbox solver."
   ]
  },
  {
   "cell_type": "code",
   "execution_count": 8,
   "id": "450d775c-fe79-44ad-a788-a290f3d97416",
   "metadata": {},
   "outputs": [
    {
     "name": "stdout",
     "output_type": "stream",
     "text": [
      "PHCv2.4.88 released 2023-12-26 works!\n"
     ]
    }
   ],
   "source": [
    "from phcpy.solver import solve"
   ]
  },
  {
   "cell_type": "markdown",
   "id": "1fdbe55f-9d0f-445d-8632-96182d7b2656",
   "metadata": {},
   "source": [
    "and we need some functions to extract the real solutions."
   ]
  },
  {
   "cell_type": "code",
   "execution_count": 9,
   "id": "18419363-a96c-4ec7-a1df-310d79ff68ac",
   "metadata": {},
   "outputs": [],
   "source": [
    "from phcpy.solutions import strsol2dict, is_real"
   ]
  },
  {
   "cell_type": "markdown",
   "id": "8cc33569-63de-4557-a0c4-b9522e441a82",
   "metadata": {},
   "source": [
    "The `solve4circles` calls the solver on the polynomial systems of the problem."
   ]
  },
  {
   "cell_type": "code",
   "execution_count": 10,
   "id": "b23741e0-d832-4846-b6b8-79f948e4f5c9",
   "metadata": {},
   "outputs": [],
   "source": [
    "def solve4circles(syst, verbose=True):\n",
    "    \"\"\"\n",
    "    Given in syst is a list of polynomial systems.\n",
    "    Returns a list of tuples.  Each tuple in the list of return\n",
    "    consists of the coordinates of the center and the radius of\n",
    "    a circle touching the three given circles.\n",
    "    \"\"\"\n",
    "    (circle, eqscnt) = (0, 0)\n",
    "    result = []\n",
    "    for eqs in syst:\n",
    "        eqscnt = eqscnt + 1\n",
    "        if verbose:\n",
    "            print('solving system', eqscnt, ':')\n",
    "            for pol in eqs:\n",
    "                print(pol)\n",
    "        sols = solve(eqs)\n",
    "        if verbose:\n",
    "            print('system', eqscnt, 'has', len(sols), 'solutions')\n",
    "        for sol in sols:\n",
    "            if is_real(sol, 1.0e-8):\n",
    "                soldic = strsol2dict(sol)\n",
    "                if soldic['r'].real > 0:\n",
    "                    circle = circle + 1\n",
    "                    ctr = (soldic['x'].real, soldic['y'].real)\n",
    "                    rad = soldic['r'].real\n",
    "                    result.append((ctr, rad))\n",
    "                    if verbose:\n",
    "                        print('solution circle', circle)\n",
    "                        print('center =', ctr)\n",
    "                        print('radius =', rad)\n",
    "    return result"
   ]
  },
  {
   "cell_type": "markdown",
   "id": "8b472eed-17d5-490b-a00a-db458c824162",
   "metadata": {},
   "source": [
    "The function `solve4circles` puts the solutions of the polynomial system in the format of our problem.  Each solution is a circle, represented by a tuple of the coordinates of the center and the radius of the circle."
   ]
  },
  {
   "cell_type": "code",
   "execution_count": 11,
   "id": "deddf414-667c-41e7-89ed-b34c09124935",
   "metadata": {},
   "outputs": [
    {
     "name": "stdout",
     "output_type": "stream",
     "text": [
      "solving system 1 :\n",
      "x^2 + y^2 - (r-1)^2;\n",
      "(x-2.000000000000000)^2 + y^2 - (r-0.666666666666667)^2;\n",
      "(x-1.000000000000000)^2 + (y-1.000000000000000)^2 - (r-0.333333333333333)^2;\n",
      "system 1 has 2 solutions\n",
      "solution circle 1\n",
      "center = (0.792160611810177, -0.734629275680581)\n",
      "radius = 2.08036966247227\n",
      "solving system 2 :\n",
      "x^2 + y^2 - (r-1)^2;\n",
      "(x-2.000000000000000)^2 + y^2 - (r-0.666666666666667)^2;\n",
      "(x-1.000000000000000)^2 + (y-1.000000000000000)^2 - (r+0.333333333333333)^2;\n",
      "system 2 has 2 solutions\n",
      "solving system 3 :\n",
      "x^2 + y^2 - (r-1)^2;\n",
      "(x-2.000000000000000)^2 + y^2 - (r+0.666666666666667)^2;\n",
      "(x-1.000000000000000)^2 + (y-1.000000000000000)^2 - (r-0.333333333333333)^2;\n",
      "system 3 has 2 solutions\n",
      "solution circle 2\n",
      "center = (-0.200806137165906, 0.573494560766515)\n",
      "radius = 1.60763403126575\n",
      "solving system 4 :\n",
      "x^2 + y^2 - (r-1)^2;\n",
      "(x-2.000000000000000)^2 + y^2 - (r+0.666666666666667)^2;\n",
      "(x-1.000000000000000)^2 + (y-1.000000000000000)^2 - (r+0.333333333333333)^2;\n",
      "system 4 has 2 solutions\n",
      "solution circle 3\n",
      "center = (-0.0193166119185707, -0.389367744928919)\n",
      "radius = 1.38984660096895\n",
      "solving system 5 :\n",
      "x^2 + y^2 - (r+1)^2;\n",
      "(x-2.000000000000000)^2 + y^2 - (r-0.666666666666667)^2;\n",
      "(x-1.000000000000000)^2 + (y-1.000000000000000)^2 - (r-0.333333333333333)^2;\n",
      "system 5 has 2 solutions\n",
      "solution circle 4\n",
      "center = (5.35264994525186, 2.83381218937333)\n",
      "radius = 5.05651326763556\n",
      "solving system 6 :\n",
      "x^2 + y^2 - (r+1)^2;\n",
      "(x-2.000000000000000)^2 + y^2 - (r-0.666666666666667)^2;\n",
      "(x-1.000000000000000)^2 + (y-1.000000000000000)^2 - (r+0.333333333333333)^2;\n",
      "system 6 has 2 solutions\n",
      "solution circle 5\n",
      "center = (1.86747280383257, 0.159838772566819)\n",
      "radius = 0.874300697932419\n",
      "solving system 7 :\n",
      "x^2 + y^2 - (r+1)^2;\n",
      "(x-2.000000000000000)^2 + y^2 - (r+0.666666666666667)^2;\n",
      "(x-1.000000000000000)^2 + (y-1.000000000000000)^2 - (r-0.333333333333333)^2;\n",
      "system 7 has 2 solutions\n",
      "solution circle 6\n",
      "center = (1.23373094922213, 0.96944997788827)\n",
      "radius = 0.56905236199947\n",
      "solution circle 7\n",
      "center = (1.43293571744453, 2.36388335544507)\n",
      "radius = 1.76428097133387\n",
      "solving system 8 :\n",
      "x^2 + y^2 - (r+1)^2;\n",
      "(x-2.000000000000000)^2 + y^2 - (r+0.666666666666667)^2;\n",
      "(x-1.000000000000000)^2 + (y-1.000000000000000)^2 - (r+0.333333333333333)^2;\n",
      "system 8 has 2 solutions\n",
      "solution circle 8\n",
      "center = (1.1821983625488, 0.435483976535281)\n",
      "radius = 0.25985684195945\n"
     ]
    }
   ],
   "source": [
    "sols = solve4circles(general_problem)"
   ]
  },
  {
   "cell_type": "markdown",
   "id": "e82b2807-f0da-4841-ae9d-c55da77a03db",
   "metadata": {},
   "source": [
    "For all clarity, let us print the solution circles."
   ]
  },
  {
   "cell_type": "code",
   "execution_count": 12,
   "id": "49d072df-5413-409e-87b7-cb61227dc22e",
   "metadata": {},
   "outputs": [
    {
     "name": "stdout",
     "output_type": "stream",
     "text": [
      "Circle 1 : ((0.792160611810177, -0.734629275680581), 2.08036966247227)\n",
      "Circle 2 : ((-0.200806137165906, 0.573494560766515), 1.60763403126575)\n",
      "Circle 3 : ((-0.0193166119185707, -0.389367744928919), 1.38984660096895)\n",
      "Circle 4 : ((5.35264994525186, 2.83381218937333), 5.05651326763556)\n",
      "Circle 5 : ((1.86747280383257, 0.159838772566819), 0.874300697932419)\n",
      "Circle 6 : ((1.23373094922213, 0.96944997788827), 0.56905236199947)\n",
      "Circle 7 : ((1.43293571744453, 2.36388335544507), 1.76428097133387)\n",
      "Circle 8 : ((1.1821983625488, 0.435483976535281), 0.25985684195945)\n"
     ]
    }
   ],
   "source": [
    "for (idx, circle) in enumerate(sols):\n",
    "    print('Circle', idx+1, ':', circle)"
   ]
  },
  {
   "cell_type": "markdown",
   "id": "83cf8c22-6b2e-4fdc-b809-b3455861dd71",
   "metadata": {},
   "source": [
    "Observe that we have a constellation where all eight touching circles have real coordinates as centers and a positive radius."
   ]
  },
  {
   "cell_type": "markdown",
   "id": "bbd6b717-1b6c-40c2-b742-97613bb77488",
   "metadata": {},
   "source": [
    "The given circles are plotted as blue disks,\n",
    "while the eight solution circles are plotted in red."
   ]
  },
  {
   "cell_type": "code",
   "execution_count": 13,
   "id": "85864b0d-aae2-4658-9cda-a63d3ad8ae21",
   "metadata": {},
   "outputs": [
    {
     "data": {
      "image/png": "[encoded data removed]",
      "text/plain": [
       "<Figure size 640x480 with 1 Axes>"
      ]
     },
     "metadata": {},
     "output_type": "display_data"
    }
   ],
   "source": [
    "fig = plt.figure()\n",
    "axs = fig.add_subplot(111, aspect='equal')\n",
    "for (center, radius) in crcdata:\n",
    "    crc = plt.Circle(center, radius, edgecolor='blue', facecolor='blue')\n",
    "    axs.add_patch(crc)\n",
    "for (center, radius) in sols:\n",
    "    crc = plt.Circle(center, radius, edgecolor='red', facecolor='none')\n",
    "    axs.add_patch(crc)\n",
    "plt.axis([xa, xb, ya, yb])\n",
    "fig.canvas.draw()"
   ]
  },
  {
   "cell_type": "markdown",
   "id": "e791d517-7373-4f4e-aaaa-cc03fd78dea7",
   "metadata": {},
   "source": [
    "## 4. A Special Problem"
   ]
  },
  {
   "cell_type": "markdown",
   "id": "59482d7d-f48f-46b5-9efe-ad6bba061c7b",
   "metadata": {},
   "source": [
    "In a special configuration of three circles,\n",
    "the three circles are mutually touching each other."
   ]
  },
  {
   "cell_type": "code",
   "execution_count": 14,
   "id": "d827c960-a801-4fe3-bdef-fdac43e5051b",
   "metadata": {},
   "outputs": [
    {
     "data": {
      "text/plain": [
       "1.7320508075688772"
      ]
     },
     "execution_count": 14,
     "metadata": {},
     "output_type": "execute_result"
    }
   ],
   "source": [
    "from math import sqrt\n",
    "height = sqrt(3)\n",
    "height"
   ]
  },
  {
   "cell_type": "code",
   "execution_count": 15,
   "id": "9856209b-129c-4ad2-9c03-0b799abd0a33",
   "metadata": {},
   "outputs": [
    {
     "name": "stdout",
     "output_type": "stream",
     "text": [
      "['x^2 + y^2 - (r-1)^2;', '(x-2.000000000000000)^2 + y^2 - (r-1.000000000000000)^2;', '(x-1.000000000000000)^2 + (y-1.732050807568877)^2 - (r-1.000000000000000)^2;']\n",
      "['x^2 + y^2 - (r-1)^2;', '(x-2.000000000000000)^2 + y^2 - (r-1.000000000000000)^2;', '(x-1.000000000000000)^2 + (y-1.732050807568877)^2 - (r+1.000000000000000)^2;']\n",
      "['x^2 + y^2 - (r-1)^2;', '(x-2.000000000000000)^2 + y^2 - (r+1.000000000000000)^2;', '(x-1.000000000000000)^2 + (y-1.732050807568877)^2 - (r-1.000000000000000)^2;']\n",
      "['x^2 + y^2 - (r-1)^2;', '(x-2.000000000000000)^2 + y^2 - (r+1.000000000000000)^2;', '(x-1.000000000000000)^2 + (y-1.732050807568877)^2 - (r+1.000000000000000)^2;']\n",
      "['x^2 + y^2 - (r+1)^2;', '(x-2.000000000000000)^2 + y^2 - (r-1.000000000000000)^2;', '(x-1.000000000000000)^2 + (y-1.732050807568877)^2 - (r-1.000000000000000)^2;']\n",
      "['x^2 + y^2 - (r+1)^2;', '(x-2.000000000000000)^2 + y^2 - (r-1.000000000000000)^2;', '(x-1.000000000000000)^2 + (y-1.732050807568877)^2 - (r+1.000000000000000)^2;']\n",
      "['x^2 + y^2 - (r+1)^2;', '(x-2.000000000000000)^2 + y^2 - (r+1.000000000000000)^2;', '(x-1.000000000000000)^2 + (y-1.732050807568877)^2 - (r-1.000000000000000)^2;']\n",
      "['x^2 + y^2 - (r+1)^2;', '(x-2.000000000000000)^2 + y^2 - (r+1.000000000000000)^2;', '(x-1.000000000000000)^2 + (y-1.732050807568877)^2 - (r+1.000000000000000)^2;']\n"
     ]
    }
   ],
   "source": [
    "special_problem = polynomials(2, 1, 1, height, 1)\n",
    "for pols in special_problem:\n",
    "    print(pols)"
   ]
  },
  {
   "cell_type": "code",
   "execution_count": 16,
   "id": "511d7c12-0de0-4dc1-8a8d-9e60467e6148",
   "metadata": {},
   "outputs": [],
   "source": [
    "specialinput = [((0, 0), 1), ((2, 0), 1), ((1, height), 1)]"
   ]
  },
  {
   "cell_type": "code",
   "execution_count": 17,
   "id": "6334180b-dce4-4bd4-a296-2bf720902dce",
   "metadata": {},
   "outputs": [],
   "source": [
    "(xa, xb, ya, yb) = (-2, 4, -2, 4)"
   ]
  },
  {
   "cell_type": "code",
   "execution_count": 18,
   "id": "cee931bb-8b11-487e-ad40-ca3d30f5f8fc",
   "metadata": {},
   "outputs": [
    {
     "data": {
      "image/png": "[encoded data removed]",
      "text/plain": [
       "<Figure size 640x480 with 1 Axes>"
      ]
     },
     "metadata": {},
     "output_type": "display_data"
    }
   ],
   "source": [
    "fig = plt.figure()\n",
    "axs = fig.add_subplot(111, aspect='equal')\n",
    "for (center, radius) in specialinput:\n",
    "    crc = plt.Circle(center, radius, edgecolor='blue', facecolor='blue')\n",
    "    axs.add_patch(crc)\n",
    "plt.axis([xa, xb, ya, yb])\n",
    "fig.canvas.draw()"
   ]
  },
  {
   "cell_type": "code",
   "execution_count": 19,
   "id": "7a3bdad5-f8fe-423a-b35d-420cda6aa2ed",
   "metadata": {},
   "outputs": [
    {
     "name": "stdout",
     "output_type": "stream",
     "text": [
      "solving system 1 :\n",
      "x^2 + y^2 - (r-1)^2;\n",
      "(x-2.000000000000000)^2 + y^2 - (r-1.000000000000000)^2;\n",
      "(x-1.000000000000000)^2 + (y-1.732050807568877)^2 - (r-1.000000000000000)^2;\n",
      "system 1 has 2 solutions\n",
      "solution circle 1\n",
      "center = (1.0, 0.577350269189626)\n",
      "radius = 2.15470053837925\n",
      "solving system 2 :\n",
      "x^2 + y^2 - (r-1)^2;\n",
      "(x-2.000000000000000)^2 + y^2 - (r-1.000000000000000)^2;\n",
      "(x-1.000000000000000)^2 + (y-1.732050807568877)^2 - (r+1.000000000000000)^2;\n",
      "system 2 has 1 solutions\n",
      "solving system 3 :\n",
      "x^2 + y^2 - (r-1)^2;\n",
      "(x-2.000000000000000)^2 + y^2 - (r+1.000000000000000)^2;\n",
      "(x-1.000000000000000)^2 + (y-1.732050807568877)^2 - (r-1.000000000000000)^2;\n",
      "system 3 has 1 solutions\n",
      "solving system 4 :\n",
      "x^2 + y^2 - (r-1)^2;\n",
      "(x-2.000000000000000)^2 + y^2 - (r+1.000000000000000)^2;\n",
      "(x-1.000000000000000)^2 + (y-1.732050807568877)^2 - (r+1.000000000000000)^2;\n",
      "system 4 has 1 solutions\n",
      "solution circle 2\n",
      "center = (1.42985881704912e-16, -7.69185074553603e-17)\n",
      "radius = 1.0\n",
      "solving system 5 :\n",
      "x^2 + y^2 - (r+1)^2;\n",
      "(x-2.000000000000000)^2 + y^2 - (r-1.000000000000000)^2;\n",
      "(x-1.000000000000000)^2 + (y-1.732050807568877)^2 - (r-1.000000000000000)^2;\n",
      "system 5 has 1 solutions\n",
      "solving system 6 :\n",
      "x^2 + y^2 - (r+1)^2;\n",
      "(x-2.000000000000000)^2 + y^2 - (r-1.000000000000000)^2;\n",
      "(x-1.000000000000000)^2 + (y-1.732050807568877)^2 - (r+1.000000000000000)^2;\n",
      "system 6 has 1 solutions\n",
      "solution circle 3\n",
      "center = (2.0, -7.69185074551702e-17)\n",
      "radius = 1.0\n",
      "solving system 7 :\n",
      "x^2 + y^2 - (r+1)^2;\n",
      "(x-2.000000000000000)^2 + y^2 - (r+1.000000000000000)^2;\n",
      "(x-1.000000000000000)^2 + (y-1.732050807568877)^2 - (r-1.000000000000000)^2;\n",
      "system 7 has 1 solutions\n",
      "solution circle 4\n",
      "center = (1.0, 1.73205080756888)\n",
      "radius = 0.999999999999999\n",
      "solving system 8 :\n",
      "x^2 + y^2 - (r+1)^2;\n",
      "(x-2.000000000000000)^2 + y^2 - (r+1.000000000000000)^2;\n",
      "(x-1.000000000000000)^2 + (y-1.732050807568877)^2 - (r+1.000000000000000)^2;\n",
      "system 8 has 2 solutions\n",
      "solution circle 5\n",
      "center = (1.0, 0.577350269189626)\n",
      "radius = 0.154700538379251\n"
     ]
    }
   ],
   "source": [
    "specialsols = solve4circles(special_problem)"
   ]
  },
  {
   "cell_type": "code",
   "execution_count": 20,
   "id": "fd7c0d53-12e3-42bc-8d70-3ed5780bc9fc",
   "metadata": {},
   "outputs": [
    {
     "name": "stdout",
     "output_type": "stream",
     "text": [
      "Circle 1 : ((1.0, 0.577350269189626), 2.15470053837925)\n",
      "Circle 2 : ((1.42985881704912e-16, -7.69185074553603e-17), 1.0)\n",
      "Circle 3 : ((2.0, -7.69185074551702e-17), 1.0)\n",
      "Circle 4 : ((1.0, 1.73205080756888), 0.999999999999999)\n",
      "Circle 5 : ((1.0, 0.577350269189626), 0.154700538379251)\n"
     ]
    }
   ],
   "source": [
    "for (idx, circle) in enumerate(specialsols):\n",
    "    print('Circle', idx+1, ':', circle)"
   ]
  },
  {
   "cell_type": "markdown",
   "id": "4431f77c-3638-4ff1-b7c2-03085e576440",
   "metadata": {},
   "source": [
    "We have five solutions?  Not eight?"
   ]
  },
  {
   "cell_type": "code",
   "execution_count": 21,
   "id": "bfcc28c4-3a96-405f-a159-3a9131159b81",
   "metadata": {},
   "outputs": [
    {
     "data": {
      "image/png": "[encoded data removed]",
      "text/plain": [
       "<Figure size 640x480 with 1 Axes>"
      ]
     },
     "metadata": {},
     "output_type": "display_data"
    }
   ],
   "source": [
    "fig = plt.figure()\n",
    "axs = fig.add_subplot(111, aspect='equal')\n",
    "for (center, radius) in specialinput:\n",
    "    crc = plt.Circle(center, radius, edgecolor='blue', facecolor='blue')\n",
    "    axs.add_patch(crc)\n",
    "for (center, radius) in specialsols:\n",
    "    crc = plt.Circle(center, radius, edgecolor='red', facecolor='none')\n",
    "    axs.add_patch(crc)\n",
    "plt.axis([xa, xb, ya, yb])\n",
    "fig.canvas.draw()"
   ]
  },
  {
   "cell_type": "markdown",
   "id": "c6888620-7a40-41c3-88d3-d114c657211d",
   "metadata": {},
   "source": [
    "The plot shows that the input circles are solutions as well."
   ]
  },
  {
   "cell_type": "markdown",
   "id": "23b4b08e-b4be-4884-aa75-b79c03a1da16",
   "metadata": {},
   "source": [
    "## 5. A Perturbed Problem"
   ]
  },
  {
   "cell_type": "markdown",
   "id": "7cd7300c-a3b3-4316-9a34-b8e17d2e17b4",
   "metadata": {},
   "source": [
    "Consider a small perturbation of a special configuration of three circles,\n",
    "where the three circles are mutually touching each other."
   ]
  },
  {
   "cell_type": "code",
   "execution_count": 22,
   "id": "bb7473bd-18f3-4a02-94ba-9b6a8a22fe2f",
   "metadata": {},
   "outputs": [],
   "source": [
    "perturbedinput = [((0, 0), 1), ((2.05, 0), 1), ((1.025, height+0.025), 1)]"
   ]
  },
  {
   "cell_type": "code",
   "execution_count": 23,
   "id": "12186355-96aa-42d9-b7b3-a7af09cdfdde",
   "metadata": {},
   "outputs": [
    {
     "name": "stdout",
     "output_type": "stream",
     "text": [
      "solving system 1 :\n",
      "x^2 + y^2 - (r-1)^2;\n",
      "(x-2.050000000000000)^2 + y^2 - (r-1.000000000000000)^2;\n",
      "(x-1.025000000000000)^2 + (y-1.757050807568877)^2 - (r-1.000000000000000)^2;\n",
      "system 1 has 2 solutions\n",
      "solution circle 1\n",
      "center = (1.025, 0.579551408418395)\n",
      "radius = 2.17749939915048\n",
      "solving system 2 :\n",
      "x^2 + y^2 - (r-1)^2;\n",
      "(x-2.050000000000000)^2 + y^2 - (r-1.000000000000000)^2;\n",
      "(x-1.025000000000000)^2 + (y-1.757050807568877)^2 - (r+1.000000000000000)^2;\n",
      "system 2 has 2 solutions\n",
      "solving system 3 :\n",
      "x^2 + y^2 - (r-1)^2;\n",
      "(x-2.050000000000000)^2 + y^2 - (r+1.000000000000000)^2;\n",
      "(x-1.025000000000000)^2 + (y-1.757050807568877)^2 - (r-1.000000000000000)^2;\n",
      "system 3 has 2 solutions\n",
      "solving system 4 :\n",
      "x^2 + y^2 - (r-1)^2;\n",
      "(x-2.050000000000000)^2 + y^2 - (r+1.000000000000000)^2;\n",
      "(x-1.025000000000000)^2 + (y-1.757050807568877)^2 - (r+1.000000000000000)^2;\n",
      "system 4 has 2 solutions\n",
      "solution circle 2\n",
      "center = (0.0248497799767382, -0.00390011791639839)\n",
      "radius = 1.02515397552384\n",
      "solution circle 3\n",
      "center = (-0.309008334843067, -0.198660887619915)\n",
      "radius = 1.36735854321414\n",
      "solving system 5 :\n",
      "x^2 + y^2 - (r+1)^2;\n",
      "(x-2.050000000000000)^2 + y^2 - (r-1.000000000000000)^2;\n",
      "(x-1.025000000000000)^2 + (y-1.757050807568877)^2 - (r-1.000000000000000)^2;\n",
      "system 5 has 2 solutions\n",
      "solving system 6 :\n",
      "x^2 + y^2 - (r+1)^2;\n",
      "(x-2.050000000000000)^2 + y^2 - (r-1.000000000000000)^2;\n",
      "(x-1.025000000000000)^2 + (y-1.757050807568877)^2 - (r+1.000000000000000)^2;\n",
      "system 6 has 2 solutions\n",
      "solution circle 4\n",
      "center = (2.35900833484305, -0.198660887619908)\n",
      "radius = 1.36735854321413\n",
      "solution circle 5\n",
      "center = (2.02515022002328, -0.00390011791640776)\n",
      "radius = 1.02515397552386\n",
      "solving system 7 :\n",
      "x^2 + y^2 - (r+1)^2;\n",
      "(x-2.050000000000000)^2 + y^2 - (r+1.000000000000000)^2;\n",
      "(x-1.025000000000000)^2 + (y-1.757050807568877)^2 - (r-1.000000000000000)^2;\n",
      "system 7 has 2 solutions\n",
      "solution circle 6\n",
      "center = (1.025, 2.04075732867108)\n",
      "radius = 1.2837065211022\n",
      "solution circle 7\n",
      "center = (1.025, 1.73870496299037)\n",
      "radius = 1.01834584457851\n",
      "solving system 8 :\n",
      "x^2 + y^2 - (r+1)^2;\n",
      "(x-2.050000000000000)^2 + y^2 - (r+1.000000000000000)^2;\n",
      "(x-1.025000000000000)^2 + (y-1.757050807568877)^2 - (r+1.000000000000000)^2;\n",
      "system 8 has 2 solutions\n",
      "solution circle 8\n",
      "center = (1.025, 0.579551408418395)\n",
      "radius = 0.177499399150482\n"
     ]
    }
   ],
   "source": [
    "perturbed_problem = polynomials(2.05, 1, 1.025, height+0.025, 1)\n",
    "perturbedsols = solve4circles(perturbed_problem)"
   ]
  },
  {
   "cell_type": "code",
   "execution_count": 24,
   "id": "0ca9f391-26e3-469d-a057-1f3ee8bc5c06",
   "metadata": {},
   "outputs": [
    {
     "name": "stdout",
     "output_type": "stream",
     "text": [
      "circle 1 : ((1.025, 0.579551408418395), 2.17749939915048)\n",
      "circle 2 : ((0.0248497799767382, -0.00390011791639839), 1.02515397552384)\n",
      "circle 3 : ((-0.309008334843067, -0.198660887619915), 1.36735854321414)\n",
      "circle 4 : ((2.35900833484305, -0.198660887619908), 1.36735854321413)\n",
      "circle 5 : ((2.02515022002328, -0.00390011791640776), 1.02515397552386)\n",
      "circle 6 : ((1.025, 2.04075732867108), 1.2837065211022)\n",
      "circle 7 : ((1.025, 1.73870496299037), 1.01834584457851)\n",
      "circle 8 : ((1.025, 0.579551408418395), 0.177499399150482)\n"
     ]
    }
   ],
   "source": [
    "for (idx, circle) in enumerate(perturbedsols):\n",
    "    print('circle', idx+1, ':', circle)"
   ]
  },
  {
   "cell_type": "code",
   "execution_count": 25,
   "id": "7569122f-3688-489e-89e9-99161929e253",
   "metadata": {},
   "outputs": [
    {
     "data": {
      "image/png": "[encoded data removed]",
      "text/plain": [
       "<Figure size 640x480 with 1 Axes>"
      ]
     },
     "metadata": {},
     "output_type": "display_data"
    }
   ],
   "source": [
    "fig = plt.figure()\n",
    "axs = fig.add_subplot(111, aspect='equal')\n",
    "for (center, radius) in perturbedinput:\n",
    "    crc = plt.Circle(center, radius, edgecolor='blue', facecolor='blue')\n",
    "    axs.add_patch(crc)\n",
    "for (center, radius) in perturbedsols:\n",
    "    crc = plt.Circle(center, radius, edgecolor='red', facecolor='none')\n",
    "    axs.add_patch(crc)\n",
    "plt.axis([xa, xb, ya, yb])\n",
    "fig.canvas.draw()"
   ]
  },
  {
   "cell_type": "markdown",
   "id": "ed0ddc7c-3227-48ad-886e-2dea40486417",
   "metadata": {},
   "source": [
    "The solution to the perturbed problem allows to account for the number five as the number of touching circles of the special problem: the original circles had to be counted twice, as their multiplicity equals two.  And so we thus have $3 \\times 2 + 2 = 8$."
   ]
  }
 ],
 "metadata": {
  "kernelspec": {
   "display_name": "Python 3 (ipykernel)",
   "language": "python",
   "name": "python3"
  },
  "language_info": {
   "codemirror_mode": {
    "name": "ipython",
    "version": 3
   },
   "file_extension": ".py",
   "mimetype": "text/x-python",
   "name": "python",
   "nbconvert_exporter": "python",
   "pygments_lexer": "ipython3",
   "version": "3.10.13"
  }
 },
 "nbformat": 4,
 "nbformat_minor": 5
}
