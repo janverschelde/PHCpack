{
 "cells": [
  {
   "cell_type": "markdown",
   "id": "59b189f2-d1a2-4dab-bd1a-8552670fecdc",
   "metadata": {},
   "source": [
    "# Two Lines Meeting Four Given Lines"
   ]
  },
  {
   "cell_type": "markdown",
   "id": "46ddde64-98f1-484d-be0f-e939030c944d",
   "metadata": {},
   "source": [
    "Given four lines in general position,\n",
    "there are two lines which meet all four given lines.\n",
    "With Pieri homotopies we can solve this Schubert problem.\n",
    "For the verification of the intersection conditions, numpy is used.\n",
    "The plots are made with matplotlib."
   ]
  },
  {
   "cell_type": "code",
   "execution_count": 1,
   "id": "5170065d-b8ca-438e-868e-ea8fcae10baf",
   "metadata": {},
   "outputs": [],
   "source": [
    "from random import seed"
   ]
  },
  {
   "cell_type": "code",
   "execution_count": 2,
   "id": "ce2bd0d6-2c60-4d08-beed-9c48ad7fac9c",
   "metadata": {},
   "outputs": [],
   "source": [
    "from numpy import zeros, array, concatenate, matrix\n",
    "from numpy.linalg import det, solve"
   ]
  },
  {
   "cell_type": "code",
   "execution_count": 3,
   "id": "7d666555-7c2d-4290-9140-18efb3eb0f19",
   "metadata": {},
   "outputs": [],
   "source": [
    "import matplotlib.pyplot as plt\n",
    "from mpl_toolkits.mplot3d import Axes3D"
   ]
  },
  {
   "cell_type": "code",
   "execution_count": 4,
   "id": "06f1db82-57b6-4774-a3fb-02e751963ac0",
   "metadata": {},
   "outputs": [
    {
     "name": "stdout",
     "output_type": "stream",
     "text": [
      "PHCv2.4.88 released 2023-12-26 works!\n"
     ]
    }
   ],
   "source": [
    "from phcpy.solutions import coordinates\n",
    "from phcpy.schubert import random_complex_matrix\n",
    "from phcpy.schubert import pieri_root_count, run_pieri_homotopies\n",
    "from phcpy.schubert import real_osculating_planes\n",
    "from phcpy.schubert import make_pieri_system\n",
    "from phcpy.trackers import double_track as track"
   ]
  },
  {
   "cell_type": "markdown",
   "id": "e93175be-6560-4471-b8d5-b4b769afd34c",
   "metadata": {},
   "source": [
    "## 1. Solving a General Instance"
   ]
  },
  {
   "cell_type": "markdown",
   "id": "709256e0-0d1c-4c6e-bd0a-7ad128a1eb61",
   "metadata": {},
   "source": [
    "A random instance of the four given lines will lead to two solution lines."
   ]
  },
  {
   "cell_type": "code",
   "execution_count": 5,
   "id": "5e63300e-47b5-49d6-bdf7-c53203c668f1",
   "metadata": {},
   "outputs": [
    {
     "data": {
      "text/plain": [
       "2"
      ]
     },
     "execution_count": 5,
     "metadata": {},
     "output_type": "execute_result"
    }
   ],
   "source": [
    "(mdim, pdim, deg) = (2, 2, 0)\n",
    "pcnt = pieri_root_count(mdim, pdim, deg, False)\n",
    "pcnt"
   ]
  },
  {
   "cell_type": "markdown",
   "id": "84059d59-31f3-42ea-906f-2b2f2bccddf8",
   "metadata": {},
   "source": [
    "To setup the problem, some auxiliary functions are first defined."
   ]
  },
  {
   "cell_type": "code",
   "execution_count": 6,
   "id": "2c835df7-b58d-4f71-af30-38cf0b5f6932",
   "metadata": {},
   "outputs": [],
   "source": [
    "def indices(name):\n",
    "    \"\"\"\n",
    "    For the string name in the format xij\n",
    "    return (i, j) as two integer indices.\n",
    "    \"\"\"\n",
    "    return (int(name[1]), int(name[2]))"
   ]
  },
  {
   "cell_type": "code",
   "execution_count": 7,
   "id": "5c066f7a-530a-4196-88de-5b3b313f4502",
   "metadata": {},
   "outputs": [],
   "source": [
    "def solution_plane(rows, cols, sol):\n",
    "    \"\"\"\n",
    "    Returns a sympy matrix with as many rows\n",
    "    as the value of rows and with as many columns\n",
    "    as the value of columns, using the string\n",
    "    represention of a solution in sol.\n",
    "    \"\"\"\n",
    "    result = zeros((rows, cols), dtype=complex)\n",
    "    for k in range(cols):\n",
    "        result[k][k] = 1\n",
    "    (vars, vals) = coordinates(sol)\n",
    "    for (name, value) in zip(vars, vals):\n",
    "        i, j = indices(name)\n",
    "        result[i-1][j-1] = value\n",
    "    return result"
   ]
  },
  {
   "cell_type": "code",
   "execution_count": 8,
   "id": "620028f6-3cf9-413b-b6b6-670a7e3fb95a",
   "metadata": {},
   "outputs": [],
   "source": [
    "def verify_determinants(inps, sols, verbose=True):\n",
    "    \"\"\"\n",
    "    Verifies the intersection conditions with determinants,\n",
    "    concatenating the planes in inps with those in the sols.\n",
    "    Both inps and sols are lists of numpy arrays.\n",
    "    Returns the sum of the absolute values of all determinants.\n",
    "    If verbose, then for all solutions in sols, the computed\n",
    "    determinants are printed to screen.\n",
    "    \"\"\"\n",
    "    checksum = 0\n",
    "    for sol in sols:\n",
    "        if verbose:\n",
    "            print('checking solution\\n', sol)\n",
    "        for plane in inps:\n",
    "            cat = concatenate([plane, sol], axis=-1)\n",
    "            mat = matrix(cat)\n",
    "            dcm = det(mat)\n",
    "            if verbose:\n",
    "                print('the determinant :', dcm)\n",
    "            checksum = checksum + abs(dcm)\n",
    "    return checksum"
   ]
  },
  {
   "cell_type": "code",
   "execution_count": 9,
   "id": "a602aa5e-6fac-4bbb-b56e-bfd0ba4e3d30",
   "metadata": {},
   "outputs": [],
   "source": [
    "def solve_general(mdim, pdim, qdeg):\n",
    "    \"\"\"\n",
    "    Solves a general instance of Pieri problem, computing the\n",
    "    p-plane producing curves of degree qdeg which meet a number\n",
    "    of general m-planes at general interpolation points,\n",
    "    where p = pdim and m = mdim on input.\n",
    "    For the problem of computing the two lines which meet\n",
    "    four general lines, mdim = 2, pdim = 2, and qdeg = 0.\n",
    "    Returns a tuple with four lists.\n",
    "    The first two lists contain matrices with the input planes\n",
    "    and the solution planes respectively.\n",
    "    The third list is the list of polynomials solved\n",
    "    and the last list is the solution list.\n",
    "    \"\"\"\n",
    "    dim = mdim*pdim + qdeg*(mdim+pdim)\n",
    "    ranplanes = [random_complex_matrix(mdim+pdim, mdim) for _ in range(0, dim)]\n",
    "    (pols, sols) = run_pieri_homotopies(mdim, pdim, qdeg, ranplanes)\n",
    "    inplanes = [array(plane) for plane in ranplanes]\n",
    "    outplanes = [solution_plane(mdim+pdim, pdim, sol) for sol in sols]\n",
    "    return (inplanes, outplanes, pols, sols)"
   ]
  },
  {
   "cell_type": "code",
   "execution_count": 10,
   "id": "1ea1e032-f39e-47db-93c5-0bb7357b7a64",
   "metadata": {},
   "outputs": [],
   "source": [
    "(inp, otp, pols, sols) = solve_general(mdim, pdim, deg)"
   ]
  },
  {
   "cell_type": "markdown",
   "id": "7cc6a2bd-b6f2-4a45-9710-2049bb738306",
   "metadata": {},
   "source": [
    "The four input lines are represented as matrices."
   ]
  },
  {
   "cell_type": "code",
   "execution_count": 11,
   "id": "847beae5-7a3b-4229-8687-2500b76c73cd",
   "metadata": {},
   "outputs": [
    {
     "name": "stdout",
     "output_type": "stream",
     "text": [
      "[[ 0.98771734-0.15625123j  0.52929265-0.84843933j]\n",
      " [ 0.0108879 -0.99994073j  0.43271012+0.90153311j]\n",
      " [ 0.670366  +0.74203061j  0.84995049-0.52686257j]\n",
      " [-0.99870177+0.05093886j  0.55311134-0.83310735j]]\n",
      "[[ 0.1176291 +0.9930576j   0.73982601-0.67279824j]\n",
      " [-0.4096813 -0.91222872j  0.98222659+0.18769903j]\n",
      " [ 0.49367521+0.86964635j -0.00101345-0.99999949j]\n",
      " [ 0.99603164-0.0889999j   0.37233497-0.92809841j]]\n",
      "[[-0.86632581+0.49947932j  0.99954174-0.03027052j]\n",
      " [ 0.26897023+0.96314849j  0.29943145+0.95411781j]\n",
      " [ 0.77919846-0.62677728j  0.52235751-0.85272659j]\n",
      " [ 0.4481898 +0.89393842j  0.97691942+0.21360816j]]\n",
      "[[ 0.40705515-0.91340358j -0.66900116+0.74326136j]\n",
      " [-0.11164153+0.99374854j -0.51718407-0.8558742j ]\n",
      " [-0.01384859+0.9999041j  -0.38779064+0.92174748j]\n",
      " [ 0.32407475-0.94603148j  0.87995025-0.47506584j]]\n"
     ]
    }
   ],
   "source": [
    "for plane in inp:\n",
    "    print(plane)"
   ]
  },
  {
   "cell_type": "code",
   "execution_count": 12,
   "id": "82100acc-928e-4388-a03e-9183b33ab668",
   "metadata": {},
   "outputs": [
    {
     "name": "stdout",
     "output_type": "stream",
     "text": [
      "The solution planes :\n",
      "[[ 1.        +0.j          0.        +0.j        ]\n",
      " [-0.64379718+0.67758706j  1.        +0.j        ]\n",
      " [ 0.69735824-0.15805905j -1.46030164-0.68747669j]\n",
      " [ 0.        +0.j         -1.74595349+0.00175246j]]\n",
      "[[ 1.        +0.j          0.        +0.j        ]\n",
      " [ 1.4746012 +0.78327696j  1.        +0.j        ]\n",
      " [ 1.20071164-2.11957742j  0.91569812-1.31875637j]\n",
      " [ 0.        +0.j         -1.04202682+0.09584754j]]\n"
     ]
    }
   ],
   "source": [
    "print('The solution planes :')\n",
    "for plane in otp:\n",
    "    print(plane)"
   ]
  },
  {
   "cell_type": "code",
   "execution_count": 13,
   "id": "272abff8-a0bb-4546-98ae-ba174e096e2b",
   "metadata": {},
   "outputs": [
    {
     "name": "stdout",
     "output_type": "stream",
     "text": [
      "checking solution\n",
      " [[ 1.        +0.j          0.        +0.j        ]\n",
      " [-0.64379718+0.67758706j  1.        +0.j        ]\n",
      " [ 0.69735824-0.15805905j -1.46030164-0.68747669j]\n",
      " [ 0.        +0.j         -1.74595349+0.00175246j]]\n",
      "the determinant : (2.9667224835639593e-15+1.3550262739027277e-15j)\n",
      "the determinant : (4.195866422887001e-15-1.4293281742484199e-15j)\n",
      "the determinant : (-1.8017495082844853e-15-1.5770416093056093e-15j)\n",
      "the determinant : (-2.0927676352675787e-16+1.091663409852285e-15j)\n",
      "checking solution\n",
      " [[ 1.        +0.j          0.        +0.j        ]\n",
      " [ 1.4746012 +0.78327696j  1.        +0.j        ]\n",
      " [ 1.20071164-2.11957742j  0.91569812-1.31875637j]\n",
      " [ 0.        +0.j         -1.04202682+0.09584754j]]\n",
      "the determinant : (1.0002339027616943e-14-3.132413944024583e-14j)\n",
      "the determinant : (2.8791053191246284e-14-3.6564204184655514e-15j)\n",
      "the determinant : (-3.605052372912635e-14+5.874582883240587e-15j)\n",
      "the determinant : (-2.6498852748806624e-14-2.7706915851697867e-15j)\n",
      "Sum of absolute values of determinants : 1.362741358344356e-13\n"
     ]
    }
   ],
   "source": [
    "check = verify_determinants(inp, otp)\n",
    "print('Sum of absolute values of determinants :', check)"
   ]
  },
  {
   "cell_type": "markdown",
   "id": "e5ebd83c-44a4-46c4-9c1c-efad6f146c17",
   "metadata": {},
   "source": [
    "Observe that all determinants evaluate to numbers that are very close to the machine precision."
   ]
  },
  {
   "cell_type": "markdown",
   "id": "ce28ff02-1074-4c4a-b8a8-2d06f2bd2eb4",
   "metadata": {},
   "source": [
    "## 2. Four Real Lines"
   ]
  },
  {
   "cell_type": "markdown",
   "id": "e8e8c673-5c2e-4237-a552-75c4b2dd6825",
   "metadata": {},
   "source": [
    "We can generate inputs for which all solutions are real."
   ]
  },
  {
   "cell_type": "code",
   "execution_count": 14,
   "id": "ef62758e-9fd7-4ab3-a94d-6980fb2409ad",
   "metadata": {},
   "outputs": [],
   "source": [
    "def solve_real(mdim, pdim, start, sols):\n",
    "    \"\"\"\n",
    "    Solves a real instance of Pieri problem, for input planes\n",
    "    of dimension mdim osculating a rational normal curve.\n",
    "    On return are the planes of dimension pdim.\n",
    "    \"\"\"\n",
    "    oscplanes = real_osculating_planes(mdim, pdim, 0)\n",
    "    target = make_pieri_system(mdim, pdim, 0, oscplanes, is_real=True)\n",
    "    gamma, rtsols = track(target, start, sols)\n",
    "    print('The solutions to the real problem :')\n",
    "    for (idx, sol) in enumerate(rtsols):\n",
    "        print('Solution', idx+1, ':') \n",
    "        print(sol)\n",
    "    inplanes = [array(plane) for plane in oscplanes]\n",
    "    outplanes = [solution_plane(mdim+pdim, pdim, sol) for sol in rtsols]\n",
    "    return (inplanes, outplanes, target, rtsols)"
   ]
  },
  {
   "cell_type": "markdown",
   "id": "e2ed8c3d-507b-4058-b9c0-b0878ff3d346",
   "metadata": {},
   "source": [
    "For visualization, the seed of the random number generators is set fixed."
   ]
  },
  {
   "cell_type": "code",
   "execution_count": 15,
   "id": "3573656d-3c03-4d38-be29-8f92ebd014b2",
   "metadata": {},
   "outputs": [],
   "source": [
    "seed(400)"
   ]
  },
  {
   "cell_type": "code",
   "execution_count": 16,
   "id": "d3ee78e1-3db6-47cc-aabf-1b3e297001c6",
   "metadata": {},
   "outputs": [
    {
     "name": "stdout",
     "output_type": "stream",
     "text": [
      "The solutions to the real problem :\n",
      "Solution 1 :\n",
      "t :  1.00000000000000E+00   0.00000000000000E+00\n",
      "m : 1\n",
      "the solution for t :\n",
      " x21 : -2.84638025557899E-02   1.31371731030452E-46\n",
      " x32 : -1.19348750548289E-01  -2.62743462060903E-46\n",
      " x42 : -4.99706612461873E+00   2.38220738935219E-44\n",
      " x31 : -1.06771882518925E+00   3.15292154473084E-45\n",
      "== err :  5.410E-15 = rco :  5.611E-03 = res :  5.551E-16 =\n",
      "Solution 2 :\n",
      "t :  1.00000000000000E+00   0.00000000000000E+00\n",
      "m : 1\n",
      "the solution for t :\n",
      " x21 : -5.52734869685360E-02   5.47382212626882E-48\n",
      " x32 : -1.19348750548290E-01   4.37905770101505E-47\n",
      " x42 : -2.57330433323918E+00   3.83167548838817E-47\n",
      " x31 : -6.60558824288729E-01   1.91583774419409E-47\n",
      "== err :  6.174E-16 = rco :  1.324E-02 = res :  3.747E-16 =\n"
     ]
    }
   ],
   "source": [
    "(oscp, otp2, pols2, sols2) = solve_real(mdim, pdim, pols, sols)"
   ]
  },
  {
   "cell_type": "code",
   "execution_count": 17,
   "id": "95c19b27-ec25-43c3-8f32-3c2027e25466",
   "metadata": {},
   "outputs": [
    {
     "name": "stdout",
     "output_type": "stream",
     "text": [
      "The input planes :\n",
      "[[-0.63223829 -0.07958136]\n",
      " [ 0.24317589 -0.42625018]\n",
      " [ 0.44517428  0.75891681]\n",
      " [-0.58562795  0.48582185]]\n",
      "[[-0.63156273  0.07848797]\n",
      " [ 0.31098671 -0.49445305]\n",
      " [ 0.32529788  0.85734178]\n",
      " [-0.63134544  0.11966993]]\n",
      "[[-0.66765465 -0.21150281]\n",
      " [-0.41782225 -0.46153796]\n",
      " [ 0.14470336 -0.77816698]\n",
      " [ 0.59893469 -0.36973696]]\n",
      "[[-0.69033039  0.11246161]\n",
      " [-0.09104114 -0.32159814]\n",
      " [ 0.66631728 -0.28602371]\n",
      " [ 0.26678969  0.89561011]]\n"
     ]
    }
   ],
   "source": [
    "print('The input planes :')\n",
    "for plane in oscp:\n",
    "    print(plane)"
   ]
  },
  {
   "cell_type": "code",
   "execution_count": 18,
   "id": "db5af452-e2d9-4912-b000-ee16827b9104",
   "metadata": {},
   "outputs": [
    {
     "name": "stdout",
     "output_type": "stream",
     "text": [
      "The solution planes :\n",
      "[[ 1.        +0.00000000e+00j  0.        +0.00000000e+00j]\n",
      " [-0.0284638 +1.31371731e-46j  1.        +0.00000000e+00j]\n",
      " [-1.06771883+3.15292154e-45j -0.11934875-2.62743462e-46j]\n",
      " [ 0.        +0.00000000e+00j -4.99706612+2.38220739e-44j]]\n",
      "[[ 1.        +0.00000000e+00j  0.        +0.00000000e+00j]\n",
      " [-0.05527349+5.47382213e-48j  1.        +0.00000000e+00j]\n",
      " [-0.66055882+1.91583774e-47j -0.11934875+4.37905770e-47j]\n",
      " [ 0.        +0.00000000e+00j -2.57330433+3.83167549e-47j]]\n"
     ]
    }
   ],
   "source": [
    "print('The solution planes :')\n",
    "for plane in otp2:\n",
    "    print(plane)"
   ]
  },
  {
   "cell_type": "code",
   "execution_count": 19,
   "id": "2a1d36bf-7910-4190-a9ca-2a78f8e70920",
   "metadata": {},
   "outputs": [
    {
     "name": "stdout",
     "output_type": "stream",
     "text": [
      "checking solution\n",
      " [[ 1.        +0.00000000e+00j  0.        +0.00000000e+00j]\n",
      " [-0.0284638 +1.31371731e-46j  1.        +0.00000000e+00j]\n",
      " [-1.06771883+3.15292154e-45j -0.11934875-2.62743462e-46j]\n",
      " [ 0.        +0.00000000e+00j -4.99706612+2.38220739e-44j]]\n",
      "the determinant : (2.7334976213462325e-15-2.490244814186718e-45j)\n",
      "the determinant : (6.194410394095717e-15-2.4210378066256254e-45j)\n",
      "the determinant : (6.1256567148522274e-15-4.974841059851325e-47j)\n",
      "the determinant : (-1.7538510134158814e-15-1.6274706457865366e-45j)\n",
      "checking solution\n",
      " [[ 1.        +0.00000000e+00j  0.        +0.00000000e+00j]\n",
      " [-0.05527349+5.47382213e-48j  1.        +0.00000000e+00j]\n",
      " [-0.66055882+1.91583774e-47j -0.11934875+4.37905770e-47j]\n",
      " [ 0.        +0.00000000e+00j -2.57330433+3.83167549e-47j]]\n",
      "the determinant : (-6.163408511151722e-16-7.868415222942327e-49j)\n",
      "the determinant : (3.1253636658440115e-16-1.6674497687062525e-48j)\n",
      "the determinant : (-1.4639612348256832e-16-1.964057003033534e-47j)\n",
      "the determinant : (-1.3795665037633665e-15+8.091364203252659e-48j)\n",
      "Sum of absolute values of determinants : 1.926225558865557e-14\n"
     ]
    }
   ],
   "source": [
    "check = verify_determinants(oscp, otp2)\n",
    "print('Sum of absolute values of determinants :', check)"
   ]
  },
  {
   "cell_type": "markdown",
   "id": "9bd0eda3-0a7a-4869-8133-b0cc5a1db296",
   "metadata": {},
   "source": [
    "## 3. Visualization"
   ]
  },
  {
   "cell_type": "code",
   "execution_count": 20,
   "id": "03e12aa9-63b4-43a9-9dc3-ec40cdb50693",
   "metadata": {},
   "outputs": [],
   "source": [
    "def input_generators(plane):\n",
    "    \"\"\"\n",
    "    Given in plane is a numpy matrix, with in its columns\n",
    "    the coordinates of the points which span a line, in 4-space.\n",
    "    The first coordinate must not be zero.\n",
    "    Returns the affine representation of the line,\n",
    "    after dividing each generator by its first coordinate.\n",
    "    \"\"\"\n",
    "    pone = list(plane[:,0])\n",
    "    ptwo = list(plane[:,1])\n",
    "    aone = [x/pone[0] for x in pone]\n",
    "    atwo = [x/ptwo[0] for x in ptwo]\n",
    "    return (aone[1:], atwo[1:])"
   ]
  },
  {
   "cell_type": "code",
   "execution_count": 21,
   "id": "98bd1e69-37f3-42ae-9ba0-2b9d8f91a8be",
   "metadata": {},
   "outputs": [],
   "source": [
    "def output_generators(plane):\n",
    "    \"\"\"\n",
    "    Given in plane is a numpy matrix, with in its columns\n",
    "    the coordinates of the points which span a line, in 4-space.\n",
    "    The solution planes follow the localization pattern\n",
    "    1, *, *, 0 for the first point and 0, 1, *, * for\n",
    "    the second point, which means that the second point\n",
    "    in standard projective coordinates lies at infinity.\n",
    "    For the second generator, the sum of the points is taken.\n",
    "    The imaginary part of each coordinate is omitted.\n",
    "    \"\"\"\n",
    "    pone = list(plane[:,0])\n",
    "    ptwo = list(plane[:,1])\n",
    "    aone = [x.real for x in pone]\n",
    "    atwo = [x.real + y.real for (x, y) in zip(pone, ptwo)]\n",
    "    return (aone[1:], atwo[1:])"
   ]
  },
  {
   "cell_type": "code",
   "execution_count": 22,
   "id": "4e6af829-de92-4d52-afe7-05dfefea41e5",
   "metadata": {},
   "outputs": [],
   "source": [
    "def boxrange(inlines, outlines):\n",
    "    \"\"\"\n",
    "    Returns a list of three lists with the [min, max]\n",
    "    values of each coordinate of each generator in the lists\n",
    "    inlines and outlines.\n",
    "    The ranges are adjusted for the particular real case.\n",
    "    \"\"\"\n",
    "    fst = inlines[0][0]\n",
    "    result = {'xmin': fst[0], 'xmax': fst[0], \\\n",
    "              'ymin': fst[1], 'ymax': fst[1], \\\n",
    "              'zmin': fst[2], 'zmax': fst[2]} \n",
    "    pts = [x for (x, y) in inlines] + [y for (x, y) in inlines] \\\n",
    "        + [x for (x, y) in outlines] + [y for (x, y) in outlines]\n",
    "    print('the points :\\n', pts)\n",
    "    for point in pts:\n",
    "        result['xmin'] = min(result['xmin'], point[0])\n",
    "        result['ymin'] = min(result['ymin'], point[1])\n",
    "        result['zmin'] = min(result['zmin'], point[2])\n",
    "        result['xmax'] = max(result['xmax'], point[0])\n",
    "        result['ymax'] = max(result['ymax'], point[1])\n",
    "        result['zmax'] = max(result['zmax'], point[2])\n",
    "    return ((result['xmin']+3, result['xmax']-3), \\\n",
    "            (result['ymin']+8, result['ymax']-11), \\\n",
    "            (result['zmin']+3, result['zmax']-5))"
   ]
  },
  {
   "cell_type": "code",
   "execution_count": 23,
   "id": "2458b745-4587-4e82-97a5-fc626b56a925",
   "metadata": {},
   "outputs": [],
   "source": [
    "def inbox(point, lims):\n",
    "    \"\"\"\n",
    "    Returns true if the coordinates of the point\n",
    "    are in the box defined by the 3-tuple lims\n",
    "    which contain the minima and maxima for the coordinates.\n",
    "    \"\"\"\n",
    "    tol = 1.0e-8 # this is essential for roundoff\n",
    "    (xlim, ylim, zlim) = lims\n",
    "    if point[0] < xlim[0] - tol:\n",
    "        return False\n",
    "    elif point[0] > xlim[1] + tol:\n",
    "        return False\n",
    "    elif point[1] < ylim[0] - tol:\n",
    "        return False\n",
    "    elif point[1] > ylim[1] + tol:\n",
    "        return False\n",
    "    elif point[2] < zlim[0] - tol:\n",
    "        return False\n",
    "    elif point[2] > zlim[1] + tol:\n",
    "        return False\n",
    "    else:\n",
    "        return True"
   ]
  },
  {
   "cell_type": "code",
   "execution_count": 24,
   "id": "db7a19a9-4c3a-48dd-8388-5723da5d0619",
   "metadata": {},
   "outputs": [],
   "source": [
    "def equal(pt1, pt2):\n",
    "    \"\"\"\n",
    "    Returns true if the all coordinates of pt1 and pt2\n",
    "    match up to a tolerance of 1.0e-10.\n",
    "    \"\"\"\n",
    "    tol = 1.0e-8\n",
    "    if abs(pt1[0] - pt2[0]) > tol:\n",
    "        return False\n",
    "    elif abs(pt1[1] - pt2[1]) > tol:\n",
    "        return False\n",
    "    elif abs(pt1[2] - pt2[2]) > tol:\n",
    "        return False\n",
    "    return True"
   ]
  },
  {
   "cell_type": "code",
   "execution_count": 25,
   "id": "8d2689b4-31a1-4575-ab99-c4a2cc5a5704",
   "metadata": {},
   "outputs": [],
   "source": [
    "def isin(points, pnt):\n",
    "    \"\"\"\n",
    "    Returns true if pnt belongs to the list points.\n",
    "    \"\"\"\n",
    "    if len(points) == 0:\n",
    "        return False\n",
    "    else:\n",
    "        for point in points:\n",
    "            if equal(point, pnt):\n",
    "                return True\n",
    "        return False;"
   ]
  },
  {
   "cell_type": "code",
   "execution_count": 26,
   "id": "1a466ad8-e633-4b38-a078-bd8d5b5a1abb",
   "metadata": {},
   "outputs": [],
   "source": [
    "def plot_line(axs, line, lims, color):\n",
    "    \"\"\"\n",
    "    Plots the line defined as a tuple of two points,\n",
    "    using the axis object in axs.\n",
    "    The 3-tuple lims contains three lists with limits [min, max]\n",
    "    for the x, y, and z coordinates.\n",
    "    \"\"\"\n",
    "    (fst, snd) = line\n",
    "    axs.set_xlabel('x')\n",
    "    axs.set_ylabel('y')\n",
    "    axs.set_zlabel('z')\n",
    "    axs.set_xlim(lims[0])\n",
    "    axs.set_ylim(lims[1])\n",
    "    axs.set_zlim(lims[2])\n",
    "    dir = (fst[0] - snd[0], fst[1] - snd[1], fst[2] - snd[2])\n",
    "    result = []\n",
    "    for k in range(3):\n",
    "        fac = (lims[k][1]-fst[k])/dir[k]\n",
    "        pnt = (fst[0] + fac*dir[0], fst[1] + fac*dir[1], fst[2] + fac*dir[2])\n",
    "        if inbox(pnt, lims):\n",
    "            if not isin(result, pnt): result.append(pnt)\n",
    "    for k in range(3):\n",
    "        fac = (lims[k][0]-fst[k])/dir[k]\n",
    "        pnt = (fst[0] + fac*dir[0], fst[1] + fac*dir[1], fst[2] + fac*dir[2])\n",
    "        if inbox(pnt, lims):\n",
    "            if not isin(result, pnt): result.append(pnt)\n",
    "    (one, two) = (result[0], result[1])\n",
    "    # axs.plot([fst[0], snd[0]], [fst[1], snd[1]], [fst[2], snd[2]], 'bo')\n",
    "    # axs.plot([one[0], two[0]], [one[1], two[1]], [one[2], two[2]], 'ro')\n",
    "    axs.plot([one[0], two[0]], [one[1], two[1]], [one[2], two[2]], color)\n",
    "    plt.savefig('fourlinesfig1')"
   ]
  },
  {
   "cell_type": "code",
   "execution_count": 27,
   "id": "5c602f0c-aeaa-44a5-b651-64ad88b6de5b",
   "metadata": {},
   "outputs": [],
   "source": [
    "def plot_lines(inlines, outlines, points, lims):\n",
    "    \"\"\"\n",
    "    Generates coordinates of the points in a random line\n",
    "    and then plots this line.  The intersection points are\n",
    "    in the list points and limits for the bounding box in lims\n",
    "    \"\"\"\n",
    "    fig = plt.figure()\n",
    "    axs = fig.add_subplot(111, projection='3d')\n",
    "    for line in inlines:\n",
    "        plot_line(axs, line, lims, 'b')\n",
    "    for line in outlines:\n",
    "        plot_line(axs, line, lims, 'r')\n",
    "    for point in points:\n",
    "        axs.plot([point[0]], [point[1]], [point[2]], 'ro')\n",
    "    axs.view_init(azim=5, elev=20)\n",
    "    plt.show()\n",
    "    plt.savefig('fourlinesfig2')"
   ]
  },
  {
   "cell_type": "code",
   "execution_count": 28,
   "id": "4b8c6110-e161-436f-9305-1c3be5d9b7ea",
   "metadata": {},
   "outputs": [],
   "source": [
    "def intersection_point(apl, bpl, check=True):\n",
    "    \"\"\"\n",
    "    Given in apl the two points that define a line\n",
    "    and in bpl the two points that define another line,\n",
    "    returns the intersection point.\n",
    "    If check, then additional tests are done\n",
    "    and the outcome of the tests is written to screen.\n",
    "    \"\"\"\n",
    "    (apt, bpt) = apl\n",
    "    (cpt, dpt) = bpl\n",
    "    mat = array([[apt[0], bpt[0], -cpt[0]], \\\n",
    "                 [apt[1], bpt[1], -cpt[1]], \\\n",
    "                 [apt[2], bpt[2], -cpt[2]]])\n",
    "    rhs = array([[dpt[0]], [dpt[1]], [dpt[2]]])\n",
    "    sol = solve(mat, rhs)\n",
    "    cff = list(sol[:,0])\n",
    "    csm = cff[0] + cff[1]\n",
    "    result = ((cff[0]*apt[0] + cff[1]*bpt[0])/csm, \\\n",
    "              (cff[0]*apt[1] + cff[1]*bpt[1])/csm, \\\n",
    "              (cff[0]*apt[2] + cff[1]*bpt[2])/csm)\n",
    "    if check:\n",
    "        csm = cff[2] + 1.0\n",
    "        verify = ((cff[2]*cpt[0] + dpt[0])/csm, \\\n",
    "                  (cff[2]*cpt[1] + dpt[1])/csm, \\\n",
    "                  (cff[2]*cpt[2] + dpt[2])/csm)\n",
    "        print('the solution :\\n', result)\n",
    "        print('the solution verified :\\n', verify)\n",
    "        res = matrix(rhs) - matrix(mat)*matrix(sol)\n",
    "        print('the residual :\\n', res)\n",
    "    return result"
   ]
  },
  {
   "cell_type": "code",
   "execution_count": 29,
   "id": "5595f4cc-d08e-407c-9861-479f72f1b052",
   "metadata": {},
   "outputs": [],
   "source": [
    "def intersection_points(ipl, opl):\n",
    "    \"\"\"\n",
    "    Returns the list of intersection points between\n",
    "    the input planes in ipl and the output planes in opl.\n",
    "    \"\"\"\n",
    "    result = []\n",
    "    for inplane in ipl:\n",
    "        for outplane in opl:\n",
    "            result.append(intersection_point(inplane, outplane))\n",
    "    return result"
   ]
  },
  {
   "cell_type": "code",
   "execution_count": 30,
   "id": "4c0328e4-9c6a-4dff-acbe-5c7a63f7eb5b",
   "metadata": {},
   "outputs": [],
   "source": [
    "def show_planes(ipl, opl):\n",
    "    \"\"\"\n",
    "    Shows the input and the output planes.\n",
    "    \"\"\"\n",
    "    (inlines, outlines) = ([], [])\n",
    "    for plane in ipl:\n",
    "        inlines.append(input_generators(plane))\n",
    "    for plane in opl:\n",
    "        outlines.append(output_generators(plane))\n",
    "    print('The generators of the input lines :')\n",
    "    for line in inlines:\n",
    "        print(line)\n",
    "    print('The generators of the output lines :')\n",
    "    for line in outlines:\n",
    "        print(line)\n",
    "    brg = boxrange(inlines, outlines)\n",
    "    print('the range:', brg)\n",
    "    intpts = intersection_points(inlines, outlines)\n",
    "    print('the intersection points :')\n",
    "    for point in intpts:\n",
    "        print(point)\n",
    "    plot_lines(inlines, outlines, intpts, brg)\n",
    "    plt.savefig('fourlinesfig3')"
   ]
  },
  {
   "cell_type": "markdown",
   "id": "e0d36215-323d-42f3-b8bb-536f8698bb2a",
   "metadata": {},
   "source": [
    "We end up with an interactive backend for the 3d plot."
   ]
  },
  {
   "cell_type": "code",
   "execution_count": 31,
   "id": "56cdd095-ee3a-45a1-8d9a-d27d66b8c8a1",
   "metadata": {},
   "outputs": [
    {
     "name": "stdout",
     "output_type": "stream",
     "text": [
      "The generators of the input lines :\n",
      "([-0.3846269613221122, -0.7041242012482366, 0.9262772651610497], [5.356155982058531, -9.53636379773747, -6.104719131981401])\n",
      "([-0.4924082638753003, -0.5150682033346254, 0.9996559434380463], [-6.2997304815421655, 10.923225600528575, 1.5246914154709972])\n",
      "([0.6258059455871108, -0.2167338369356443, -0.8970725931155779], [2.1821835337633937, 3.6792275561013374, 1.7481420529767318])\n",
      "([0.13188052906200864, -0.9652150521086493, -0.3864666725234145], [-2.8596260453517486, -2.5433009310133032, 7.963696648872165])\n",
      "The generators of the output lines :\n",
      "([-0.0284638025557899, -1.06771882518925, 0.0], [0.97153619744421, -1.187067575737539, -4.99706612461873])\n",
      "([-0.055273486968536, -0.660558824288729, 0.0], [0.944726513031464, -0.779907574837019, -2.57330433323918])\n",
      "the points :\n",
      " [[-0.3846269613221122, -0.7041242012482366, 0.9262772651610497], [-0.4924082638753003, -0.5150682033346254, 0.9996559434380463], [0.6258059455871108, -0.2167338369356443, -0.8970725931155779], [0.13188052906200864, -0.9652150521086493, -0.3864666725234145], [5.356155982058531, -9.53636379773747, -6.104719131981401], [-6.2997304815421655, 10.923225600528575, 1.5246914154709972], [2.1821835337633937, 3.6792275561013374, 1.7481420529767318], [-2.8596260453517486, -2.5433009310133032, 7.963696648872165], [-0.0284638025557899, -1.06771882518925, 0.0], [-0.055273486968536, -0.660558824288729, 0.0], [0.97153619744421, -1.187067575737539, -4.99706612461873], [0.944726513031464, -0.779907574837019, -2.57330433323918]]\n",
      "the range: ((-3.2997304815421655, 2.3561559820585307), (-1.5363637977374704, -0.07677439947142517), (-3.104719131981401, 2.9636966488721654))\n",
      "the solution :\n",
      " (-0.15837537533646365, -1.052214041296111, 0.6491767195382462)\n",
      "the solution verified :\n",
      " (-0.15837537533646406, -1.0522140412961136, 0.6491767195382475)\n",
      "the residual :\n",
      " [[4.44089210e-16]\n",
      " [1.11022302e-15]\n",
      " [0.00000000e+00]]\n",
      "the solution :\n",
      " (-0.4430230234123302, -0.6142814015884848, 0.9977975623422988)\n",
      "the solution verified :\n",
      " (-0.44302302341232946, -0.6142814015884835, 0.997797562342297)\n",
      "the residual :\n",
      " [[ 0.00000000e+00]\n",
      " [-2.22044605e-16]\n",
      " [ 0.00000000e+00]]\n",
      "the solution :\n",
      " (-0.2236498742909531, -1.0444236114032255, 0.9753577070651858)\n",
      "the solution verified :\n",
      " (-0.22364987429095395, -1.0444236114032293, 0.9753577070651895)\n",
      "the residual :\n",
      " [[-1.11022302e-16]\n",
      " [-6.66133815e-16]\n",
      " [ 0.00000000e+00]]\n",
      "the solution :\n",
      " (-0.441973240857878, -0.6144066918247044, 0.9950961523459683)\n",
      "the solution verified :\n",
      " (-0.44197324085787826, -0.6144066918247048, 0.9950961523459688)\n",
      "the residual :\n",
      " [[1.11022302e-16]\n",
      " [2.22044605e-16]\n",
      " [0.00000000e+00]]\n",
      "the solution :\n",
      " (0.2715464337673154, -1.1035246720461052, -1.4991709889690488)\n",
      "the solution verified :\n",
      " (0.27154643376731663, -1.1035246720461096, -1.4991709889690552)\n",
      "the residual :\n",
      " [[1.11022302e-16]\n",
      " [2.22044605e-16]\n",
      " [0.00000000e+00]]\n",
      "the solution :\n",
      " (0.42557851238329614, -0.7179479096100174, -1.2373785335787928)\n",
      "the solution verified :\n",
      " (0.42557851238329597, -0.7179479096100173, -1.2373785335787926)\n",
      "the residual :\n",
      " [[-1.11022302e-16]\n",
      " [ 0.00000000e+00]\n",
      " [ 0.00000000e+00]]\n",
      "the solution :\n",
      " (-0.056164218290926694, -1.0644128151815966, 0.1384208091079073)\n",
      "the solution verified :\n",
      " (-0.05616421829092654, -1.0644128151815933, 0.1384208091079069)\n",
      "the residual :\n",
      " [[ 6.66133815e-16]\n",
      " [-2.44249065e-15]\n",
      " [-1.77635684e-15]]\n",
      "the solution :\n",
      " (0.5683194604437922, -0.7349838634131002, -1.6046944337535327)\n",
      "the solution verified :\n",
      " (0.5683194604438059, -0.7349838634131174, -1.6046944337535711)\n",
      "the residual :\n",
      " [[ 1.11022302e-16]\n",
      " [ 3.33066907e-16]\n",
      " [-4.44089210e-16]]\n",
      "the intersection points :\n",
      "(-0.15837537533646365, -1.052214041296111, 0.6491767195382462)\n",
      "(-0.4430230234123302, -0.6142814015884848, 0.9977975623422988)\n",
      "(-0.2236498742909531, -1.0444236114032255, 0.9753577070651858)\n",
      "(-0.441973240857878, -0.6144066918247044, 0.9950961523459683)\n",
      "(0.2715464337673154, -1.1035246720461052, -1.4991709889690488)\n",
      "(0.42557851238329614, -0.7179479096100174, -1.2373785335787928)\n",
      "(-0.056164218290926694, -1.0644128151815966, 0.1384208091079073)\n",
      "(0.5683194604437922, -0.7349838634131002, -1.6046944337535327)\n"
     ]
    },
    {
     "data": {
      "application/vnd.jupyter.widget-view+json": {
       "model_id": "deb1c1b5c201486ab6a463ae40bf95d2",
       "version_major": 2,
       "version_minor": 0
      },
      "image/png": "[encoded data removed]",
      "text/html": [
       "\n",
       "            <div style=\"display: inline-block;\">\n",
       "                <div class=\"jupyter-widgets widget-label\" style=\"text-align: center;\">\n",
       "                    Figure\n",
       "                </div>\n",
       "                <img src='data:image/png;base64,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' width=640.0/>\n",
       "            </div>\n",
       "        "
      ],
      "text/plain": [
       "Canvas(toolbar=Toolbar(toolitems=[('Home', 'Reset original view', 'home', 'home'), ('Back', 'Back to previous …"
      ]
     },
     "metadata": {},
     "output_type": "display_data"
    }
   ],
   "source": [
    "%matplotlib widget\n",
    "show_planes(oscp, otp2)"
   ]
  },
  {
   "cell_type": "code",
   "execution_count": null,
   "id": "35829ade-b55b-4819-ac89-67030a77eea2",
   "metadata": {},
   "outputs": [],
   "source": []
  }
 ],
 "metadata": {
  "kernelspec": {
   "display_name": "Python 3 (ipykernel)",
   "language": "python",
   "name": "python3"
  },
  "language_info": {
   "codemirror_mode": {
    "name": "ipython",
    "version": 3
   },
   "file_extension": ".py",
   "mimetype": "text/x-python",
   "name": "python",
   "nbconvert_exporter": "python",
   "pygments_lexer": "ipython3",
   "version": "3.10.13"
  }
 },
 "nbformat": 4,
 "nbformat_minor": 5
}
