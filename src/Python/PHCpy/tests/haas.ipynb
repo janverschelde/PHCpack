{
 "cells": [
  {
   "cell_type": "markdown",
   "id": "7eaafdca-0958-44d7-90eb-2697adbcd6f1",
   "metadata": {},
   "source": [
    "# A Counter Example to Koushnirenko's Conjecture"
   ]
  },
  {
   "cell_type": "markdown",
   "id": "de9f5928-2c95-40f8-bf0d-b76b926f4de9",
   "metadata": {},
   "source": [
    "Ths notebook illustrates the\n",
    "counter example of Bertrand Haas, against the Koushnirenko conjecture,\n",
    "executed on one core and on many cores.\n",
    "\n",
    "Bertrand Haas: A simple counterexample to Kouchnirenko's conjecture.\n",
    "Beitraege zur Algebra und Geometrie/Contributions to Algebra and Geometry, \n",
    "volume 43, number 1, pages 1 to 8, 2002.\n",
    "\n",
    "Bertrand constructed a polynomial system with three monomials in every\n",
    "equation and with five positive real roots.  Kouchnirenko's conjecture\n",
    "predicted there could only four positive real roots for such a system."
   ]
  },
  {
   "cell_type": "markdown",
   "id": "fc974a48-baf6-4d02-9296-e74bbbdf9d43",
   "metadata": {},
   "source": [
    "To get the proper wall clock time, we have to be mindful that the Python code calls the compiled functions in the PHCpack library.  Therefore, the Python timers will not give accurate timings.  Instead, we have to rely on the actual date and time, from the package `datetime` in Python."
   ]
  },
  {
   "cell_type": "code",
   "execution_count": 1,
   "id": "08f894d0-0541-44f6-a520-30183aeb4971",
   "metadata": {
    "tags": []
   },
   "outputs": [],
   "source": [
    "from datetime import datetime"
   ]
  },
  {
   "cell_type": "markdown",
   "id": "9bec5a6e-2361-42c1-84fd-1c662d9cf235",
   "metadata": {},
   "source": [
    "For the plot, the implicit plotting of `sympy` will be used."
   ]
  },
  {
   "cell_type": "code",
   "execution_count": 2,
   "id": "50150d4e-39de-48b8-8ca3-d17b6497b7b0",
   "metadata": {
    "tags": []
   },
   "outputs": [],
   "source": [
    "from sympy import plot_implicit, symbols, Eq"
   ]
  },
  {
   "cell_type": "code",
   "execution_count": 3,
   "id": "d1115303-bc8c-4738-90d5-c7539d80e9b1",
   "metadata": {
    "tags": []
   },
   "outputs": [
    {
     "name": "stdout",
     "output_type": "stream",
     "text": [
      "PHCv2.4.88 released 2023-12-26 works!\n"
     ]
    }
   ],
   "source": [
    "from phcpy.dimension import get_core_count\n",
    "from phcpy.solver import solve\n",
    "from phcpy.solutions import filter_real"
   ]
  },
  {
   "cell_type": "markdown",
   "id": "1da47976-947b-484f-8bdb-7b505591d327",
   "metadata": {},
   "source": [
    "## 1. Solving the System on Many Cores"
   ]
  },
  {
   "cell_type": "code",
   "execution_count": 4,
   "id": "d16841b6-b417-4a4a-ae61-348dca72ba42",
   "metadata": {
    "tags": []
   },
   "outputs": [],
   "source": [
    "H = [ 'x**108 + 1.1*y**54 - 1.1*y;', \n",
    "      'y**108 + 1.1*x**54 - 1.1*x;' ]"
   ]
  },
  {
   "cell_type": "markdown",
   "id": "6e70053f-f5d3-4ecf-bd64-5fc9d91a4458",
   "metadata": {},
   "source": [
    "According to the theorem of Bézout, we may expect a number of complex solutions equals to the product of the degrees of the polynomials."
   ]
  },
  {
   "cell_type": "code",
   "execution_count": 5,
   "id": "f0ef0db6-161a-40fb-9993-23213ef9a1c3",
   "metadata": {
    "tags": []
   },
   "outputs": [
    {
     "data": {
      "text/plain": [
       "11664"
      ]
     },
     "execution_count": 5,
     "metadata": {},
     "output_type": "execute_result"
    }
   ],
   "source": [
    "108*108"
   ]
  },
  {
   "cell_type": "markdown",
   "id": "65465fd3-69fc-4666-9e82-8c09c7645141",
   "metadata": {},
   "source": [
    "As the solver computes all complex solutions, executing the following code block takes some time ..."
   ]
  },
  {
   "cell_type": "code",
   "execution_count": 6,
   "id": "1042890f-ee9a-439f-9932-1c1156f4daea",
   "metadata": {
    "tags": []
   },
   "outputs": [
    {
     "name": "stdout",
     "output_type": "stream",
     "text": [
      "Solving on one core ...\n",
      "  Number of solutions : 11660\n",
      "start time : 2024-01-27 14:19:19.416091\n",
      " stop time : 2024-01-27 14:19:27.268630\n",
      "   elapsed : 0:00:07.852539\n"
     ]
    }
   ],
   "source": [
    "print('Solving on one core ...')\n",
    "wstart = datetime.now()\n",
    "sols = solve(H)\n",
    "wstop = datetime.now()\n",
    "print('  Number of solutions :', len(sols))\n",
    "print('start time :', wstart)\n",
    "print(' stop time :', wstop)\n",
    "print('   elapsed :', wstop - wstart)"
   ]
  },
  {
   "cell_type": "markdown",
   "id": "c6e6dba5-6be8-419d-9099-876307fdaffb",
   "metadata": {},
   "source": [
    "We can significantly speed up this computation if the computer has many cores."
   ]
  },
  {
   "cell_type": "code",
   "execution_count": 7,
   "id": "53704e53-8f3f-4e7b-b10a-04daf71173f6",
   "metadata": {
    "tags": []
   },
   "outputs": [
    {
     "name": "stdout",
     "output_type": "stream",
     "text": [
      "Solving on 32 cores ...\n",
      "  Number of solutions : 11664\n",
      "start time : 2024-01-27 14:19:27.282310\n",
      " stop time : 2024-01-27 14:19:29.292202\n",
      "   elapsed : 0:00:02.009892\n"
     ]
    }
   ],
   "source": [
    "nbcores = get_core_count()\n",
    "print('Solving on', nbcores, 'cores ...')\n",
    "wstart = datetime.now()\n",
    "sols = solve(H, tasks=nbcores)\n",
    "wstop = datetime.now()\n",
    "print('  Number of solutions :', len(sols))\n",
    "print('start time :', wstart)\n",
    "print(' stop time :', wstop)\n",
    "print('   elapsed :', wstop - wstart)"
   ]
  },
  {
   "cell_type": "markdown",
   "id": "57a24e3f-962d-4321-9311-041dc2ae56ba",
   "metadata": {},
   "source": [
    "## 2. Extracting the Real Roots"
   ]
  },
  {
   "cell_type": "markdown",
   "id": "6b24627d-72ef-4bbb-8e5a-55265d911799",
   "metadata": {},
   "source": [
    "Rather than eyeballing all 11,664 complex solutions ourselves, we ask to filter the real solutions."
   ]
  },
  {
   "cell_type": "code",
   "execution_count": 8,
   "id": "9770ef64-a498-4a70-bc0a-2ec641eabe39",
   "metadata": {
    "tags": []
   },
   "outputs": [],
   "source": [
    "realsols = filter_real(sols, tol=1.0e-8, oper='select')"
   ]
  },
  {
   "cell_type": "code",
   "execution_count": 9,
   "id": "372fcf7c-296b-4951-b3b9-49cb0c16734b",
   "metadata": {
    "tags": []
   },
   "outputs": [
    {
     "name": "stdout",
     "output_type": "stream",
     "text": [
      "Solution 1 :\n",
      "t :  0.00000000000000E+00   0.00000000000000E+00\n",
      "m : 1\n",
      "the solution for t :\n",
      " x :  0.00000000000000E+00   0.00000000000000E+00\n",
      " y :  0.00000000000000E+00   0.00000000000000E+00\n",
      "== err :  0.000E+00 = rco :  1.000E+00 = res :  0.000E+00 =\n",
      "Solution 2 :\n",
      "t :  1.00000000000000E+00   0.00000000000000E+00\n",
      "m : 1\n",
      "the solution for t :\n",
      " x :  9.19904793199125E-01  -6.09845091674160E-42\n",
      " y :  9.99997917489999E-01   2.36469115854813E-45\n",
      "== err :  1.310E-16 = rco :  1.601E-03 = res :  8.674E-15 =\n",
      "Solution 3 :\n",
      "t :  1.00000000000000E+00   0.00000000000000E+00\n",
      "m : 1\n",
      "the solution for t :\n",
      " x :  9.99997917489999E-01  -3.56814088797308E-49\n",
      " y :  9.19904793199125E-01   6.69174754936363E-46\n",
      "== err :  7.516E-16 = rco :  1.601E-03 = res :  8.677E-15 =\n",
      "Solution 4 :\n",
      "t :  1.00000000000000E+00   0.00000000000000E+00\n",
      "m : 1\n",
      "the solution for t :\n",
      " x :  9.36266084294562E-01   2.24426707177021E-46\n",
      " y :  9.99986016402972E-01  -1.95111823836730E-49\n",
      "== err :  5.524E-17 = rco :  2.070E-03 = res :  3.600E-15 =\n",
      "Solution 5 :\n",
      "t :  1.00000000000000E+00   0.00000000000000E+00\n",
      "m : 1\n",
      "the solution for t :\n",
      " x :  9.99986016402972E-01  -1.04416959131636E-37\n",
      " y :  9.36266084294562E-01   2.60301469046087E-34\n",
      "== err :  1.141E-15 = rco :  2.070E-03 = res :  3.610E-15 =\n",
      "Solution 6 :\n",
      "t :  1.00000000000000E+00   0.00000000000000E+00\n",
      "m : 1\n",
      "the solution for t :\n",
      " x :  9.91489402484465E-01   6.28061971710383E-42\n",
      " y :  9.91489402484465E-01  -8.51989466309489E-42\n",
      "== err :  7.704E-17 = rco :  8.274E-02 = res :  5.773E-15 =\n"
     ]
    }
   ],
   "source": [
    "for (idx, sol) in enumerate(realsols):\n",
    "    print('Solution', idx+1, ':')\n",
    "    print(sol)"
   ]
  },
  {
   "cell_type": "markdown",
   "id": "38878f5d-b279-4986-9c7d-8c25eabe7ad7",
   "metadata": {},
   "source": [
    "We observe $(0, 0)$ and five additional positive roots."
   ]
  },
  {
   "cell_type": "markdown",
   "id": "14528369-e18b-48fa-9145-e139672b35a8",
   "metadata": {},
   "source": [
    "## 3. Plotting the Curves"
   ]
  },
  {
   "cell_type": "markdown",
   "id": "b5e0b85a-3649-4fc1-b15f-a4e9578b7ca9",
   "metadata": {
    "tags": []
   },
   "source": [
    "Without knowing the precise location of the intersection points, the curves are hard to plot."
   ]
  },
  {
   "cell_type": "code",
   "execution_count": 10,
   "id": "87da759d-e548-4902-ba16-4102218aef9a",
   "metadata": {
    "tags": []
   },
   "outputs": [],
   "source": [
    "x, y = symbols('x y')"
   ]
  },
  {
   "cell_type": "markdown",
   "id": "a7fe8867-523a-4586-a5b6-1c3f68a6c841",
   "metadata": {},
   "source": [
    "In converting the strings in the polynomial system `H` we have to remove the trailing semicolon."
   ]
  },
  {
   "cell_type": "code",
   "execution_count": 11,
   "id": "b8c76285-d06d-4ff1-a3c9-cc7fec1896ac",
   "metadata": {
    "tags": []
   },
   "outputs": [
    {
     "data": {
      "text/latex": [
       "$\\displaystyle x^{108} + 1.1 y^{54} - 1.1 y$"
      ],
      "text/plain": [
       "x**108 + 1.1*y**54 - 1.1*y"
      ]
     },
     "execution_count": 11,
     "metadata": {},
     "output_type": "execute_result"
    }
   ],
   "source": [
    "p0 = eval(H[0][:-1])\n",
    "p0"
   ]
  },
  {
   "cell_type": "code",
   "execution_count": 12,
   "id": "7230225e-2eb8-47dc-a2ad-79fd55a51add",
   "metadata": {
    "tags": []
   },
   "outputs": [
    {
     "data": {
      "text/latex": [
       "$\\displaystyle 1.1 x^{54} - 1.1 x + y^{108}$"
      ],
      "text/plain": [
       "1.1*x**54 - 1.1*x + y**108"
      ]
     },
     "execution_count": 12,
     "metadata": {},
     "output_type": "execute_result"
    }
   ],
   "source": [
    "p1 = eval(H[1][:-1])\n",
    "p1"
   ]
  },
  {
   "cell_type": "code",
   "execution_count": 13,
   "id": "21dc1a50-7b45-4594-bd4b-c498e98bda72",
   "metadata": {
    "tags": []
   },
   "outputs": [],
   "source": [
    "plot0 = plot_implicit(Eq(p0, 0), (x, 0.93, 1.01), (y, 0.93, 1.01), \\\n",
    "                      line_color='black', depth=1, \\\n",
    "    markers=[{'args': [[0.99148, 0.93626, 0.99998], \\\n",
    "                       [0.99148, 0.99998, 0.93626], 'bo']}], \\\n",
    "                      axis_center=(0.93, 0.93), show=False)"
   ]
  },
  {
   "cell_type": "code",
   "execution_count": 14,
   "id": "44c0b179-dd83-4d7e-903d-b7b20afe9f48",
   "metadata": {
    "tags": []
   },
   "outputs": [],
   "source": [
    "plot1 = plot_implicit(Eq(p1, 0), (x, 0.93, 1.01), (y, 0.93, 1.01), \\\n",
    "                      line_color='red', depth=1, \\\n",
    "                      axis_center=(0.93, 0.93), show=False)"
   ]
  },
  {
   "cell_type": "code",
   "execution_count": 15,
   "id": "f650c891-2db6-47ec-a732-d7ad889962c6",
   "metadata": {
    "tags": []
   },
   "outputs": [
    {
     "data": {
      "image/png": "[encoded data removed]",
      "text/plain": [
       "<Figure size 640x480 with 1 Axes>"
      ]
     },
     "metadata": {},
     "output_type": "display_data"
    }
   ],
   "source": [
    "plot0.append(plot1[0])\n",
    "plot0.show()"
   ]
  },
  {
   "cell_type": "code",
   "execution_count": 16,
   "id": "f8bc61be-e74c-4220-8c16-8e4c11de83db",
   "metadata": {
    "tags": []
   },
   "outputs": [],
   "source": [
    "plot3 = plot_implicit(Eq(p0, 0), (x, 0.9, 1.0025), (y, 0.99, 1.0025), \\\n",
    "                      line_color='black', depth=1, \\\n",
    "    markers=[{'args': [[0.99148, 0.93626, 0.91990], \\\n",
    "                       [0.99148, 0.99998, 0.99999], 'bo']}], \\\n",
    "                      axis_center=(0.9, 0.99), show=False)"
   ]
  },
  {
   "cell_type": "code",
   "execution_count": 17,
   "id": "b016ffd0-9a46-47fa-b88b-a3f43e1aceec",
   "metadata": {
    "tags": []
   },
   "outputs": [],
   "source": [
    "plot4 = plot_implicit(Eq(p1, 0), (x, 0.9, 1.0025), (y, 0.99, 1.0025), \\\n",
    "                      line_color='red', depth=1, \\\n",
    "                      axis_center=(0.9, 0.99), show=False)"
   ]
  },
  {
   "cell_type": "code",
   "execution_count": 18,
   "id": "c1e21b44-fb8d-4ccb-a392-4b7ff03525df",
   "metadata": {
    "tags": []
   },
   "outputs": [
    {
     "data": {
      "image/png": "[encoded data removed]",
      "text/plain": [
       "<Figure size 640x480 with 1 Axes>"
      ]
     },
     "metadata": {},
     "output_type": "display_data"
    }
   ],
   "source": [
    "plot3.append(plot4[0])\n",
    "plot3.show()"
   ]
  },
  {
   "cell_type": "code",
   "execution_count": 19,
   "id": "39794696-2f6a-4a7f-87e5-9f67a57238c5",
   "metadata": {
    "tags": []
   },
   "outputs": [],
   "source": [
    "plot5 = plot_implicit(Eq(p0, 0), (x, 0.9, 1.0005), (y, 0.999, 1.0005), \\\n",
    "                      line_color='black', depth=1, \\\n",
    "    markers=[{'args': [[0.93626, 0.91990], \\\n",
    "                       [0.99998, 0.99999], 'bo']}], \\\n",
    "                      axis_center=(0.9, 0.999), show=False)"
   ]
  },
  {
   "cell_type": "code",
   "execution_count": 20,
   "id": "929d9c5e-4647-4447-9775-f9eb1cbc491f",
   "metadata": {
    "tags": []
   },
   "outputs": [],
   "source": [
    "plot6 = plot_implicit(Eq(p1, 0), (x, 0.9, 1.0005), (y, 0.999, 1.0005), \\\n",
    "                      line_color='red', depth=1, \\\n",
    "                      axis_center=(0.9, 0.999), show=False)"
   ]
  },
  {
   "cell_type": "code",
   "execution_count": 21,
   "id": "70154589-87a1-444c-bfcd-c464d381e11c",
   "metadata": {
    "tags": []
   },
   "outputs": [
    {
     "data": {
      "image/png": "[encoded data removed]",
      "text/plain": [
       "<Figure size 640x480 with 1 Axes>"
      ]
     },
     "metadata": {},
     "output_type": "display_data"
    }
   ],
   "source": [
    "plot5.append(plot6[0])\n",
    "plot5.show()"
   ]
  },
  {
   "cell_type": "code",
   "execution_count": null,
   "id": "260c97f4-f6a3-4012-9d54-52bb94ca2d6b",
   "metadata": {},
   "outputs": [],
   "source": []
  }
 ],
 "metadata": {
  "kernelspec": {
   "display_name": "Python 3 (ipykernel)",
   "language": "python",
   "name": "python3"
  },
  "language_info": {
   "codemirror_mode": {
    "name": "ipython",
    "version": 3
   },
   "file_extension": ".py",
   "mimetype": "text/x-python",
   "name": "python",
   "nbconvert_exporter": "python",
   "pygments_lexer": "ipython3",
   "version": "3.10.13"
  }
 },
 "nbformat": 4,
 "nbformat_minor": 5
}
