{
 "cells": [
  {
   "cell_type": "markdown",
   "id": "c9d8860d-9f56-49ac-853d-64e99a6d9eb0",
   "metadata": {},
   "source": [
    "This notebook documents the computation of the irreducible factors of a pure dimensional solution set, using the example of the 2-by-2 adjacent minors of a general 2-by-n matrix."
   ]
  },
  {
   "cell_type": "markdown",
   "id": "11e27ede-7e60-43e7-985a-a36b55351a0c",
   "metadata": {},
   "source": [
    "# 1. Adjacent Minors"
   ]
  },
  {
   "cell_type": "markdown",
   "id": "e3694be9-75ad-4ba4-9e28-dff37e97de78",
   "metadata": {},
   "source": [
    "The 2-by-2 minors of a 2-by-n matrix of indeterminates\n",
    "originates in algebraic statistics."
   ]
  },
  {
   "cell_type": "code",
   "execution_count": 1,
   "id": "a509477d-fded-4367-b9b2-721b24aee213",
   "metadata": {},
   "outputs": [
    {
     "name": "stdout",
     "output_type": "stream",
     "text": [
      "PHCv2.4.88 released 2023-12-26 works!\n"
     ]
    }
   ],
   "source": [
    "from phcpy.families import adjacent_minors"
   ]
  },
  {
   "cell_type": "code",
   "execution_count": 2,
   "id": "1e05f487-c132-4e40-adf2-c294e0b891ff",
   "metadata": {},
   "outputs": [
    {
     "name": "stdout",
     "output_type": "stream",
     "text": [
      "Help on function adjacent_minors in module phcpy.families:\n",
      "\n",
      "adjacent_minors(rows, cols)\n",
      "    Returns all adjacent 2-by-2 minors of a general\n",
      "    matrix of dimensions rows by cols.\n",
      "    This system originated in a paper on lattice walks and\n",
      "    primary decomposition, written by P. Diaconis, D. Eisenbud,\n",
      "    and B. Sturmfels, published by Birkhauser in 1998 in\n",
      "    Mathematical Essays in Honor of Gian-Carlo Rota,\n",
      "    edited by B. E. Sagan and R. P. Stanley,\n",
      "    volume 161 of Progress in Mathematics, pages 173--193.\n",
      "    See also the paper by S. Hosten and J. Shapiro on\n",
      "    Primary decomposition of lattice basis ideals, published in 2000\n",
      "    in the Journal of Symbolic Computation, volume 29, pages 625-639.\n",
      "\n"
     ]
    }
   ],
   "source": [
    "help(adjacent_minors)"
   ]
  },
  {
   "cell_type": "markdown",
   "id": "cfb20d91-a533-42ea-9eed-0361297081bf",
   "metadata": {},
   "source": [
    "Let us look at the simplest nontrivial case: the adjacent 2-by-2 minors of a 2-by-3 matrix."
   ]
  },
  {
   "cell_type": "code",
   "execution_count": 3,
   "id": "27a87e5c-dcea-4727-87dd-c5fc1993bc06",
   "metadata": {},
   "outputs": [
    {
     "name": "stdout",
     "output_type": "stream",
     "text": [
      "x_1_1*x_2_2-x_2_1*x_1_2;\n",
      "x_1_2*x_2_3-x_2_2*x_1_3;\n"
     ]
    }
   ],
   "source": [
    "pols = adjacent_minors(2, 3)\n",
    "for pol in pols:\n",
    "    print(pol)"
   ]
  },
  {
   "cell_type": "markdown",
   "id": "6b0282ac-66b0-440e-8933-b58558398801",
   "metadata": {},
   "source": [
    "We have two polynomials in six variables.  Therefore, we expect the solution set to be four dimensional.  The two polynomials are quadrics.  So, the degree of the solution set is expected to be four.  The question is whether the four dimensional solution set of degree four is irreducible or not."
   ]
  },
  {
   "cell_type": "markdown",
   "id": "4a1ca777-4c7f-4166-ab9f-37877c2a2e7c",
   "metadata": {},
   "source": [
    "# 2. Witness Set"
   ]
  },
  {
   "cell_type": "markdown",
   "id": "8c810cc0-ebd2-44f3-91cc-d085c395dff4",
   "metadata": {},
   "source": [
    "A *witness set* of a positive dimensional solution set consists of\n",
    "\n",
    "1. the original polynomial system, augmented with as many linear equations as the dimension of the solution set; and\n",
    "\n",
    "2. generic points, as many as the degree of the solution set, computed as solutions of the augmented polynomial system.\n",
    "\n",
    "The *embedding* adds extra slack variables, which are zero at the generic points."
   ]
  },
  {
   "cell_type": "code",
   "execution_count": 4,
   "id": "5e33c270-30b0-41b5-9f60-3132b48f40ab",
   "metadata": {},
   "outputs": [],
   "source": [
    "from phcpy.sets import double_embed"
   ]
  },
  {
   "cell_type": "code",
   "execution_count": 5,
   "id": "5041ab08-64a8-42ed-87ec-04472ed87ee4",
   "metadata": {},
   "outputs": [
    {
     "name": "stdout",
     "output_type": "stream",
     "text": [
      "Help on function double_embed in module phcpy.sets:\n",
      "\n",
      "double_embed(nvr, topdim, pols, vrblvl=0)\n",
      "    Given in *pols* a list of strings representing polynomials in *nvr*\n",
      "    variables, with coefficients in double precision,\n",
      "    this function returns an embedding of *pols* of dimension *topdim*.\n",
      "    The *topdim* is the top dimension which equals the expected highest\n",
      "    dimension of a component of the solution set of the system of polynomials.\n",
      "    If *vrblvl* is larger than 0, then extra information is printed.\n",
      "\n"
     ]
    }
   ],
   "source": [
    "help(double_embed)"
   ]
  },
  {
   "cell_type": "code",
   "execution_count": 6,
   "id": "724517d5-df11-4f02-9875-6f8330026c90",
   "metadata": {},
   "outputs": [
    {
     "name": "stdout",
     "output_type": "stream",
     "text": [
      " + x_1_1*x_2_2 - x_2_1*x_1_2 + (-9.99086911101846E-01-4.27240455127090E-02*i)*zz1 + (4.14818420957611E-01-9.09904213439104E-01*i)*zz2 + (-8.98599566975477E-01 + 4.38769664210604E-01*i)*zz3 + (-9.87637111749394E-01 + 1.56757569180295E-01*i)*zz4;\n",
      " - x_2_2*x_1_3 + x_1_2*x_2_3 + (-9.50915060423189E-01 + 3.09452012209265E-01*i)*zz1 + (8.94934777859038E-01-4.46196978226426E-01*i)*zz2 + (4.28909177508030E-01-9.03347617171477E-01*i)*zz3 + (9.99997394966914E-01 + 2.28255545098161E-03*i)*zz4;\n",
      "zz1;\n",
      "zz2;\n",
      "zz3;\n",
      "zz4;\n",
      " + (2.52642772862563E-01-1.64562207779935E-01*i)*x_1_1 + (2.38172268997908E-01-1.84886617118381E-01*i)*x_2_2 + (-1.91482090565462E-01-2.32902769201594E-01*i)*x_2_1 + (7.30954525688645E-02 + 2.92516915276440E-01*i)*x_1_2 + (-3.84959957593650E-02-2.99043724594892E-01*i)*x_2_3 + (-2.71276842664000E-01-1.31597741406691E-01*i)*x_1_3 + (-2.64408104251273E-04-3.01511228642393E-01*i)*zz1 + (2.72300014364985E-01 + 1.29467343704581E-01*i)*zz2 + (-2.99939451765406E-01-3.07476207820803E-02*i)*zz3 + (-2.95299363009813E-01 + 6.08882346195858E-02*i)*zz4 - 3.01511344577764E-01;\n",
      " + (-4.58249807046168E-01-5.40906757392526E-02*i)*x_1_1 + (4.14862726733922E-02 + 4.11506360074024E-01*i)*x_2_2 + (-2.32018034572266E-01 + 9.48639573945220E-02*i)*x_2_1 + (-2.80184386911322E-01-4.28818448828079E-01*i)*x_1_2 + (-1.20422832345040E-01-1.42772536416847E-01*i)*x_2_3 + (-1.75000947987830E-01-2.52077630538672E-02*i)*x_1_3 + (1.00853655248805E-01-1.59726738098879E-01*i)*zz1 + (1.47157089788836E-01 + 9.31710575065957E-02*i)*zz2 + (-3.18937022210321E-02-2.67242905524245E-01*i)*zz3 + (-1.70655540108348E-01 + 3.05332146451031E-02*i)*zz4+(-9.36346290234469E-02 + 2.17662695080044E-01*i);\n",
      " + (-8.19176308116668E-02 + 9.31779891695395E-02*i)*x_1_1 + (-2.23021019174348E-01 + 9.08742650844521E-02*i)*x_2_2 + (-2.55417845632647E-01 + 1.92893995983262E-01*i)*x_2_1 + (2.85202344419800E-02 + 4.06697473728353E-01*i)*x_1_2 + (-3.26980478298163E-01 + 5.39551406506719E-02*i)*x_2_3 + (-4.72487633926490E-03 + 3.03185406062837E-01*i)*x_1_3 + (2.49469923033290E-01 + 7.22359362814556E-02*i)*zz1 + (3.57054498446798E-01 + 1.84302643405729E-01*i)*zz2 + (2.44627852456931E-01-2.19409644826369E-02*i)*zz3 + (-6.45211959942027E-02-2.81391298463502E-01*i)*zz4+(1.78511770624327E-02-2.88585493131170E-01*i);\n",
      " + (-2.47934564140415E-01 + 3.78474051361417E-01*i)*x_1_1 + (2.57696009847760E-01-1.97353959339253E-01*i)*x_2_2 + (-1.32713498879035E-01-6.68083554253052E-02*i)*x_2_1 + (1.71277270038441E-01-1.69671423207279E-01*i)*x_1_2 + (2.45498609773496E-01-3.00565440004147E-01*i)*x_2_3 + (-1.33200278933953E-01 + 9.57961946142634E-02*i)*x_1_3 + (2.53856038005847E-01 + 2.28882119288700E-01*i)*zz1 + (3.08364764282092E-03-3.24002619621010E-01*i)*zz2 + (2.00774472927742E-01 + 2.60472818035180E-01*i)*zz3 + (-2.51374429242122E-01 + 8.28490424271253E-03*i)*zz4+(-7.60100938321149E-02-1.82187404809906E-01*i);\n"
     ]
    }
   ],
   "source": [
    "epols = double_embed(6, 4, pols)\n",
    "for pol in epols:\n",
    "    print(pol)"
   ]
  },
  {
   "cell_type": "markdown",
   "id": "f27128f5-f685-4ce2-b919-80f06baba97c",
   "metadata": {},
   "source": [
    "Now we compute the second part of the witness set, using the blackbox solver."
   ]
  },
  {
   "cell_type": "code",
   "execution_count": 7,
   "id": "ad5b75a2-09ca-4437-97fe-b97d318a45c0",
   "metadata": {},
   "outputs": [],
   "source": [
    "from phcpy.solver import solve"
   ]
  },
  {
   "cell_type": "code",
   "execution_count": 8,
   "id": "3adc893e-6dc2-4f62-8c70-d7ae2d97c8f4",
   "metadata": {},
   "outputs": [
    {
     "name": "stdout",
     "output_type": "stream",
     "text": [
      "Solution 1 :\n",
      "t :  1.00000000000000E+00   0.00000000000000E+00\n",
      "m : 1\n",
      "the solution for t :\n",
      " x_1_1 :  1.26098995657825E+00   1.23960253907080E-01\n",
      " x_2_2 :  6.08716792661783E-02  -3.72692628829057E-01\n",
      " x_2_1 : -1.49366498111755E+00  -1.72487935488432E+00\n",
      " x_1_2 :  1.17926528430272E-01   1.73403649424959E-01\n",
      " zz1 :  2.01661798954576E-33  -1.36621089687380E-31\n",
      " zz2 :  4.18934314423693E-32   1.19013821639201E-31\n",
      " zz3 :  9.09330358138888E-33  -3.97471598577921E-32\n",
      " zz4 :  9.41147475091108E-32  -5.25062461176711E-32\n",
      " x_1_3 : -5.43007038294243E-01   4.77552159454532E-01\n",
      " x_2_3 :  1.30126856409899E+00   4.91781165629461E-02\n",
      "== err :  4.606E-15 = rco :  1.659E-02 = res :  1.221E-15 =\n",
      "Solution 2 :\n",
      "t :  1.00000000000000E+00   0.00000000000000E+00\n",
      "m : 1\n",
      "the solution for t :\n",
      " x_1_1 :  7.84232277025150E-01   2.84185732210647E-02\n",
      " x_2_2 :  1.09164662176987E-01  -6.94770373095709E-01\n",
      " x_2_1 :  3.30315020994409E-02  -9.45083305517748E-01\n",
      " x_1_2 :  5.76431528154133E-01   9.13299754350158E-02\n",
      " zz1 : -1.29868775020467E-32  -1.23245957744023E-32\n",
      " zz2 : -1.02927640426824E-32  -1.56443669914841E-32\n",
      " zz3 : -1.96403692130211E-32  -7.02597925370710E-33\n",
      " zz4 :  0.00000000000000E+00   0.00000000000000E+00\n",
      " x_1_3 : -6.32506552290242E-01   1.49836349424459E-01\n",
      " x_2_3 :  1.81539704759152E-01   7.61970172619267E-01\n",
      "== err :  1.716E-15 = rco :  2.536E-02 = res :  1.499E-15 =\n",
      "Solution 3 :\n",
      "t :  1.00000000000000E+00   0.00000000000000E+00\n",
      "m : 1\n",
      "the solution for t :\n",
      " x_1_1 : -1.07029652224429E+00  -2.84414365427269E-02\n",
      " x_2_2 :  4.26584686826893E-01   4.61346027545957E-01\n",
      " x_2_1 : -8.74524024788936E-02  -7.16513058512809E-01\n",
      " x_1_2 :  7.70137841287209E-01  -5.24903704207380E-01\n",
      " zz1 : -2.60172998762874E-31  -7.95558581219627E-32\n",
      " zz2 :  1.94241870643223E-31  -7.60476764044638E-32\n",
      " zz3 : -1.18161218057147E-31   6.47719980338975E-32\n",
      " zz4 :  3.21269292411328E-31   9.43964867510126E-32\n",
      " x_1_3 :  1.88771487997930E+00   2.52881775952061E+00\n",
      " x_2_3 : -1.49855102312210E+00   1.51018382382141E+00\n",
      "== err :  5.217E-15 = rco :  1.384E-02 = res :  1.749E-15 =\n",
      "Solution 4 :\n",
      "t :  1.00000000000000E+00   0.00000000000000E+00\n",
      "m : 1\n",
      "the solution for t :\n",
      " x_1_1 :  1.03149817185821E+00   1.48840565152077E-01\n",
      " x_2_2 : -1.97069785649029E-31  -4.19546322472859E-32\n",
      " x_2_1 : -1.96423581053286E+00  -2.24826401526688E+00\n",
      " x_1_2 : -6.05197132478501E-32   6.74819240986552E-32\n",
      " zz1 : -4.35083051092473E-32   8.73329103580651E-32\n",
      " zz2 :  6.61155389590362E-32   7.61859548953403E-32\n",
      " zz3 :  2.10093447239302E-32  -1.28492740537369E-32\n",
      " zz4 :  0.00000000000000E+00   0.00000000000000E+00\n",
      " x_1_3 : -1.40341064895811E-01   1.23712580175709E+00\n",
      " x_2_3 :  1.45874399778069E+00   6.42372628489355E-02\n",
      "== err :  4.557E-15 = rco :  1.108E-02 = res :  1.332E-15 =\n"
     ]
    }
   ],
   "source": [
    "esols = solve(epols)\n",
    "for (idx, sol) in enumerate(esols):\n",
    "    print('Solution', idx+1, ':')\n",
    "    print(sol)"
   ]
  },
  {
   "cell_type": "markdown",
   "id": "da95a2d6-e78c-445a-982d-7fb7fce21d78",
   "metadata": {},
   "source": [
    "As expected, we find four solutions, equal to the degree of the solution set."
   ]
  },
  {
   "cell_type": "markdown",
   "id": "53ffa95a-21b0-445c-b0ec-b0d0471d886a",
   "metadata": {},
   "source": [
    "# 3. Monodromy Breakup"
   ]
  },
  {
   "cell_type": "markdown",
   "id": "20506b88-3ecc-407b-9f90-71a72ff8441c",
   "metadata": {},
   "source": [
    "The *numerical irreducible decomposition* of a pure dimensional solution set is a list of tuples, each tuple represents an irreducible component, with two elements\n",
    "\n",
    "1. the list of labels to the generic points in the witness set; and\n",
    "\n",
    "2. the certificate of the linear trace.\n",
    "\n",
    "The *monodromy breakup* algorithm refines the witness set, partitioning the generic points in the witness set corresponding to the irreducible components.  The stop test in the monodromy looping algorithm is provided by the linear trace, which serves as a certificate for the numerical computations."
   ]
  },
  {
   "cell_type": "code",
   "execution_count": 9,
   "id": "fea57ac6-fa1e-4488-96a0-24ae175fbb5e",
   "metadata": {},
   "outputs": [],
   "source": [
    "from phcpy.factor import double_monodromy_breakup"
   ]
  },
  {
   "cell_type": "code",
   "execution_count": 10,
   "id": "fa677883-21fb-46ef-af32-09bc4c4bf67c",
   "metadata": {},
   "outputs": [
    {
     "name": "stdout",
     "output_type": "stream",
     "text": [
      "... running monodromy loops in double precision ...\n",
      "... initializing the grid for the linear trace ...\n",
      "The diagnostics of the trace grid :\n",
      "  largest error on the samples : 1.056863766729658e-14\n",
      "  smallest distance between the samples : 1.1622396157009902\n",
      "... starting loop 1 ...\n",
      "new permutation : [2, 1, 3, 4]\n",
      "number of factors : 4 -> 3\n",
      "the decomposition :\n",
      "  factor 1 : ([1, 2], 0.2775442892800747)\n",
      "  factor 2 : ([3], 0.2775442892800704)\n",
      "  factor 3 : ([4], 9.992007221626409e-16)\n",
      "the permutation :  2 1 3 4 : 4 -> 3\n",
      "calculated sum at samples : -6.39839733359069E-02   1.09505498482705E-01\n",
      "value at the linear trace :  1.07936961323818E-02  -9.32611213290812E-02\n",
      "calculated sum at samples : -1.22710696579410E-01   2.89111792077992E-02\n",
      "value at the linear trace : -1.97488366047695E-01   2.31677799019584E-01\n",
      "calculated sum at samples :  2.68414486121697E-01  -5.27451814780890E-01\n",
      "value at the linear trace :  2.68414486121697E-01  -5.27451814780890E-01\n",
      "Certifying with linear trace test...\n",
      "calculated sum at samples : -6.39839733359069E-02   1.09505498482705E-01\n",
      "value at the linear trace :  1.07936961323818E-02  -9.32611213290812E-02\n",
      "The witness points 1 2 do not define a factor.\n",
      "The factorization cannot be certified.\n",
      "... starting loop 2 ...\n",
      "new permutation : [1, 2, 3, 4]\n",
      "number of factors : 3 -> 3\n",
      "the decomposition :\n",
      "  factor 1 : ([1, 2], 0.2775442892800747)\n",
      "  factor 2 : ([3], 0.2775442892800704)\n",
      "  factor 3 : ([4], 9.992007221626409e-16)\n",
      "... starting loop 3 ...\n",
      "the permutation :  1 2 3 4 : 3 -> 3\n",
      "calculated sum at samples : -6.39839733359069E-02   1.09505498482705E-01\n",
      "value at the linear trace :  1.07936961323818E-02  -9.32611213290812E-02\n",
      "calculated sum at samples : -1.22710696579410E-01   2.89111792077992E-02\n",
      "value at the linear trace : -1.97488366047695E-01   2.31677799019584E-01\n",
      "calculated sum at samples :  2.68414486121697E-01  -5.27451814780890E-01\n",
      "value at the linear trace :  2.68414486121697E-01  -5.27451814780890E-01\n",
      "Certifying with linear trace test...\n",
      "calculated sum at samples : -6.39839733359069E-02   1.09505498482705E-01\n",
      "value at the linear trace :  1.07936961323818E-02  -9.32611213290812E-02\n",
      "The witness points 1 2 do not define a factor.\n",
      "The factorization cannot be certified.\n",
      "new permutation : [2, 3, 1, 4]\n",
      "number of factors : 3 -> 2\n",
      "the decomposition :\n",
      "  factor 1 : ([1, 2, 3], 4.163336342344337e-15)\n",
      "  factor 2 : ([4], 9.992007221626409e-16)\n",
      "the permutation :  2 3 1 4 : 3 -> 2\n",
      "calculated sum at samples : -1.86694669915317E-01   1.38416677690504E-01\n",
      "value at the linear trace : -1.86694669915313E-01   1.38416677690503E-01\n",
      "calculated sum at samples :  2.68414486121697E-01  -5.27451814780890E-01\n",
      "value at the linear trace :  2.68414486121697E-01  -5.27451814780890E-01\n",
      "Certifying with linear trace test...\n",
      "calculated sum at samples : -1.86694669915317E-01   1.38416677690504E-01\n",
      "value at the linear trace : -1.86694669915313E-01   1.38416677690503E-01\n",
      "The witness points 1 2 3 define a factor.\n",
      "calculated sum at samples :  2.68414486121697E-01  -5.27451814780890E-01\n",
      "value at the linear trace :  2.68414486121697E-01  -5.27451814780890E-01\n",
      "The witness points 4 define a factor.\n",
      "The factorization is certified.\n",
      "calculated sum at samples : -1.86694669915317E-01   1.38416677690504E-01\n",
      "value at the linear trace : -1.86694669915313E-01   1.38416677690503E-01\n",
      "calculated sum at samples :  2.68414486121697E-01  -5.27451814780890E-01\n",
      "value at the linear trace :  2.68414486121697E-01  -5.27451814780890E-01\n"
     ]
    }
   ],
   "source": [
    "deco = double_monodromy_breakup(epols, esols, 4, verbose=True)"
   ]
  },
  {
   "cell_type": "code",
   "execution_count": 11,
   "id": "8f740686-8e87-42a2-9a1d-8a50f8f61149",
   "metadata": {},
   "outputs": [
    {
     "name": "stdout",
     "output_type": "stream",
     "text": [
      "  factor 1 : ([1, 2, 3], 4.163336342344337e-15)\n",
      "  factor 2 : ([4], 9.992007221626409e-16)\n"
     ]
    }
   ],
   "source": [
    "from phcpy.factor import write_decomposition\n",
    "write_decomposition(deco)"
   ]
  },
  {
   "cell_type": "markdown",
   "id": "6f2033fd-6de9-4f17-9d56-113c7700d456",
   "metadata": {},
   "source": [
    "There are two irreducible factors, one of degree three, and another of degree one.  The floating-point certificates are close to machine precision."
   ]
  }
 ],
 "metadata": {
  "kernelspec": {
   "display_name": "Python 3 (ipykernel)",
   "language": "python",
   "name": "python3"
  },
  "language_info": {
   "codemirror_mode": {
    "name": "ipython",
    "version": 3
   },
   "file_extension": ".py",
   "mimetype": "text/x-python",
   "name": "python",
   "nbconvert_exporter": "python",
   "pygments_lexer": "ipython3",
   "version": "3.10.10"
  }
 },
 "nbformat": 4,
 "nbformat_minor": 5
}
