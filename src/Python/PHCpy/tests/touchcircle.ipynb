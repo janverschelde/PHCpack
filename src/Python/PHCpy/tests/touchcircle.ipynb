{
 "cells": [
  {
   "cell_type": "markdown",
   "id": "b355e496-4839-48b4-b88c-323c229bccf9",
   "metadata": {},
   "source": [
    "Let us compute the tangents lines to a circle\n",
    "via a witness set intersection.\n",
    "With matplotlib a plot is made of the tangent lines."
   ]
  },
  {
   "cell_type": "markdown",
   "id": "f3532ee2-ea70-44aa-a4f4-bbb8da070d6e",
   "metadata": {},
   "source": [
    "# Tangent Lines via Witness Set Intersection"
   ]
  },
  {
   "cell_type": "code",
   "execution_count": 1,
   "id": "d3f9c5d3-0383-4cff-8675-dccdfa909da6",
   "metadata": {},
   "outputs": [
    {
     "name": "stdout",
     "output_type": "stream",
     "text": [
      "PHCv2.4.88 released 2023-12-26 works!\n"
     ]
    }
   ],
   "source": [
    "from math import cos, sin, pi\n",
    "from random import uniform\n",
    "import matplotlib.pyplot as plt\n",
    "from phcpy.solver import solve\n",
    "from phcpy.solutions import make_solution, coordinates, strsol2dict\n",
    "from phcpy.sets import double_embed\n",
    "from phcpy.diagonal import double_diagonal_solve"
   ]
  },
  {
   "cell_type": "markdown",
   "id": "9622c3f1-544f-48d1-86b0-02c5ebe20020",
   "metadata": {},
   "source": [
    "## 1. A Witness Set of the Circle"
   ]
  },
  {
   "cell_type": "markdown",
   "id": "9c24079e-edbf-40a8-9510-db6d9909967b",
   "metadata": {},
   "source": [
    "Consider the following system of polynomial equations:\n",
    "\n",
    "$$\n",
    "   \\left\\{\n",
    "      \\begin{array}{rcl}\n",
    "         (x-a)^2 + (y-b)^2 & = & r^2 \\\\\n",
    "                         y & = & s x\n",
    "      \\end{array}\n",
    "   \\right.\n",
    "$$\n",
    "\n",
    "which represents a circle centered at $(a, b)$ with radius $r$, intersected by a line with slope $s$."
   ]
  },
  {
   "cell_type": "markdown",
   "id": "21bebc66-04fc-446e-952d-44047290f20b",
   "metadata": {},
   "source": [
    "The code below plots an example, a circle centered at $(3, 2)$, with radius $1$, intersected with the line $y= x$."
   ]
  },
  {
   "cell_type": "code",
   "execution_count": 2,
   "id": "5afea762-b1b4-401e-8412-8810673ccfd1",
   "metadata": {},
   "outputs": [
    {
     "data": {
      "image/png": "[encoded data removed]",
      "text/plain": [
       "<Figure size 640x480 with 1 Axes>"
      ]
     },
     "metadata": {},
     "output_type": "display_data"
    }
   ],
   "source": [
    "fig1 = plt.figure()\n",
    "axs = fig1.gca()\n",
    "center = (3, 2)\n",
    "radius = 1\n",
    "circle = plt.Circle(center, radius, edgecolor='blue', facecolor='none')\n",
    "axs.add_artist(circle)\n",
    "plt.plot([0, 4], [0, 4], 'r') \n",
    "plt.plot([2, 3], [2, 3], 'go')\n",
    "plt.axis([0, 5, 0, 4])\n",
    "fig1.canvas.draw()\n",
    "plt.savefig('touchcirclefig1')"
   ]
  },
  {
   "cell_type": "markdown",
   "id": "d5c13afd-7fe4-47fd-b052-791d8e566fd1",
   "metadata": {},
   "source": [
    "The system above has two equations in three variables $(x, y, s)$ and thus defines a curve.  What is the degree of this curve?"
   ]
  },
  {
   "cell_type": "code",
   "execution_count": 3,
   "id": "5a3698b5-55cc-4952-98bb-3590ccd7a7a6",
   "metadata": {},
   "outputs": [],
   "source": [
    "def polynomials(a, b, r):\n",
    "    \"\"\"\n",
    "    Returns string representations of two polynomials:\n",
    "    1) a circle with radius r centered at (a, b);\n",
    "    2) a line through the origin with slope s.\n",
    "    \"\"\"\n",
    "    crc = '(x - %.15e)^2 + (y - %.15e)^2 - %.15e;' % (a, b, r**2)\n",
    "    lin = 'y - s*x;'\n",
    "    return [crc, lin]"
   ]
  },
  {
   "cell_type": "code",
   "execution_count": 4,
   "id": "8223b62d-88aa-4eca-a0ce-45ecc5792866",
   "metadata": {},
   "outputs": [],
   "source": [
    "def make_witness_set(pols, verbose=True):\n",
    "    \"\"\"\n",
    "    We have two equations in three variables in pols\n",
    "    and therefore we expect a one dimensional set.\n",
    "    \"\"\"\n",
    "    embpols = double_embed(3, 1, pols)\n",
    "    if verbose:\n",
    "        print('the embedded system :')\n",
    "        for pol in embpols:\n",
    "            print(pol)\n",
    "    embsols = solve(embpols)\n",
    "    if verbose:\n",
    "        print('the witness points :')\n",
    "        for sol in embsols:\n",
    "            print(sol)\n",
    "    return (embpols, embsols)"
   ]
  },
  {
   "cell_type": "code",
   "execution_count": 5,
   "id": "34b36ed2-9f87-41d6-9560-d41c82964ccb",
   "metadata": {},
   "outputs": [],
   "source": [
    "def special_solutions(pols, slope):\n",
    "    \"\"\"\n",
    "    Given in pols the polynomials for the line intersecting a circle\n",
    "    for a general slope s, solves the problem for a special numerical\n",
    "    value for s, given in the slope.\n",
    "    The value of the slope is added as last coordinate to each solution.\n",
    "    \"\"\"\n",
    "    special = []\n",
    "    for pol in pols:\n",
    "        rpl = pol.replace('s', '(' + str(slope) + ')')\n",
    "        special.append(rpl)\n",
    "    sols = solve(special)\n",
    "    result = []\n",
    "    for sol in sols:\n",
    "        (vars, vals) = coordinates(sol)\n",
    "        vars.append('s')\n",
    "        vals.append(slope)\n",
    "        extsol = make_solution(vars, vals)\n",
    "        result.append(extsol)\n",
    "    return result"
   ]
  },
  {
   "cell_type": "markdown",
   "id": "036b7dc4-3dfc-4db3-bb42-c8877b43eafd",
   "metadata": {},
   "source": [
    "Consider a circle with radius $1$, centered at $(3, 2)$, intersected with the line $y = x$."
   ]
  },
  {
   "cell_type": "code",
   "execution_count": 6,
   "id": "d97ac094-877d-4a93-8c56-c7d18bafc58a",
   "metadata": {},
   "outputs": [],
   "source": [
    "def circle_line_set():\n",
    "    \"\"\"\n",
    "    Generates the system and its witness set.\n",
    "    Returns the witness set for a fixed circle \n",
    "    intersect with a one parameter family of lines \n",
    "    as a tuple of polynomials and solutions\n",
    "    \"\"\"\n",
    "    syst = polynomials(3, 2, 1)\n",
    "    for pol in syst:\n",
    "        print(pol)\n",
    "    spsols = special_solutions(syst, 1)\n",
    "    for (idx, sol) in enumerate(spsols):\n",
    "        print('Solution', idx+1, ':')\n",
    "        print(sol)\n",
    "    (embsyst, embsols) = make_witness_set(syst, False)\n",
    "    print('the polynomials in the witness set:')\n",
    "    for pol in embsyst:\n",
    "        print(pol)\n",
    "    print('the solutions :')\n",
    "    for (idx, sol) in enumerate(embsols):\n",
    "        print('Solution', idx+1, ':')\n",
    "        print(sol)\n",
    "    print('degree of the set :', len(embsols))\n",
    "    return (embsyst, embsols)"
   ]
  },
  {
   "cell_type": "code",
   "execution_count": 7,
   "id": "69161ccf-d65e-4a22-825e-953b1c0786c0",
   "metadata": {},
   "outputs": [
    {
     "name": "stdout",
     "output_type": "stream",
     "text": [
      "(x - 3.000000000000000e+00)^2 + (y - 2.000000000000000e+00)^2 - 1.000000000000000e+00;\n",
      "y - s*x;\n",
      "Solution 1 :\n",
      "t : 0.000000000000000E+00 0.000000000000000E+00\n",
      "m : 1\n",
      "the solution for t :\n",
      " x : 3.000000000000000E+00  0.000000000000000E+00\n",
      " y : 3.000000000000000E+00  0.000000000000000E+00\n",
      " s : 1.000000000000000E+00  0.0\n",
      "== err : 0.000E+00 = rco : 1.000E+00 = res : 0.000E+00 =\n",
      "Solution 2 :\n",
      "t : 0.000000000000000E+00 0.000000000000000E+00\n",
      "m : 1\n",
      "the solution for t :\n",
      " x : 2.000000000000000E+00  0.000000000000000E+00\n",
      " y : 2.000000000000000E+00  0.000000000000000E+00\n",
      " s : 1.000000000000000E+00  0.0\n",
      "== err : 0.000E+00 = rco : 1.000E+00 = res : 0.000E+00 =\n",
      "the polynomials in the witness set:\n",
      " + x^2 + y^2 - 6*x - 4*y + (-6.05036692680377E-01 + 7.96197588862458E-01*i)*zz1 + 12;\n",
      " - x*s + y + (9.36812659577866E-01-3.49831446349018E-01*i)*zz1;\n",
      "zz1;\n",
      " + (-9.78259528135350E-01 + 2.07384415066325E-01*i)*x + (-2.57730439432429E-01-9.66216860021583E-01*i)*y + (9.85142412110320E-01-1.71739418484693E-01*i)*s + (-4.40186917636668E-01 + 8.97906162993400E-01*i)*zz1+(1.76012073314581E-01 + 9.84388007874691E-01*i);\n",
      "the solutions :\n",
      "Solution 1 :\n",
      "t :  1.00000000000000E+00   0.00000000000000E+00\n",
      "m : 1\n",
      "the solution for t :\n",
      " x :  9.09287401657272E-01   6.21240738438774E+01\n",
      " y : -6.01321126306952E+01  -2.09044209743484E+00\n",
      " zz1 :  5.15164700427386E-31   7.46806813778820E-32\n",
      " s : -4.78065499071076E-02   9.67236032977414E-01\n",
      "== err :  3.783E-13 = rco :  5.192E-04 = res :  1.155E-13 =\n",
      "Solution 2 :\n",
      "t :  1.00000000000000E+00   0.00000000000000E+00\n",
      "m : 1\n",
      "the solution for t :\n",
      " x :  1.69349021392115E+00  -1.61265324218168E-01\n",
      " y :  1.75521780168197E+00   8.60743655764029E-01\n",
      " zz1 :  8.66839514337372E-33  -8.66906607996510E-32\n",
      " s :  9.79170248257371E-01   6.01509152483044E-01\n",
      "== err :  1.018E-15 = rco :  1.256E-01 = res :  4.441E-16 =\n",
      "Solution 3 :\n",
      "t :  1.00000000000000E+00   0.00000000000000E+00\n",
      "m : 1\n",
      "the solution for t :\n",
      " x : -4.12972041697955E-01  -8.55202043297574E-01\n",
      " y :  1.10821466540028E+00   3.27296329120244E+00\n",
      " zz1 :  0.00000000000000E+00   0.00000000000000E+00\n",
      " s : -3.61087392947100E+00  -4.47818520276877E-01\n",
      "== err :  6.734E-16 = rco :  8.177E-02 = res :  1.055E-15 =\n",
      "Solution 4 :\n",
      "t :  1.00000000000000E+00   0.00000000000000E+00\n",
      "m : 1\n",
      "the solution for t :\n",
      " x :  7.29748122359532E-01  -8.95382301072020E-01\n",
      " y :  2.97904089250514E+00  -2.07625990474562E+00\n",
      " zz1 :  0.00000000000000E+00   0.00000000000000E+00\n",
      " s :  3.02268742268683E+00   8.63586895110471E-01\n",
      "== err :  6.758E-16 = rco :  9.397E-02 = res :  4.996E-16 =\n",
      "degree of the set : 4\n"
     ]
    }
   ],
   "source": [
    "(witpols, witsols) = circle_line_set()"
   ]
  },
  {
   "cell_type": "markdown",
   "id": "fd68bb87-e860-4173-a51b-57824b97cf2b",
   "metadata": {},
   "source": [
    "Thus, the degree of the algebraic curve defined by the system equals four."
   ]
  },
  {
   "cell_type": "markdown",
   "id": "2867d89d-d04b-4222-975c-04fd7e30eca3",
   "metadata": {},
   "source": [
    "## 2. Intersecting with the Jacobian"
   ]
  },
  {
   "cell_type": "markdown",
   "id": "150c3efe-11fb-406f-af34-97a042f66aa7",
   "metadata": {},
   "source": [
    "For any random slope $s$, the line $y = s x$ will intersect the circle in exactly two (complex) points, as solutions of the polynomial system.  A tangent line to the circle intersects the circle in one double solution, that is: a solution that has to be counted twice.  We look for values of the slope for which the intersection points are singular. Singular points satisfy the original equations and the equations defined by all partial derivatives of the system, called the Jacobian."
   ]
  },
  {
   "cell_type": "markdown",
   "id": "4312b9e7-1229-46ae-a115-e72a1f2ce911",
   "metadata": {},
   "source": [
    "### 2.1 A Witness Set for the Jacobian"
   ]
  },
  {
   "cell_type": "markdown",
   "id": "b7c5bf0e-1b70-4218-9aa3-c4a3bdaf2465",
   "metadata": {},
   "source": [
    "Let $f_1$ and $f_2$ denote the two polynomials in $(x, y, s)$, then the Jacobian is\n",
    "\n",
    "$$\n",
    "   J =\n",
    "   \\left[\n",
    "      \\begin{array}{ccc}\n",
    "         \\frac{\\partial f_1}{\\partial x}\n",
    "         & \\frac{\\partial f_1}{\\partial y}\n",
    "         & \\frac{\\partial f_1}{\\partial s} \\\\\n",
    "         \\frac{\\partial f_2}{\\partial x}\n",
    "         & \\frac{\\partial f_2}{\\partial y}\n",
    "         & \\frac{\\partial f_2}{\\partial s}\n",
    "      \\end{array}\n",
    "   \\right]\n",
    "$$\n",
    "\n",
    "which for the polynomials in our problem becomes\n",
    "\n",
    "$$\n",
    "    J =\n",
    "    \\left[\n",
    "       \\begin{array}{ccc}\n",
    "          2 (x - a) & 2(y-b) & 0 \\\\\n",
    "          -s & 1 & -x\n",
    "       \\end{array}\n",
    "    \\right]\n",
    "$$\n",
    "\n",
    "where the $-$ on the second row appears from the equation $-sx + y = 0$."
   ]
  },
  {
   "cell_type": "markdown",
   "id": "f8d0f9f2-a5aa-4516-8d48-3cad5a418fa2",
   "metadata": {},
   "source": [
    "As we look for a singular solution, the rank of the Jacobian $J$ must be one, not two.  It suffices here to consider the first 2-by-2 minor and requiring that the first two columns are linearly dependent can be expressed by\n",
    "\n",
    "$$\n",
    "   \\left\\{\n",
    "      \\begin{array}{rlcrlcl}\n",
    "         2(x-a) & L_1 & + & 2(y-b) & L_2 & = & 0 \\\\\n",
    "             -s & L_1 & + &        & L_2 & = & 0 \\\\\n",
    "         c_0 + c_1 & L_1 & + & c_2 & L_2 & = & 0\n",
    "      \\end{array}\n",
    "   \\right.\n",
    "$$\n",
    "\n",
    "where $L_1$ and $L_2$ are two new variables and $c_0$, $c_1$, and $c_2$ are random constants."
   ]
  },
  {
   "cell_type": "code",
   "execution_count": 8,
   "id": "841972d2-f642-4136-ae1e-fed299f38df6",
   "metadata": {},
   "outputs": [],
   "source": [
    "def random_complex():\n",
    "    \"\"\"\n",
    "    Returns a random complex number on the unit circle.\n",
    "    \"\"\"\n",
    "    theta = uniform(0, 2*pi)\n",
    "    return complex(cos(theta), sin(theta))"
   ]
  },
  {
   "cell_type": "code",
   "execution_count": 9,
   "id": "35928fa4-ad1c-4281-a285-d51132d2d4ee",
   "metadata": {},
   "outputs": [],
   "source": [
    "def random_hyperplane(vars):\n",
    "    \"\"\"\n",
    "    Returns a linear equation in the variables\n",
    "    in the list vars, with random complex coefficients.\n",
    "    \"\"\"\n",
    "    cf0 = str(random_complex())\n",
    "    tf0 = cf0.replace('j', '*i')\n",
    "    result = tf0\n",
    "    for var in vars:\n",
    "        cff = str(random_complex())\n",
    "        tcf = cff.replace('j', '*i')\n",
    "        result = result + '+' + tcf + '*' + var\n",
    "    return result + ';'"
   ]
  },
  {
   "cell_type": "code",
   "execution_count": 10,
   "id": "280b9946-5d18-42a9-9ab7-ea544689a3bd",
   "metadata": {},
   "outputs": [],
   "source": [
    "def jacobian(a, b):\n",
    "    \"\"\"\n",
    "    Returns the equations which define the points\n",
    "    where the Jacobian matrix is singular,\n",
    "    as a random linear combination of the columns.\n",
    "    Random complex coefficients are generated to\n",
    "    scale the multiplier variables.\n",
    "    \"\"\"\n",
    "    eq1 = '2*(x-%.15e)*L1 + 2*(y-%.15e)*L2;' % (a, b)\n",
    "    eq2 = '-s*L1 + L2;'\n",
    "    eq3 = random_hyperplane(['L1', 'L2'])\n",
    "    return [eq1, eq2, eq3]"
   ]
  },
  {
   "cell_type": "markdown",
   "id": "da5b9bcd-5b76-433d-a7ab-54483eb9ae1a",
   "metadata": {},
   "source": [
    "Then here is an example for center $(3, 2)$."
   ]
  },
  {
   "cell_type": "code",
   "execution_count": 11,
   "id": "72fb7367-0662-414d-a33f-91f9e17d2dd0",
   "metadata": {},
   "outputs": [
    {
     "name": "stdout",
     "output_type": "stream",
     "text": [
      "2*(x-3.000000000000000e+00)*L1 + 2*(y-2.000000000000000e+00)*L2;\n",
      "-s*L1 + L2;\n",
      "(-0.8664696134203578+0.49922981583552856*i)+(-0.9348124909840702+0.3551416713090113*i)*L1+(-0.1559269198116066+0.9877685941950497*i)*L2;\n"
     ]
    }
   ],
   "source": [
    "jacpols = jacobian(3, 2)\n",
    "for pol in jacpols:\n",
    "    print(pol)"
   ]
  },
  {
   "cell_type": "markdown",
   "id": "0d22322a-2c12-4448-8d5a-8e6b627b18f2",
   "metadata": {},
   "source": [
    "Let us now make a witness set, using the auxiliary function below."
   ]
  },
  {
   "cell_type": "code",
   "execution_count": 12,
   "id": "a4ba7d72-54e7-4ed3-9e63-14518c17c809",
   "metadata": {},
   "outputs": [],
   "source": [
    "def witset(pols, verbose=True):\n",
    "    \"\"\"\n",
    "    We have three equations in pols in five variables:\n",
    "    x, y, s, L1, and L2.\n",
    "    Therefore we expect a two dimensional set.\n",
    "    \"\"\"\n",
    "    embpols = double_embed(5, 2, pols)\n",
    "    if verbose:\n",
    "        print('the embedded system :')\n",
    "        for pol in embpols:\n",
    "            print(pol)\n",
    "    embsols = solve(embpols)\n",
    "    if verbose:\n",
    "        print('the witness points :')\n",
    "        for sol in embsols:\n",
    "            print(sol)\n",
    "    return (embpols, embsols)"
   ]
  },
  {
   "cell_type": "markdown",
   "id": "42410b62-3100-4a43-bf25-9defa33ce6c9",
   "metadata": {},
   "source": [
    "As we have three equations in five variables $(x, y, s, L_1, L_3)$, the solution set is two dimensional.  The construction of this witness set will compute the degree of this two dimensional solution set"
   ]
  },
  {
   "cell_type": "code",
   "execution_count": 13,
   "id": "668d0340-e049-42b3-883a-49be165622cd",
   "metadata": {},
   "outputs": [],
   "source": [
    "def singular_locus_set():\n",
    "    \"\"\"\n",
    "    Generates a witness set for the singular locus\n",
    "    of the algebraic set of a fixed circle intersected\n",
    "    with a one parameter family of lines.\n",
    "    \"\"\"\n",
    "    syst = jacobian(3, 2)\n",
    "    for pol in syst:\n",
    "        print(pol)\n",
    "    (embsyst, embsols) = witset(syst, False)\n",
    "    print('the polynomials in the witness set :')\n",
    "    for pol in embsyst:\n",
    "        print(pol)\n",
    "    print('the solutions :')\n",
    "    for sol in embsols:\n",
    "        print(sol)\n",
    "    print('degree of the singular locus set :', len(embsols))\n",
    "    return (embsyst, embsols)"
   ]
  },
  {
   "cell_type": "code",
   "execution_count": 14,
   "id": "2268daad-8cab-4da2-a9e4-f5d7ba1baf33",
   "metadata": {},
   "outputs": [
    {
     "name": "stdout",
     "output_type": "stream",
     "text": [
      "2*(x-3.000000000000000e+00)*L1 + 2*(y-2.000000000000000e+00)*L2;\n",
      "-s*L1 + L2;\n",
      "(0.008780891137859756+0.9999614472322546*i)+(0.05948312760527637-0.998229311095549*i)*L1+(0.5424828774363553-0.8400668590584753*i)*L2;\n",
      "the polynomials in the witness set :\n",
      " + 2*x*L1 + 2*y*L2 - 6*L1 - 4*L2 + (2.39511895530127E-01 + 9.70893429733442E-01*i)*zz1 + (2.26095721102785E-01-9.74105089248081E-01*i)*zz2;\n",
      " - L1*s + L2 + (-3.81524452270300E-01 + 9.24358746548031E-01*i)*zz1 + (4.96901462762026E-01-8.67806969495497E-01*i)*zz2;\n",
      " + (5.94831276052764E-02-9.98229311095549E-01*i)*L1 + (5.42482877436355E-01-8.40066859058475E-01*i)*L2 + (-1.41759839709119E-01 + 9.89901079828507E-01*i)*zz1 + (1.40952786827726E-01 + 9.90016318999590E-01*i)*zz2+(8.78089113785976E-03 + 9.99961447232255E-01*i);\n",
      "zz1;\n",
      "zz2;\n",
      " + (1.70882735987061E-01 + 3.09514281643960E-01*i)*x + (3.38347883960499E-01-1.02570509501770E-01*i)*L1 + (-1.60411222263324E-01-3.15068627083032E-01*i)*y + (-3.46278647811457E-01 + 7.13519310871769E-02*i)*L2 + (2.02545201581802E-02 + 3.52972738909341E-01*i)*s + (2.34499935250775E-01-2.64593613617907E-01*i)*zz1 + (8.08290075144243E-02 + 3.44189877166998E-01*i)*zz2+(-3.53553390593274E-01 + 1.38777878078145E-17*i);\n",
      " + (-2.91182789419597E-01 + 8.45393933150638E-02*i)*x + (-9.06271010989594E-02-4.04819219424581E-01*i)*L1 + (-2.91159145468782E-01-2.31147320715794E-01*i)*y + (3.76423544595163E-01 + 5.56178648098949E-02*i)*L2 + (-3.00956575602812E-01 + 5.97130096445854E-03*i)*s + (2.42255538482611E-01 + 1.77722902113573E-01*i)*zz1 + (2.17794185634241E-01-3.38469660925793E-01*i)*zz2+(-3.18697754100958E-01-9.23854358195492E-02*i);\n",
      "the solutions :\n",
      "t :  1.00000000000000E+00   0.00000000000000E+00\n",
      "m : 1\n",
      "the solution for t :\n",
      " x :  1.75362068637529E+00  -1.26556593549877E+00\n",
      " L1 : -1.68322124768994E-01   6.52774005752408E-01\n",
      " y :  1.25186413199967E+00  -4.50789241287903E-01\n",
      " L2 :  6.60981267084011E-01  -1.20104455924475E+00\n",
      " zz1 :  0.00000000000000E+00   0.00000000000000E+00\n",
      " zz2 : -2.50851138600403E-32   1.72978877236667E-33\n",
      " s : -1.97002056568012E+00  -5.04589975592641E-01\n",
      "== err :  1.330E-15 = rco :  2.071E-02 = res :  1.110E-15 =\n",
      "t :  1.00000000000000E+00   0.00000000000000E+00\n",
      "m : 1\n",
      "the solution for t :\n",
      " x : -1.50158477374449E+00   2.67453111844215E+00\n",
      " L1 :  2.96213476940437E+00  -1.38995511057683E+00\n",
      " y : -5.17380418739516E+00  -9.47239797290925E-01\n",
      " L2 : -1.06106205727490E+00   2.11664581178263E+00\n",
      " zz1 : -6.33318516993363E-32  -1.18283550910214E-31\n",
      " zz2 : -2.56967928511149E-32   4.62063923173035E-32\n",
      " s : -5.68366130989784E-01   4.47866996815056E-01\n",
      "== err :  8.547E-15 = rco :  1.741E-02 = res :  4.885E-15 =\n",
      "t :  1.00000000000000E+00   0.00000000000000E+00\n",
      "m : 1\n",
      "the solution for t :\n",
      " x : -1.49767623606140E+01   1.98610645326934E+01\n",
      " L1 :  2.67872599186128E-02   2.27907006383083E-02\n",
      " y :  2.85826442797207E+00   4.43738556437824E-01\n",
      " L2 :  8.00740532954887E-01  -5.56518388853741E-01\n",
      " zz1 : -2.30385388324688E-31  -4.62240510714069E-31\n",
      " zz2 :  1.67376658812014E-31   2.85565817571620E-31\n",
      " s :  7.08681470672157E+00  -2.68049760780077E+01\n",
      "== err :  1.227E-13 = rco :  5.798E-04 = res :  6.651E-15 =\n",
      "degree of the singular locus set : 3\n"
     ]
    }
   ],
   "source": [
    "witset2 = singular_locus_set()"
   ]
  },
  {
   "cell_type": "markdown",
   "id": "58165b7e-f3eb-4721-a37f-1fe352e72405",
   "metadata": {},
   "source": [
    "The singular locus has degree three."
   ]
  },
  {
   "cell_type": "markdown",
   "id": "51cdf2d5-9d50-4dd0-be65-e27b08b8769d",
   "metadata": {},
   "source": [
    "### 2.2 Extending with Slack Variables"
   ]
  },
  {
   "cell_type": "markdown",
   "id": "380f3502-cf31-48d6-af84-c9c93e1df26a",
   "metadata": {},
   "source": [
    "The first witness set of the circle intersected with a line is a cubic curve.  In order to intersect this set with the singular locus, we have to add $L_1$ and $L_2$, increasing the dimension by two, using one as the values of the witness points for $L_1$ and $L_2$."
   ]
  },
  {
   "cell_type": "markdown",
   "id": "59d67c6a-9f08-4fab-baa7-3fb4f3bd0693",
   "metadata": {},
   "source": [
    "The function below adds to the solutions the values for the $L_1$ and $L_2$, and adds two additional slack variables `zz2` and `zz3`."
   ]
  },
  {
   "cell_type": "code",
   "execution_count": 15,
   "id": "6daef543-47d1-4192-bc14-89636afb6f9a",
   "metadata": {},
   "outputs": [],
   "source": [
    "def extend_solutions(sols):\n",
    "    \"\"\"\n",
    "    To each solution in sols, adds L1 and L2 with values 1,\n",
    "    and zz2 and zz3 with values zero.\n",
    "    \"\"\"\n",
    "    result = []\n",
    "    for sol in sols:\n",
    "        (vars, vals) = coordinates(sol)\n",
    "        vars = vars + ['L1', 'L2', 'zz2', 'zz3']\n",
    "        vals = vals + [1, 1, 0, 0]\n",
    "        extsol = make_solution(vars, vals)\n",
    "        result.append(extsol)\n",
    "    return result"
   ]
  },
  {
   "cell_type": "code",
   "execution_count": 16,
   "id": "5139802b-422c-4b6f-82c4-4906c26d6d9f",
   "metadata": {},
   "outputs": [],
   "source": [
    "def extend(pols, sols, verbose=True):\n",
    "    \"\"\"\n",
    "    Extends the witness set with two free variables\n",
    "    L1 and L2, addition two linear equations,\n",
    "    and two slack variables zz2 and zz3.\n",
    "    \"\"\"\n",
    "    vars = ['zz2', 'zz3']\n",
    "    eq1 = 'zz2;'\n",
    "    eq2 = 'zz3;'\n",
    "    eq3 = 'L1 - 1;'\n",
    "    eq4 = 'L2 - 1;'\n",
    "    extpols = pols[:-1] + [eq1, eq2, eq3, eq4, pols[-1]]\n",
    "    extsols = extend_solutions(sols)\n",
    "    if verbose:\n",
    "        print('the extended polynomials :')\n",
    "        for pol in extpols:\n",
    "            print(pol)\n",
    "        print('the extended solutions :')\n",
    "        for sol in extsols:\n",
    "            print(sol)\n",
    "    return (extpols, extsols)"
   ]
  },
  {
   "cell_type": "code",
   "execution_count": 17,
   "id": "4b35e8ea-6b3c-432d-a6e4-cb559548c228",
   "metadata": {},
   "outputs": [
    {
     "name": "stdout",
     "output_type": "stream",
     "text": [
      "the extended polynomials :\n",
      " + x^2 + y^2 - 6*x - 4*y + (-6.05036692680377E-01 + 7.96197588862458E-01*i)*zz1 + 12;\n",
      " - x*s + y + (9.36812659577866E-01-3.49831446349018E-01*i)*zz1;\n",
      "zz1;\n",
      "zz2;\n",
      "zz3;\n",
      "L1 - 1;\n",
      "L2 - 1;\n",
      " + (-9.78259528135350E-01 + 2.07384415066325E-01*i)*x + (-2.57730439432429E-01-9.66216860021583E-01*i)*y + (9.85142412110320E-01-1.71739418484693E-01*i)*s + (-4.40186917636668E-01 + 8.97906162993400E-01*i)*zz1+(1.76012073314581E-01 + 9.84388007874691E-01*i);\n",
      "the extended solutions :\n",
      "t : 0.000000000000000E+00 0.000000000000000E+00\n",
      "m : 1\n",
      "the solution for t :\n",
      " x : 9.092874016572720E-01  6.212407384387740E+01\n",
      " y : -6.013211263069520E+01  -2.090442097434840E+00\n",
      " zz1 : 5.151647004273860E-31  7.468068137788200E-32\n",
      " s : -4.780654990710760E-02  9.672360329774140E-01\n",
      " L1 : 1.000000000000000E+00  0.0\n",
      " L2 : 1.000000000000000E+00  0.0\n",
      " zz2 : 0.000000000000000E+00  0.0\n",
      " zz3 : 0.000000000000000E+00  0.0\n",
      "== err : 0.000E+00 = rco : 1.000E+00 = res : 0.000E+00 =\n",
      "t : 0.000000000000000E+00 0.000000000000000E+00\n",
      "m : 1\n",
      "the solution for t :\n",
      " x : 1.693490213921150E+00  -1.612653242181680E-01\n",
      " y : 1.755217801681970E+00  8.607436557640290E-01\n",
      " zz1 : 8.668395143373719E-33  -8.669066079965100E-32\n",
      " s : 9.791702482573710E-01  6.015091524830440E-01\n",
      " L1 : 1.000000000000000E+00  0.0\n",
      " L2 : 1.000000000000000E+00  0.0\n",
      " zz2 : 0.000000000000000E+00  0.0\n",
      " zz3 : 0.000000000000000E+00  0.0\n",
      "== err : 0.000E+00 = rco : 1.000E+00 = res : 0.000E+00 =\n",
      "t : 0.000000000000000E+00 0.000000000000000E+00\n",
      "m : 1\n",
      "the solution for t :\n",
      " x : -4.129720416979550E-01  -8.552020432975740E-01\n",
      " y : 1.108214665400280E+00  3.272963291202440E+00\n",
      " zz1 : 0.000000000000000E+00  0.000000000000000E+00\n",
      " s : -3.610873929471000E+00  -4.478185202768770E-01\n",
      " L1 : 1.000000000000000E+00  0.0\n",
      " L2 : 1.000000000000000E+00  0.0\n",
      " zz2 : 0.000000000000000E+00  0.0\n",
      " zz3 : 0.000000000000000E+00  0.0\n",
      "== err : 0.000E+00 = rco : 1.000E+00 = res : 0.000E+00 =\n",
      "t : 0.000000000000000E+00 0.000000000000000E+00\n",
      "m : 1\n",
      "the solution for t :\n",
      " x : 7.297481223595320E-01  -8.953823010720200E-01\n",
      " y : 2.979040892505140E+00  -2.076259904745620E+00\n",
      " zz1 : 0.000000000000000E+00  0.000000000000000E+00\n",
      " s : 3.022687422686830E+00  8.635868951104710E-01\n",
      " L1 : 1.000000000000000E+00  0.0\n",
      " L2 : 1.000000000000000E+00  0.0\n",
      " zz2 : 0.000000000000000E+00  0.0\n",
      " zz3 : 0.000000000000000E+00  0.0\n",
      "== err : 0.000E+00 = rco : 1.000E+00 = res : 0.000E+00 =\n"
     ]
    }
   ],
   "source": [
    "witset1 = extend(witpols, witsols)"
   ]
  },
  {
   "cell_type": "markdown",
   "id": "c2225c41-49f9-4bd1-845d-fa3c5caf3efd",
   "metadata": {},
   "source": [
    "### 2.3 Intersecting Two Witness Sets"
   ]
  },
  {
   "cell_type": "markdown",
   "id": "5b4704dc-df41-46f8-8b35-4e0f491307fb",
   "metadata": {},
   "source": [
    "When intersecting two witness sets, the symbols must line up.  The function below ensures that the order of symbols is $(x, y, s, L1, L2)$ by adding a zero polynomial to a given polynomial."
   ]
  },
  {
   "cell_type": "code",
   "execution_count": 18,
   "id": "72e5feaf-b8f7-440e-b55d-5e50948645ad",
   "metadata": {},
   "outputs": [],
   "source": [
    "def insert_symbols(pol):\n",
    "    \"\"\"\n",
    "    To the string pol, adds the sequence of symbols.\n",
    "    \"\"\"\n",
    "    q = pol.lstrip()\n",
    "    if q[0] == '+' or q[0] == '-':\n",
    "        smb = 'x - x + y - y + s + L1 - L1 + L2 - L2 - s '\n",
    "    else:\n",
    "        smb = 'x - x + y - y + s + L1 - L1 + L2 - L2 - s + '\n",
    "    return smb + pol"
   ]
  },
  {
   "cell_type": "code",
   "execution_count": 19,
   "id": "4ae90152-9f35-47b8-a1f0-e14226f90867",
   "metadata": {},
   "outputs": [],
   "source": [
    "def intersect(dim, w1d, w2d, ws1, ws2, verbose=True):\n",
    "    \"\"\"\n",
    "    Applies the diagonal homotopy to intersect two witness sets\n",
    "    w1 and w2 of dimensions w1d and w2d in a space of dimension dim.\n",
    "    \"\"\"\n",
    "    w1eqs, w1sols = ws1\n",
    "    w2eqs, w2sols = ws2\n",
    "    nw1eq0 = insert_symbols(w1eqs[0])\n",
    "    nw2eq0 = insert_symbols(w2eqs[0])\n",
    "    nw1eqs = [nw1eq0] + w1eqs[1:]\n",
    "    nw2eqs = [nw2eq0] + w2eqs[1:]\n",
    "    if verbose:\n",
    "        print('number of equations in first witness set :', len(w1eqs))\n",
    "        print('number of equations in second witness set :', len(w2eqs))\n",
    "    result = double_diagonal_solve(dim, w1d, nw1eqs, w1sols, w2d, nw2eqs, w2sols, \\\n",
    "        vrblvl=int(verbose))\n",
    "    (eqs, sols) = result\n",
    "    if verbose:\n",
    "        print('the equations :')\n",
    "        for pol in eqs:\n",
    "            print(pol)\n",
    "    return result"
   ]
  },
  {
   "cell_type": "markdown",
   "id": "d0cbc8f4-58e0-4b7a-b41e-82778974d184",
   "metadata": {},
   "source": [
    "In a five dimensional space, we intersect a three dimensional set with a two dimensional one."
   ]
  },
  {
   "cell_type": "code",
   "execution_count": 20,
   "id": "90db149f-63dc-4d5f-a8f4-0264f00ab24c",
   "metadata": {},
   "outputs": [
    {
     "name": "stdout",
     "output_type": "stream",
     "text": [
      "the solutions :\n",
      "Solution 1 :\n",
      "t :  1.00000000000000E+00   0.00000000000000E+00\n",
      "m : 1\n",
      "the solution for t :\n",
      " x :  2.23629205920958E+00   5.43834220771431E-17\n",
      " y :  2.64556191118564E+00   6.43362790896262E-17\n",
      " s :  1.18301270189222E+00   6.17097729459026E-32\n",
      " L1 :  5.26737523677670E-01  -1.90639408998241E-01\n",
      " L2 :  4.45250945180180E-01  -1.61147389789911E-01\n",
      "== err :  1.873E-15 = rco :  4.647E-02 = res :  7.494E-16 =\n",
      "Solution 2 :\n",
      "t :  1.00000000000000E+00   0.00000000000000E+00\n",
      "m : 1\n",
      "the solution for t :\n",
      " x :  3.30216947925196E+00   7.36174903646930E-17\n",
      " y :  1.04674578112206E+00   2.33358093641797E-17\n",
      " s :  3.16987298107781E-01   1.78593551687304E-32\n",
      " L1 :  2.42153440891000E-01  -4.65221841697680E-02\n",
      " L2 :  7.63921590349226E-01  -1.46763559446946E-01\n",
      "== err :  3.762E-16 = rco :  2.598E-02 = res :  2.082E-17 =\n"
     ]
    }
   ],
   "source": [
    "(eqs, sols) = intersect(5, 3, 2, witset1, witset2, verbose=False)\n",
    "print('the solutions :')\n",
    "for (idx, sol) in enumerate(sols):\n",
    "    print('Solution', idx+1, ':')\n",
    "    print(sol)"
   ]
  },
  {
   "cell_type": "markdown",
   "id": "99c6bac4-93ce-4953-8d54-7cb0ef1e2e19",
   "metadata": {},
   "source": [
    "Observe that we computed two real solutions, with the values of the intersection points and the slopes of the tangent lines.  The two real solutions are regular solutions."
   ]
  },
  {
   "cell_type": "markdown",
   "id": "b54bd709-ef64-480b-8fc2-416c0630b861",
   "metadata": {},
   "source": [
    "## 3 Plotting the Tangent Lines"
   ]
  },
  {
   "cell_type": "markdown",
   "id": "5b4524d1-0dcd-4806-953e-c5e79d9f8e0d",
   "metadata": {},
   "source": [
    "From the solution we extract the (real) coordinates of the intersection points and the slopes of the tangent lines, as codified in the following function."
   ]
  },
  {
   "cell_type": "code",
   "execution_count": 21,
   "id": "d460326f-b7b3-4c4b-af3a-21bf4960d2da",
   "metadata": {},
   "outputs": [],
   "source": [
    "def coordinates_and_slopes(sol):\n",
    "    \"\"\"\n",
    "    Given a solution, return the 3-tuple with the x and y coordinates\n",
    "    of the tangent point and the slope of the tangent line.\n",
    "    The real parts of the coordinates are selected.\n",
    "    \"\"\"\n",
    "    sdc = strsol2dict(sol)\n",
    "    return (sdc['x'].real, sdc['y'].real, sdc['s'].real)"
   ]
  },
  {
   "cell_type": "code",
   "execution_count": 22,
   "id": "3a1b38ba-7459-437e-8f5a-1b3550d6f477",
   "metadata": {},
   "outputs": [
    {
     "data": {
      "text/plain": [
       "(2.23629205920958, 2.64556191118564, 1.18301270189222)"
      ]
     },
     "execution_count": 22,
     "metadata": {},
     "output_type": "execute_result"
    }
   ],
   "source": [
    "sol1 = sols[0]\n",
    "coordinates_and_slopes(sol1)"
   ]
  },
  {
   "cell_type": "code",
   "execution_count": 23,
   "id": "58cd1b2a-0788-40d6-9f53-a939d4eebe73",
   "metadata": {},
   "outputs": [
    {
     "data": {
      "text/plain": [
       "(3.30216947925196, 1.04674578112206, 0.316987298107781)"
      ]
     },
     "execution_count": 23,
     "metadata": {},
     "output_type": "execute_result"
    }
   ],
   "source": [
    "sol2 = sols[1]\n",
    "coordinates_and_slopes(sol2)"
   ]
  },
  {
   "cell_type": "markdown",
   "id": "f219dc14-a028-48d4-8550-9af19adc32ff",
   "metadata": {},
   "source": [
    "The code below\n",
    "plots the circle with radius 1, centered at (3, 2),\n",
    "along with its two lines tangent through (0, 0).\n",
    "The two solutions `sol1` and `sol2` define 3-tuples of\n",
    "x and y coordinates and a slope."
   ]
  },
  {
   "cell_type": "code",
   "execution_count": 24,
   "id": "82cd0564-a513-4e3e-b754-065b3a7568c4",
   "metadata": {},
   "outputs": [
    {
     "data": {
      "image/png": "[encoded data removed]",
      "text/plain": [
       "<Figure size 640x480 with 1 Axes>"
      ]
     },
     "metadata": {},
     "output_type": "display_data"
    }
   ],
   "source": [
    "fig2 = plt.figure()\n",
    "(xp1, yp1, s1) = coordinates_and_slopes(sol1)\n",
    "(xp2, yp2, s2) = coordinates_and_slopes(sol2)\n",
    "axs = fig2.gca()\n",
    "center = (3, 2)\n",
    "radius = 1\n",
    "circle = plt.Circle(center, radius, edgecolor='blue', facecolor='none')\n",
    "axs.add_artist(circle)\n",
    "y1 = 5*s1 # first tangent line\n",
    "y2 = 5*s2 # second tangent line\n",
    "plt.plot([0, 5], [0, y1], 'r') \n",
    "plt.plot([0, 5], [0, y2], 'r') \n",
    "plt.plot([xp1, xp2], [yp1, yp2], 'go')\n",
    "plt.axis([0, 5, 0, 4])\n",
    "fig2.canvas.draw()\n",
    "plt.savefig('touchcirclefig2')"
   ]
  }
 ],
 "metadata": {
  "kernelspec": {
   "display_name": "Python 3 (ipykernel)",
   "language": "python",
   "name": "python3"
  },
  "language_info": {
   "codemirror_mode": {
    "name": "ipython",
    "version": 3
   },
   "file_extension": ".py",
   "mimetype": "text/x-python",
   "name": "python",
   "nbconvert_exporter": "python",
   "pygments_lexer": "ipython3",
   "version": "3.10.13"
  }
 },
 "nbformat": 4,
 "nbformat_minor": 5
}
