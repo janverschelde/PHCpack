{
 "cells": [
  {
   "cell_type": "markdown",
   "id": "cee03a0a-771e-43ea-b00b-a52c263adc7b",
   "metadata": {},
   "source": [
    "Prepares the documentation on power series expansions in the user manual."
   ]
  },
  {
   "cell_type": "markdown",
   "id": "74435b36-5c7a-42c3-b262-1f9ff39fb16f",
   "metadata": {},
   "source": [
    "# Power Series Expansions"
   ]
  },
  {
   "cell_type": "markdown",
   "id": "7bb9cc30-fb2f-48c2-b867-a2ad1e6fc8da",
   "metadata": {},
   "source": [
    "A polynomial homotopy defines algebraic curves.  With Newton's method, power series expansions of the algebraic can be computed.  We distinguish between\n",
    "\n",
    "1. Taylor series that start at a regular point; and\n",
    "\n",
    "3. power series starting at leading terms of a series."
   ]
  },
  {
   "cell_type": "code",
   "execution_count": 1,
   "id": "6786b184-336e-4fe7-90a6-1ac4da355961",
   "metadata": {},
   "outputs": [
    {
     "name": "stdout",
     "output_type": "stream",
     "text": [
      "PHCv2.4.88 released 2023-12-26 works!\n"
     ]
    }
   ],
   "source": [
    "from phcpy.solutions import make_solution\n",
    "from phcpy.series import double_newton_at_point\n",
    "from phcpy.series import double_newton_at_series\n",
    "from phcpy.series import double_pade_approximants"
   ]
  },
  {
   "cell_type": "markdown",
   "id": "16dcc91b-90ff-44f6-af15-83450be79d4b",
   "metadata": {},
   "source": [
    "## 1. Taylor series and Pade approximants"
   ]
  },
  {
   "cell_type": "markdown",
   "id": "1be2fbda-65ca-4101-b54a-57849869277c",
   "metadata": {},
   "source": [
    "The function \n",
    "$$\n",
    "   f(z) = \\sqrt{\\frac{1 + z/2}{1 + 2 z}} \n",
    "$$\n",
    "is a solution $x(s)$ of the homotopy\n",
    "$$\n",
    "   (1-s)(x^2 - 1) + s(3x^2 - 3/2) = 0.\n",
    "$$"
   ]
  },
  {
   "cell_type": "code",
   "execution_count": 2,
   "id": "fb4d47eb-7fee-40f5-99ce-cc9ff33f80d7",
   "metadata": {},
   "outputs": [],
   "source": [
    "pol = ['(x^2 - 1)*(1-s) + (3*x^2 - 3/2)*s;']"
   ]
  },
  {
   "cell_type": "markdown",
   "id": "468f6097-e0d1-4392-8631-3988acbc8f8d",
   "metadata": {},
   "source": [
    "At ``s`` equal to zero, the values for ``x`` are $\\pm 1$.  Let us defined the start solutions:"
   ]
  },
  {
   "cell_type": "code",
   "execution_count": 3,
   "id": "bb6a4817-1c33-43ee-9a63-ccfedc47e655",
   "metadata": {},
   "outputs": [],
   "source": [
    "variables = ['x', 's']\n",
    "sol1 = make_solution(variables, [1, 0])\n",
    "sol2 = make_solution(variables, [-1, 0])\n",
    "sols = [sol1, sol2]"
   ]
  },
  {
   "cell_type": "code",
   "execution_count": 4,
   "id": "554cffb5-8be0-44a1-8e23-1ddd070e1e0d",
   "metadata": {},
   "outputs": [
    {
     "name": "stdout",
     "output_type": "stream",
     "text": [
      "Solution 1 :\n",
      "t : 0.000000000000000E+00 0.000000000000000E+00\n",
      "m : 1\n",
      "the solution for t :\n",
      " x : 1.000000000000000E+00  0.0\n",
      " s : 0.000000000000000E+00  0.0\n",
      "== err : 0.000E+00 = rco : 1.000E+00 = res : 0.000E+00 =\n",
      "Solution 2 :\n",
      "t : 0.000000000000000E+00 0.000000000000000E+00\n",
      "m : 1\n",
      "the solution for t :\n",
      " x : -1.000000000000000E+00  0.0\n",
      " s : 0.000000000000000E+00  0.0\n",
      "== err : 0.000E+00 = rco : 1.000E+00 = res : 0.000E+00 =\n"
     ]
    }
   ],
   "source": [
    "for (idx, sol) in enumerate(sols):\n",
    "    print('Solution', idx+1, ':')\n",
    "    print(sol)"
   ]
  },
  {
   "cell_type": "markdown",
   "id": "7acbdbab-8af0-4a21-81d9-8a3ef20a4816",
   "metadata": {},
   "source": [
    "In calling ``double_newton_at_point`` we must declare the index of the variable which serves as the parameter.  As the parameter ``s`` is the second parameter, we set ``idx = 2``.  Other parameters are the degree of the series, by default ``maxdeg=4`` and the number of Newton steps, by default ``nbr=4``."
   ]
  },
  {
   "cell_type": "code",
   "execution_count": 5,
   "id": "2fb984ca-97cd-42b4-b9d6-95fe981826ea",
   "metadata": {},
   "outputs": [
    {
     "data": {
      "text/plain": [
       "[[' + 3.69287109375000E+00*s^4 - 2.08593750000000E+00*s^3 + 1.21875000000000E+00*s^2 - 7.50000000000000E-01*s + 1;'],\n",
       " [' - 3.69287109375000E+00*s^4 + 2.08593750000000E+00*s^3 - 1.21875000000000E+00*s^2 + 7.50000000000000E-01*s - 1;']]"
      ]
     },
     "execution_count": 5,
     "metadata": {},
     "output_type": "execute_result"
    }
   ],
   "source": [
    "srs = double_newton_at_point(pol, sols, idx=2)\n",
    "srs"
   ]
  },
  {
   "cell_type": "markdown",
   "id": "1430bae9-2380-4ff2-a030-35e80e896c3f",
   "metadata": {},
   "source": [
    "Pade approximants are rational expressions which agree with the power series expansions."
   ]
  },
  {
   "cell_type": "code",
   "execution_count": 6,
   "id": "622eb2fc-0af3-4e3b-8dc8-a723a82ebd07",
   "metadata": {},
   "outputs": [
    {
     "data": {
      "text/plain": [
       "[['(9.53124999999999E-01*s^2 + 2.12500000000000E+00*s + 1)/(1.89062500000000E+00*s^2 + 2.87500000000000E+00*s + 1)'],\n",
       " ['( - 9.53124999999999E-01*s^2 - 2.12500000000000E+00*s - 1)/(1.89062500000000E+00*s^2 + 2.87500000000000E+00*s + 1)']]"
      ]
     },
     "execution_count": 6,
     "metadata": {},
     "output_type": "execute_result"
    }
   ],
   "source": [
    "pad = double_pade_approximants(pol, sols, idx=2)\n",
    "pad"
   ]
  },
  {
   "cell_type": "code",
   "execution_count": 7,
   "id": "75970a7f-2535-4e14-b202-a78738b027c9",
   "metadata": {},
   "outputs": [
    {
     "data": {
      "text/plain": [
       "'(9.53124999999999E-01*0.1^2 + 2.12500000000000E+00*0.1 + 1)/(1.89062500000000E+00*0.1^2 + 2.87500000000000E+00*0.1 + 1)'"
      ]
     },
     "execution_count": 7,
     "metadata": {},
     "output_type": "execute_result"
    }
   ],
   "source": [
    "p0 = pad[0][0].replace('s', '0.1')\n",
    "p0"
   ]
  },
  {
   "cell_type": "code",
   "execution_count": 8,
   "id": "a33c8eaf-0542-47e8-bef4-aceeccd21c55",
   "metadata": {},
   "outputs": [
    {
     "data": {
      "text/plain": [
       "'(9.53124999999999E-01*0.1**2 + 2.12500000000000E+00*0.1 + 1)/(1.89062500000000E+00*0.1**2 + 2.87500000000000E+00*0.1 + 1)'"
      ]
     },
     "execution_count": 8,
     "metadata": {},
     "output_type": "execute_result"
    }
   ],
   "source": [
    "p1 = p0.replace('^', '**')\n",
    "p1"
   ]
  },
  {
   "cell_type": "code",
   "execution_count": 9,
   "id": "c1d7a928-937a-4b26-b6b8-8468b3b407ed",
   "metadata": {},
   "outputs": [
    {
     "data": {
      "text/plain": [
       "0.9354144241119484"
      ]
     },
     "execution_count": 9,
     "metadata": {},
     "output_type": "execute_result"
    }
   ],
   "source": [
    "ep1 = eval(p1)\n",
    "ep1"
   ]
  },
  {
   "cell_type": "markdown",
   "id": "32c98e95-b081-4239-bbcc-3e4f23c46e19",
   "metadata": {},
   "source": [
    "Compare this now to the function \n",
    "$$\n",
    "   f(z) = \\sqrt{\\frac{1 + z/2}{1 + 2 z}} \n",
    "$$\n",
    "evaluated at $z = 0.1$."
   ]
  },
  {
   "cell_type": "code",
   "execution_count": 10,
   "id": "a9460291-f7c2-4246-8f6d-3444221b3684",
   "metadata": {},
   "outputs": [],
   "source": [
    "from math import sqrt"
   ]
  },
  {
   "cell_type": "code",
   "execution_count": 11,
   "id": "3925482b-4bf8-4c91-ad3c-e87f43c7448f",
   "metadata": {},
   "outputs": [
    {
     "data": {
      "text/plain": [
       "0.9354143466934854"
      ]
     },
     "execution_count": 11,
     "metadata": {},
     "output_type": "execute_result"
    }
   ],
   "source": [
    "ef1 = sqrt((1 + 0.1/2)/(1+2*0.1))\n",
    "ef1"
   ]
  },
  {
   "cell_type": "code",
   "execution_count": 12,
   "id": "76848165-7c83-46d7-ab7b-3dce41cb208a",
   "metadata": {},
   "outputs": [
    {
     "data": {
      "text/plain": [
       "7.741846297371069e-08"
      ]
     },
     "execution_count": 12,
     "metadata": {},
     "output_type": "execute_result"
    }
   ],
   "source": [
    "abs(ep1 - ef1)"
   ]
  },
  {
   "cell_type": "markdown",
   "id": "4549b6c1-5b6a-4751-9cd3-fed5cd478fd2",
   "metadata": {},
   "source": [
    "The error shows we have about 8 decimal places correct at the value of $f(z)$ at $z = 0.1$."
   ]
  },
  {
   "cell_type": "markdown",
   "id": "a4f022db-b1f0-4868-b6b9-a8e915836844",
   "metadata": {},
   "source": [
    "## 2. expansions starting at series"
   ]
  },
  {
   "cell_type": "markdown",
   "id": "e884ddfa-bd6f-498e-b6c2-e7877880d4e8",
   "metadata": {},
   "source": [
    "Starting the power series expansions at a series allows to start at a singular solution, as illustrated by the Viviani curve, defines as the intersection of a sphere with a quadratic cylinder."
   ]
  },
  {
   "cell_type": "code",
   "execution_count": 13,
   "id": "813a2cfc-2b79-44b9-a19f-b41b99a99597",
   "metadata": {},
   "outputs": [],
   "source": [
    "pols = [ '2*t^2 - x;', \\\n",
    "         'x^2 + y^2 + z^2 - 4;' , \\\n",
    "         '(x-1)^2 + y^2 - 1;']"
   ]
  },
  {
   "cell_type": "markdown",
   "id": "9ff339c9-8503-40b6-b93b-17f98df0c9ba",
   "metadata": {},
   "source": [
    "The series starts at $x = 2 t^2$."
   ]
  },
  {
   "cell_type": "code",
   "execution_count": 14,
   "id": "4f386f61-1f55-4e2f-98d5-0e5d70f3fb4c",
   "metadata": {},
   "outputs": [],
   "source": [
    "lser = [ '2*t^2;', '2*t;', '2;']"
   ]
  },
  {
   "cell_type": "code",
   "execution_count": 15,
   "id": "58cb9902-b39c-4580-ae02-db0006765e9d",
   "metadata": {},
   "outputs": [],
   "source": [
    "nser = double_newton_at_series(pols, lser, maxdeg=12, nbr=8)"
   ]
  },
  {
   "cell_type": "code",
   "execution_count": 16,
   "id": "3cd11e7b-a9a7-4e35-a413-c31b7e2c8358",
   "metadata": {},
   "outputs": [
    {
     "name": "stdout",
     "output_type": "stream",
     "text": [
      "x = 2*t^2;\n",
      "y =  - 5.46875000000000E-02*t^11 - 7.81250000000000E-02*t^9 - 1.25000000000000E-01*t^7 - 2.50000000000000E-01*t^5 - t^3 + 2*t;\n",
      "z =  - 4.10156250000000E-02*t^12 - 5.46875000000000E-02*t^10 - 7.81250000000000E-02*t^8 - 1.25000000000000E-01*t^6 - 2.50000000000000E-01*t^4 - t^2 + 2;\n"
     ]
    }
   ],
   "source": [
    "variables = ['x', 'y', 'z']\n",
    "for (var, pol) in zip(variables, nser):\n",
    "    print(var, '=', pol)"
   ]
  },
  {
   "cell_type": "markdown",
   "id": "bfa77f41-0daa-4483-a743-a0d37d64b33a",
   "metadata": {},
   "source": [
    "The coefficients of the power series expansions indicate how fast the solutions change once we move away from the singularity."
   ]
  },
  {
   "cell_type": "markdown",
   "id": "74649e4d-6f15-4237-a026-7fd8ddbc79b2",
   "metadata": {},
   "source": [
    "The example below compares the series expansions at two solutions\n",
    "for the problem of Apollonius."
   ]
  },
  {
   "cell_type": "code",
   "execution_count": 17,
   "id": "75c10154-5f20-454c-ba4e-ee4b9383b396",
   "metadata": {},
   "outputs": [],
   "source": [
    "pols = [ 'x1^2 + 3*x2^2 - r^2 - 2*r - 1;', \\\n",
    "         'x1^2 + 3*x2^2 - r^2 - 4*x1 - 2*r + 3;', \\\n",
    "       '3*t^2 + x1^2 - 6*t*x2 + 3*x2^2 - r^2 + 6*t - 2*x1 - 6*x2 + 2*r + 3;']"
   ]
  },
  {
   "cell_type": "code",
   "execution_count": 18,
   "id": "f310796f-d030-4f2e-8cfd-471fe2742779",
   "metadata": {},
   "outputs": [],
   "source": [
    "lser1 = ['1;', '1 + 0.536*t;', '1 + 0.904*t;']\n",
    "lser2 = ['1;', '1 + 7.464*t;', '1 + 11.196*t;']"
   ]
  },
  {
   "cell_type": "code",
   "execution_count": 19,
   "id": "8142c325-1f08-4299-b54a-0d276a4fb6e9",
   "metadata": {},
   "outputs": [],
   "source": [
    "nser1 = double_newton_at_series(pols, lser1, idx=4, nbr=7)\n",
    "nser2 = double_newton_at_series(pols, lser2, idx=4, nbr=7)"
   ]
  },
  {
   "cell_type": "code",
   "execution_count": 20,
   "id": "d7640b6e-9273-422d-976f-718f64fb7cab",
   "metadata": {},
   "outputs": [
    {
     "name": "stdout",
     "output_type": "stream",
     "text": [
      "the first solution series :\n",
      "x =  - 4.03896783473158E-28*t^4 - 4.62223186652937E-33*t + 1;\n",
      "y =  - 7.73216421430735E-03*t^4 + 7.73216421430735E-03*t^3 - 1.66604983954048E-02*t^2 + 5.35898384862246E-01*t + 1;\n",
      "z =  - 1.33925012716462E-02*t^3 + 2.88568297002609E-02*t^2 + 8.03847577293368E-01*t + 1;\n",
      "the second solution series :\n",
      "x = 1.00974195868290E-28*t^3 + 1.97215226305253E-31*t + 1;\n",
      "y =  - 2.90992267835785E+02*t^4 + 2.90992267835785E+02*t^3 + 4.50166604983953E+01*t^2 + 7.46410161513775E+00*t + 1.00000000000000E+00;\n",
      "z = 5.04013392501271E+02*t^3 + 7.79711431702996E+01*t^2 + 1.11961524227066E+01*t + 1.00000000000000E+00;\n"
     ]
    }
   ],
   "source": [
    "variables = ['x', 'y', 'z']\n",
    "print('the first solution series :')\n",
    "for (var, pol) in zip(variables, nser1): \n",
    "    print(var, '=', pol)\n",
    "print('the second solution series :')\n",
    "for (var, pol) in zip(variables, nser2): \n",
    "    print(var, '=', pol)"
   ]
  },
  {
   "cell_type": "markdown",
   "id": "a83d03ab-a14d-4bcf-aceb-2f1672484329",
   "metadata": {},
   "source": [
    "Observe the difference in magnitudes of the coefficients of the series expansions, indicating that one solution will change more than the other, as we move away from the singularity."
   ]
  }
 ],
 "metadata": {
  "kernelspec": {
   "display_name": "Python 3 (ipykernel)",
   "language": "python",
   "name": "python3"
  },
  "language_info": {
   "codemirror_mode": {
    "name": "ipython",
    "version": 3
   },
   "file_extension": ".py",
   "mimetype": "text/x-python",
   "name": "python",
   "nbconvert_exporter": "python",
   "pygments_lexer": "ipython3",
   "version": "3.10.13"
  }
 },
 "nbformat": 4,
 "nbformat_minor": 5
}
