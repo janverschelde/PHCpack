{
 "cells": [
  {
   "cell_type": "markdown",
   "id": "6267cdc3-97df-4903-8a49-e2394722beec",
   "metadata": {},
   "source": [
    "This notebook prepares the section on root counts and start system for the user manual."
   ]
  },
  {
   "cell_type": "markdown",
   "id": "4b2099e3-04d7-4a01-a91f-e399a8bea745",
   "metadata": {},
   "source": [
    "# Root Counts and Start Systems"
   ]
  },
  {
   "cell_type": "markdown",
   "id": "9276b191-ef74-48f4-9d1a-55485f911d30",
   "metadata": {},
   "source": [
    "A formal root count can be viewed as a count on the number of solutions of a system with a particular structure.  The structure can be determined by the degrees or the Newton polytopes."
   ]
  },
  {
   "cell_type": "markdown",
   "id": "fbd43f31-f6bc-4499-b689-05db4694bb26",
   "metadata": {},
   "source": [
    "Each of the four root counts below is illustrated by a proper example."
   ]
  },
  {
   "cell_type": "markdown",
   "id": "00bc6f14-c985-4ddc-b88f-5a32450a0b40",
   "metadata": {},
   "source": [
    "## 1. Total Degree"
   ]
  },
  {
   "cell_type": "code",
   "execution_count": 1,
   "id": "6b2ea78d-fd5d-41d4-8889-11686add34cf",
   "metadata": {
    "tags": []
   },
   "outputs": [
    {
     "name": "stdout",
     "output_type": "stream",
     "text": [
      "PHCv2.4.88 released 2023-12-26 works!\n"
     ]
    }
   ],
   "source": [
    "from phcpy.starters import total_degree\n",
    "from phcpy.starters import total_degree_start_system"
   ]
  },
  {
   "cell_type": "code",
   "execution_count": 2,
   "id": "f6e2f79f-f7ea-4162-8e6d-4a23ea8ec7ee",
   "metadata": {
    "tags": []
   },
   "outputs": [],
   "source": [
    "from phcpy.families import katsura"
   ]
  },
  {
   "cell_type": "code",
   "execution_count": 3,
   "id": "9b7a3286-13e4-437e-9339-746eba0d46ae",
   "metadata": {
    "tags": []
   },
   "outputs": [
    {
     "name": "stdout",
     "output_type": "stream",
     "text": [
      "u3 + u2 + u1 + u0 + u1 + u2 + u3 - 1;\n",
      "u3*u3 + u2*u2 + u1*u1 + u0*u0 + u1*u1 + u2*u2 + u3*u3 - u0;\n",
      "u3*u3 + u2*u3 + u1*u2 + u0*u1 + u1*u0 + u2*u1 + u3*u2 - u1;\n",
      "u3*u3 + u2 + u1*u3 + u0*u2 + u1*u1 + u2*u0 + u3*u1 - u2;\n"
     ]
    }
   ],
   "source": [
    "k3 = katsura(3)\n",
    "for pol in k3:\n",
    "    print(pol)"
   ]
  },
  {
   "cell_type": "code",
   "execution_count": 4,
   "id": "81088bce-251b-48ff-b715-36f99ba8ac52",
   "metadata": {
    "tags": []
   },
   "outputs": [
    {
     "data": {
      "text/plain": [
       "8"
      ]
     },
     "execution_count": 4,
     "metadata": {},
     "output_type": "execute_result"
    }
   ],
   "source": [
    "degk3 = total_degree(k3)\n",
    "degk3"
   ]
  },
  {
   "cell_type": "code",
   "execution_count": 5,
   "id": "d4397589-08ea-4eef-8627-67851dca45a9",
   "metadata": {
    "tags": []
   },
   "outputs": [
    {
     "data": {
      "text/plain": [
       "8"
      ]
     },
     "execution_count": 5,
     "metadata": {},
     "output_type": "execute_result"
    }
   ],
   "source": [
    "q, qsols = total_degree_start_system(k3)\n",
    "len(qsols)"
   ]
  },
  {
   "cell_type": "code",
   "execution_count": 6,
   "id": "c9a53370-cb52-4f92-b2fa-ccf8b5f27b3d",
   "metadata": {
    "tags": []
   },
   "outputs": [
    {
     "name": "stdout",
     "output_type": "stream",
     "text": [
      "u3^1 - 1;\n",
      "u2^2 - 1;\n",
      "u1^2 - 1;\n",
      "u0^2 - 1;\n"
     ]
    }
   ],
   "source": [
    "for pol in q:\n",
    "    print(pol)"
   ]
  },
  {
   "cell_type": "markdown",
   "id": "d219752e-c0ff-4d16-a5cc-79d3d2b71979",
   "metadata": {},
   "source": [
    "# 2 Multihomogeneous Bezout Numbers"
   ]
  },
  {
   "cell_type": "code",
   "execution_count": 7,
   "id": "a4093d38-7915-4889-b743-ee714b24206c",
   "metadata": {
    "tags": []
   },
   "outputs": [],
   "source": [
    "from phcpy.starters import m_homogeneous_bezout_number\n",
    "from phcpy.starters import m_homogeneous_start_system"
   ]
  },
  {
   "cell_type": "code",
   "execution_count": 8,
   "id": "31d149be-63d2-4f3c-ba07-0ab4f0336b8a",
   "metadata": {
    "tags": []
   },
   "outputs": [],
   "source": [
    "from phcpy.families import generic_nash_system"
   ]
  },
  {
   "cell_type": "code",
   "execution_count": 9,
   "id": "781f6eab-e8f6-4e16-8906-8c195121bfb1",
   "metadata": {
    "tags": []
   },
   "outputs": [
    {
     "name": "stdout",
     "output_type": "stream",
     "text": [
      " 0.6903327738096174*p2 + 0.034587861264503195*(1 - p2) + 0.8692063997373718*p3*p2 + 0.2501542670835233*(1 - p3)*p2 + 0.8818176263965577*p4*p3*p2 + 0.8408030639434934*(1 - p4)*p3*p2 + 0.6359962079405813*p4*(1 - p3)*p2 + 0.41252353329219527*(1 - p4)*(1 - p3)*p2 + 0.9460486256723325*p3*(1 - p2) + 0.11990973285689999*(1 - p3)*(1 - p2) + 0.8072413453628969*p4*p3*(1 - p2) + 0.3264927696410975*(1 - p4)*p3*(1 - p2) + 0.9528772149198469*p4*(1 - p3)*(1 - p2) + 0.3381501202522089*(1 - p4)*(1 - p3)*(1 - p2);\n",
      " 0.5463919751549473*p1 + 0.3093572200722976*(1 - p1) + 0.3685542174856269*p3*p1 + 0.19689745210781595*(1 - p3)*p1 + 0.6680343281776943*p4*p3*p1 + 0.5593648304679288*(1 - p4)*p3*p1 + 0.8443897486645392*p4*(1 - p3)*p1 + 0.6515734188142345*(1 - p4)*(1 - p3)*p1 + 0.2583779537253871*p3*(1 - p1) + 0.5536096589052318*(1 - p3)*(1 - p1) + 0.1738200702621997*p4*p3*(1 - p1) + 0.28574756914703303*(1 - p4)*p3*(1 - p1) + 0.6228114361102499*p4*(1 - p3)*(1 - p1) + 0.29254050838649126*(1 - p4)*(1 - p3)*(1 - p1);\n",
      " 0.7250912096434194*p1 + 0.8912142256374249*(1 - p1) + 0.6828597194836357*p2*p1 + 0.6601900529367192*(1 - p2)*p1 + 0.35272310219426584*p4*p2*p1 + 0.10607370274015093*(1 - p4)*p2*p1 + 0.5427088073702008*p4*(1 - p2)*p1 + 0.9112475260003585*(1 - p4)*(1 - p2)*p1 + 0.15053013298872042*p2*(1 - p1) + 0.8257142704717448*(1 - p2)*(1 - p1) + 0.2749480580562983*p4*p2*(1 - p1) + 0.8798997974406496*(1 - p4)*p2*(1 - p1) + 0.9599871296487098*p4*(1 - p2)*(1 - p1) + 0.677694665239588*(1 - p4)*(1 - p2)*(1 - p1);\n",
      " 0.6056412063011842*p1 + 0.6688225211242443*(1 - p1) + 0.8367668934060253*p2*p1 + 0.9750150220666607*(1 - p2)*p1 + 0.008135107513979167*p3*p2*p1 + 0.8210325070138695*(1 - p3)*p2*p1 + 0.7420078350881523*p3*(1 - p2)*p1 + 0.4139901669239191*(1 - p3)*(1 - p2)*p1 + 0.42458115541751884*p2*(1 - p1) + 0.31248138364097*(1 - p2)*(1 - p1) + 0.3302081879783829*p3*p2*(1 - p1) + 0.051173302586983827*(1 - p3)*p2*(1 - p1) + 0.010731122577836372*p3*(1 - p2)*(1 - p1) + 0.9324098571240174*(1 - p3)*(1 - p2)*(1 - p1);\n"
     ]
    }
   ],
   "source": [
    "game4two = generic_nash_system(4)\n",
    "for pol in game4two:\n",
    "    print(pol)"
   ]
  },
  {
   "cell_type": "code",
   "execution_count": 10,
   "id": "8cf88f32-8db8-4880-809e-ddccfbdddbcd",
   "metadata": {
    "tags": []
   },
   "outputs": [
    {
     "data": {
      "text/plain": [
       "(9, '{ p2 }{ p3 }{ p4 }{ p1 }')"
      ]
     },
     "execution_count": 10,
     "metadata": {},
     "output_type": "execute_result"
    }
   ],
   "source": [
    "mbn = m_homogeneous_bezout_number(game4two)\n",
    "mbn"
   ]
  },
  {
   "cell_type": "markdown",
   "id": "a42d3c79-eaeb-4acb-93e7-d8ecd8c6f41d",
   "metadata": {},
   "source": [
    "Tuple on return contains first the root count, and then the partition of the variables.  Observe the difference with the total degree."
   ]
  },
  {
   "cell_type": "code",
   "execution_count": 11,
   "id": "98c82853-6f46-441b-8d11-5963b114aca7",
   "metadata": {
    "tags": []
   },
   "outputs": [
    {
     "data": {
      "text/plain": [
       "81"
      ]
     },
     "execution_count": 11,
     "metadata": {},
     "output_type": "execute_result"
    }
   ],
   "source": [
    "total_degree(game4two)"
   ]
  },
  {
   "cell_type": "code",
   "execution_count": 12,
   "id": "7c03701a-d918-4ff3-8a16-1e2d50c603fc",
   "metadata": {
    "tags": []
   },
   "outputs": [
    {
     "data": {
      "text/plain": [
       "9"
      ]
     },
     "execution_count": 12,
     "metadata": {},
     "output_type": "execute_result"
    }
   ],
   "source": [
    "q, qsols = m_homogeneous_start_system(game4two, partition=mbn[1])\n",
    "len(qsols)"
   ]
  },
  {
   "cell_type": "code",
   "execution_count": 13,
   "id": "fe6c0cf0-8676-4a9c-9edd-1dd37f36fb62",
   "metadata": {
    "tags": []
   },
   "outputs": [
    {
     "name": "stdout",
     "output_type": "stream",
     "text": [
      " + (8.09862025751897E-01 + 5.86620404729527E-01*i)*p2*p3*p4 + (5.07245509792387E-01-8.61801597118189E-01*i)*p2*p3 + (5.68427629520424E-01-8.22733267832164E-01*i)*p2*p4 + (-9.17741072928163E-01-3.97179207739610E-01*i)*p3*p4 + (-8.72891137676027E-01-4.87915014901829E-01*i)*p2 + (-3.08434913260137E-01 + 9.51245449020500E-01*i)*p3 + (-3.76629479994304E-01 + 9.26363986130301E-01*i)*p4+(9.57882449280886E-01 + 2.87160605514843E-01*i);\n",
      " + (9.66346257715788E-01 + 2.57244844843762E-01*i)*p3*p4*p1 + (4.27179123610062E-01 + 9.04167017951738E-01*i)*p3*p4 + (5.74220873747298E-01 + 8.18700426378837E-01*i)*p3*p1 + (9.90249610043728E-01-1.39304378280957E-01*i)*p4*p1 + (-2.54763902065508E-01 + 9.67003285518904E-01*i)*p3 + (7.45509876682768E-01 + 6.66494578949030E-01*i)*p4 + (8.47671704117371E-01 + 5.30521141933808E-01*i)*p1+(1.41845362231205E-01 + 9.89888828714365E-01*i);\n",
      " + (-8.04068172163318E-01-5.94537109450656E-01*i)*p2*p4*p1 + (-6.43494733329063E-02 + 9.97927424857027E-01*i)*p2*p4 + (-9.15276565712769E-01-4.02826027283540E-01*i)*p2*p1 + (-5.63110742099495E-01-8.26381444692556E-01*i)*p4*p1 + (1.57040741894964E-01 + 9.87592125011677E-01*i)*p2 + (-3.89745447629363E-01 + 9.20922627614387E-01*i)*p4 + (-7.31304596878026E-01-6.82051014649981E-01*i)*p1+(-1.77324996222095E-01 + 9.84152348833672E-01*i);\n",
      " + (5.98329339135151E-01-8.01250274215300E-01*i)*p2*p3*p1 + (8.05048967932371E-01-5.93208360722457E-01*i)*p2*p3 + (-9.14951353109374E-01-4.03564147866639E-01*i)*p2*p1 + (7.71457670748354E-01 + 6.36280647390382E-01*i)*p3*p1 + (-7.58523140654228E-01-6.51646104179290E-01*i)*p2 + (5.53686934279058E-01 + 8.32724911845838E-01*i)*p3 + (4.47226443397198E-01-8.94420766935950E-01*i)*p1+(6.87474441625957E-01-7.26208573421630E-01*i);\n"
     ]
    }
   ],
   "source": [
    "for pol in q:\n",
    "    print(pol)"
   ]
  },
  {
   "cell_type": "markdown",
   "id": "88508a51-75cb-4942-9fab-bc8af23a3fa3",
   "metadata": {},
   "source": [
    "# 3. Linear-Product Start Systems"
   ]
  },
  {
   "cell_type": "markdown",
   "id": "e37c5836-132f-4145-82b5-a26e6d2514ad",
   "metadata": {},
   "source": [
    "The multihomogeneous Bezout numbers are computed based on a partition of the unknowns.  This partition is the same for all polynomials in the system.  A sharper bound can be obtained if this restriction is relaxed."
   ]
  },
  {
   "cell_type": "code",
   "execution_count": 14,
   "id": "f55de800-6345-4e14-99c6-01d876f85fa0",
   "metadata": {
    "tags": []
   },
   "outputs": [],
   "source": [
    "from phcpy.starters import linear_product_root_count\n",
    "from phcpy.starters import random_linear_product_system"
   ]
  },
  {
   "cell_type": "code",
   "execution_count": 15,
   "id": "c31f0d10-723c-48f0-96cd-7e37019603c5",
   "metadata": {
    "tags": []
   },
   "outputs": [],
   "source": [
    "from phcpy.families import noon"
   ]
  },
  {
   "cell_type": "code",
   "execution_count": 16,
   "id": "5c5364df-a78b-470e-923d-0ccbd53f3dd9",
   "metadata": {
    "tags": []
   },
   "outputs": [
    {
     "name": "stdout",
     "output_type": "stream",
     "text": [
      "x1*(x2^2 + x3^2) - 1.1*x1 + 1;\n",
      "x2*(x1^2 + x3^2) - 1.1*x2 + 1;\n",
      "x3*(x1^2 + x2^2) - 1.1*x3 + 1;\n"
     ]
    }
   ],
   "source": [
    "n3 = noon(3)\n",
    "for pol in n3:\n",
    "    print(pol)"
   ]
  },
  {
   "cell_type": "code",
   "execution_count": 17,
   "id": "7f6cc65a-1ed6-4326-b892-487b668b4f30",
   "metadata": {
    "tags": []
   },
   "outputs": [
    {
     "data": {
      "text/plain": [
       "(21,\n",
       " '{ x1 }{ x2 x3 }{ x2 x3 };{ x1 x3 }{ x1 x3 }{ x2 };{ x1 x2 }{ x1 x2 }{ x3 };')"
      ]
     },
     "execution_count": 17,
     "metadata": {},
     "output_type": "execute_result"
    }
   ],
   "source": [
    "lprc = linear_product_root_count(n3)\n",
    "lprc"
   ]
  },
  {
   "cell_type": "markdown",
   "id": "ace825ae-8d61-4b62-984d-eb392385109a",
   "metadata": {},
   "source": [
    "The tuple on return contains first the upper bound on the number of solutions, followed by the set structure used to compute this bound.  Every set corresponds to a linear equation in the linear-product start system."
   ]
  },
  {
   "cell_type": "code",
   "execution_count": 18,
   "id": "45d88fa3-bdb0-47fb-941a-637fc796a319",
   "metadata": {
    "tags": []
   },
   "outputs": [
    {
     "data": {
      "text/plain": [
       "21"
      ]
     },
     "execution_count": 18,
     "metadata": {},
     "output_type": "execute_result"
    }
   ],
   "source": [
    "q, qsols = random_linear_product_system(n3, lprc[1])\n",
    "len(qsols)"
   ]
  },
  {
   "cell_type": "code",
   "execution_count": 19,
   "id": "e525ed25-0403-4a21-b603-ed5efe3d94a3",
   "metadata": {
    "tags": []
   },
   "outputs": [
    {
     "name": "stdout",
     "output_type": "stream",
     "text": [
      " + x1*x2^2 + (4.80479072531805E-01 + 1.12458836151170E+00*i)*x1*x2*x3 + (-6.91272466936569E-01 + 7.22594199018668E-01*i)*x1*x3^2 + (-5.89821676308297E-01-1.44446789914568E+00*i)*x1*x2 + (-2.53288674080530E-02 + 2.56368926837736E-02*i)*x1*x3 + (8.51005564053501E-01-5.25156671813263E-01*i)*x2^2 + (9.99475445227244E-01 + 7.04704162309536E-01*i)*x2*x3 + (-2.08801551011795E-01 + 9.77958031970221E-01*i)*x3^2 + (-7.14185935474133E-01 + 6.99956034027093E-01*i)*x1 + (-1.26051348279417E+00-9.19501430776262E-01*i)*x2 + (-8.09162185798218E-03 + 3.51187620277464E-02*i)*x3+(-2.40189623611963E-01 + 9.70725988479315E-01*i);\n",
      " + x1^2*x2 + (1.16706443950815E+00 + 5.66684420603777E-01*i)*x1*x2*x3 + (6.18421061767686E-01 + 7.85846925528203E-01*i)*x2*x3^2 + (5.47172271507222E-01 + 8.37020014870390E-01*i)*x1^2 + (-7.32014661089749E-01-9.90684837653605E-01*i)*x1*x2 + (1.64259098200383E-01 + 1.28693029616133E+00*i)*x1*x3 + (-3.66238388641380E-01-1.96435856291347E+00*i)*x2*x3 + (-3.19386748176134E-01 + 9.47624453615183E-01*i)*x3^2 + (4.28684912659622E-01-1.15478619547737E+00*i)*x1 + (-2.93686431222134E-01 + 9.55901815102371E-01*i)*x2 + (1.44381194251456E+00-1.38139139843074E+00*i)*x3+(-9.60806023174283E-01 + 2.77221546478658E-01*i);\n",
      " + x1^2*x3 + (9.12105006185691E-01-8.67195003643828E-01*i)*x1*x2*x3 + (5.04483894248411E-02-9.98726669316705E-01*i)*x2^2*x3 + (5.71738658069346E-01 + 8.20435803015119E-01*i)*x1^2 + (1.23296352144016E+00 + 2.52514695516305E-01*i)*x1*x2 + (-9.08295720389507E-01-9.23063923383476E-01*i)*x1*x3 + (8.48234411404985E-01-5.29620980804611E-01*i)*x2^2 + (-1.99833082061028E+00-6.65666164077972E-02*i)*x2*x3 + (2.38006914909783E-01-1.27294965760046E+00*i)*x1 + (-1.08790934636781E+00-1.67756085943447E+00*i)*x2 + (-1.61270810384540E-02 + 9.99869950172111E-01*i)*x3+(-8.29549581151644E-01 + 5.58433068873192E-01*i);\n"
     ]
    }
   ],
   "source": [
    "for pol in q:\n",
    "    print(pol)"
   ]
  },
  {
   "cell_type": "markdown",
   "id": "23b0f214-9041-42b9-ba66-f91f764a2f2c",
   "metadata": {},
   "source": [
    "# 4. Mixed Volumes"
   ]
  },
  {
   "cell_type": "code",
   "execution_count": 20,
   "id": "b7a19c5c-db46-4ae4-b343-0e5536a4532e",
   "metadata": {
    "tags": []
   },
   "outputs": [],
   "source": [
    "from phcpy.volumes import mixed_volume\n",
    "from phcpy.volumes import make_random_coefficient_system"
   ]
  },
  {
   "cell_type": "code",
   "execution_count": 21,
   "id": "663b94a1-b21b-4a8a-b96e-0b3146860272",
   "metadata": {
    "tags": []
   },
   "outputs": [],
   "source": [
    "from phcpy.families import cyclic"
   ]
  },
  {
   "cell_type": "code",
   "execution_count": 22,
   "id": "ed8d04f8-bce9-4a11-8ee3-d2e474ab95d7",
   "metadata": {
    "tags": []
   },
   "outputs": [
    {
     "name": "stdout",
     "output_type": "stream",
     "text": [
      "x0 + x1 + x2 + x3 + x4;\n",
      "x0*x1 + x1*x2 + x2*x3 + x3*x4 + x4*x0;\n",
      "x0*x1*x2 + x1*x2*x3 + x2*x3*x4 + x3*x4*x0 + x4*x0*x1;\n",
      "x0*x1*x2*x3 + x1*x2*x3*x4 + x2*x3*x4*x0 + x3*x4*x0*x1 + x4*x0*x1*x2;\n",
      "x0*x1*x2*x3*x4 - 1;\n"
     ]
    }
   ],
   "source": [
    "c5 = cyclic(5)\n",
    "for pol in c5:\n",
    "    print(pol)"
   ]
  },
  {
   "cell_type": "code",
   "execution_count": 23,
   "id": "3db43e22-f97c-4e53-a78b-4255dc3745cb",
   "metadata": {
    "tags": []
   },
   "outputs": [
    {
     "data": {
      "text/plain": [
       "70"
      ]
     },
     "execution_count": 23,
     "metadata": {},
     "output_type": "execute_result"
    }
   ],
   "source": [
    "mv = mixed_volume(c5)\n",
    "mv"
   ]
  },
  {
   "cell_type": "code",
   "execution_count": 24,
   "id": "1397eaaf-d616-42bd-818e-d68f2c8933d8",
   "metadata": {
    "tags": []
   },
   "outputs": [
    {
     "data": {
      "text/plain": [
       "70"
      ]
     },
     "execution_count": 24,
     "metadata": {},
     "output_type": "execute_result"
    }
   ],
   "source": [
    "vol, q, qsols = make_random_coefficient_system(c5)\n",
    "len(qsols)"
   ]
  },
  {
   "cell_type": "markdown",
   "id": "ad3769ed-f44f-492f-b6b8-a1a5a2ef9b1a",
   "metadata": {},
   "source": [
    "The mixed volume does not count the solutions with zero coordinates.  To count all solutions, also those with zero coordinates, the stable mixed volume should be computed."
   ]
  },
  {
   "cell_type": "code",
   "execution_count": 25,
   "id": "1ce41f8c-b1e2-4c55-8691-fe81641e070a",
   "metadata": {
    "tags": []
   },
   "outputs": [],
   "source": [
    "from phcpy.volumes import stable_mixed_volume"
   ]
  },
  {
   "cell_type": "code",
   "execution_count": 26,
   "id": "5be69878-4eab-4bc0-84f0-a02c1a938861",
   "metadata": {
    "tags": []
   },
   "outputs": [],
   "source": [
    "pols = ['x^3 + x*y^2 - x^2;', 'x + y - y^3;']"
   ]
  },
  {
   "cell_type": "code",
   "execution_count": 27,
   "id": "b28f4ee8-a2f1-46bd-ad43-e76d46afeaaf",
   "metadata": {
    "tags": []
   },
   "outputs": [
    {
     "data": {
      "text/plain": [
       "(5, 9)"
      ]
     },
     "execution_count": 27,
     "metadata": {},
     "output_type": "execute_result"
    }
   ],
   "source": [
    "stable_mixed_volume(pols)"
   ]
  },
  {
   "cell_type": "markdown",
   "id": "4fc6acf7-dc6a-42e6-990c-f28d5146931a",
   "metadata": {},
   "source": [
    "The first number in the tuple returned by ``stable_mixed_volume`` is the mixed volume, the second number is the stable mixed volume."
   ]
  }
 ],
 "metadata": {
  "kernelspec": {
   "display_name": "Python 3 (ipykernel)",
   "language": "python",
   "name": "python3"
  },
  "language_info": {
   "codemirror_mode": {
    "name": "ipython",
    "version": 3
   },
   "file_extension": ".py",
   "mimetype": "text/x-python",
   "name": "python",
   "nbconvert_exporter": "python",
   "pygments_lexer": "ipython3",
   "version": "3.11.5"
  }
 },
 "nbformat": 4,
 "nbformat_minor": 5
}
