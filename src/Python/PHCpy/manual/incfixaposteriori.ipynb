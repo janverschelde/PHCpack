{
 "cells": [
  {
   "cell_type": "markdown",
   "id": "acce7bfb-4084-4581-af3c-8baea2a1fe2a",
   "metadata": {},
   "source": [
    "This notebook prepares the documentation in the user manual on increment-and-fix continuation with aposteriori step size control."
   ]
  },
  {
   "cell_type": "markdown",
   "id": "7cbc2ebc-db87-4903-981a-fa4ec57e4733",
   "metadata": {},
   "source": [
    "# Increment-and-Fix Aposteriori Step Control"
   ]
  },
  {
   "cell_type": "markdown",
   "id": "8aab7e5a-ccf0-48a1-9541-131a1f3aa0a9",
   "metadata": {},
   "source": [
    "An *artificial-parameter homotopy* to solve\n",
    "\n",
    "$$\n",
    "   \\left\\{\n",
    "      \\begin{array}{rcl}\n",
    "         x^2 + 4 y^2 - 4 & = & 0 \\\\\n",
    "               2 y^2 - x & = & 0\n",
    "      \\end{array}\n",
    "   \\right.\n",
    "$$\n",
    "\n",
    "with the total degree start system\n",
    "\n",
    "$$\n",
    "   \\left\\{\n",
    "      \\begin{array}{rcl}\n",
    "         x^2 - 1 & = & 0 \\\\\n",
    "         y^2 - 1 & = & 0\n",
    "      \\end{array}\n",
    "   \\right.\n",
    "$$\n",
    "\n",
    "uses a random complex constant $\\gamma$ in\n",
    "\n",
    "$$\n",
    "   \\gamma (1 - t)\n",
    "   \\left(\n",
    "      \\begin{array}{r}\n",
    "         x^2 + 4 y^2 - 4 \\\\\n",
    "               2 y^2 - x\n",
    "      \\end{array}\n",
    "   \\right)\n",
    "   +\n",
    "   t\n",
    "   \\left(\n",
    "      \\begin{array}{c}\n",
    "         x^2 - 1 \\\\\n",
    "         y^2 - 1\n",
    "      \\end{array}\n",
    "   \\right)\n",
    "   =\n",
    "   \\left(\n",
    "      \\begin{array}{c}\n",
    "         0 \\\\ 0\n",
    "      \\end{array}\n",
    "   \\right),\n",
    "$$\n",
    "\n",
    "where $t$ is an artificial parameter to define the deformation of the start system into the target system."
   ]
  },
  {
   "cell_type": "markdown",
   "id": "c815338d-1896-4e47-bd3d-d69aa6418812",
   "metadata": {},
   "source": [
    "During the continuation, a predictor-corrector method is applied.  The predictor advances the value of $t$, predicts the corresponding solution for the new value of $t$, and then fixes the value of $t$ in the corrector stage.  Because $t$ is fixed during the corrector stage, this type of continuation is called *increment-and-fix continuation*."
   ]
  },
  {
   "cell_type": "markdown",
   "id": "023412f4-bb9a-492f-a6fb-5575331e9d33",
   "metadata": {},
   "source": [
    "An *aposteriori step size control algorithm* uses the performance of the corrector to determine the step size for the continuation parameter $t$."
   ]
  },
  {
   "cell_type": "markdown",
   "id": "bc63ab2b-c20d-4a1c-aa54-ed871d4d0760",
   "metadata": {},
   "source": [
    "Let us first define the target and start system for the running example."
   ]
  },
  {
   "cell_type": "code",
   "execution_count": 1,
   "id": "6f31fb13-1822-4d09-85a5-5a6994a80d5c",
   "metadata": {},
   "outputs": [
    {
     "data": {
      "text/plain": [
       "['x^2 + 4*y^2 - 4;', '2*y^2 - x;']"
      ]
     },
     "execution_count": 1,
     "metadata": {},
     "output_type": "execute_result"
    }
   ],
   "source": [
    "target = ['x^2 + 4*y^2 - 4;', '2*y^2 - x;']\n",
    "target"
   ]
  },
  {
   "cell_type": "code",
   "execution_count": 2,
   "id": "b0a970be-4cfb-40b1-a1fd-00b46c054260",
   "metadata": {},
   "outputs": [
    {
     "name": "stdout",
     "output_type": "stream",
     "text": [
      "PHCv2.4.88 released 2023-12-26 works!\n"
     ]
    }
   ],
   "source": [
    "from phcpy.starters import total_degree_start_system"
   ]
  },
  {
   "cell_type": "code",
   "execution_count": 3,
   "id": "996a09f1-ac47-47f7-915a-989aab8d514a",
   "metadata": {},
   "outputs": [],
   "source": [
    "start, startsols = total_degree_start_system(target)"
   ]
  },
  {
   "cell_type": "code",
   "execution_count": 4,
   "id": "0424e507-0671-461a-a89b-04830bfe1139",
   "metadata": {},
   "outputs": [
    {
     "data": {
      "text/plain": [
       "4"
      ]
     },
     "execution_count": 4,
     "metadata": {},
     "output_type": "execute_result"
    }
   ],
   "source": [
    "len(startsols)"
   ]
  },
  {
   "cell_type": "markdown",
   "id": "85c85ae0-44c5-407e-892c-d26e7a54a5ce",
   "metadata": {},
   "source": [
    "# 1. let the path trackers run"
   ]
  },
  {
   "cell_type": "markdown",
   "id": "698fc8c4-155a-4585-b6d2-267227542edc",
   "metadata": {},
   "source": [
    "To run the path trackers in double precision:"
   ]
  },
  {
   "cell_type": "code",
   "execution_count": 5,
   "id": "52a5db82-2856-48bb-bd28-9145a4445730",
   "metadata": {},
   "outputs": [],
   "source": [
    "from phcpy.trackers import double_track"
   ]
  },
  {
   "cell_type": "code",
   "execution_count": 6,
   "id": "e1178628-05de-47fd-9e7d-beabab7adda2",
   "metadata": {},
   "outputs": [
    {
     "data": {
      "text/plain": [
       "(0.8972424945067451-0.4415381139282468j)"
      ]
     },
     "execution_count": 6,
     "metadata": {},
     "output_type": "execute_result"
    }
   ],
   "source": [
    "gamma, sols = double_track(target, start, startsols)\n",
    "gamma"
   ]
  },
  {
   "cell_type": "markdown",
   "id": "0c23f39b-70a0-4fff-aace-c5e0ef50d1fd",
   "metadata": {},
   "source": [
    "By default, ``double_track`` will generate a random $\\gamma$ and return the generated value.  This value can then be used in a second run."
   ]
  },
  {
   "cell_type": "code",
   "execution_count": 7,
   "id": "bd3a7c51-b4fb-4f0f-a40e-2380605dec7d",
   "metadata": {},
   "outputs": [
    {
     "name": "stdout",
     "output_type": "stream",
     "text": [
      "Solution 1 :\n",
      "t :  1.00000000000000E+00   0.00000000000000E+00\n",
      "m : 1\n",
      "the solution for t :\n",
      " x :  1.23606797749979E+00   1.63132611699963E-55\n",
      " y :  7.86151377757423E-01  -1.62115537155392E-56\n",
      "== err :  1.383E-16 = rco :  1.998E-01 = res :  2.220E-16 =\n",
      "Solution 2 :\n",
      "t :  1.00000000000000E+00   0.00000000000000E+00\n",
      "m : 1\n",
      "the solution for t :\n",
      " x :  1.23606797749979E+00   1.63132611699963E-55\n",
      " y : -7.86151377757423E-01   1.62115537155392E-56\n",
      "== err :  1.383E-16 = rco :  1.998E-01 = res :  2.220E-16 =\n",
      "Solution 3 :\n",
      "t :  1.00000000000000E+00   0.00000000000000E+00\n",
      "m : 1\n",
      "the solution for t :\n",
      " x : -3.23606797749979E+00   1.06910588403688E-50\n",
      " y : -5.34552942018439E-51  -1.27201964951407E+00\n",
      "== err :  7.222E-35 = rco :  1.079E-01 = res :  3.130E-50 =\n",
      "Solution 4 :\n",
      "t :  1.00000000000000E+00   0.00000000000000E+00\n",
      "m : 1\n",
      "the solution for t :\n",
      " x : -3.23606797749979E+00   1.06910588403688E-50\n",
      " y :  5.34552942018439E-51   1.27201964951407E+00\n",
      "== err :  7.222E-35 = rco :  1.079E-01 = res :  3.130E-50 =\n"
     ]
    }
   ],
   "source": [
    "for (idx, sol) in enumerate(sols):\n",
    "    print('Solution', idx+1, ':')\n",
    "    print(sol)"
   ]
  },
  {
   "cell_type": "markdown",
   "id": "55e098c3-de29-422d-a24e-010273ef3562",
   "metadata": {},
   "source": [
    "Suppose we would want to recompute the first path in quad double precision."
   ]
  },
  {
   "cell_type": "code",
   "execution_count": 8,
   "id": "09766367-b800-49d1-84f8-75a93ca3c47f",
   "metadata": {},
   "outputs": [],
   "source": [
    "from phcpy.trackers import quad_double_track"
   ]
  },
  {
   "cell_type": "markdown",
   "id": "17f9bdb2-adea-46ae-a349-2e95e05da358",
   "metadata": {},
   "source": [
    "Even if we track only one path, the start solution must be given in a list of one element."
   ]
  },
  {
   "cell_type": "code",
   "execution_count": 9,
   "id": "ce0b6d71-3456-438a-bbfc-db3f4ea2b38e",
   "metadata": {},
   "outputs": [
    {
     "data": {
      "text/plain": [
       "(0.8972424945067451-0.4415381139282468j)"
      ]
     },
     "execution_count": 9,
     "metadata": {},
     "output_type": "execute_result"
    }
   ],
   "source": [
    "gamma, qdsol = quad_double_track(target, start, [startsols[0]], gamma=gamma)\n",
    "gamma"
   ]
  },
  {
   "cell_type": "code",
   "execution_count": 10,
   "id": "7b32ff09-24a1-4419-ab43-a83a5d783568",
   "metadata": {},
   "outputs": [
    {
     "name": "stdout",
     "output_type": "stream",
     "text": [
      "t : 1.0000000000000000000000000000000000000000000000000000000000000000E+00      0.0000000000000000000000000000000000000000000000000000000000000000E+00    \n",
      "m : 1\n",
      "the solution for t :\n",
      " x : 1.2360679774997896964091736687116429937402734744492267964203321508E+00      3.5725407585478398168188068938476209257268222381106725605357869223E-29    \n",
      " y : 7.8615137775742328606955858582272987880739633619149401238232806827E-01      1.9775278344660286732240368562738254609143580079378403594856065932E-29    \n",
      "== err :  1.850E-14 = rco :  1.998E-01 = res :  3.884E-28 =\n"
     ]
    }
   ],
   "source": [
    "print(qdsol[0])"
   ]
  },
  {
   "cell_type": "markdown",
   "id": "dbcae0ea-6ef9-4a2a-ae81-3e1acef8faef",
   "metadata": {},
   "source": [
    "Observe that the values for the forward and backward error, the ``err`` and ``res`` respectively, are still rather large for quad double precision.  For this example, we could as well run a couple of extra steps of Newton's method, but suppose that we want to track the paths with much smaller tolerances."
   ]
  },
  {
   "cell_type": "markdown",
   "id": "56c7d4d4-7ab5-40fd-85c8-6deb3a7eea9d",
   "metadata": {},
   "source": [
    "# 2. tuning tolerances of the path trackers"
   ]
  },
  {
   "cell_type": "markdown",
   "id": "6ffad56c-21c7-4abf-b6d3-86cceb394a5b",
   "metadata": {},
   "source": [
    "Let us redo the last run, but now with much smaller tolerances on the corrector."
   ]
  },
  {
   "cell_type": "code",
   "execution_count": 11,
   "id": "2d50f946-f943-417a-a3e9-39aec7795b32",
   "metadata": {},
   "outputs": [
    {
     "name": "stdout",
     "output_type": "stream",
     "text": [
      "GLOBAL MONITOR :\n",
      "  1. the condition of the homotopy           : 0\n",
      "  2. number of paths tracked simultaneously  : 1\n",
      "  3. maximum number of steps along a path    : 500\n",
      "  4. distance from target to start end game  : 1.000e-01\n",
      "  5. order of extrapolator in end game       : 0\n",
      "  6. maximum number of re-runs               : 1\n",
      "STEP CONTROL (PREDICTOR) :                    along path : end game\n",
      "  7: 8. type ( x:Cub,t:Rea ):( x:Cub,t:Rea ) : 8         : 8\n",
      "  9:10. minimum step size                    : 1.000e-06 : 1.000e-08\n",
      " 11:12. maximum step size                    : 1.000e-01 : 1.000e-02\n",
      " 13:14. reduction factor for step size       : 7.000e-01 : 5.000e-01\n",
      " 15:16. expansion factor for step size       : 1.250e+00 : 1.100e+00\n",
      " 17:18. expansion threshold                  : 1         : 3\n",
      "PATH CLOSENESS (CORRECTOR) :                  along path : end game\n",
      " 19:20. maximum number of iterations         : 3         : 3\n",
      " 21:22. relative precision for residuals     : 1.000e-09 : 1.000e-11\n",
      " 23:24. absolute precision for residuals     : 1.000e-09 : 1.000e-11\n",
      " 25:26. relative precision for corrections   : 1.000e-09 : 1.000e-11\n",
      " 27:28. absolute precision for corrections   : 1.000e-09 : 1.000e-11\n",
      "SOLUTION TOLERANCES :                         along path : end game\n",
      " 29:30. inverse condition of Jacobian        : 1.000e-04 : 1.000e-12\n",
      " 31:32. clustering of solutions              : 1.000e-04 : 1.000e-12\n",
      " 33:34. solution at infinity                 : 1.000e+08 : 1.000e+12\n"
     ]
    },
    {
     "data": {
      "text/plain": [
       "0"
      ]
     },
     "execution_count": 11,
     "metadata": {},
     "output_type": "execute_result"
    }
   ],
   "source": [
    "from phcpy.trackers import write_parameters\n",
    "write_parameters()"
   ]
  },
  {
   "cell_type": "code",
   "execution_count": 12,
   "id": "b64373e6-91b9-4b3e-aa01-6655a025ba0f",
   "metadata": {},
   "outputs": [],
   "source": [
    "from phcpy.trackers import set_parameter_value"
   ]
  },
  {
   "cell_type": "markdown",
   "id": "a149606d-2cb1-43b0-8c82-016bdaaa6efa",
   "metadata": {},
   "source": [
    "To set the tolerance for the relative precision for the residuals along the path to ``1.0e-32``, the parameter at position ``21`` has to be set, as follows:"
   ]
  },
  {
   "cell_type": "code",
   "execution_count": 13,
   "id": "1033a45b-fe01-4d97-8c1e-e0daa04c9eb7",
   "metadata": {},
   "outputs": [
    {
     "data": {
      "text/plain": [
       "0"
      ]
     },
     "execution_count": 13,
     "metadata": {},
     "output_type": "execute_result"
    }
   ],
   "source": [
    "set_parameter_value(21, 1.0e-32)"
   ]
  },
  {
   "cell_type": "code",
   "execution_count": 14,
   "id": "2bfe4e89-8c5f-433f-8940-eb1083d8520a",
   "metadata": {},
   "outputs": [
    {
     "name": "stdout",
     "output_type": "stream",
     "text": [
      "GLOBAL MONITOR :\n",
      "  1. the condition of the homotopy           : 0\n",
      "  2. number of paths tracked simultaneously  : 1\n",
      "  3. maximum number of steps along a path    : 500\n",
      "  4. distance from target to start end game  : 1.000e-01\n",
      "  5. order of extrapolator in end game       : 0\n",
      "  6. maximum number of re-runs               : 1\n",
      "STEP CONTROL (PREDICTOR) :                    along path : end game\n",
      "  7: 8. type ( x:Cub,t:Rea ):( x:Cub,t:Rea ) : 8         : 8\n",
      "  9:10. minimum step size                    : 1.000e-06 : 1.000e-08\n",
      " 11:12. maximum step size                    : 1.000e-01 : 1.000e-02\n",
      " 13:14. reduction factor for step size       : 7.000e-01 : 5.000e-01\n",
      " 15:16. expansion factor for step size       : 1.250e+00 : 1.100e+00\n",
      " 17:18. expansion threshold                  : 1         : 3\n",
      "PATH CLOSENESS (CORRECTOR) :                  along path : end game\n",
      " 19:20. maximum number of iterations         : 3         : 3\n",
      " 21:22. relative precision for residuals     : 1.000e-32 : 1.000e-11\n",
      " 23:24. absolute precision for residuals     : 1.000e-09 : 1.000e-11\n",
      " 25:26. relative precision for corrections   : 1.000e-09 : 1.000e-11\n",
      " 27:28. absolute precision for corrections   : 1.000e-09 : 1.000e-11\n",
      "SOLUTION TOLERANCES :                         along path : end game\n",
      " 29:30. inverse condition of Jacobian        : 1.000e-04 : 1.000e-12\n",
      " 31:32. clustering of solutions              : 1.000e-04 : 1.000e-12\n",
      " 33:34. solution at infinity                 : 1.000e+08 : 1.000e+12\n"
     ]
    },
    {
     "data": {
      "text/plain": [
       "0"
      ]
     },
     "execution_count": 14,
     "metadata": {},
     "output_type": "execute_result"
    }
   ],
   "source": [
    "write_parameters()"
   ]
  },
  {
   "cell_type": "markdown",
   "id": "4977c175-cf38-4780-870c-df652c610e83",
   "metadata": {},
   "source": [
    "For this problem, the difference between absolute and relative does not matter, and neither does the difference between the residuals and corrections, as the paths are well conditioned.\n",
    "Along the path, we set the tolerance to ``1.0e-32`` and at the end to ``1.0e-48``."
   ]
  },
  {
   "cell_type": "code",
   "execution_count": 15,
   "id": "1431a466-a420-4aa7-9226-27b682474775",
   "metadata": {},
   "outputs": [
    {
     "name": "stdout",
     "output_type": "stream",
     "text": [
      "GLOBAL MONITOR :\n",
      "  1. the condition of the homotopy           : 0\n",
      "  2. number of paths tracked simultaneously  : 1\n",
      "  3. maximum number of steps along a path    : 500\n",
      "  4. distance from target to start end game  : 1.000e-01\n",
      "  5. order of extrapolator in end game       : 0\n",
      "  6. maximum number of re-runs               : 1\n",
      "STEP CONTROL (PREDICTOR) :                    along path : end game\n",
      "  7: 8. type ( x:Cub,t:Rea ):( x:Cub,t:Rea ) : 8         : 8\n",
      "  9:10. minimum step size                    : 1.000e-06 : 1.000e-08\n",
      " 11:12. maximum step size                    : 1.000e-01 : 1.000e-02\n",
      " 13:14. reduction factor for step size       : 7.000e-01 : 5.000e-01\n",
      " 15:16. expansion factor for step size       : 1.250e+00 : 1.100e+00\n",
      " 17:18. expansion threshold                  : 1         : 3\n",
      "PATH CLOSENESS (CORRECTOR) :                  along path : end game\n",
      " 19:20. maximum number of iterations         : 3         : 3\n",
      " 21:22. relative precision for residuals     : 1.000e-32 : 1.000e-48\n",
      " 23:24. absolute precision for residuals     : 1.000e-32 : 1.000e-48\n",
      " 25:26. relative precision for corrections   : 1.000e-32 : 1.000e-48\n",
      " 27:28. absolute precision for corrections   : 1.000e-32 : 1.000e-48\n",
      "SOLUTION TOLERANCES :                         along path : end game\n",
      " 29:30. inverse condition of Jacobian        : 1.000e-04 : 1.000e-12\n",
      " 31:32. clustering of solutions              : 1.000e-04 : 1.000e-12\n",
      " 33:34. solution at infinity                 : 1.000e+08 : 1.000e+12\n"
     ]
    },
    {
     "data": {
      "text/plain": [
       "0"
      ]
     },
     "execution_count": 15,
     "metadata": {},
     "output_type": "execute_result"
    }
   ],
   "source": [
    "for idx in [23, 25, 27]:\n",
    "    set_parameter_value(idx, 1.0e-32)\n",
    "for idx in [22, 24, 26, 28]:\n",
    "    set_parameter_value(idx, 1.0e-48)\n",
    "write_parameters()"
   ]
  },
  {
   "cell_type": "markdown",
   "id": "77229d10-a4af-4ee9-9984-04657d7d304f",
   "metadata": {},
   "source": [
    "Now we rerun the first path once more."
   ]
  },
  {
   "cell_type": "code",
   "execution_count": 16,
   "id": "536b9cea-b9f6-453b-a1ea-d03069a38d4c",
   "metadata": {},
   "outputs": [
    {
     "data": {
      "text/plain": [
       "(0.8972424945067451-0.4415381139282468j)"
      ]
     },
     "execution_count": 16,
     "metadata": {},
     "output_type": "execute_result"
    }
   ],
   "source": [
    "gamma, qdsol = quad_double_track(target, start, [startsols[0]], gamma=gamma)\n",
    "gamma"
   ]
  },
  {
   "cell_type": "code",
   "execution_count": 17,
   "id": "0b6fdd4d-c3fb-421a-80b7-090154080bdb",
   "metadata": {},
   "outputs": [
    {
     "name": "stdout",
     "output_type": "stream",
     "text": [
      "t : 1.0000000000000000000000000000000000000000000000000000000000000000E+00      0.0000000000000000000000000000000000000000000000000000000000000000E+00    \n",
      "m : 1\n",
      "the solution for t :\n",
      " x : 1.2360679774997896964091736687312762354406183596115257242708972454E+00      -5.2497200000892523553940877198954046619454940726389357724082489942E-135  \n",
      " y : 7.8615137775742328606955858584295892952312205783772323766490197012E-01      -5.8637627799330186773963784283091100994566589683500740754044455987E-133  \n",
      "== err :  3.218E-66 = rco :  1.998E-01 = res :  2.018E-65 =\n"
     ]
    }
   ],
   "source": [
    "print(qdsol[0])"
   ]
  },
  {
   "cell_type": "markdown",
   "id": "d75b6ee7-4461-474d-843c-c0b66343bb5f",
   "metadata": {},
   "source": [
    "Observe that the values of ``err`` and ``res`` (forward and backward error respectively) are much smaller than before, very close to the quad double precision."
   ]
  },
  {
   "cell_type": "markdown",
   "id": "4e83f6d8-8a23-4b7f-819f-b5d672565fc3",
   "metadata": {},
   "source": [
    "For the experiments in the next section, the values of the continuation parameters must be reset to their defaults."
   ]
  },
  {
   "cell_type": "code",
   "execution_count": 18,
   "id": "1c1f6a07-a772-4a5f-ac5b-e1db50ed3046",
   "metadata": {},
   "outputs": [],
   "source": [
    "from phcpy.trackers import autotune_parameters"
   ]
  },
  {
   "cell_type": "code",
   "execution_count": 19,
   "id": "a5a98164-9b4b-41d0-a921-cd9c18515f63",
   "metadata": {},
   "outputs": [
    {
     "data": {
      "text/plain": [
       "0"
      ]
     },
     "execution_count": 19,
     "metadata": {},
     "output_type": "execute_result"
    }
   ],
   "source": [
    "autotune_parameters(0, 14)"
   ]
  },
  {
   "cell_type": "code",
   "execution_count": 20,
   "id": "3f5340cc-8f30-4065-b256-f17d8a26967e",
   "metadata": {},
   "outputs": [
    {
     "name": "stdout",
     "output_type": "stream",
     "text": [
      "GLOBAL MONITOR :\n",
      "  1. the condition of the homotopy           : 0\n",
      "  2. number of paths tracked simultaneously  : 1\n",
      "  3. maximum number of steps along a path    : 500\n",
      "  4. distance from target to start end game  : 1.000e-01\n",
      "  5. order of extrapolator in end game       : 0\n",
      "  6. maximum number of re-runs               : 1\n",
      "STEP CONTROL (PREDICTOR) :                    along path : end game\n",
      "  7: 8. type ( x:Cub,t:Rea ):( x:Cub,t:Rea ) : 8         : 8\n",
      "  9:10. minimum step size                    : 1.000e-06 : 1.000e-08\n",
      " 11:12. maximum step size                    : 1.000e-01 : 1.000e-02\n",
      " 13:14. reduction factor for step size       : 7.000e-01 : 5.000e-01\n",
      " 15:16. expansion factor for step size       : 1.250e+00 : 1.100e+00\n",
      " 17:18. expansion threshold                  : 1         : 3\n",
      "PATH CLOSENESS (CORRECTOR) :                  along path : end game\n",
      " 19:20. maximum number of iterations         : 3         : 3\n",
      " 21:22. relative precision for residuals     : 1.000e-08 : 1.000e-11\n",
      " 23:24. absolute precision for residuals     : 1.000e-08 : 1.000e-11\n",
      " 25:26. relative precision for corrections   : 1.000e-08 : 1.000e-11\n",
      " 27:28. absolute precision for corrections   : 1.000e-08 : 1.000e-11\n",
      "SOLUTION TOLERANCES :                         along path : end game\n",
      " 29:30. inverse condition of Jacobian        : 1.000e-03 : 1.000e-11\n",
      " 31:32. clustering of solutions              : 1.000e-04 : 1.000e-12\n",
      " 33:34. solution at infinity                 : 1.000e+08 : 1.000e+12\n"
     ]
    },
    {
     "data": {
      "text/plain": [
       "0"
      ]
     },
     "execution_count": 20,
     "metadata": {},
     "output_type": "execute_result"
    }
   ],
   "source": [
    "write_parameters()"
   ]
  },
  {
   "cell_type": "markdown",
   "id": "8d43a87a-57bb-452c-a2e6-a8ff2732c378",
   "metadata": {},
   "source": [
    "# 3. a step-by-step path tracker"
   ]
  },
  {
   "cell_type": "markdown",
   "id": "6b7b603d-90e4-4067-b88f-fb22314d62a8",
   "metadata": {},
   "source": [
    "When we run a path tracker, or let a path tracker run, then the path tracker has the control of the order of execution.  In a step-by-step path tracker, we can ask the path tracker for the next point of the path, which is useful to plot the points along a path."
   ]
  },
  {
   "cell_type": "code",
   "execution_count": 21,
   "id": "e6d39d90-6b15-4a0a-bb90-74d823a674c7",
   "metadata": {},
   "outputs": [],
   "source": [
    "from phcpy.trackers import initialize_double_tracker\n",
    "from phcpy.trackers import initialize_double_solution\n",
    "from phcpy.trackers import next_double_solution"
   ]
  },
  {
   "cell_type": "code",
   "execution_count": 22,
   "id": "4d402d0e-4e44-4851-8e75-122e7cffc9de",
   "metadata": {},
   "outputs": [
    {
     "data": {
      "text/plain": [
       "0"
      ]
     },
     "execution_count": 22,
     "metadata": {},
     "output_type": "execute_result"
    }
   ],
   "source": [
    "initialize_double_tracker(target, start)"
   ]
  },
  {
   "cell_type": "code",
   "execution_count": 23,
   "id": "cac8a728-6d10-4e0b-a0e8-f23c4371ab88",
   "metadata": {},
   "outputs": [
    {
     "data": {
      "text/plain": [
       "0"
      ]
     },
     "execution_count": 23,
     "metadata": {},
     "output_type": "execute_result"
    }
   ],
   "source": [
    "initialize_double_solution(len(target), startsols[0])"
   ]
  },
  {
   "cell_type": "code",
   "execution_count": 24,
   "id": "39902b0e-f08a-4db1-8624-624ca783ada6",
   "metadata": {},
   "outputs": [
    {
     "name": "stdout",
     "output_type": "stream",
     "text": [
      "t :  1.00000000000000E-01   0.00000000000000E+00\n",
      "m : 1\n",
      "the solution for t :\n",
      " x :  9.96326698649568E-01   4.70406409720798E-03\n",
      " y :  9.96408257454631E-01   4.95315220446915E-03\n",
      "== err :  2.375E-05 = rco :  1.000E+00 = res :  3.619E-10 =\n"
     ]
    }
   ],
   "source": [
    "nextsol = next_double_solution()\n",
    "print(nextsol)"
   ]
  },
  {
   "cell_type": "code",
   "execution_count": 25,
   "id": "eec484da-4735-4e19-806f-2cd229426754",
   "metadata": {},
   "outputs": [
    {
     "name": "stdout",
     "output_type": "stream",
     "text": [
      "t :  2.00000000000000E-01   0.00000000000000E+00\n",
      "m : 1\n",
      "the solution for t :\n",
      " x :  9.79864035891029E-01   1.70985015865591E-02\n",
      " y :  9.81181263858417E-01   2.32157127720825E-02\n",
      "== err :  1.679E-08 = rco :  1.000E+00 = res :  2.760E-16 =\n"
     ]
    }
   ],
   "source": [
    "nextsol = next_double_solution()\n",
    "print(nextsol)"
   ]
  },
  {
   "cell_type": "code",
   "execution_count": 26,
   "id": "e529d4e3-8e37-4eff-881d-72419650a4f4",
   "metadata": {},
   "outputs": [],
   "source": [
    "from phcpy.solutions import strsol2dict"
   ]
  },
  {
   "cell_type": "code",
   "execution_count": 27,
   "id": "f6d6deda-c9e7-42aa-a3df-b13bd6e5f2da",
   "metadata": {},
   "outputs": [
    {
     "data": {
      "text/plain": [
       "(0.2+0j)"
      ]
     },
     "execution_count": 27,
     "metadata": {},
     "output_type": "execute_result"
    }
   ],
   "source": [
    "dictsol = strsol2dict(nextsol)\n",
    "dictsol['t']"
   ]
  },
  {
   "cell_type": "markdown",
   "id": "74ac251f-f38e-46b1-a078-1d1e0cef442d",
   "metadata": {},
   "source": [
    "In the code cell below, the loop continues calling ``next_double_solution`` until the value of the continuation parameter is less than 1.0.  The real part and imaginary part of the gamma constant are fixed for a deterministic run."
   ]
  },
  {
   "cell_type": "code",
   "execution_count": 28,
   "id": "8ff6fcce-118c-49de-ba1b-6d30c9af77f0",
   "metadata": {},
   "outputs": [],
   "source": [
    "initialize_double_tracker(target, start, regamma=0.345, imgamma=-0.765)\n",
    "initialize_double_solution(len(target), startsols[0])\n",
    "tval = 0.0\n",
    "path = [startsols[0]]\n",
    "while tval < 1.0:\n",
    "    nextsol = next_double_solution()\n",
    "    dictsol = strsol2dict(nextsol)\n",
    "    tval = dictsol['t'].real\n",
    "    path.append(nextsol)"
   ]
  },
  {
   "cell_type": "code",
   "execution_count": 29,
   "id": "ed3e7b2b-a507-4f2d-9e63-4be14d9bace5",
   "metadata": {},
   "outputs": [
    {
     "name": "stdout",
     "output_type": "stream",
     "text": [
      "(1+0j)\n",
      "(0.996326698649568+0.00470406409720798j)\n",
      "(0.979864035891029+0.0170985015865591j)\n",
      "(0.943788099865787+0.00964655321202273j)\n",
      "(0.950990471736517-0.0674242744055464j)\n",
      "(1.06214893672862-0.108107883550403j)\n",
      "(1.15606754413692-0.0765694315601522j)\n",
      "(1.20399680236398-0.0383121382228797j)\n",
      "(1.2254591757779-0.0141573296657659j)\n",
      "(1.23400325696781-0.00289013787311083j)\n",
      "(1.23606797749301-4.13424477147656e-11j)\n"
     ]
    }
   ],
   "source": [
    "for sol in path:\n",
    "    print(strsol2dict(sol)['x'])"
   ]
  },
  {
   "cell_type": "code",
   "execution_count": 30,
   "id": "4d6e2fb5-3bea-4eeb-ab54-2cc866209da6",
   "metadata": {},
   "outputs": [
    {
     "data": {
      "text/plain": [
       "[1.0,\n",
       " 0.996326698649568,\n",
       " 0.979864035891029,\n",
       " 0.943788099865787,\n",
       " 0.950990471736517,\n",
       " 1.06214893672862,\n",
       " 1.15606754413692,\n",
       " 1.20399680236398,\n",
       " 1.2254591757779,\n",
       " 1.23400325696781,\n",
       " 1.23606797749301]"
      ]
     },
     "execution_count": 30,
     "metadata": {},
     "output_type": "execute_result"
    }
   ],
   "source": [
    "xre = [strsol2dict(sol)['x'].real for sol in path]\n",
    "xre"
   ]
  },
  {
   "cell_type": "markdown",
   "id": "eaf61fa2-ee3b-48f4-90c7-da427a089a83",
   "metadata": {},
   "source": [
    "The imaginary parts of the x-coordinates and the two parts of the y-coordinates are set below."
   ]
  },
  {
   "cell_type": "code",
   "execution_count": 31,
   "id": "807cc8c4-63da-4a55-9c56-69016cd256a4",
   "metadata": {},
   "outputs": [],
   "source": [
    "xim = [strsol2dict(sol)['x'].imag for sol in path]\n",
    "yre = [strsol2dict(sol)['y'].real for sol in path]\n",
    "yim = [strsol2dict(sol)['y'].imag for sol in path]"
   ]
  },
  {
   "cell_type": "markdown",
   "id": "29a940de-4aee-4359-8b22-168f54ef0e11",
   "metadata": {},
   "source": [
    "Let us plot the coordinates of this first solution path."
   ]
  },
  {
   "cell_type": "code",
   "execution_count": 32,
   "id": "7ff71da0-4e00-40c3-8a6e-d6e12a96d475",
   "metadata": {},
   "outputs": [],
   "source": [
    "import matplotlib.pyplot as plt"
   ]
  },
  {
   "cell_type": "code",
   "execution_count": 33,
   "id": "0a6bcd65-89c8-4de8-901e-7c9b872f2081",
   "metadata": {},
   "outputs": [
    {
     "data": {
      "image/png": "[encoded data removed]",
      "text/plain": [
       "<Figure size 640x480 with 2 Axes>"
      ]
     },
     "metadata": {},
     "output_type": "display_data"
    }
   ],
   "source": [
    "fig, axs = plt.subplots(1, 2, constrained_layout=True)\n",
    "fig.suptitle('the coordinates of one solution path')\n",
    "axs[0].set_title('x coordinates')\n",
    "axs[0].set_xlabel('real part')\n",
    "axs[0].set_ylabel('imaginary part')\n",
    "axs[0].set_xlim(min(xre)-0.1, max(xre)+0.1)\n",
    "axs[0].set_ylim(min(xim)-0.025, max(xim)+0.025)\n",
    "dots, = axs[0].plot(xre,xim,'r-')\n",
    "dots, = axs[0].plot(xre,xim,'ro')\n",
    "axs[1].set_title('y coordinates')\n",
    "axs[1].set_xlabel('real part')\n",
    "axs[1].set_ylabel('imaginary part')\n",
    "axs[1].set_xlim(min(yre)-0.1, max(yre)+0.1)\n",
    "axs[1].set_ylim(min(yim)-0.025, max(yim)+0.025)\n",
    "dots, = axs[1].plot(yre,yim,'r-')\n",
    "dots, = axs[1].plot(yre,yim,'ro')\n",
    "plt.savefig('incfixaposteriorifig1')\n",
    "plt.show()"
   ]
  },
  {
   "cell_type": "markdown",
   "id": "52f679e3-d64b-48ca-8b64-3cf52cce0363",
   "metadata": {},
   "source": [
    "Why do the paths in such a simple homotopy curve so much?"
   ]
  }
 ],
 "metadata": {
  "kernelspec": {
   "display_name": "Python 3 (ipykernel)",
   "language": "python",
   "name": "python3"
  },
  "language_info": {
   "codemirror_mode": {
    "name": "ipython",
    "version": 3
   },
   "file_extension": ".py",
   "mimetype": "text/x-python",
   "name": "python",
   "nbconvert_exporter": "python",
   "pygments_lexer": "ipython3",
   "version": "3.10.13"
  }
 },
 "nbformat": 4,
 "nbformat_minor": 5
}
