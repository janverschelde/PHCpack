{
 "cells": [
  {
   "cell_type": "markdown",
   "id": "614395f9-34cc-4009-a1e1-5849b6a9d0bc",
   "metadata": {},
   "source": [
    "This notebook prepares the documentation in the user manual on the sweep homotopies,\n",
    "although a better title is of course arc length parameter continuation."
   ]
  },
  {
   "cell_type": "markdown",
   "id": "6be0e057-1699-4f95-bf1c-df36d0fa4378",
   "metadata": {},
   "source": [
    "# Arc Length Parameter Continuation"
   ]
  },
  {
   "cell_type": "markdown",
   "id": "2dca9f86-3292-4f00-b8c4-1a1dd8254f9d",
   "metadata": {},
   "source": [
    "With increment and fix continuation, the continuation parameter $t$ is fixed during the corrector stage.  With *arc length parameter continuation*, the parameter $t$ is variable during the correction stage.  This leads to a numerically effective algorithm to compute quadratic turning points."
   ]
  },
  {
   "cell_type": "code",
   "execution_count": 1,
   "id": "df615424-0012-4ecd-ac5d-80eac3b03489",
   "metadata": {
    "tags": []
   },
   "outputs": [
    {
     "name": "stdout",
     "output_type": "stream",
     "text": [
      "PHCv2.4.88 released 2023-12-26 works!\n"
     ]
    }
   ],
   "source": [
    "from phcpy.solutions import make_solution\n",
    "from phcpy.sweepers import double_real_sweep\n",
    "from phcpy.sweepers import double_complex_sweep"
   ]
  },
  {
   "cell_type": "markdown",
   "id": "c25a16d0-86ac-42ff-8686-279603e71c46",
   "metadata": {},
   "source": [
    "## 1. computing a real quadratic turning point"
   ]
  },
  {
   "cell_type": "markdown",
   "id": "c245d004-7327-47df-806e-4f3a0013e2e1",
   "metadata": {},
   "source": [
    "Arc length parameter continuation is applied in a real sweep\n",
    "which ends at a quadratic turning point."
   ]
  },
  {
   "cell_type": "code",
   "execution_count": 2,
   "id": "cdc8ba56-9fa9-4a36-b8fe-0e80f2d0da05",
   "metadata": {
    "tags": []
   },
   "outputs": [],
   "source": [
    "circle = ['x^2 + y^2 - 1;', 'y*(1-s) + (y-2)*s;']"
   ]
  },
  {
   "cell_type": "markdown",
   "id": "10852e57-ffbe-4ca9-8148-2ef10547802b",
   "metadata": {},
   "source": [
    "At ``s`` equal to zero, ``y`` is zero and we have $\\pm 1$ as the solutions for ``x``."
   ]
  },
  {
   "cell_type": "code",
   "execution_count": 3,
   "id": "33ff8c78-ed30-4cbe-bb54-3f9a40e2a93f",
   "metadata": {
    "tags": []
   },
   "outputs": [],
   "source": [
    "first = make_solution(['x', 'y', 's'], [1.0, 0.0, 0.0])\n",
    "second = make_solution(['x', 'y', 's'], [-1.0, 0.0, 0.0])\n",
    "startsols = [first, second]"
   ]
  },
  {
   "cell_type": "markdown",
   "id": "f4ab90a8-7504-4bd0-8a7d-e12f0c126b21",
   "metadata": {
    "tags": []
   },
   "source": [
    "With the start solutions defined, we then start the sweep in the real parameter space."
   ]
  },
  {
   "cell_type": "code",
   "execution_count": 4,
   "id": "870ae866-0f5f-49a8-a965-6595024a4e18",
   "metadata": {
    "tags": []
   },
   "outputs": [],
   "source": [
    "newsols = double_real_sweep(circle, startsols)"
   ]
  },
  {
   "cell_type": "code",
   "execution_count": 5,
   "id": "fa57e7af-65c1-4cb4-9ece-6c0bfde91d50",
   "metadata": {
    "tags": []
   },
   "outputs": [
    {
     "name": "stdout",
     "output_type": "stream",
     "text": [
      "Solution 1 :\n",
      "t :  0.00000000000000E+00   0.00000000000000E+00\n",
      "m : 1\n",
      "the solution for t :\n",
      " x : -2.46519032881566E-32   0.00000000000000E+00\n",
      " y :  1.00000000000000E+00   0.00000000000000E+00\n",
      " s :  5.00000000000000E-01   0.00000000000000E+00\n",
      "== err :  0.000E+00 = rco :  1.000E+00 = res :  0.000E+00 =\n",
      "Solution 2 :\n",
      "t :  0.00000000000000E+00   0.00000000000000E+00\n",
      "m : 1\n",
      "the solution for t :\n",
      " x :  2.46519032881566E-32   0.00000000000000E+00\n",
      " y :  1.00000000000000E+00   0.00000000000000E+00\n",
      " s :  5.00000000000000E-01   0.00000000000000E+00\n",
      "== err :  0.000E+00 = rco :  1.000E+00 = res :  0.000E+00 =\n"
     ]
    }
   ],
   "source": [
    "for (idx, sol) in enumerate(newsols):\n",
    "    print('Solution', idx+1, ':')\n",
    "    print(sol)"
   ]
  },
  {
   "cell_type": "markdown",
   "id": "1b545f96-d987-4096-9561-1e0b24f7c3ea",
   "metadata": {},
   "source": [
    "The homotopy stopped at ``s`` equal to ``0.5`` for at that value of ``s`` the solution for ``(x, y)`` is the double point ``(0, 1)``."
   ]
  },
  {
   "cell_type": "markdown",
   "id": "ef688703-a8f7-4e4f-96d1-82adac5cdf88",
   "metadata": {},
   "source": [
    "At a turning point, the real paths turn back in real space.  If moving forward, the solution points can continue, but then as a pair of complex conjugated paths, with nonzero imaginary parts."
   ]
  },
  {
   "cell_type": "markdown",
   "id": "58ec621b-5380-46af-b253-0412edde46b4",
   "metadata": {
    "tags": []
   },
   "source": [
    "## 2. complex parameter homotopy continuation"
   ]
  },
  {
   "cell_type": "markdown",
   "id": "65d7b2da-7ef9-4426-8eef-0fe2ac4507e1",
   "metadata": {},
   "source": [
    "Sweeping the parameter space with a convex linear combination\n",
    "of the parameters, no singularities are encountered."
   ]
  },
  {
   "cell_type": "code",
   "execution_count": 6,
   "id": "d82a0177-a771-4ce7-8233-737eb8878b6e",
   "metadata": {
    "tags": []
   },
   "outputs": [],
   "source": [
    "circle = ['x^2 + y^2 - 1;']"
   ]
  },
  {
   "cell_type": "markdown",
   "id": "c43b2968-bb8c-4f44-ab5c-b279281bac67",
   "metadata": {},
   "source": [
    "The ``circle`` defines a natural parameter homotopy, where ``y`` is the parameter, starting at zero.  For ``y`` equal to zero, the corresponding values for ``x`` in the start solutions are $\\pm 1$, defined below:"
   ]
  },
  {
   "cell_type": "code",
   "execution_count": 7,
   "id": "eeb15291-1eea-4c7d-8e40-fcb61ee535ef",
   "metadata": {
    "tags": []
   },
   "outputs": [],
   "source": [
    "first = make_solution(['x', 'y'], [1.0, 0.0])\n",
    "second = make_solution(['x', 'y'], [-1.0, 0.0])\n",
    "startsols = [first, second]"
   ]
  },
  {
   "cell_type": "markdown",
   "id": "bfe16d83-ad12-4228-bfdd-d2f370cfe9ba",
   "metadata": {},
   "source": [
    "In a complex sweep on a natural parameter homotopy, we have to define which variable will be the continuation parameter and we have to provide start and target values, giving real and imaginary parts."
   ]
  },
  {
   "cell_type": "code",
   "execution_count": 8,
   "id": "df3bdc80-4659-4069-930c-1890d099b529",
   "metadata": {
    "tags": []
   },
   "outputs": [],
   "source": [
    "par = ['y']\n",
    "start = [0, 0]\n",
    "target = [2, 0]"
   ]
  },
  {
   "cell_type": "code",
   "execution_count": 9,
   "id": "a7eddd16-35d9-4c95-abc6-dc74eef5c758",
   "metadata": {
    "tags": []
   },
   "outputs": [],
   "source": [
    "newsols = double_complex_sweep(circle, startsols, 2, par, start, target)"
   ]
  },
  {
   "cell_type": "code",
   "execution_count": 10,
   "id": "55dd4a07-c632-418d-9ec5-e2924e910164",
   "metadata": {
    "tags": []
   },
   "outputs": [
    {
     "name": "stdout",
     "output_type": "stream",
     "text": [
      "Solution 1 :\n",
      "t :  1.00000000000000E+00   0.00000000000000E+00\n",
      "m : 1\n",
      "the solution for t :\n",
      " x :  0.00000000000000E+00  -1.73205080756888E+00\n",
      " y :  2.00000000000000E+00   0.00000000000000E+00\n",
      "== err :  1.282E-16 = rco :  1.000E+00 = res :  4.441E-16 =\n",
      "Solution 2 :\n",
      "t :  1.00000000000000E+00   0.00000000000000E+00\n",
      "m : 1\n",
      "the solution for t :\n",
      " x :  0.00000000000000E+00   1.73205080756888E+00\n",
      " y :  2.00000000000000E+00   0.00000000000000E+00\n",
      "== err :  1.282E-16 = rco :  1.000E+00 = res :  4.441E-16 =\n"
     ]
    }
   ],
   "source": [
    "for (idx, sol) in enumerate(newsols):\n",
    "    print('Solution', idx+1, ':')\n",
    "    print(sol)"
   ]
  },
  {
   "cell_type": "markdown",
   "id": "a0453bb5-8469-4cca-b9a3-8089c59f0122",
   "metadata": {},
   "source": [
    "At the target value for ``y``, we arrived at a complex conjugated pair of solutions."
   ]
  }
 ],
 "metadata": {
  "kernelspec": {
   "display_name": "Python 3 (ipykernel)",
   "language": "python",
   "name": "python3"
  },
  "language_info": {
   "codemirror_mode": {
    "name": "ipython",
    "version": 3
   },
   "file_extension": ".py",
   "mimetype": "text/x-python",
   "name": "python",
   "nbconvert_exporter": "python",
   "pygments_lexer": "ipython3",
   "version": "3.11.5"
  }
 },
 "nbformat": 4,
 "nbformat_minor": 5
}
