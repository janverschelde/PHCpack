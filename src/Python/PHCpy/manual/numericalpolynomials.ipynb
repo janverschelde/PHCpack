{
 "cells": [
  {
   "cell_type": "markdown",
   "id": "ad1c8d0e-ef99-4481-b39d-d09a2dc700ea",
   "metadata": {},
   "source": [
    "This notebook is written in preparation on a section in the user manual."
   ]
  },
  {
   "cell_type": "markdown",
   "id": "8d31f5f5-4f17-4350-9106-d4037636e3f0",
   "metadata": {},
   "source": [
    "# Numerical Polynomials"
   ]
  },
  {
   "cell_type": "markdown",
   "id": "eb10eb90-939c-4623-9eba-00748c37c13e",
   "metadata": {},
   "source": [
    "If the input is wrong, then the output will be wrong as well."
   ]
  },
  {
   "cell_type": "markdown",
   "id": "41dd71a1-d9d6-4b0f-bde5-ae8931553034",
   "metadata": {},
   "source": [
    "## 1. symbols"
   ]
  },
  {
   "cell_type": "markdown",
   "id": "61fc34a5-c63b-4c4b-8ab8-b23028c7c38c",
   "metadata": {},
   "source": [
    "The solver computes with complex numbers and the imaginary unit can be denoted by ``i`` or ``I``.  For example:"
   ]
  },
  {
   "cell_type": "code",
   "execution_count": 1,
   "id": "ee5edb63-c162-446a-86ff-93ef008dfe7d",
   "metadata": {},
   "outputs": [],
   "source": [
    "p = 'x - i;'"
   ]
  },
  {
   "cell_type": "markdown",
   "id": "b5fa7854-e59b-4249-b437-910ed2927fb7",
   "metadata": {},
   "source": [
    "which represents the polynomial ``x - i``.  While ``i`` and ``I`` are symbols, they should not be used as the names of variables, because ``i`` and ``I`` are interpreted as numbers."
   ]
  },
  {
   "cell_type": "markdown",
   "id": "49002591-b1d8-4d94-be40-06045a6da9bc",
   "metadata": {},
   "source": [
    "The polynomials can be written in factored form.  For example:"
   ]
  },
  {
   "cell_type": "code",
   "execution_count": 2,
   "id": "0966ccf4-81d1-415f-8e27-c6402f8242ad",
   "metadata": {},
   "outputs": [],
   "source": [
    "p = '(y - 2)*(x + y - 1)^2;'"
   ]
  },
  {
   "cell_type": "markdown",
   "id": "446dce37-d6e7-4713-a87f-920c3c6f4d33",
   "metadata": {},
   "source": [
    "To enter this polynomial, first, the number of variables must be set."
   ]
  },
  {
   "cell_type": "code",
   "execution_count": 3,
   "id": "8c142de5-f7fc-492c-8dd5-da8c263b59a5",
   "metadata": {},
   "outputs": [
    {
     "name": "stdout",
     "output_type": "stream",
     "text": [
      "PHCv2.4.88 released 2023-12-26 works!\n"
     ]
    },
    {
     "data": {
      "text/plain": [
       "2"
      ]
     },
     "execution_count": 3,
     "metadata": {},
     "output_type": "execute_result"
    }
   ],
   "source": [
    "from phcpy.dimension import set_double_dimension, get_double_dimension\n",
    "set_double_dimension(2)\n",
    "get_double_dimension()"
   ]
  },
  {
   "cell_type": "code",
   "execution_count": 4,
   "id": "aa628a7e-a3ea-4ee1-ab01-d5934fce7bb5",
   "metadata": {},
   "outputs": [
    {
     "data": {
      "text/plain": [
       "'y^3 + 2*y^2*x + y*x^2 - 4*y^2 - 6*y*x - 2*x^2 + 5*y + 4*x - 2;'"
      ]
     },
     "execution_count": 4,
     "metadata": {},
     "output_type": "execute_result"
    }
   ],
   "source": [
    "from phcpy.polynomials import set_double_polynomial, get_double_polynomial\n",
    "set_double_polynomial(1, 2, p)\n",
    "get_double_polynomial(1)"
   ]
  },
  {
   "cell_type": "markdown",
   "id": "7eca22df-8a38-4bfa-bfbc-1e7cbad34ce9",
   "metadata": {},
   "source": [
    "Observe that the variable ``y`` appears first in the polynomial. "
   ]
  },
  {
   "cell_type": "code",
   "execution_count": 5,
   "id": "968ab08c-8ef8-4c97-986a-90f661f89065",
   "metadata": {},
   "outputs": [
    {
     "data": {
      "text/plain": [
       "['y', 'x']"
      ]
     },
     "execution_count": 5,
     "metadata": {},
     "output_type": "execute_result"
    }
   ],
   "source": [
    "from phcpy.polynomials import string_of_symbols\n",
    "string_of_symbols()"
   ]
  },
  {
   "cell_type": "markdown",
   "id": "f920da08-0adb-49b5-85e3-74855bc60182",
   "metadata": {},
   "source": [
    "If that is inconvenient, the simple trick is to add the null polynomial ``x - x`` in front of the string representation to ensure ``x`` comes first."
   ]
  },
  {
   "cell_type": "code",
   "execution_count": 6,
   "id": "7389bcb4-bcb5-4f19-9226-496c22593e61",
   "metadata": {},
   "outputs": [
    {
     "data": {
      "text/plain": [
       "'x - x + (y - 2)*(x + y - 1)^2;'"
      ]
     },
     "execution_count": 6,
     "metadata": {},
     "output_type": "execute_result"
    }
   ],
   "source": [
    "q = 'x - x + ' + p\n",
    "q"
   ]
  },
  {
   "cell_type": "markdown",
   "id": "96c0f651-403b-4170-84c1-f8284eeb021a",
   "metadata": {},
   "source": [
    "To continue, the polynomial that has been set must be cleared."
   ]
  },
  {
   "cell_type": "code",
   "execution_count": 7,
   "id": "7af71e93-9849-48c8-a962-67e71dcfff7e",
   "metadata": {},
   "outputs": [],
   "source": [
    "from phcpy.polynomials import clear_double_system"
   ]
  },
  {
   "cell_type": "code",
   "execution_count": 8,
   "id": "27b83e1a-ca52-46d9-a922-878ad8149372",
   "metadata": {},
   "outputs": [
    {
     "data": {
      "text/plain": [
       "'x^2*y + 2*x*y^2 + y^3 - 2*x^2 - 6*x*y - 4*y^2 + 4*x + 5*y - 2;'"
      ]
     },
     "execution_count": 8,
     "metadata": {},
     "output_type": "execute_result"
    }
   ],
   "source": [
    "set_double_dimension(2)\n",
    "set_double_polynomial(1, 2, q)\n",
    "get_double_polynomial(1)"
   ]
  },
  {
   "cell_type": "markdown",
   "id": "a1fe55e7-810f-45d8-98e1-f0049d73a4a5",
   "metadata": {},
   "source": [
    "Polynomials added to the system will follow the same order of symbols."
   ]
  },
  {
   "cell_type": "code",
   "execution_count": 14,
   "id": "e1600887-851e-4d1c-9e51-6d49a879503d",
   "metadata": {},
   "outputs": [
    {
     "data": {
      "text/plain": [
       "'y^2 + 4*x + y - 2;'"
      ]
     },
     "execution_count": 14,
     "metadata": {},
     "output_type": "execute_result"
    }
   ],
   "source": [
    "r = 'y**2 + 2*x - 1;'\n",
    "set_double_polynomial(2, 2, r)\n",
    "get_double_polynomial(2)"
   ]
  },
  {
   "cell_type": "code",
   "execution_count": 15,
   "id": "3857c1b6-3e55-4f5f-b4cc-6d619164775e",
   "metadata": {},
   "outputs": [
    {
     "data": {
      "text/plain": [
       "['x^2*y + 2*x*y^2 + y^3 - 2*x^2 - 6*x*y - 4*y^2 + 4*x + 5*y - 2;',\n",
       " 'y^2 + 4*x + y - 2;']"
      ]
     },
     "execution_count": 15,
     "metadata": {},
     "output_type": "execute_result"
    }
   ],
   "source": [
    "from phcpy.polynomials import get_double_system\n",
    "get_double_system()"
   ]
  },
  {
   "cell_type": "markdown",
   "id": "21da6d74-be0c-4aa6-a0c0-397bc4c41de9",
   "metadata": {},
   "source": [
    "# 2. numbers"
   ]
  },
  {
   "cell_type": "markdown",
   "id": "0f38b49c-5a1c-4749-80ec-6448413d25ae",
   "metadata": {},
   "source": [
    "The letters ``e`` and ``E`` appear in the scientific notation of floating-point numbers.  Therefore, these letters ``e`` and ``E`` should not be used as the names of variables."
   ]
  },
  {
   "cell_type": "markdown",
   "id": "09c064fc-3591-41e6-82a3-36539e75dc21",
   "metadata": {},
   "source": [
    "Even as coefficients can be entered as exact rational numbers, they are evaluated to floating point numbers."
   ]
  },
  {
   "cell_type": "code",
   "execution_count": 18,
   "id": "1dd7daae-cf07-43d6-93d5-ef1a02ab8b39",
   "metadata": {},
   "outputs": [
    {
     "data": {
      "text/plain": [
       "0"
      ]
     },
     "execution_count": 18,
     "metadata": {},
     "output_type": "execute_result"
    }
   ],
   "source": [
    "clear_double_system() # restart"
   ]
  },
  {
   "cell_type": "code",
   "execution_count": 17,
   "id": "16477607-994b-43fd-a1e0-12c5b672138a",
   "metadata": {},
   "outputs": [],
   "source": [
    "p = 'x - 1/3;'"
   ]
  },
  {
   "cell_type": "code",
   "execution_count": 20,
   "id": "e0cce7a4-409c-409e-8b72-ce4a1fd4644f",
   "metadata": {},
   "outputs": [
    {
     "data": {
      "text/plain": [
       "' + x - 3.33333333333333E-01;'"
      ]
     },
     "execution_count": 20,
     "metadata": {},
     "output_type": "execute_result"
    }
   ],
   "source": [
    "set_double_dimension(1)\n",
    "set_double_polynomial(1, 1, p)\n",
    "get_double_polynomial(1)"
   ]
  },
  {
   "cell_type": "markdown",
   "id": "a1fb1a41-4b20-441c-b4c6-3854ccf66380",
   "metadata": {},
   "source": [
    "Let us double the precision:"
   ]
  },
  {
   "cell_type": "code",
   "execution_count": 21,
   "id": "ef711762-a6cc-4eb2-b002-20c224fcc89b",
   "metadata": {},
   "outputs": [
    {
     "data": {
      "text/plain": [
       "' + x-3.33333333333333333333333333333324E-1;'"
      ]
     },
     "execution_count": 21,
     "metadata": {},
     "output_type": "execute_result"
    }
   ],
   "source": [
    "from phcpy.dimension import set_double_double_dimension\n",
    "from phcpy.polynomials import set_double_double_polynomial\n",
    "from phcpy.polynomials import get_double_double_polynomial\n",
    "set_double_double_dimension(1)\n",
    "set_double_double_polynomial(1, 1, p)\n",
    "get_double_double_polynomial(1)"
   ]
  }
 ],
 "metadata": {
  "kernelspec": {
   "display_name": "Python 3 (ipykernel)",
   "language": "python",
   "name": "python3"
  },
  "language_info": {
   "codemirror_mode": {
    "name": "ipython",
    "version": 3
   },
   "file_extension": ".py",
   "mimetype": "text/x-python",
   "name": "python",
   "nbconvert_exporter": "python",
   "pygments_lexer": "ipython3",
   "version": "3.10.13"
  }
 },
 "nbformat": 4,
 "nbformat_minor": 5
}
