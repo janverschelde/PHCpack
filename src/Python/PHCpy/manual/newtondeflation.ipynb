{
 "cells": [
  {
   "cell_type": "markdown",
   "id": "e10a6207-e7d3-4b42-ae20-d4305bfdada3",
   "metadata": {},
   "source": [
    "This notebook prepares the documentation on Newton's method, deflation, and multiplicity."
   ]
  },
  {
   "cell_type": "markdown",
   "id": "8789209f-9e16-43f0-9b21-a471f4be70a0",
   "metadata": {},
   "source": [
    "# Newton's method, Deflation and Multiplicity"
   ]
  },
  {
   "cell_type": "code",
   "execution_count": 1,
   "id": "d53c4973-12d0-456b-ae63-bfe9abd4c753",
   "metadata": {
    "tags": []
   },
   "outputs": [
    {
     "name": "stdout",
     "output_type": "stream",
     "text": [
      "PHCv2.4.88 released 2023-12-26 works!\n"
     ]
    }
   ],
   "source": [
    "from phcpy.solutions import make_solution\n",
    "from phcpy.deflation import double_newton_step\n",
    "from phcpy.deflation import double_double_newton_step\n",
    "from phcpy.deflation import quad_double_newton_step\n",
    "from phcpy.deflation import double_deflate\n",
    "from phcpy.deflation import double_multiplicity"
   ]
  },
  {
   "cell_type": "markdown",
   "id": "de8ee96b-8294-4188-8c9a-080ed2d2a5b0",
   "metadata": {},
   "source": [
    "## 1. Newton's method"
   ]
  },
  {
   "cell_type": "code",
   "execution_count": 2,
   "id": "13e93d30-9040-464b-907c-7d78f4ee92d5",
   "metadata": {
    "tags": []
   },
   "outputs": [],
   "source": [
    "pols = ['x^2 + 4*y^2 - 4;' '2*y^2 - x;']"
   ]
  },
  {
   "cell_type": "markdown",
   "id": "31d84d0c-f448-4218-9114-ca50ec6ffd6b",
   "metadata": {},
   "source": [
    "At a regular solution, Newton's method doubles the accuracy in each step. "
   ]
  },
  {
   "cell_type": "code",
   "execution_count": 3,
   "id": "3360b8e5-538d-48d3-9b57-45a349bccc7a",
   "metadata": {
    "tags": []
   },
   "outputs": [
    {
     "name": "stdout",
     "output_type": "stream",
     "text": [
      "t : 0.000000000000000E+00 0.000000000000000E+00\n",
      "m : 1\n",
      "the solution for t :\n",
      " x : 1.230000000000000E+00  0.0\n",
      " y : -7.860000000000000E-01  0.0\n",
      "== err : 0.000E+00 = rco : 1.000E+00 = res : 0.000E+00 =\n"
     ]
    }
   ],
   "source": [
    "sols = [make_solution(['x', 'y'], [1.23, -0.786])]\n",
    "print(sols[0])"
   ]
  },
  {
   "cell_type": "code",
   "execution_count": 4,
   "id": "1530d9e9-8012-4dc3-8a59-e6dce08ea46b",
   "metadata": {
    "tags": []
   },
   "outputs": [
    {
     "name": "stdout",
     "output_type": "stream",
     "text": [
      "t :  0.00000000000000E+00   0.00000000000000E+00\n",
      "m : 0\n",
      "the solution for t :\n",
      " x :  1.23085880440470E+00   0.00000000000000E+00\n",
      " y : -7.88195187844216E-01   0.00000000000000E+00\n",
      "== err :  2.195E-03 = rco :  0.000E+00 = res :  2.001E-05 =\n"
     ]
    }
   ],
   "source": [
    "sols = double_newton_step(pols, sols)\n",
    "print(sols[0])"
   ]
  },
  {
   "cell_type": "markdown",
   "id": "21c45a75-3dda-4725-8e47-032bc52b5749",
   "metadata": {},
   "source": [
    "Observe the values for ``err`` and ``res``."
   ]
  },
  {
   "cell_type": "code",
   "execution_count": 5,
   "id": "8641460c-55a1-4ed2-829d-3635e83e6dcf",
   "metadata": {
    "tags": []
   },
   "outputs": [
    {
     "name": "stdout",
     "output_type": "stream",
     "text": [
      "t :  0.00000000000000E+00   0.00000000000000E+00\n",
      "m : 0\n",
      "the solution for t :\n",
      " x :  1.23085772919640E+00   0.00000000000000E+00\n",
      " y : -7.88192433754122E-01   0.00000000000000E+00\n",
      "== err :  2.754E-06 = rco :  0.000E+00 = res :  3.150E-11 =\n"
     ]
    }
   ],
   "source": [
    "sols = double_newton_step(pols, sols)\n",
    "print(sols[0])"
   ]
  },
  {
   "cell_type": "code",
   "execution_count": 6,
   "id": "2951a4a2-ea91-4e53-93e6-db6474702b37",
   "metadata": {
    "tags": []
   },
   "outputs": [
    {
     "name": "stdout",
     "output_type": "stream",
     "text": [
      "t :  0.00000000000000E+00   0.00000000000000E+00\n",
      "m : 0\n",
      "the solution for t :\n",
      " x :  1.23085772919471E+00   0.00000000000000E+00\n",
      " y : -7.88192433749787E-01   0.00000000000000E+00\n",
      "== err :  4.335E-12 = rco :  0.000E+00 = res :  2.220E-16 =\n"
     ]
    }
   ],
   "source": [
    "sols = double_newton_step(pols, sols)\n",
    "print(sols[0])"
   ]
  },
  {
   "cell_type": "code",
   "execution_count": 7,
   "id": "bffbbeb7-fbb3-4cd6-a2ea-2d08fc21066e",
   "metadata": {
    "tags": []
   },
   "outputs": [
    {
     "name": "stdout",
     "output_type": "stream",
     "text": [
      "t : 0.00000000000000000000000000000000E+00      0.00000000000000000000000000000000E+00    \n",
      "m : 0\n",
      "the solution for t :\n",
      " x : 1.23085772919471000000000000000000E+00      0.00000000000000000000000000000000E+00    \n",
      " y : -7.88192433749787000000000000000007E-01     0.00000000000000000000000000000000E+00    \n",
      "== err :  4.335E-12 = rco :  0.000E+00 = res :  2.220E-16 =\n"
     ]
    }
   ],
   "source": [
    "sols = double_double_newton_step(pols, sols)\n",
    "print(sols[0])"
   ]
  },
  {
   "cell_type": "code",
   "execution_count": 8,
   "id": "341ed2ea-96cb-4f12-ae72-a0ddfca1eac0",
   "metadata": {
    "tags": []
   },
   "outputs": [
    {
     "name": "stdout",
     "output_type": "stream",
     "text": [
      "t : 0.00000000000000000000000000000000E+00      0.00000000000000000000000000000000E+00    \n",
      "m : 0\n",
      "the solution for t :\n",
      " x : 1.23085772919470999999999999999999E+00      0.00000000000000000000000000000000E+00    \n",
      " y : -7.88192433749787000000000000000007E-01     0.00000000000000000000000000000000E+00    \n",
      "== err :  4.335E-12 = rco :  0.000E+00 = res :  2.220E-16 =\n"
     ]
    }
   ],
   "source": [
    "sols = double_double_newton_step(pols, sols)\n",
    "print(sols[0])"
   ]
  },
  {
   "cell_type": "code",
   "execution_count": 9,
   "id": "466dcedb-c3bc-4568-abaf-ace2d552c2a9",
   "metadata": {
    "tags": []
   },
   "outputs": [
    {
     "name": "stdout",
     "output_type": "stream",
     "text": [
      "t : 0.0000000000000000000000000000000000000000000000000000000000000000E+00      0.0000000000000000000000000000000000000000000000000000000000000000E+00    \n",
      "m : 0\n",
      "the solution for t :\n",
      " x : 1.2308577291947099999999999999999900000000000000000000000000000000E+00      0.0000000000000000000000000000000000000000000000000000000000000000E+00    \n",
      " y : -7.8819243374978700000000000000000700000000000000000000000000000001E-01     0.0000000000000000000000000000000000000000000000000000000000000000E+00    \n",
      "== err :  4.335E-12 = rco :  0.000E+00 = res :  2.220E-16 =\n"
     ]
    }
   ],
   "source": [
    "sols = quad_double_newton_step(pols, sols)\n",
    "print(sols[0])"
   ]
  },
  {
   "cell_type": "markdown",
   "id": "38376508-0c4d-43a3-98c6-e674c81c5e27",
   "metadata": {},
   "source": [
    "## 2. Deflation"
   ]
  },
  {
   "cell_type": "markdown",
   "id": "2215e2a0-5466-4bd3-a9ce-a6c1a1d8bc22",
   "metadata": {},
   "source": [
    "At an isolated singular solution, *deflation* is a method to restore the quadratic convergence of Newton's method."
   ]
  },
  {
   "cell_type": "code",
   "execution_count": 10,
   "id": "77683bbb-03ee-4e3a-aa93-696edff0ad7d",
   "metadata": {
    "tags": []
   },
   "outputs": [],
   "source": [
    "pols = ['(29/16)*x^3 - 2*x*y;', 'x^2 - y;']"
   ]
  },
  {
   "cell_type": "code",
   "execution_count": 11,
   "id": "41a6172a-26a3-41ec-a7d9-527f31777dec",
   "metadata": {
    "tags": []
   },
   "outputs": [
    {
     "name": "stdout",
     "output_type": "stream",
     "text": [
      "t : 0.000000000000000E+00 0.000000000000000E+00\n",
      "m : 1\n",
      "the solution for t :\n",
      " x : 1.000000000000000E-06  0.0\n",
      " y : 1.000000000000000E-06  0.0\n",
      "== err : 0.000E+00 = rco : 1.000E+00 = res : 0.000E+00 =\n"
     ]
    }
   ],
   "source": [
    "sols = [make_solution(['x', 'y'],[1.0e-6, 1.0e-6])]\n",
    "print(sols[0])"
   ]
  },
  {
   "cell_type": "code",
   "execution_count": 12,
   "id": "cf90a781-42ba-4c1d-8cce-b062766417ec",
   "metadata": {
    "tags": []
   },
   "outputs": [
    {
     "name": "stdout",
     "output_type": "stream",
     "text": [
      "t :  0.00000000000000E+00   0.00000000000000E+00\n",
      "m : 0\n",
      "the solution for t :\n",
      " x :  9.99999906191101E-07   0.00000000000000E+00\n",
      " y :  9.99999812409806E-13   0.00000000000000E+00\n",
      "== err :  1.000E-06 = rco :  5.625E-13 = res :  1.875E-19 =\n"
     ]
    }
   ],
   "source": [
    "sols = double_newton_step(pols, sols)\n",
    "print(sols[0])"
   ]
  },
  {
   "cell_type": "code",
   "execution_count": 13,
   "id": "659541ce-d4c0-493f-bfe5-6c5fc5b79be8",
   "metadata": {},
   "outputs": [
    {
     "name": "stdout",
     "output_type": "stream",
     "text": [
      "t :  0.00000000000000E+00   0.00000000000000E+00\n",
      "m : 0\n",
      "the solution for t :\n",
      " x :  6.66666604160106E-07   0.00000000000000E+00\n",
      " y :  3.33333270859482E-13   0.00000000000000E+00\n",
      "== err :  3.333E-07 = rco :  2.778E-14 = res :  1.111E-13 =\n"
     ]
    }
   ],
   "source": [
    "sols = double_newton_step(pols, sols)\n",
    "print(sols[0])"
   ]
  },
  {
   "cell_type": "code",
   "execution_count": 14,
   "id": "4f397a9c-c07a-4620-bfce-29267c2831e4",
   "metadata": {},
   "outputs": [
    {
     "name": "stdout",
     "output_type": "stream",
     "text": [
      "t :  0.00000000000000E+00   0.00000000000000E+00\n",
      "m : 1\n",
      "the solution for t :\n",
      " x :  2.11572444293177E-22  -2.71418638493962E-25\n",
      " y :  7.81101038268534E-24   7.59985933345404E-23\n",
      "== err :  1.346E-11 = rco :  1.512E-02 = res :  1.735E-16 =\n"
     ]
    }
   ],
   "source": [
    "solsd = double_deflate(pols, sols)\n",
    "print(solsd[0])"
   ]
  },
  {
   "cell_type": "markdown",
   "id": "5792e197-4b29-4337-8819-f3d15798a228",
   "metadata": {},
   "source": [
    "Deflation also works on systems with more equations than unknowns."
   ]
  },
  {
   "cell_type": "code",
   "execution_count": 15,
   "id": "eb4edcc3-2407-4458-9d14-5074dbe1e0d2",
   "metadata": {},
   "outputs": [],
   "source": [
    "pols = ['x^2;', 'x*y;', 'y^2;']"
   ]
  },
  {
   "cell_type": "code",
   "execution_count": 16,
   "id": "ada61b76-451f-46a7-b109-3729702f959e",
   "metadata": {},
   "outputs": [
    {
     "name": "stdout",
     "output_type": "stream",
     "text": [
      "t : 0.000000000000000E+00 0.000000000000000E+00\n",
      "m : 1\n",
      "the solution for t :\n",
      " x : 1.000000000000000E-06  0.0\n",
      " y : 1.000000000000000E-06  0.0\n",
      "== err : 0.000E+00 = rco : 1.000E+00 = res : 0.000E+00 =\n"
     ]
    }
   ],
   "source": [
    "sols = [make_solution(['x', 'y'], [1.0e-6, 1.0e-6])]\n",
    "print(sols[0])"
   ]
  },
  {
   "cell_type": "code",
   "execution_count": 17,
   "id": "9054c2b9-e9a1-4dae-a5c4-5dc365807026",
   "metadata": {},
   "outputs": [
    {
     "name": "stdout",
     "output_type": "stream",
     "text": [
      "t :  0.00000000000000E+00   0.00000000000000E+00\n",
      "m : 1\n",
      "the solution for t :\n",
      " x :  1.25000000000000E-07   0.00000000000000E+00\n",
      " y :  1.25000000000000E-07   0.00000000000000E+00\n",
      "== err :  1.250E-07 = rco :  8.165E-01 = res :  1.562E-14 =\n"
     ]
    }
   ],
   "source": [
    "sols = double_deflate(pols, sols, tolrnk=1.0e-8)\n",
    "print(sols[0])"
   ]
  },
  {
   "cell_type": "code",
   "execution_count": 18,
   "id": "221acc7c-74fd-4140-87fb-b45615faf680",
   "metadata": {},
   "outputs": [
    {
     "name": "stdout",
     "output_type": "stream",
     "text": [
      "t :  0.00000000000000E+00   0.00000000000000E+00\n",
      "m : 1\n",
      "the solution for t :\n",
      " x :  2.93873587705572E-39   1.74487442700183E-39\n",
      " y :  5.87747175411144E-39  -6.24481373874340E-39\n",
      "== err :  2.713E-23 = rco :  4.082E-01 = res :  2.260E-38 =\n"
     ]
    }
   ],
   "source": [
    "sols = double_deflate(pols, sols, tolrnk=1.0e-4)\n",
    "print(sols[0])"
   ]
  },
  {
   "cell_type": "markdown",
   "id": "5d33f1d6-d8ed-474b-b4e8-cc97bb663304",
   "metadata": {
    "tags": []
   },
   "source": [
    "## 3. multiplicity structure"
   ]
  },
  {
   "cell_type": "markdown",
   "id": "f1a4bca1-8bff-406d-9fb4-f76716581114",
   "metadata": {},
   "source": [
    "The multiplicity can be computed *locally* starting at the solution."
   ]
  },
  {
   "cell_type": "code",
   "execution_count": 19,
   "id": "18b3a16e-fc40-4049-936a-32bbbbd0a2f0",
   "metadata": {},
   "outputs": [],
   "source": [
    "pols = [ 'x**2+y-3;', 'x+0.125*y**2-1.5;']"
   ]
  },
  {
   "cell_type": "code",
   "execution_count": 20,
   "id": "6a5801b5-4a64-4c15-a60a-aded25d27595",
   "metadata": {},
   "outputs": [
    {
     "name": "stdout",
     "output_type": "stream",
     "text": [
      "t : 0.000000000000000E+00 0.000000000000000E+00\n",
      "m : 1\n",
      "the solution for t :\n",
      " x : 1.000000000000000E+00  0.0\n",
      " y : 2.000000000000000E+00  0.0\n",
      "== err : 0.000E+00 = rco : 1.000E+00 = res : 0.000E+00 =\n"
     ]
    }
   ],
   "source": [
    "sol = make_solution(['x', 'y'], [1, 2])\n",
    "print(sol)"
   ]
  },
  {
   "cell_type": "code",
   "execution_count": 21,
   "id": "8bad23d4-572d-4f2a-85bd-db780e03efe5",
   "metadata": {},
   "outputs": [],
   "source": [
    "multiplicity, hilbert_function = double_multiplicity(pols, sol)"
   ]
  },
  {
   "cell_type": "code",
   "execution_count": 22,
   "id": "68935614-c0e2-4068-adf0-5bfcfb7cbf35",
   "metadata": {
    "tags": []
   },
   "outputs": [
    {
     "data": {
      "text/plain": [
       "3"
      ]
     },
     "execution_count": 22,
     "metadata": {},
     "output_type": "execute_result"
    }
   ],
   "source": [
    "multiplicity"
   ]
  },
  {
   "cell_type": "markdown",
   "id": "ce198abd-6eae-480b-ace1-4bc07c8b8c2c",
   "metadata": {},
   "source": [
    "Thus, the multiplicity of ``(1, 2)`` as solution equals three.  This is confirmed by the Hilbert function."
   ]
  },
  {
   "cell_type": "code",
   "execution_count": 23,
   "id": "8c30ddbb-d059-4884-8e2f-1ef4be8f7832",
   "metadata": {
    "tags": []
   },
   "outputs": [
    {
     "data": {
      "text/plain": [
       "[1, 1, 1, 0, 0, 0]"
      ]
     },
     "execution_count": 23,
     "metadata": {},
     "output_type": "execute_result"
    }
   ],
   "source": [
    "hilbert_function"
   ]
  },
  {
   "cell_type": "code",
   "execution_count": null,
   "id": "e182d347-e17d-4aeb-a374-fee4df7ee521",
   "metadata": {},
   "outputs": [],
   "source": []
  }
 ],
 "metadata": {
  "kernelspec": {
   "display_name": "Python 3 (ipykernel)",
   "language": "python",
   "name": "python3"
  },
  "language_info": {
   "codemirror_mode": {
    "name": "ipython",
    "version": 3
   },
   "file_extension": ".py",
   "mimetype": "text/x-python",
   "name": "python",
   "nbconvert_exporter": "python",
   "pygments_lexer": "ipython3",
   "version": "3.11.5"
  }
 },
 "nbformat": 4,
 "nbformat_minor": 5
}
