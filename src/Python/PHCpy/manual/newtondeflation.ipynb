{
 "cells": [
  {
   "cell_type": "markdown",
   "id": "e10a6207-e7d3-4b42-ae20-d4305bfdada3",
   "metadata": {},
   "source": [
    "This notebook prepares the documentation on Newton's method, deflation, and multiplicity."
   ]
  },
  {
   "cell_type": "markdown",
   "id": "8789209f-9e16-43f0-9b21-a471f4be70a0",
   "metadata": {},
   "source": [
    "# Newton's method, Deflation and Multiplicity"
   ]
  },
  {
   "cell_type": "code",
   "execution_count": 1,
   "id": "d53c4973-12d0-456b-ae63-bfe9abd4c753",
   "metadata": {
    "tags": []
   },
   "outputs": [
    {
     "name": "stdout",
     "output_type": "stream",
     "text": [
      "PHCv2.4.88 released 2023-12-26 works!\n"
     ]
    }
   ],
   "source": [
    "from phcpy.solutions import make_solution, strsol2dict\n",
    "from phcpy.deflation import double_newton_step\n",
    "from phcpy.deflation import double_double_newton_step\n",
    "from phcpy.deflation import quad_double_newton_step\n",
    "from phcpy.deflation import double_deflate\n",
    "from phcpy.deflation import double_multiplicity"
   ]
  },
  {
   "cell_type": "markdown",
   "id": "de8ee96b-8294-4188-8c9a-080ed2d2a5b0",
   "metadata": {},
   "source": [
    "## 1. Newton's method"
   ]
  },
  {
   "cell_type": "code",
   "execution_count": 2,
   "id": "13e93d30-9040-464b-907c-7d78f4ee92d5",
   "metadata": {
    "tags": []
   },
   "outputs": [],
   "source": [
    "pols = ['x^2 + 4*y^2 - 4;', '2*y^2 - x;']"
   ]
  },
  {
   "cell_type": "markdown",
   "id": "31d84d0c-f448-4218-9114-ca50ec6ffd6b",
   "metadata": {},
   "source": [
    "At a regular solution, Newton's method doubles the accuracy in each step. "
   ]
  },
  {
   "cell_type": "code",
   "execution_count": 3,
   "id": "3360b8e5-538d-48d3-9b57-45a349bccc7a",
   "metadata": {
    "tags": []
   },
   "outputs": [
    {
     "name": "stdout",
     "output_type": "stream",
     "text": [
      "t : 0.000000000000000E+00 0.000000000000000E+00\n",
      "m : 1\n",
      "the solution for t :\n",
      " x : 1.230000000000000E+00  0.0\n",
      " y : -7.860000000000000E-01  0.0\n",
      "== err : 0.000E+00 = rco : 1.000E+00 = res : 0.000E+00 =\n"
     ]
    }
   ],
   "source": [
    "sols = [make_solution(['x', 'y'], [1.23, -0.786])]\n",
    "print(sols[0])"
   ]
  },
  {
   "cell_type": "code",
   "execution_count": 4,
   "id": "1530d9e9-8012-4dc3-8a59-e6dce08ea46b",
   "metadata": {
    "tags": []
   },
   "outputs": [
    {
     "name": "stdout",
     "output_type": "stream",
     "text": [
      "t :  0.00000000000000E+00   0.00000000000000E+00\n",
      "m : 0\n",
      "the solution for t :\n",
      " x :  1.23607623318386E+00   0.00000000000000E+00\n",
      " y : -7.86154018188250E-01   0.00000000000000E+00\n",
      "== err :  6.230E-03 = rco :  1.998E-01 = res :  3.706E-05 =\n"
     ]
    }
   ],
   "source": [
    "sols = double_newton_step(pols, sols)\n",
    "print(sols[0])"
   ]
  },
  {
   "cell_type": "markdown",
   "id": "ee4cb0bb-676d-4f02-8519-4fd3dce1f58a",
   "metadata": {},
   "source": [
    "Observe the values for ``err`` (forward error), ``rco``(estimated inverse of the condition number), and ``res`` (the residual or backward error).  "
   ]
  },
  {
   "cell_type": "markdown",
   "id": "9574c458-db97-4935-86ae-db316b416ee4",
   "metadata": {},
   "source": [
    "The multiplicity field ``m`` turned ``0`` because the default tolerance was not reached and the solution could not be counted as a proper solution.  Let us reset the multiplicity, taking the values from the ``sols[0]``."
   ]
  },
  {
   "cell_type": "code",
   "execution_count": 5,
   "id": "f8f0a0ea-9f22-4eb8-bf62-e12bd0efd9c9",
   "metadata": {},
   "outputs": [
    {
     "data": {
      "text/plain": [
       "{'t': 0j,\n",
       " 'm': 0,\n",
       " 'err': 0.00623,\n",
       " 'rco': 0.1998,\n",
       " 'res': 3.706e-05,\n",
       " 'x': (1.23607623318386+0j),\n",
       " 'y': (-0.78615401818825+0j)}"
      ]
     },
     "execution_count": 5,
     "metadata": {},
     "output_type": "execute_result"
    }
   ],
   "source": [
    "sold = strsol2dict(sols[0])\n",
    "sold"
   ]
  },
  {
   "cell_type": "code",
   "execution_count": 6,
   "id": "e2702d83-c292-4cad-9b17-69dbc688ea36",
   "metadata": {},
   "outputs": [
    {
     "name": "stdout",
     "output_type": "stream",
     "text": [
      "t : 0.000000000000000E+00 0.000000000000000E+00\n",
      "m : 1\n",
      "the solution for t :\n",
      " x : 1.236076233183860E+00  0.000000000000000E+00\n",
      " y : -7.861540181882500E-01  0.000000000000000E+00\n",
      "== err : 0.000E+00 = rco : 1.000E+00 = res : 0.000E+00 =\n"
     ]
    }
   ],
   "source": [
    "sol = make_solution(['x', 'y'], [sold['x'], sold['y']])\n",
    "print(sol)"
   ]
  },
  {
   "cell_type": "code",
   "execution_count": 7,
   "id": "8641460c-55a1-4ed2-829d-3635e83e6dcf",
   "metadata": {
    "tags": []
   },
   "outputs": [
    {
     "name": "stdout",
     "output_type": "stream",
     "text": [
      "t :  0.00000000000000E+00   0.00000000000000E+00\n",
      "m : 0\n",
      "the solution for t :\n",
      " x :  1.23606797751503E+00   0.00000000000000E+00\n",
      " y : -7.86151377766704E-01   0.00000000000000E+00\n",
      "== err :  1.090E-05 = rco :  1.998E-01 = res :  1.100E-10 =\n"
     ]
    }
   ],
   "source": [
    "sols = [sol]\n",
    "sols = double_newton_step(pols, sols)\n",
    "print(sols[0])"
   ]
  },
  {
   "cell_type": "markdown",
   "id": "40f8d932-a795-4e46-87a9-72c9c680be28",
   "metadata": {},
   "source": [
    "Observe that the value of ``res`` dropped from magnitude ``1.0e-5`` down to ``1.0e-10``, corresponding to the well conditioning of the root.  However, the multiplicy field is still zero because the estimate for the forward error is still too high."
   ]
  },
  {
   "cell_type": "code",
   "execution_count": 8,
   "id": "2951a4a2-ea91-4e53-93e6-db6474702b37",
   "metadata": {
    "tags": []
   },
   "outputs": [
    {
     "name": "stdout",
     "output_type": "stream",
     "text": [
      "t :  0.00000000000000E+00   0.00000000000000E+00\n",
      "m : 1\n",
      "the solution for t :\n",
      " x :  1.23606797749979E+00   0.00000000000000E+00\n",
      " y : -7.86151377757423E-01   0.00000000000000E+00\n",
      "== err :  2.452E-11 = rco :  1.998E-01 = res :  4.441E-16 =\n"
     ]
    }
   ],
   "source": [
    "sold = strsol2dict(sols[0])\n",
    "sol = make_solution(['x', 'y'], [sold['x'], sold['y']])\n",
    "sols = [sol]\n",
    "sols = double_newton_step(pols, sols)\n",
    "print(sols[0])"
   ]
  },
  {
   "cell_type": "markdown",
   "id": "cec8ce62-7799-4bb0-9ce6-199414133ef3",
   "metadata": {},
   "source": [
    "The value for the residual ``res`` is very close to machine precision and the solution is considered a proper regular solution."
   ]
  },
  {
   "cell_type": "markdown",
   "id": "b0741290-e9de-42a4-9842-3b46e5985aff",
   "metadata": {},
   "source": [
    "We can double the precision to double double."
   ]
  },
  {
   "cell_type": "code",
   "execution_count": 9,
   "id": "bffbbeb7-fbb3-4cd6-a2ea-2d08fc21066e",
   "metadata": {
    "tags": []
   },
   "outputs": [
    {
     "name": "stdout",
     "output_type": "stream",
     "text": [
      "t : 0.00000000000000000000000000000000E+00      0.00000000000000000000000000000000E+00    \n",
      "m : 1\n",
      "the solution for t :\n",
      " x : 1.23606797749978969640917366873130E+00      0.00000000000000000000000000000000E+00    \n",
      " y : -7.86151377757423286069558585843026E-01     0.00000000000000000000000000000000E+00    \n",
      "== err :  3.036E-16 = rco :  1.998E-01 = res :  3.944E-31 =\n"
     ]
    }
   ],
   "source": [
    "sols = double_double_newton_step(pols, sols)\n",
    "print(sols[0])"
   ]
  },
  {
   "cell_type": "code",
   "execution_count": 10,
   "id": "341ed2ea-96cb-4f12-ae72-a0ddfca1eac0",
   "metadata": {
    "tags": []
   },
   "outputs": [
    {
     "name": "stdout",
     "output_type": "stream",
     "text": [
      "t : 0.00000000000000000000000000000000E+00      0.00000000000000000000000000000000E+00    \n",
      "m : 1\n",
      "the solution for t :\n",
      " x : 1.23606797749978969640917366873128E+00      0.00000000000000000000000000000000E+00    \n",
      " y : -7.86151377757423286069558585842966E-01     0.00000000000000000000000000000000E+00    \n",
      "== err :  6.272E-32 = rco :  1.998E-01 = res :  0.000E+00 =\n"
     ]
    }
   ],
   "source": [
    "sols = double_double_newton_step(pols, sols)\n",
    "print(sols[0])"
   ]
  },
  {
   "cell_type": "markdown",
   "id": "ea568a1c-364b-46cb-aec9-bc55708cf6f7",
   "metadata": {},
   "source": [
    "and then to quad double precision:"
   ]
  },
  {
   "cell_type": "code",
   "execution_count": 11,
   "id": "466dcedb-c3bc-4568-abaf-ace2d552c2a9",
   "metadata": {
    "tags": []
   },
   "outputs": [
    {
     "name": "stdout",
     "output_type": "stream",
     "text": [
      "t : 0.0000000000000000000000000000000000000000000000000000000000000000E+00      0.0000000000000000000000000000000000000000000000000000000000000000E+00    \n",
      "m : 1\n",
      "the solution for t :\n",
      " x : 1.2360679774997896964091736687312762354406183596115257242708972454E+00      0.0000000000000000000000000000000000000000000000000000000000000000E+00    \n",
      " y : -7.8615137775742328606955858584295892952312205783772323766490197015E-01     0.0000000000000000000000000000000000000000000000000000000000000000E+00    \n",
      "== err :  7.070E-33 = rco :  1.998E-01 = res :  2.101E-64 =\n"
     ]
    }
   ],
   "source": [
    "sols = quad_double_newton_step(pols, sols)\n",
    "print(sols[0])"
   ]
  },
  {
   "cell_type": "markdown",
   "id": "38376508-0c4d-43a3-98c6-e674c81c5e27",
   "metadata": {},
   "source": [
    "## 2. Deflation"
   ]
  },
  {
   "cell_type": "markdown",
   "id": "2215e2a0-5466-4bd3-a9ce-a6c1a1d8bc22",
   "metadata": {},
   "source": [
    "At an isolated singular solution, *deflation* is a method to restore the quadratic convergence of Newton's method."
   ]
  },
  {
   "cell_type": "code",
   "execution_count": 12,
   "id": "77683bbb-03ee-4e3a-aa93-696edff0ad7d",
   "metadata": {
    "tags": []
   },
   "outputs": [],
   "source": [
    "pols = ['(29/16)*x^3 - 2*x*y;', 'x^2 - y;']"
   ]
  },
  {
   "cell_type": "code",
   "execution_count": 13,
   "id": "41a6172a-26a3-41ec-a7d9-527f31777dec",
   "metadata": {
    "tags": []
   },
   "outputs": [
    {
     "name": "stdout",
     "output_type": "stream",
     "text": [
      "t : 0.000000000000000E+00 0.000000000000000E+00\n",
      "m : 1\n",
      "the solution for t :\n",
      " x : 1.000000000000000E-06  0.0\n",
      " y : 1.000000000000000E-06  0.0\n",
      "== err : 0.000E+00 = rco : 1.000E+00 = res : 0.000E+00 =\n"
     ]
    }
   ],
   "source": [
    "sols = [make_solution(['x', 'y'],[1.0e-6, 1.0e-6])]\n",
    "print(sols[0])"
   ]
  },
  {
   "cell_type": "code",
   "execution_count": 14,
   "id": "cf90a781-42ba-4c1d-8cce-b062766417ec",
   "metadata": {
    "tags": []
   },
   "outputs": [
    {
     "name": "stdout",
     "output_type": "stream",
     "text": [
      "t :  0.00000000000000E+00   0.00000000000000E+00\n",
      "m : 0\n",
      "the solution for t :\n",
      " x :  9.99999906191101E-07   0.00000000000000E+00\n",
      " y :  9.99999812409806E-13   0.00000000000000E+00\n",
      "== err :  1.000E-06 = rco :  5.625E-13 = res :  1.875E-19 =\n"
     ]
    }
   ],
   "source": [
    "sols = double_newton_step(pols, sols)\n",
    "print(sols[0])"
   ]
  },
  {
   "cell_type": "code",
   "execution_count": 15,
   "id": "659541ce-d4c0-493f-bfe5-6c5fc5b79be8",
   "metadata": {},
   "outputs": [
    {
     "name": "stdout",
     "output_type": "stream",
     "text": [
      "t :  0.00000000000000E+00   0.00000000000000E+00\n",
      "m : 0\n",
      "the solution for t :\n",
      " x :  6.66666604160106E-07   0.00000000000000E+00\n",
      " y :  3.33333270859482E-13   0.00000000000000E+00\n",
      "== err :  3.333E-07 = rco :  2.778E-14 = res :  1.111E-13 =\n"
     ]
    }
   ],
   "source": [
    "sols = double_newton_step(pols, sols)\n",
    "print(sols[0])"
   ]
  },
  {
   "cell_type": "code",
   "execution_count": 16,
   "id": "4f397a9c-c07a-4620-bfce-29267c2831e4",
   "metadata": {},
   "outputs": [
    {
     "name": "stdout",
     "output_type": "stream",
     "text": [
      "t :  0.00000000000000E+00   0.00000000000000E+00\n",
      "m : 1\n",
      "the solution for t :\n",
      " x :  9.46532112069346E-24   4.09228221015004E-24\n",
      " y :  1.02357542351685E-24  -2.03442589046821E-24\n",
      "== err :  5.292E-12 = rco :  5.608E-03 = res :  1.885E-15 =\n"
     ]
    }
   ],
   "source": [
    "solsd = double_deflate(pols, sols)\n",
    "print(solsd[0])"
   ]
  },
  {
   "cell_type": "markdown",
   "id": "5792e197-4b29-4337-8819-f3d15798a228",
   "metadata": {},
   "source": [
    "Deflation also works on systems with more equations than unknowns."
   ]
  },
  {
   "cell_type": "code",
   "execution_count": 17,
   "id": "eb4edcc3-2407-4458-9d14-5074dbe1e0d2",
   "metadata": {},
   "outputs": [],
   "source": [
    "pols = ['x^2;', 'x*y;', 'y^2;']"
   ]
  },
  {
   "cell_type": "code",
   "execution_count": 18,
   "id": "ada61b76-451f-46a7-b109-3729702f959e",
   "metadata": {},
   "outputs": [
    {
     "name": "stdout",
     "output_type": "stream",
     "text": [
      "t : 0.000000000000000E+00 0.000000000000000E+00\n",
      "m : 1\n",
      "the solution for t :\n",
      " x : 1.000000000000000E-06  0.0\n",
      " y : 1.000000000000000E-06  0.0\n",
      "== err : 0.000E+00 = rco : 1.000E+00 = res : 0.000E+00 =\n"
     ]
    }
   ],
   "source": [
    "sols = [make_solution(['x', 'y'], [1.0e-6, 1.0e-6])]\n",
    "print(sols[0])"
   ]
  },
  {
   "cell_type": "code",
   "execution_count": 19,
   "id": "9054c2b9-e9a1-4dae-a5c4-5dc365807026",
   "metadata": {},
   "outputs": [
    {
     "name": "stdout",
     "output_type": "stream",
     "text": [
      "t :  0.00000000000000E+00   0.00000000000000E+00\n",
      "m : 1\n",
      "the solution for t :\n",
      " x :  1.25000000000000E-07   0.00000000000000E+00\n",
      " y :  1.25000000000000E-07   0.00000000000000E+00\n",
      "== err :  1.250E-07 = rco :  8.165E-01 = res :  1.562E-14 =\n"
     ]
    }
   ],
   "source": [
    "sols = double_deflate(pols, sols, tolrnk=1.0e-8)\n",
    "print(sols[0])"
   ]
  },
  {
   "cell_type": "code",
   "execution_count": 20,
   "id": "221acc7c-74fd-4140-87fb-b45615faf680",
   "metadata": {},
   "outputs": [
    {
     "name": "stdout",
     "output_type": "stream",
     "text": [
      "t :  0.00000000000000E+00   0.00000000000000E+00\n",
      "m : 1\n",
      "the solution for t :\n",
      " x : -5.87747175411144E-39  -5.14278778484751E-39\n",
      " y :  2.93873587705572E-39  -1.83670992315982E-40\n",
      "== err :  2.757E-23 = rco :  4.082E-01 = res :  1.984E-38 =\n"
     ]
    }
   ],
   "source": [
    "sols = double_deflate(pols, sols, tolrnk=1.0e-4)\n",
    "print(sols[0])"
   ]
  },
  {
   "cell_type": "markdown",
   "id": "5d33f1d6-d8ed-474b-b4e8-cc97bb663304",
   "metadata": {
    "tags": []
   },
   "source": [
    "## 3. multiplicity structure"
   ]
  },
  {
   "cell_type": "markdown",
   "id": "f1a4bca1-8bff-406d-9fb4-f76716581114",
   "metadata": {},
   "source": [
    "The multiplicity can be computed *locally* starting at the solution."
   ]
  },
  {
   "cell_type": "code",
   "execution_count": 21,
   "id": "18b3a16e-fc40-4049-936a-32bbbbd0a2f0",
   "metadata": {},
   "outputs": [],
   "source": [
    "pols = [ 'x**2+y-3;', 'x+0.125*y**2-1.5;']"
   ]
  },
  {
   "cell_type": "code",
   "execution_count": 22,
   "id": "6a5801b5-4a64-4c15-a60a-aded25d27595",
   "metadata": {},
   "outputs": [
    {
     "name": "stdout",
     "output_type": "stream",
     "text": [
      "t : 0.000000000000000E+00 0.000000000000000E+00\n",
      "m : 1\n",
      "the solution for t :\n",
      " x : 1.000000000000000E+00  0.0\n",
      " y : 2.000000000000000E+00  0.0\n",
      "== err : 0.000E+00 = rco : 1.000E+00 = res : 0.000E+00 =\n"
     ]
    }
   ],
   "source": [
    "sol = make_solution(['x', 'y'], [1, 2])\n",
    "print(sol)"
   ]
  },
  {
   "cell_type": "code",
   "execution_count": 23,
   "id": "8bad23d4-572d-4f2a-85bd-db780e03efe5",
   "metadata": {},
   "outputs": [],
   "source": [
    "multiplicity, hilbert_function = double_multiplicity(pols, sol)"
   ]
  },
  {
   "cell_type": "code",
   "execution_count": 24,
   "id": "68935614-c0e2-4068-adf0-5bfcfb7cbf35",
   "metadata": {
    "tags": []
   },
   "outputs": [
    {
     "data": {
      "text/plain": [
       "3"
      ]
     },
     "execution_count": 24,
     "metadata": {},
     "output_type": "execute_result"
    }
   ],
   "source": [
    "multiplicity"
   ]
  },
  {
   "cell_type": "markdown",
   "id": "ce198abd-6eae-480b-ace1-4bc07c8b8c2c",
   "metadata": {},
   "source": [
    "Thus, the multiplicity of ``(1, 2)`` as solution equals three.  This is confirmed by the Hilbert function."
   ]
  },
  {
   "cell_type": "code",
   "execution_count": 25,
   "id": "8c30ddbb-d059-4884-8e2f-1ef4be8f7832",
   "metadata": {
    "tags": []
   },
   "outputs": [
    {
     "data": {
      "text/plain": [
       "[1, 1, 1, 0, 0, 0]"
      ]
     },
     "execution_count": 25,
     "metadata": {},
     "output_type": "execute_result"
    }
   ],
   "source": [
    "hilbert_function"
   ]
  }
 ],
 "metadata": {
  "kernelspec": {
   "display_name": "Python 3 (ipykernel)",
   "language": "python",
   "name": "python3"
  },
  "language_info": {
   "codemirror_mode": {
    "name": "ipython",
    "version": 3
   },
   "file_extension": ".py",
   "mimetype": "text/x-python",
   "name": "python",
   "nbconvert_exporter": "python",
   "pygments_lexer": "ipython3",
   "version": "3.10.13"
  }
 },
 "nbformat": 4,
 "nbformat_minor": 5
}
