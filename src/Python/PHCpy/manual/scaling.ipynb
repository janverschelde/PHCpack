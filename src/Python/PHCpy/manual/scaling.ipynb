{
 "cells": [
  {
   "cell_type": "markdown",
   "id": "dfad5379-3d1a-420b-903d-2248d694e9bd",
   "metadata": {},
   "source": [
    "Prepares the documentation on the scaling module."
   ]
  },
  {
   "cell_type": "markdown",
   "id": "5c7a8b69-2691-46c1-b7d7-7024d2c33792",
   "metadata": {},
   "source": [
    "# Equation and Variable Scaling"
   ]
  },
  {
   "cell_type": "markdown",
   "id": "91ce273c-9d7e-4fca-a069-2a5dbc045553",
   "metadata": {},
   "source": [
    "A polynomial system may have coefficients which vary widely in magnitude.  This may lead to inaccurate solutions.   Equation scaling multiplies all coefficients in the same equation by the same constant.  Variable scaling replaces the original variables by new variables times some constant.  Both equation and variable scaling can reduce the variability of the magnitudes of the coefficients of the system."
   ]
  },
  {
   "cell_type": "code",
   "execution_count": 1,
   "id": "8ffe224d-db04-4944-930a-8187d4d7de65",
   "metadata": {
    "tags": []
   },
   "outputs": [
    {
     "name": "stdout",
     "output_type": "stream",
     "text": [
      "PHCv2.4.88 released 2023-12-26 works!\n"
     ]
    }
   ],
   "source": [
    "from phcpy.solutions import verify\n",
    "from phcpy.solver import solve\n",
    "from phcpy.scaling import double_scale_system\n",
    "from phcpy.scaling import double_scale_solutions"
   ]
  },
  {
   "cell_type": "markdown",
   "id": "2d80edd0-8b05-4408-b240-73a348ebfd19",
   "metadata": {},
   "source": [
    "## 1. solving without scaling"
   ]
  },
  {
   "cell_type": "markdown",
   "id": "12190230-4485-4f8a-bc7c-17fbb52920b9",
   "metadata": {},
   "source": [
    "Consider the polynomials below."
   ]
  },
  {
   "cell_type": "code",
   "execution_count": 2,
   "id": "bd82cabf-6246-43b7-bdce-1c042d485536",
   "metadata": {
    "tags": []
   },
   "outputs": [],
   "source": [
    "p = ['0.000001*x^2 + 0.000004*y^2 - 4;', '0.000002*y^2 - 0.001*x;']"
   ]
  },
  {
   "cell_type": "code",
   "execution_count": 3,
   "id": "171dad20-488f-490c-8d8d-de597719896e",
   "metadata": {
    "tags": []
   },
   "outputs": [
    {
     "name": "stdout",
     "output_type": "stream",
     "text": [
      "Solution 1 :\n",
      "t :  1.00000000000000E+00   0.00000000000000E+00\n",
      "m : 1\n",
      "the solution for t :\n",
      " x :  1.23606797749980E+03  -4.34288187660045E-10\n",
      " y : -7.86151377757428E+02   2.63023405572965E-10\n",
      "== err :  2.598E-03 = rco :  4.053E-04 = res :  8.002E-10 =\n",
      "Solution 2 :\n",
      "t :  1.00000000000000E+00   0.00000000000000E+00\n",
      "m : 1\n",
      "the solution for t :\n",
      " x :  1.23606797749981E+03   1.58919085844426E-11\n",
      " y :  7.86151377757436E+02   9.62482268770893E-12\n",
      "== err :  5.733E-04 = rco :  4.053E-04 = res :  6.661E-11 =\n",
      "Solution 3 :\n",
      "t :  1.00000000000000E+00   0.00000000000000E+00\n",
      "m : 1\n",
      "the solution for t :\n",
      " x : -3.23606797750004E+03  -1.73527763271358E-11\n",
      " y :  4.58877485485452E-12  -1.27201964951414E+03\n",
      "== err :  1.310E-03 = rco :  2.761E-04 = res :  1.855E-10 =\n",
      "Solution 4 :\n",
      "t :  1.00000000000000E+00   0.00000000000000E+00\n",
      "m : 1\n",
      "the solution for t :\n",
      " x : -3.23606797749979E+03   5.48229606785362E-14\n",
      " y :  1.44974035789780E-14   1.27201964951407E+03\n",
      "== err :  6.525E-05 = rco :  2.761E-04 = res :  4.063E-14 =\n"
     ]
    }
   ],
   "source": [
    "psols = solve(p)\n",
    "for (idx, sol) in enumerate(psols):\n",
    "    print('Solution', idx+1, ':')\n",
    "    print(sol)"
   ]
  },
  {
   "cell_type": "markdown",
   "id": "ec1d51af-1816-4067-804b-dd3eb45baf36",
   "metadata": {},
   "source": [
    "Observe the magnitude of the values for the coordinates of the solutions and the estimates for the inverse condition numbers.  The forward errors ``err`` are rather large and the residual ``res`` not so close to the machine precision."
   ]
  },
  {
   "cell_type": "markdown",
   "id": "65f74b1e-29bc-4cfc-b206-24ae9f0b8d74",
   "metadata": {},
   "source": [
    "The function ``verify`` evaluates the polynomials in the system at the solutions and returns the sum of the absolute values."
   ]
  },
  {
   "cell_type": "code",
   "execution_count": 4,
   "id": "98860707-32bd-4358-b20b-686c1941371c",
   "metadata": {
    "tags": []
   },
   "outputs": [
    {
     "data": {
      "text/plain": [
       "4.3339840153217635e-12"
      ]
     },
     "execution_count": 4,
     "metadata": {},
     "output_type": "execute_result"
    }
   ],
   "source": [
    "verify(p, psols)"
   ]
  },
  {
   "cell_type": "markdown",
   "id": "13e51faf-c90d-41d1-b0bb-c608d6c130c7",
   "metadata": {},
   "source": [
    "With scaling this error can be reduced."
   ]
  },
  {
   "cell_type": "markdown",
   "id": "30407fe2-01bb-42a5-b6f4-56e979110f0d",
   "metadata": {},
   "source": [
    "## 2. solving after scaling"
   ]
  },
  {
   "cell_type": "markdown",
   "id": "4a9f54c0-7cd4-47c0-b311-26492da3879b",
   "metadata": {},
   "source": [
    "Equation and variable scaling is applied in double precision."
   ]
  },
  {
   "cell_type": "code",
   "execution_count": 5,
   "id": "9eda1923-a9a3-4cb1-a0f3-7e567a6729ed",
   "metadata": {
    "tags": []
   },
   "outputs": [],
   "source": [
    "(q, c) = double_scale_system(p)"
   ]
  },
  {
   "cell_type": "markdown",
   "id": "a4b77a97-ba2a-489c-bef0-96b34944c495",
   "metadata": {},
   "source": [
    "Consider now the coefficients of the scaled system."
   ]
  },
  {
   "cell_type": "code",
   "execution_count": 6,
   "id": "48fec595-0ff1-4175-9fe0-834cc7d31cf8",
   "metadata": {
    "tags": []
   },
   "outputs": [
    {
     "name": "stdout",
     "output_type": "stream",
     "text": [
      "9.99999999999994E-01*x^2 + 9.99999999999996E-01*y^2 - 1.00000000000000E+00;\n",
      " + 9.99999999999996E-01*y^2 - 9.99999999999997E-01*x;\n"
     ]
    }
   ],
   "source": [
    "for pol in q: \n",
    "    print(pol)"
   ]
  },
  {
   "cell_type": "markdown",
   "id": "e59df9e0-600c-4ff9-8050-ec136164c4a4",
   "metadata": {},
   "source": [
    "with scaling coefficients"
   ]
  },
  {
   "cell_type": "code",
   "execution_count": 7,
   "id": "0db1bad7-636b-4407-b432-f3c250b489c7",
   "metadata": {
    "tags": []
   },
   "outputs": [
    {
     "data": {
      "text/plain": [
       "[3.30102999566398,\n",
       " 0.0,\n",
       " 2.999999999999999,\n",
       " 0.0,\n",
       " -0.6020599913279623,\n",
       " 0.0,\n",
       " -0.30102999566398136,\n",
       " 0.0,\n",
       " 0.04028876017114153,\n",
       " 0.0]"
      ]
     },
     "execution_count": 7,
     "metadata": {},
     "output_type": "execute_result"
    }
   ],
   "source": [
    "c"
   ]
  },
  {
   "cell_type": "markdown",
   "id": "fcf99aae-317f-434b-85cd-d404d742c0af",
   "metadata": {},
   "source": [
    "We solve the scaled system:"
   ]
  },
  {
   "cell_type": "code",
   "execution_count": 8,
   "id": "70d0ed6d-9787-44fe-b6c4-57f6476f9859",
   "metadata": {
    "tags": []
   },
   "outputs": [
    {
     "name": "stdout",
     "output_type": "stream",
     "text": [
      "Solution 1 :\n",
      "t :  1.00000000000000E+00   0.00000000000000E+00\n",
      "m : 1\n",
      "the solution for t :\n",
      " x : -1.61803398874990E+00   2.94545607917864E-90\n",
      " y :  1.47272803958932E-90   1.27201964951407E+00\n",
      "== err :  1.475E-16 = rco :  2.268E-01 = res :  6.661E-16 =\n",
      "Solution 2 :\n",
      "t :  1.00000000000000E+00   0.00000000000000E+00\n",
      "m : 1\n",
      "the solution for t :\n",
      " x : -1.61803398874990E+00   2.94545607917864E-90\n",
      " y : -1.47272803958932E-90  -1.27201964951407E+00\n",
      "== err :  1.475E-16 = rco :  2.268E-01 = res :  6.661E-16 =\n",
      "Solution 3 :\n",
      "t :  1.00000000000000E+00   0.00000000000000E+00\n",
      "m : 1\n",
      "the solution for t :\n",
      " x :  6.18033988749897E-01  -2.92604772168262E-98\n",
      " y :  7.86151377757425E-01   0.00000000000000E+00\n",
      "== err :  8.868E-17 = rco :  4.601E-01 = res :  1.110E-16 =\n",
      "Solution 4 :\n",
      "t :  1.00000000000000E+00   0.00000000000000E+00\n",
      "m : 1\n",
      "the solution for t :\n",
      " x :  6.18033988749897E-01  -2.92604772168262E-98\n",
      " y : -7.86151377757425E-01   0.00000000000000E+00\n",
      "== err :  8.868E-17 = rco :  4.601E-01 = res :  1.110E-16 =\n"
     ]
    }
   ],
   "source": [
    "qsols = solve(q)\n",
    "for (idx, sol) in enumerate(qsols):\n",
    "    print('Solution', idx+1, ':')\n",
    "    print(sol)"
   ]
  },
  {
   "cell_type": "markdown",
   "id": "ff71aee6-0585-4b39-ab1b-cb1343522ee2",
   "metadata": {},
   "source": [
    "All solutions of the scaled system are well conditioned with small forward and backward errors."
   ]
  },
  {
   "cell_type": "markdown",
   "id": "10b2f47c-342a-4c13-a37c-43f9af574883",
   "metadata": {},
   "source": [
    "The scaling coefficients in ``c`` are used to bring the solutions of the scaled problem to the original coordinates."
   ]
  },
  {
   "cell_type": "code",
   "execution_count": 9,
   "id": "106b2b8e-c605-4f62-9a24-0f5077ade1e9",
   "metadata": {
    "tags": []
   },
   "outputs": [],
   "source": [
    "ssols = double_scale_solutions(len(q), qsols, c)"
   ]
  },
  {
   "cell_type": "code",
   "execution_count": 10,
   "id": "5af0fc52-24c7-4346-9026-ee9e4e97c077",
   "metadata": {
    "tags": []
   },
   "outputs": [
    {
     "name": "stdout",
     "output_type": "stream",
     "text": [
      "Solution 1 :\n",
      "t :  1.00000000000000E+00   0.00000000000000E+00\n",
      "m : 1\n",
      "the solution for t :\n",
      " x : -3.23606797749979E+03   5.89091215835726E-87\n",
      " y :  1.47272803958932E-87   1.27201964951407E+03\n",
      "== err :  1.475E-16 = rco :  2.268E-01 = res :  6.661E-16 =\n",
      "Solution 2 :\n",
      "t :  1.00000000000000E+00   0.00000000000000E+00\n",
      "m : 1\n",
      "the solution for t :\n",
      " x : -3.23606797749979E+03   5.89091215835726E-87\n",
      " y : -1.47272803958932E-87  -1.27201964951407E+03\n",
      "== err :  1.475E-16 = rco :  2.268E-01 = res :  6.661E-16 =\n",
      "Solution 3 :\n",
      "t :  1.00000000000000E+00   0.00000000000000E+00\n",
      "m : 1\n",
      "the solution for t :\n",
      " x :  1.23606797749979E+03  -5.85209544336522E-95\n",
      " y :  7.86151377757424E+02   0.00000000000000E+00\n",
      "== err :  8.868E-17 = rco :  4.601E-01 = res :  1.110E-16 =\n",
      "Solution 4 :\n",
      "t :  1.00000000000000E+00   0.00000000000000E+00\n",
      "m : 1\n",
      "the solution for t :\n",
      " x :  1.23606797749979E+03  -5.85209544336522E-95\n",
      " y : -7.86151377757424E+02   0.00000000000000E+00\n",
      "== err :  8.868E-17 = rco :  4.601E-01 = res :  1.110E-16 =\n"
     ]
    }
   ],
   "source": [
    "for (idx, sol) in enumerate(ssols):\n",
    "    print('Solution', idx+1, ':')\n",
    "    print(sol)"
   ]
  },
  {
   "cell_type": "markdown",
   "id": "af52b3ef-6fbd-432c-8582-6bf4b4b3ace2",
   "metadata": {},
   "source": [
    "Let us look at the sum of the backward errors."
   ]
  },
  {
   "cell_type": "code",
   "execution_count": 11,
   "id": "3dfb962d-a993-466a-9fe7-7e407db7d26d",
   "metadata": {
    "tags": []
   },
   "outputs": [
    {
     "data": {
      "text/plain": [
       "4.4853010194856324e-14"
      ]
     },
     "execution_count": 11,
     "metadata": {},
     "output_type": "execute_result"
    }
   ],
   "source": [
    "verify(p, ssols)"
   ]
  },
  {
   "cell_type": "markdown",
   "id": "c75fe4a2-bcfa-42b5-beec-593d7e7e508b",
   "metadata": {},
   "source": [
    "Observe that the error is about one hundred times smaller than without scaling."
   ]
  }
 ],
 "metadata": {
  "kernelspec": {
   "display_name": "Python 3 (ipykernel)",
   "language": "python",
   "name": "python3"
  },
  "language_info": {
   "codemirror_mode": {
    "name": "ipython",
    "version": 3
   },
   "file_extension": ".py",
   "mimetype": "text/x-python",
   "name": "python",
   "nbconvert_exporter": "python",
   "pygments_lexer": "ipython3",
   "version": "3.11.5"
  }
 },
 "nbformat": 4,
 "nbformat_minor": 5
}
