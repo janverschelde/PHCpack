{
 "cells": [
  {
   "cell_type": "markdown",
   "id": "5ead08e9-8240-4daa-bc44-f78079210222",
   "metadata": {},
   "source": [
    "Illustrates multithreading and quality up."
   ]
  },
  {
   "cell_type": "markdown",
   "id": "5d8dfb73-37a0-4ecb-83cb-2d951c1ec3f2",
   "metadata": {},
   "source": [
    "# Parallel Runs"
   ]
  },
  {
   "cell_type": "markdown",
   "id": "7323488d-5084-4d69-9607-36438a9f30cb",
   "metadata": {},
   "source": [
    "Almost all computers are parallel and have multiple cores available."
   ]
  },
  {
   "cell_type": "code",
   "execution_count": 1,
   "id": "9e833b1c-88c9-4bed-974b-34d47e6dc6cb",
   "metadata": {},
   "outputs": [
    {
     "name": "stdout",
     "output_type": "stream",
     "text": [
      "PHCv2.4.88 released 2023-12-26 works!\n"
     ]
    },
    {
     "data": {
      "text/plain": [
       "32"
      ]
     },
     "execution_count": 1,
     "metadata": {},
     "output_type": "execute_result"
    }
   ],
   "source": [
    "from phcpy.dimension import get_core_count\n",
    "nbcores = get_core_count()\n",
    "nbcores"
   ]
  },
  {
   "cell_type": "markdown",
   "id": "ca03908f-436b-48c2-92bc-4714070a34d4",
   "metadata": {},
   "source": [
    "In the experiment we use the cyclic 7-roots problem."
   ]
  },
  {
   "cell_type": "code",
   "execution_count": 2,
   "id": "07178ef4-7e0d-49b8-9680-232b55881df2",
   "metadata": {},
   "outputs": [
    {
     "name": "stdout",
     "output_type": "stream",
     "text": [
      "x0 + x1 + x2 + x3 + x4 + x5 + x6;\n",
      "x0*x1 + x1*x2 + x2*x3 + x3*x4 + x4*x5 + x5*x6 + x6*x0;\n",
      "x0*x1*x2 + x1*x2*x3 + x2*x3*x4 + x3*x4*x5 + x4*x5*x6 + x5*x6*x0 + x6*x0*x1;\n",
      "x0*x1*x2*x3 + x1*x2*x3*x4 + x2*x3*x4*x5 + x3*x4*x5*x6 + x4*x5*x6*x0 + x5*x6*x0*x1 + x6*x0*x1*x2;\n",
      "x0*x1*x2*x3*x4 + x1*x2*x3*x4*x5 + x2*x3*x4*x5*x6 + x3*x4*x5*x6*x0 + x4*x5*x6*x0*x1 + x5*x6*x0*x1*x2 + x6*x0*x1*x2*x3;\n",
      "x0*x1*x2*x3*x4*x5 + x1*x2*x3*x4*x5*x6 + x2*x3*x4*x5*x6*x0 + x3*x4*x5*x6*x0*x1 + x4*x5*x6*x0*x1*x2 + x5*x6*x0*x1*x2*x3 + x6*x0*x1*x2*x3*x4;\n",
      "x0*x1*x2*x3*x4*x5*x6 - 1;\n"
     ]
    }
   ],
   "source": [
    "from phcpy.families import cyclic\n",
    "c7 = cyclic(7)\n",
    "for pol in c7:\n",
    "    print(pol)"
   ]
  },
  {
   "cell_type": "code",
   "execution_count": 3,
   "id": "513483bc-6490-4f02-9ce2-099e73a2d843",
   "metadata": {},
   "outputs": [
    {
     "data": {
      "text/plain": [
       "924"
      ]
     },
     "execution_count": 3,
     "metadata": {},
     "output_type": "execute_result"
    }
   ],
   "source": [
    "from phcpy.volumes import mixed_volume\n",
    "mixed_volume(c7)"
   ]
  },
  {
   "cell_type": "markdown",
   "id": "972b6ba3-2702-49a1-b722-aab46633a612",
   "metadata": {},
   "source": [
    "For this problem, there are as many solutions as the mixed volume."
   ]
  },
  {
   "cell_type": "code",
   "execution_count": 4,
   "id": "ac36a743-764d-442e-a74d-7ccdfc367bc2",
   "metadata": {},
   "outputs": [],
   "source": [
    "from phcpy.solver import solve"
   ]
  },
  {
   "cell_type": "markdown",
   "id": "32b8520b-f1ae-4eba-9e0e-c471b9471afb",
   "metadata": {},
   "source": [
    "To measure the speedup, the elapsed time between the start and the end of the run has to be computed.  The most honest time measurement is the *wall clock time* which as suggested uses the time on the wall clock.  The timers provided by Python do not measure the CPU time of compiled code that is executed by the solver."
   ]
  },
  {
   "cell_type": "code",
   "execution_count": 5,
   "id": "999dacc4-b363-4fec-a88c-94d09265dd64",
   "metadata": {},
   "outputs": [],
   "source": [
    "from datetime import datetime"
   ]
  },
  {
   "cell_type": "code",
   "execution_count": 6,
   "id": "6598464d-97ee-4758-9b05-5c4bdb4902bc",
   "metadata": {},
   "outputs": [
    {
     "name": "stdout",
     "output_type": "stream",
     "text": [
      "elapsed wall clock time on 1 core : 0:00:04.097170\n"
     ]
    }
   ],
   "source": [
    "timestart = datetime.now()\n",
    "s = solve(c7)\n",
    "timestop = datetime.now()\n",
    "elapsed_onecore = timestop - timestart\n",
    "print('elapsed wall clock time on 1 core :', elapsed_onecore)"
   ]
  },
  {
   "cell_type": "markdown",
   "id": "07730e88-cecb-42c9-947b-d47f890ac2ef",
   "metadata": {},
   "source": [
    "We check whether we have as many solutions as the mixed volume."
   ]
  },
  {
   "cell_type": "code",
   "execution_count": 7,
   "id": "df3a35fa-4ed8-498c-8127-8d886ecd02b1",
   "metadata": {},
   "outputs": [
    {
     "data": {
      "text/plain": [
       "924"
      ]
     },
     "execution_count": 7,
     "metadata": {},
     "output_type": "execute_result"
    }
   ],
   "source": [
    "len(s)"
   ]
  },
  {
   "cell_type": "markdown",
   "id": "58819f40-0464-4bdc-a7a2-93e2895e58e5",
   "metadata": {},
   "source": [
    "Now we solve again, using all available cores."
   ]
  },
  {
   "cell_type": "code",
   "execution_count": 8,
   "id": "edeace48-2399-4500-aa4f-9eb3facc1f80",
   "metadata": {},
   "outputs": [
    {
     "name": "stdout",
     "output_type": "stream",
     "text": [
      "elapsed wall clock time on 32 cores: 0:00:00.384301\n"
     ]
    }
   ],
   "source": [
    "timestart = datetime.now()\n",
    "s = solve(c7, tasks=nbcores)\n",
    "timestop = datetime.now()\n",
    "elapsed_manycores = timestop - timestart\n",
    "print('elapsed wall clock time on', nbcores, 'cores:', elapsed_manycores)"
   ]
  },
  {
   "cell_type": "code",
   "execution_count": 9,
   "id": "8551d4bf-4401-489b-92a1-28f08a56a586",
   "metadata": {},
   "outputs": [
    {
     "data": {
      "text/plain": [
       "924"
      ]
     },
     "execution_count": 9,
     "metadata": {},
     "output_type": "execute_result"
    }
   ],
   "source": [
    "len(s)"
   ]
  },
  {
   "cell_type": "markdown",
   "id": "fde605b4-43a1-448f-8325-655b36afa627",
   "metadata": {},
   "source": [
    "Observe the reduction in the elapsed wall clock time."
   ]
  },
  {
   "cell_type": "code",
   "execution_count": 10,
   "id": "c62c04c3-188c-48d5-b887-de02e4381f7c",
   "metadata": {},
   "outputs": [
    {
     "data": {
      "text/plain": [
       "10.66135659287902"
      ]
     },
     "execution_count": 10,
     "metadata": {},
     "output_type": "execute_result"
    }
   ],
   "source": [
    "speedup = elapsed_onecore/elapsed_manycores\n",
    "speedup"
   ]
  },
  {
   "cell_type": "markdown",
   "id": "11414f2d-8d5d-4ff4-aa64-bc6d7cbd157f",
   "metadata": {},
   "source": [
    "## quality up"
   ]
  },
  {
   "cell_type": "markdown",
   "id": "efdda8a6-b517-4689-92d0-884661a2297f",
   "metadata": {},
   "source": [
    "Can multithreading compensate for the overhead of double double arithmetic?\n",
    "If we can afford the time for a sequential run, by how much can we increase\n",
    "the precision in a multithreaded run in the same time or less?"
   ]
  },
  {
   "cell_type": "code",
   "execution_count": 11,
   "id": "dbe03205-94a2-44e7-acbc-52e570182b45",
   "metadata": {},
   "outputs": [
    {
     "name": "stdout",
     "output_type": "stream",
     "text": [
      "elasped wall clock time on 32 cores : 0:00:03.663632\n"
     ]
    }
   ],
   "source": [
    "timestart = datetime.now()\n",
    "s = solve(c7, tasks=nbcores, precision='dd')\n",
    "timestop = datetime.now()\n",
    "elapsed = timestop - timestart\n",
    "print('elasped wall clock time on', nbcores, 'cores :', elapsed)"
   ]
  },
  {
   "cell_type": "markdown",
   "id": "9de25ed1-c6cf-4aa0-b8c7-f8a22bc0c1a9",
   "metadata": {},
   "source": [
    "Again, we check whether we have as many solutions as the mixed volume."
   ]
  },
  {
   "cell_type": "code",
   "execution_count": 12,
   "id": "9d3ef117-1948-448b-a152-542aae1143b6",
   "metadata": {},
   "outputs": [
    {
     "data": {
      "text/plain": [
       "924"
      ]
     },
     "execution_count": 12,
     "metadata": {},
     "output_type": "execute_result"
    }
   ],
   "source": [
    "len(s)"
   ]
  },
  {
   "cell_type": "code",
   "execution_count": 13,
   "id": "b0ed95ad-9268-42d2-a72c-ea96ba3b8107",
   "metadata": {},
   "outputs": [
    {
     "data": {
      "text/plain": [
       "True"
      ]
     },
     "execution_count": 13,
     "metadata": {},
     "output_type": "execute_result"
    }
   ],
   "source": [
    "elapsed < elapsed_onecore"
   ]
  },
  {
   "cell_type": "markdown",
   "id": "e8ca24b6-a977-4b1c-b423-16cb005af59f",
   "metadata": {},
   "source": [
    "With the multicore run, we compensated for the cost overhead of double double arithmetic, as the elapsed wall clock time on many cores in double double precision is less than the run on one core in double precision."
   ]
  }
 ],
 "metadata": {
  "kernelspec": {
   "display_name": "Python 3 (ipykernel)",
   "language": "python",
   "name": "python3"
  },
  "language_info": {
   "codemirror_mode": {
    "name": "ipython",
    "version": 3
   },
   "file_extension": ".py",
   "mimetype": "text/x-python",
   "name": "python",
   "nbconvert_exporter": "python",
   "pygments_lexer": "ipython3",
   "version": "3.10.13"
  }
 },
 "nbformat": 4,
 "nbformat_minor": 5
}
