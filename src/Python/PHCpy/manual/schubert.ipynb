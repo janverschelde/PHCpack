{
 "cells": [
  {
   "cell_type": "markdown",
   "id": "c208d772-9fc7-4d58-982a-e863771959da",
   "metadata": {},
   "source": [
    "This notebook prepares the documentation on the module schubert."
   ]
  },
  {
   "cell_type": "markdown",
   "id": "571a694f-a888-4c87-bb48-27eb843fc489",
   "metadata": {},
   "source": [
    "# Homotopies for Problems in Enumerative Geometry"
   ]
  },
  {
   "cell_type": "markdown",
   "id": "f8de1f3c-2c38-4a80-ba71-2469720dfc69",
   "metadata": {},
   "source": [
    "Problems in enumerative geometry have a particular structure, well suited for polynomial homotopies.  Based on the Pieri root counts and the Littlewood-Richardson rule, there are homotopies which are *generical optimal* in the sense that the number of solution paths matches the number of solutions, for generic problems."
   ]
  },
  {
   "cell_type": "markdown",
   "id": "c3c13535-38f0-4925-8303-a112711e8f24",
   "metadata": {},
   "source": [
    "## 1. Pieri Homotopies"
   ]
  },
  {
   "cell_type": "markdown",
   "id": "e192e525-7555-4cba-979b-4a3196832b51",
   "metadata": {},
   "source": [
    "A classical problem in enumerative goes as follows.  Given four lines in 3-space, how many lines do meet those four given lines in a point?  Although seemingly a linear problem, it turns out that the answer is two.  For four given lines in general position, there are two lines meeting the four given lines."
   ]
  },
  {
   "cell_type": "markdown",
   "id": "20d3c9bf-a1ef-4044-b777-daa3affb0739",
   "metadata": {},
   "source": [
    "The code below applies Pieri homotopies to compute all lines meeting\n",
    "four random lines in 3-space."
   ]
  },
  {
   "cell_type": "code",
   "execution_count": 1,
   "id": "f61facab-fbf9-48d3-925c-0673f7104c63",
   "metadata": {},
   "outputs": [
    {
     "name": "stdout",
     "output_type": "stream",
     "text": [
      "PHCv2.4.88 released 2023-12-26 works!\n"
     ]
    }
   ],
   "source": [
    "from phcpy.schubert import pieri_root_count"
   ]
  },
  {
   "cell_type": "markdown",
   "id": "995fac8c-97a9-497b-a339-0a01d59daa25",
   "metadata": {},
   "source": [
    "A line is represented by a matrix with 2 columns.  Therefore, both ``m``. the dimension of the input, and ``p``, the dimension of the output, are both equal to ``2``. "
   ]
  },
  {
   "cell_type": "code",
   "execution_count": 2,
   "id": "a939fd08-5c2f-4f2b-931d-5254925bad7f",
   "metadata": {},
   "outputs": [
    {
     "data": {
      "text/plain": [
       "2"
      ]
     },
     "execution_count": 2,
     "metadata": {},
     "output_type": "execute_result"
    }
   ],
   "source": [
    "pieri_root_count(2, 2)"
   ]
  },
  {
   "cell_type": "code",
   "execution_count": 3,
   "id": "f67ccbe1-5438-4dc0-921b-3f607c91a0ae",
   "metadata": {},
   "outputs": [],
   "source": [
    "from phcpy.schubert import random_complex_matrix, run_pieri_homotopies"
   ]
  },
  {
   "cell_type": "code",
   "execution_count": 4,
   "id": "07e95d63-0a40-40bd-a7cf-eb16538b0c62",
   "metadata": {},
   "outputs": [],
   "source": [
    "(m, p) = (2, 2)\n",
    "dim = m*p\n",
    "L = [random_complex_matrix(m+p, m) for _ in range(dim)]"
   ]
  },
  {
   "cell_type": "code",
   "execution_count": 5,
   "id": "d461be6c-d851-404a-9684-b9bbaab65bcb",
   "metadata": {},
   "outputs": [],
   "source": [
    "(fsys, fsols) = run_pieri_homotopies(m, p, 0, L)"
   ]
  },
  {
   "cell_type": "code",
   "execution_count": 6,
   "id": "9fd6b965-70e5-4fe6-a25a-f4a6a1ae3f0a",
   "metadata": {},
   "outputs": [
    {
     "name": "stdout",
     "output_type": "stream",
     "text": [
      "Solution 1 :\n",
      "t :  0.00000000000000E+00   0.00000000000000E+00\n",
      "m : 1\n",
      "the solution for t :\n",
      " x21 : -5.90757451491546E-01  -2.73796238095519E-02\n",
      " x31 : -9.20374122953531E-01   2.18442665351047E-01\n",
      " x32 :  8.14344855671798E-01  -5.32153788006048E-01\n",
      " x42 : -5.75636214663051E-01  -2.78447850739093E-01\n",
      "== err :  2.304E-15 = rco :  3.053E-02 = res :  1.388E-15 =\n",
      "Solution 2 :\n",
      "t :  0.00000000000000E+00   0.00000000000000E+00\n",
      "m : 1\n",
      "the solution for t :\n",
      " x21 :  6.13353565245472E-01   5.36374877135208E-01\n",
      " x31 : -1.40790300814705E-01   3.49424087655845E-02\n",
      " x32 : -5.00597509424303E-01  -1.02203061067751E+00\n",
      " x42 : -1.74780414053227E+00   6.25395371456727E-01\n",
      "== err :  2.558E-15 = rco :  6.714E-02 = res :  2.331E-15 =\n"
     ]
    }
   ],
   "source": [
    "for (idx, sol) in enumerate(fsols): \n",
    "    print('Solution', idx+1, ':')\n",
    "    print(sol)"
   ]
  },
  {
   "cell_type": "markdown",
   "id": "c63ff505-59e4-4534-92b7-530e58672176",
   "metadata": {},
   "source": [
    "The names of the variables use the indexing to denote the position in the matrix of the generators of the line.  The formal root count is summarized in the poset of localization patterns."
   ]
  },
  {
   "cell_type": "code",
   "execution_count": 7,
   "id": "502816da-1746-4cfc-8886-4ca13932b149",
   "metadata": {},
   "outputs": [],
   "source": [
    "from phcpy.schubert import pieri_localization_poset"
   ]
  },
  {
   "cell_type": "code",
   "execution_count": 8,
   "id": "c370e4ac-86f2-45c0-ae0e-1f7364accbfc",
   "metadata": {},
   "outputs": [
    {
     "name": "stdout",
     "output_type": "stream",
     "text": [
      "n = 0 : ([2 3],[2 3],1)([1 4],[1 4],1)\n",
      "n = 1 : \n",
      "n = 2 : ([1 3],[2 4],2)\n",
      "n = 3 : \n",
      "n = 4 : ([1 2],[3 4],2)\n"
     ]
    }
   ],
   "source": [
    "poset22 = pieri_localization_poset(2, 2)\n",
    "print(poset22)"
   ]
  },
  {
   "cell_type": "markdown",
   "id": "d5117c79-d5c2-417d-84d0-1d2f4b018776",
   "metadata": {},
   "source": [
    "If the degree ``q`` is nonzero, the problem of p-planes meeting m-planes is extended to computing curves of degree ``q`` that produce p-planes that meet m-planes at interpolation points.  For example, consider line producing interpolating curves."
   ]
  },
  {
   "cell_type": "code",
   "execution_count": 9,
   "id": "48651504-9a9f-43dd-a8e0-3339b3ae6c87",
   "metadata": {},
   "outputs": [
    {
     "name": "stdout",
     "output_type": "stream",
     "text": [
      "n = 0 : ([3 4],[3 4],1)([2 5],[2 5],1)\n",
      "n = 1 : \n",
      "n = 2 : ([2 4],[3 5],2)\n",
      "n = 3 : \n",
      "n = 4 : ([2 3],[3 6],2)([2 3],[4 5],2)([1 4],[3 6],2)([1 4],[4 5],2)\n",
      "n = 5 : \n",
      "n = 6 : ([1 3],[4 6],8)\n",
      "n = 7 : \n",
      "n = 8 : ([1 2],[4 7],8)\n"
     ]
    }
   ],
   "source": [
    "poset221 = pieri_localization_poset(2, 2, 1)\n",
    "print(poset221)"
   ]
  },
  {
   "cell_type": "code",
   "execution_count": 10,
   "id": "15c3aaee-b566-4e55-a277-cf0d2f9c940b",
   "metadata": {},
   "outputs": [
    {
     "data": {
      "text/plain": [
       "8"
      ]
     },
     "execution_count": 10,
     "metadata": {},
     "output_type": "execute_result"
    }
   ],
   "source": [
    "(m, p, q) = (2, 2, 1)\n",
    "dim = m*p + q*(m+p)\n",
    "roco = pieri_root_count(m, p, q)\n",
    "roco"
   ]
  },
  {
   "cell_type": "code",
   "execution_count": 11,
   "id": "09767f01-217a-4d16-9fd5-e4a16e863981",
   "metadata": {},
   "outputs": [],
   "source": [
    "L = [random_complex_matrix(m+p, m) for _ in range(dim)]"
   ]
  },
  {
   "cell_type": "code",
   "execution_count": 12,
   "id": "e4fa658b-9f78-42df-9a35-379da16b20b9",
   "metadata": {},
   "outputs": [],
   "source": [
    "points = random_complex_matrix(dim, 1)"
   ]
  },
  {
   "cell_type": "code",
   "execution_count": 13,
   "id": "c5e89dfe-946e-49da-90b0-44f775a612aa",
   "metadata": {},
   "outputs": [],
   "source": [
    "(fsys, fsols) = run_pieri_homotopies(m, p, q, L, 0, points)"
   ]
  },
  {
   "cell_type": "code",
   "execution_count": 14,
   "id": "d49e021c-e99f-4cb6-b1c5-702bfad44f79",
   "metadata": {},
   "outputs": [
    {
     "data": {
      "text/plain": [
       "8"
      ]
     },
     "execution_count": 14,
     "metadata": {},
     "output_type": "execute_result"
    }
   ],
   "source": [
    "len(fsols)"
   ]
  },
  {
   "cell_type": "code",
   "execution_count": 15,
   "id": "3bb25788-d94f-473d-8d1f-755bc7e60ad9",
   "metadata": {},
   "outputs": [
    {
     "name": "stdout",
     "output_type": "stream",
     "text": [
      "Solution 1 :\n",
      "t :  0.00000000000000E+00   0.00000000000000E+00\n",
      "m : 1\n",
      "the solution for t :\n",
      " x11s0 : -2.14906949033699E-01  -6.39278480067621E-01\n",
      " x21s0 : -2.15094936097349E-01   7.13137735748634E-01\n",
      " x31s0 :  4.89419546169109E-01   7.96444688560527E-02\n",
      " x41s0 :  3.20065497988893E-01   5.85095426596230E-01\n",
      " x22s0 :  2.31759428669014E-01  -2.62654162829177E-01\n",
      " x32s0 : -9.91726822253624E-01  -6.97520762259368E-01\n",
      " x42s0 : -9.55529418833548E-01   7.00387732447402E-01\n",
      " x12s1 :  9.33661460517070E-01  -6.12105981775290E-01\n",
      "== err :  0.000E+00 = rco :  0.000E+00 = res :  0.000E+00 =\n",
      "Solution 2 :\n",
      "t :  0.00000000000000E+00   0.00000000000000E+00\n",
      "m : 1\n",
      "the solution for t :\n",
      " x11s0 :  1.10520066466899E+00  -3.50325368846109E-01\n",
      " x21s0 :  5.18574648064343E-01   1.32725970575267E-01\n",
      " x31s0 :  2.62487605641133E-01   3.74101095634462E-01\n",
      " x41s0 :  5.47831843633738E-01   7.39727656004381E-01\n",
      " x22s0 : -3.83564646759339E-01  -3.63155591886385E-01\n",
      " x32s0 : -4.18752363921196E-01  -1.00720592449952E-01\n",
      " x42s0 : -1.73131137487804E+00   2.32539054040540E-01\n",
      " x12s1 :  2.63582010113658E-01  -5.40149341401405E-01\n",
      "== err :  0.000E+00 = rco :  0.000E+00 = res :  0.000E+00 =\n",
      "Solution 3 :\n",
      "t :  0.00000000000000E+00   0.00000000000000E+00\n",
      "m : 1\n",
      "the solution for t :\n",
      " x11s0 : -1.09406342297013E+00   1.40229579344629E+00\n",
      " x21s0 : -9.14923921567758E-01  -5.69034530991378E-02\n",
      " x31s0 : -2.57253733233100E-01   1.11315272481983E+00\n",
      " x41s0 : -1.23385040712015E+00  -3.62148913829782E+00\n",
      " x22s0 : -1.48508415565715E+00  -1.46881674145667E+00\n",
      " x32s0 : -2.18057639295167E+00  -1.82823489900416E+00\n",
      " x42s0 :  3.49088194334639E+00   2.33832870569806E+00\n",
      " x12s1 : -7.99089515647370E-01   2.01242656315116E+00\n",
      "== err :  0.000E+00 = rco :  0.000E+00 = res :  0.000E+00 =\n",
      "Solution 4 :\n",
      "t :  0.00000000000000E+00   0.00000000000000E+00\n",
      "m : 1\n",
      "the solution for t :\n",
      " x11s0 :  6.20220385308888E-01   7.14013088945019E-01\n",
      " x21s0 :  1.96622054165017E-01   6.37755854895062E-01\n",
      " x31s0 :  3.84896917178092E-01  -2.74979883047354E-01\n",
      " x41s0 :  2.85390395538486E-01   2.21952044787881E-01\n",
      " x22s0 : -3.21807655249411E-01  -5.36746050197169E-01\n",
      " x32s0 :  1.15438122582161E-01  -9.43108020255466E-01\n",
      " x42s0 : -4.47775301334196E-01  -1.25556346180423E-01\n",
      " x12s1 :  7.52973406987737E-01  -4.13342381841601E-01\n",
      "== err :  0.000E+00 = rco :  0.000E+00 = res :  0.000E+00 =\n",
      "Solution 5 :\n",
      "t :  0.00000000000000E+00   0.00000000000000E+00\n",
      "m : 1\n",
      "the solution for t :\n",
      " x11s0 : -6.40605568129237E-01   5.53687431204576E-01\n",
      " x21s0 : -3.17434054891094E-01  -1.17563450907422E+00\n",
      " x31s0 : -1.27461906338159E+00   5.02576168841663E-01\n",
      " x41s0 : -1.10280584587259E+00   4.85210021219730E-01\n",
      " x22s0 :  8.42063423093745E-01   8.61583481543135E-01\n",
      " x32s0 :  6.33194409804748E-01   6.14896771183676E-01\n",
      " x42s0 :  3.64149459917250E-01   2.12619523294958E-01\n",
      " x12s1 : -2.47538557540740E-01   4.66198793734136E-02\n",
      "== err :  0.000E+00 = rco :  0.000E+00 = res :  0.000E+00 =\n",
      "Solution 6 :\n",
      "t :  0.00000000000000E+00   0.00000000000000E+00\n",
      "m : 1\n",
      "the solution for t :\n",
      " x11s0 :  6.09038672836626E-01  -8.98742630676646E-01\n",
      " x21s0 :  7.42293129431968E-02   9.26153607979929E-01\n",
      " x31s0 :  8.37592049308958E-01  -4.43304301590072E-01\n",
      " x41s0 :  2.19220600974304E-02   1.14241100871086E+00\n",
      " x22s0 :  9.44017626164027E-01  -2.71712341229773E-01\n",
      " x32s0 : -5.64425652511392E-01  -2.36806482566213E-01\n",
      " x42s0 : -7.39375051122763E-01  -4.58006540806617E-01\n",
      " x12s1 :  5.62059852022753E-01   2.93332939159073E-02\n",
      "== err :  0.000E+00 = rco :  0.000E+00 = res :  0.000E+00 =\n",
      "Solution 7 :\n",
      "t :  0.00000000000000E+00   0.00000000000000E+00\n",
      "m : 1\n",
      "the solution for t :\n",
      " x11s0 : -7.07534912238552E-01   4.92999096377366E-02\n",
      " x21s0 :  4.79149192690524E-02   6.23651158687302E-01\n",
      " x31s0 :  4.35563235063921E-01   2.57626463594513E-01\n",
      " x41s0 :  2.93479058252621E-01   2.14109168395354E-01\n",
      " x22s0 : -1.20085603380698E-01  -3.52342158354991E-01\n",
      " x32s0 : -1.14999164093347E+00  -3.86601319323260E-01\n",
      " x42s0 : -1.50274237644790E-01   5.36877541048399E-01\n",
      " x12s1 :  2.25543133569722E-01  -1.00744217331902E+00\n",
      "== err :  0.000E+00 = rco :  0.000E+00 = res :  0.000E+00 =\n",
      "Solution 8 :\n",
      "t :  0.00000000000000E+00   0.00000000000000E+00\n",
      "m : 1\n",
      "the solution for t :\n",
      " x11s0 : -5.04261904420292E-02   1.59417581791122E+00\n",
      " x21s0 : -6.78725206430762E-01  -2.02091391977252E-01\n",
      " x31s0 :  4.63632342073102E-01   6.74339361230072E-01\n",
      " x41s0 :  1.10851072800672E+00   1.07992063150119E+00\n",
      " x22s0 :  9.14318142078649E-01   2.67548922924622E-01\n",
      " x32s0 :  2.66219598193448E-01   1.24867156045807E+00\n",
      " x42s0 : -2.64481349873839E+00  -2.05243627160146E-01\n",
      " x12s1 :  3.30575444135274E-01  -1.42397007492760E+00\n",
      "== err :  0.000E+00 = rco :  0.000E+00 = res :  0.000E+00 =\n"
     ]
    }
   ],
   "source": [
    "for (idx, sol) in enumerate(fsols):\n",
    "    print('Solution', idx+1, ':')\n",
    "    print(sol)"
   ]
  },
  {
   "cell_type": "markdown",
   "id": "cea0dd80-9fa4-4d42-9959-fe474ba40b1d",
   "metadata": {},
   "source": [
    "The index following the ``s`` in the variable name represents the degree of the parameter ``s`` in the curve that produces lines in 3-space."
   ]
  },
  {
   "cell_type": "markdown",
   "id": "a7ac71b9-13af-43a5-be74-a459348b8b6f",
   "metadata": {},
   "source": [
    "# 2. Littlewood-Richardson Homotopies"
   ]
  },
  {
   "cell_type": "markdown",
   "id": "41356dc8-10a8-4ad7-a062-faf07dd48bb0",
   "metadata": {},
   "source": [
    "A Schubert condition is represented by a sequence of brackets.  Each bracket represents conditions on the dimensions of the intersections with the given inputs."
   ]
  },
  {
   "cell_type": "markdown",
   "id": "85d01bfd-ecb5-4768-8548-4550c9d5b4d7",
   "metadata": {},
   "source": [
    "With Littlewood-Richardson rule, we count the number of solutions, resolving the Schubert condition."
   ]
  },
  {
   "cell_type": "code",
   "execution_count": 16,
   "id": "d818abdc-6965-4b50-80ff-b2fd09af1556",
   "metadata": {},
   "outputs": [],
   "source": [
    "from phcpy.schubert import resolve_schubert_conditions"
   ]
  },
  {
   "cell_type": "code",
   "execution_count": 17,
   "id": "e99efab5-ad08-4277-abc1-5e8a3d9fde1b",
   "metadata": {},
   "outputs": [],
   "source": [
    "brackets = [[2, 4, 6], [2, 4, 6], [2, 4, 6]]"
   ]
  },
  {
   "cell_type": "markdown",
   "id": "df167ccc-5f57-471c-a4ee-b642a85ed663",
   "metadata": {},
   "source": [
    "We are looking for 3-planes $X$ in 6-planes that meet flags as follows:\n",
    "\n",
    "1. $\\mbox{dim}(X \\cap \\langle f_1, f_2 \\rangle) = 1$.\n",
    "2. $\\mbox{dim}(X \\cap \\langle f_1, f_2, f_3, f_4 \\rangle) = 2$.\n",
    "3. $\\mbox{dim}(X \\cap \\langle f_1, f_2, f_3, f_4, f_5, f_6 \\rangle) = 3$.\n",
    "\n",
    "For these conditions, there are finitely many solutions $X$."
   ]
  },
  {
   "cell_type": "code",
   "execution_count": 18,
   "id": "27834567-624c-4280-911e-0217df265278",
   "metadata": {},
   "outputs": [
    {
     "data": {
      "text/plain": [
       "2"
      ]
     },
     "execution_count": 18,
     "metadata": {},
     "output_type": "execute_result"
    }
   ],
   "source": [
    "roco = resolve_schubert_conditions(6, 3, brackets)\n",
    "roco"
   ]
  },
  {
   "cell_type": "markdown",
   "id": "7cd64a99-6f59-4704-ba79-08049a9903a1",
   "metadata": {},
   "source": [
    "Littlewood-Richardson homotopies track exactly as many paths as the value of ``roco``."
   ]
  },
  {
   "cell_type": "code",
   "execution_count": 19,
   "id": "7062425a-bf05-41b5-8dd1-ccebf127249a",
   "metadata": {},
   "outputs": [],
   "source": [
    "from phcpy.schubert import double_littlewood_richardson_homotopies as lrh"
   ]
  },
  {
   "cell_type": "code",
   "execution_count": 20,
   "id": "19dd19fc-1c0a-46ba-ab20-9c1f09f6d039",
   "metadata": {},
   "outputs": [],
   "source": [
    "(count, flags, sys, sols) = lrh(6, 3, brackets, verbose=False)"
   ]
  },
  {
   "cell_type": "code",
   "execution_count": 21,
   "id": "770195ab-90c6-4e94-8789-6b2569b3713e",
   "metadata": {},
   "outputs": [
    {
     "data": {
      "text/plain": [
       "2"
      ]
     },
     "execution_count": 21,
     "metadata": {},
     "output_type": "execute_result"
    }
   ],
   "source": [
    "count"
   ]
  },
  {
   "cell_type": "code",
   "execution_count": 22,
   "id": "0bb2c354-c213-4886-8603-c12d9970fa3f",
   "metadata": {},
   "outputs": [
    {
     "name": "stdout",
     "output_type": "stream",
     "text": [
      "Solution 1 :\n",
      "t :  1.00000000000000E+00   0.00000000000000E+00\n",
      "m : 1\n",
      "the solution for t :\n",
      " x11 : -1.71828539203956E+00   3.70396971521702E-01\n",
      " x32 : -9.38154978067327E-01   4.39465496011351E-01\n",
      " x53 : -4.43650959809938E-01   9.55468566341054E-02\n",
      "== err :  0.000E+00 = rco :  1.000E+00 = res :  4.785E-16 =\n",
      "Solution 2 :\n",
      "t :  1.00000000000000E+00   0.00000000000000E+00\n",
      "m : 1\n",
      "the solution for t :\n",
      " x11 : -6.49381975027210E-01  -4.99975537206415E-01\n",
      " x32 : -1.40857387994158E+00   4.74177393405449E-01\n",
      " x53 : -7.94711695711224E-01  -1.11583537216770E-01\n",
      "== err :  0.000E+00 = rco :  1.000E+00 = res :  4.785E-16 =\n"
     ]
    }
   ],
   "source": [
    "for (idx, sol) in enumerate(sols):\n",
    "    print('Solution', idx+1, ':')\n",
    "    print(sol)"
   ]
  }
 ],
 "metadata": {
  "kernelspec": {
   "display_name": "Python 3 (ipykernel)",
   "language": "python",
   "name": "python3"
  },
  "language_info": {
   "codemirror_mode": {
    "name": "ipython",
    "version": 3
   },
   "file_extension": ".py",
   "mimetype": "text/x-python",
   "name": "python",
   "nbconvert_exporter": "python",
   "pygments_lexer": "ipython3",
   "version": "3.10.13"
  }
 },
 "nbformat": 4,
 "nbformat_minor": 5
}
