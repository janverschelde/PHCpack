{
 "cells": [
  {
   "cell_type": "markdown",
   "id": "766e132d-975f-4bde-981d-3de614350ad5",
   "metadata": {},
   "source": [
    "This notebook prepares the section on numerical solutions in the user manual."
   ]
  },
  {
   "cell_type": "markdown",
   "id": "406ed293-38fb-4bc2-86f3-0a29399cf7e9",
   "metadata": {},
   "source": [
    "# Numerical Solutions"
   ]
  },
  {
   "cell_type": "markdown",
   "id": "5405616b-82f8-48ea-8084-a2c707950ea5",
   "metadata": {},
   "source": [
    "Solutions of are numerical and returned as lists of PHCpack\n",
    "solution strings.  The solutions module contains functions to\n",
    "parse a PHCpack solution string into a dictionary.\n",
    "\n",
    "The solutions module exports operations \n",
    "\n",
    "1. to parse strings in the PHCpack solution format into dictionaries;\n",
    "\n",
    "2. to evaluate these dictionaries into polynomials substituting the\n",
    "   values for the variables into the strings representing the polynomials.\n",
    "\n",
    "Another useful operation is the `verify` function, to evaluate the polynomials at solutions, "
   ]
  },
  {
   "cell_type": "markdown",
   "id": "8d8ac44a-40fc-4b41-b7e3-3de473bd1de6",
   "metadata": {},
   "source": [
    "## Attributes of Numerical Solutions"
   ]
  },
  {
   "cell_type": "markdown",
   "id": "c704018d-d66b-4bcf-8753-2626395260bc",
   "metadata": {},
   "source": [
    "The information of a solution as a dictionary contains the following:\n",
    "\n",
    "1. `t` : value of the continuation parameter\n",
    "\n",
    "   `m` : multiplicity of the solution\n",
    "\n",
    "2. symbols for the variables are keys in the dictionary,\n",
    "   the corresponding values are complex floating-point numbers\n",
    "\n",
    "3. `err` : magnitude of the last correction term of Newton's method\n",
    "   (forward error)\n",
    "\n",
    "   `rco` : estimate for the inverse of the condition number of\n",
    "   the Jacobian matrix at the solution\n",
    "\n",
    "   `res` : magnitude of the residual (backward error)\n",
    "\n",
    "The triplet (`err`, `rco`, `res`) measures \n",
    "the numerical quality of the solution.\n",
    "The residual `res` is normally interpreted as an estimate of the backward\n",
    "error: by how much should we change the original problem such that the\n",
    "approximate solution becomes an exact solution of the changed problem?\n",
    "The estimate `rco` gives a (sometimes too pessimistic) bound on the\n",
    "number of correct decimal places in the approximate solution.\n",
    "In particular: `abs(log(rco, 10))` bounds the number of lost decimal\n",
    "places in the approximate solution.\n",
    "For example, if `rco` equals `1.0E-8`, then the last 8 decimal places\n",
    "in the coordinates of the solution could be wrong."
   ]
  },
  {
   "cell_type": "markdown",
   "id": "f073548a-0bef-4f38-9429-6d662291e6c8",
   "metadata": {},
   "source": [
    "The best numerically conditioned linear systems arise when the\n",
    "normals to the coefficient vectors of the linear equations are\n",
    "perpendicular to each other, as in the next session:"
   ]
  },
  {
   "cell_type": "code",
   "execution_count": 1,
   "id": "645bd64b-1dc0-49ad-a1b2-2e2828d68b81",
   "metadata": {},
   "outputs": [
    {
     "name": "stdout",
     "output_type": "stream",
     "text": [
      "PHCv2.4.88 released 2023-12-26 works!\n",
      "t :  1.00000000000000E+00   0.00000000000000E+00\n",
      "m : 1\n",
      "the solution for t :\n",
      " x :  1.00000000000000E+00   0.00000000000000E+00\n",
      " y :  0.00000000000000E+00  -0.00000000000000E+00\n",
      "== err :  2.220E-16 = rco :  5.000E-01 = res :  0.000E+00 =\n"
     ]
    }
   ],
   "source": [
    "from phcpy.solver import solve\n",
    "p = ['x + y - 1;', 'x - y - 1;']\n",
    "s = solve(p)\n",
    "print(s[0])"
   ]
  },
  {
   "cell_type": "markdown",
   "id": "0c84f834-0b68-4aa4-bef7-fa808834cf57",
   "metadata": {},
   "source": [
    "The value of `rco` is ``5.0E-1`` which implies that the\n",
    "condition number is bounded by 2, as `rco` is an estimate\n",
    "for the inverse of the condition number.\n",
    "Roundoff errors are doubled at most."
   ]
  },
  {
   "cell_type": "markdown",
   "id": "9d91aa36-436b-4729-a447-77748b4421cf",
   "metadata": {},
   "source": [
    "At the opposite end of the best numerically conditioned linear systems\n",
    "are those where the the normals to the coefficient vectors of the\n",
    "linear equations are almost parallel to each other,\n",
    "as illustrated in the next example:"
   ]
  },
  {
   "cell_type": "code",
   "execution_count": 2,
   "id": "8cd65c8a-c845-4e00-b9b5-41855b1df258",
   "metadata": {
    "tags": []
   },
   "outputs": [
    {
     "name": "stdout",
     "output_type": "stream",
     "text": [
      "t :  1.00000000000000E+00   0.00000000000000E+00\n",
      "m : 1\n",
      "the solution for t :\n",
      " x :  1.00000000000000E+00   0.00000000000000E+00\n",
      " y :  0.00000000000000E+00  -0.00000000000000E+00\n",
      "== err :  2.220E-16 = rco :  2.501E-04 = res :  0.000E+00 =\n"
     ]
    }
   ],
   "source": [
    "p = ['x + y - 1;', 'x + 0.999*y - 1;']\n",
    "s = solve(p)\n",
    "print(s[0])"
   ]
  },
  {
   "cell_type": "markdown",
   "id": "59a35bc6-56c3-4b33-97eb-4da2dbec8c3f",
   "metadata": {},
   "source": [
    "The reported estimate for the inverse of the condition number\n",
    "`rco` is ``2.5E-4``, which implies that the condition number is\n",
    "estimated at 4,000.  Thus for this example, roundoff errors\n",
    "may magnify thousandfold.  In the next example, the condition\n",
    "number becomes a 10-digit number:"
   ]
  },
  {
   "cell_type": "code",
   "execution_count": 3,
   "id": "c11b795d-0785-4f6b-bae1-78c09b296a81",
   "metadata": {
    "tags": []
   },
   "outputs": [
    {
     "name": "stdout",
     "output_type": "stream",
     "text": [
      "t :  1.00000000000000E+00   0.00000000000000E+00\n",
      "m : 1\n",
      "the solution for t :\n",
      " x :  1.00000000000000E+00   0.00000000000000E+00\n",
      " y :  0.00000000000000E+00  -0.00000000000000E+00\n",
      "== err :  2.220E-16 = rco :  2.500E-10 = res :  0.000E+00 =\n"
     ]
    }
   ],
   "source": [
    "p = ['x + y - 1;', 'x + 0.999999999*y - 1;']\n",
    "s = solve(p)\n",
    "print(s[0])"
   ]
  },
  {
   "cell_type": "markdown",
   "id": "9aab5b79-1993-493b-b803-113de63bbd7a",
   "metadata": {},
   "source": [
    "Observe that the actual value of the solution remains (1,0),\n",
    "which on the one hand indicates that the condition number is\n",
    "a pessimistic bound on the accuracy of the solution.\n",
    "But on the other hand, (1,0) may give the false security that \n",
    "the solution is right, because the problem on input is very close \n",
    "to a linear system which has infinitely many solutions \n",
    "(the line ``x + y - 1 = 0``) and not the isolated point (1,0)."
   ]
  },
  {
   "cell_type": "markdown",
   "id": "bc420744-3052-4c98-af4f-64cc3606eb91",
   "metadata": {
    "tags": []
   },
   "source": [
    "For a solution of the example ``noon`` from the module ``families``,\n",
    "we convert the PHCpack format solution string to a dictionary as follows:"
   ]
  },
  {
   "cell_type": "code",
   "execution_count": 4,
   "id": "bc8fe10e-5bc4-46d2-8dab-bf09d76c0a9e",
   "metadata": {
    "tags": []
   },
   "outputs": [
    {
     "name": "stdout",
     "output_type": "stream",
     "text": [
      "t :  1.00000000000000E+00   0.00000000000000E+00\n",
      "m : 1\n",
      "the solution for t :\n",
      " x1 : -6.77804511269800E-01   5.27500584353303E-01\n",
      " x2 :  1.35560902253960E+00   2.32882178444166E-17\n",
      " x3 : -6.77804511269800E-01  -5.27500584353303E-01\n",
      "== err :  1.601E-16 = rco :  2.303E-01 = res :  4.996E-16 =\n"
     ]
    }
   ],
   "source": [
    "from phcpy.families import noon\n",
    "s = solve(noon(3))\n",
    "print(s[0])"
   ]
  },
  {
   "cell_type": "code",
   "execution_count": 5,
   "id": "1c7eb722-86a8-4cbe-bfa3-7a5f6fb1f519",
   "metadata": {
    "tags": []
   },
   "outputs": [
    {
     "data": {
      "text/plain": [
       "dict_keys(['t', 'm', 'err', 'rco', 'res', 'x1', 'x2', 'x3'])"
      ]
     },
     "execution_count": 5,
     "metadata": {},
     "output_type": "execute_result"
    }
   ],
   "source": [
    "from phcpy.solutions import strsol2dict\n",
    "d = strsol2dict(s[0])\n",
    "d.keys()"
   ]
  },
  {
   "cell_type": "code",
   "execution_count": 6,
   "id": "c4a7f85c-b672-4d82-99be-4ac46d5af630",
   "metadata": {
    "tags": []
   },
   "outputs": [
    {
     "data": {
      "text/plain": [
       "(-0.6778045112698+0.527500584353303j)"
      ]
     },
     "execution_count": 6,
     "metadata": {},
     "output_type": "execute_result"
    }
   ],
   "source": [
    "d['x1']"
   ]
  },
  {
   "cell_type": "markdown",
   "id": "6b8ed0f6-d69a-45b7-a6e8-1e7d00966229",
   "metadata": {},
   "source": [
    "Observe that the values of the dictionary ``d`` are evaluated strings,\n",
    "parsed into Python objects."
   ]
  },
  {
   "cell_type": "markdown",
   "id": "d0898687-b530-4680-929e-e8015f28018d",
   "metadata": {},
   "source": [
    "By plain substitution of the values of the dictionary representation\n",
    "of the solution into the string representation of the polynomial system\n",
    "we can verify that the coordinates of the solution evaluate to numbers\n",
    "close to the numerical working precision:"
   ]
  },
  {
   "cell_type": "code",
   "execution_count": 7,
   "id": "849e1cc4-c32a-4507-8168-efe4ce4956c2",
   "metadata": {
    "tags": []
   },
   "outputs": [
    {
     "name": "stdout",
     "output_type": "stream",
     "text": [
      "(-2.886579864025407e-15+6.661338147750939e-16j)\n",
      "(-4.440892098500626e-16-1.475351643981535e-17j)\n",
      "(-2.886579864025407e-15-6.661338147750939e-16j)\n"
     ]
    }
   ],
   "source": [
    "from phcpy.solutions import evaluate\n",
    "e = evaluate(noon(3), d)\n",
    "for x in e: print(x)"
   ]
  },
  {
   "cell_type": "markdown",
   "id": "bf950701-5ea7-472b-ac87-f7c8391fb0e5",
   "metadata": {},
   "source": [
    "The ``evaluate`` is applied in the ``verify`` which computes the sum of all evaluated polynomials, summed over all solutions."
   ]
  },
  {
   "cell_type": "code",
   "execution_count": 8,
   "id": "d115c484-86ef-4f45-968a-bf510db8fca6",
   "metadata": {
    "tags": []
   },
   "outputs": [
    {
     "data": {
      "text/plain": [
       "(-3.042011087472929e-14-2.8050645944425213e-15j)"
      ]
     },
     "execution_count": 8,
     "metadata": {},
     "output_type": "execute_result"
    }
   ],
   "source": [
    "from phcpy.solutions import verify\n",
    "err = verify(noon(3), s)\n",
    "err"
   ]
  },
  {
   "cell_type": "markdown",
   "id": "c1d8c8de-1b8f-4642-9dc8-c53940e83459",
   "metadata": {},
   "source": [
    "## Filtering Solution Lists"
   ]
  },
  {
   "cell_type": "markdown",
   "id": "3455bfdb-1628-4d21-b0ff-cc893d477062",
   "metadata": {},
   "source": [
    "The module exports function to filter regular solutions, solutions\n",
    "with zero coordinates or real solutions.  The filtering of real\n",
    "solutions is illustrated in the session below.\n",
    "We first define one real solution and another with a coordinate\n",
    "that has a nonzero imaginary part."
   ]
  },
  {
   "cell_type": "code",
   "execution_count": 9,
   "id": "c42b23ad-5d11-47d8-907a-e1f41c8020f7",
   "metadata": {
    "tags": []
   },
   "outputs": [
    {
     "name": "stdout",
     "output_type": "stream",
     "text": [
      "t : 0.000000000000000E+00 0.000000000000000E+00\n",
      "m : 1\n",
      "the solution for t :\n",
      " x : 1.000000000000000E+00  0.000000000000000E+00\n",
      " y : 0.000000000000000E+00  2.000000000000000E+00\n",
      "== err : 0.000E+00 = rco : 1.000E+00 = res : 0.000E+00 =\n"
     ]
    }
   ],
   "source": [
    "from phcpy.solutions import make_solution\n",
    "s0 = make_solution(['x', 'y'], [complex(1, 0), complex(0, 2)])\n",
    "print(s0)"
   ]
  },
  {
   "cell_type": "code",
   "execution_count": 10,
   "id": "8dc64de0-4608-4f4d-af2f-b5050ce65fff",
   "metadata": {
    "tags": []
   },
   "outputs": [
    {
     "name": "stdout",
     "output_type": "stream",
     "text": [
      "t : 0.000000000000000E+00 0.000000000000000E+00\n",
      "m : 1\n",
      "the solution for t :\n",
      " x : 2.000000000000000E+00  0.0\n",
      " y : 3.000000000000000E+00  0.0\n",
      "== err : 0.000E+00 = rco : 1.000E+00 = res : 0.000E+00 =\n"
     ]
    }
   ],
   "source": [
    "s1 = make_solution(['x', 'y'], [float(2), float(3)])\n",
    "print(s1)"
   ]
  },
  {
   "cell_type": "markdown",
   "id": "8b1c4264-f5db-438f-92d9-c003a5e0029f",
   "metadata": {},
   "source": [
    "The filtering of real solutions (with respect to a given tolerance)\n",
    "is provided by the functions ``is_real`` (on one solution)\n",
    "and ``filter_real`` (on a list of solutions)."
   ]
  },
  {
   "cell_type": "code",
   "execution_count": 11,
   "id": "21b92995-068c-4ba1-811f-f5bb1dcd6768",
   "metadata": {
    "tags": []
   },
   "outputs": [
    {
     "data": {
      "text/plain": [
       "False"
      ]
     },
     "execution_count": 11,
     "metadata": {},
     "output_type": "execute_result"
    }
   ],
   "source": [
    "from phcpy.solutions import is_real, filter_real\n",
    "is_real(s0, 1.0e-8)"
   ]
  },
  {
   "cell_type": "code",
   "execution_count": 12,
   "id": "ef61339e-6bc3-448c-8abc-5aced9f2f0fe",
   "metadata": {
    "tags": []
   },
   "outputs": [
    {
     "data": {
      "text/plain": [
       "True"
      ]
     },
     "execution_count": 12,
     "metadata": {},
     "output_type": "execute_result"
    }
   ],
   "source": [
    "is_real(s1, 1.0e-8)"
   ]
  },
  {
   "cell_type": "code",
   "execution_count": 13,
   "id": "4f731290-543c-48b9-9ef4-c8e0571ce7ad",
   "metadata": {
    "tags": []
   },
   "outputs": [
    {
     "name": "stdout",
     "output_type": "stream",
     "text": [
      "t : 0.000000000000000E+00 0.000000000000000E+00\n",
      "m : 1\n",
      "the solution for t :\n",
      " x : 2.000000000000000E+00  0.0\n",
      " y : 3.000000000000000E+00  0.0\n",
      "== err : 0.000E+00 = rco : 1.000E+00 = res : 0.000E+00 =\n"
     ]
    }
   ],
   "source": [
    "realsols = filter_real([s0, s1], 1.0e-8, 'select')\n",
    "for sol in realsols: print(sol)"
   ]
  },
  {
   "cell_type": "markdown",
   "id": "371b0f3e-f79b-4d2f-b839-1503df8c5c1a",
   "metadata": {},
   "source": [
    "The functions ``filter_regular`` and ``filter_zero_coordinates``\n",
    "operate in a manner similar as ``filter_real.``"
   ]
  },
  {
   "cell_type": "markdown",
   "id": "e4193ea6-b20c-4ca9-9709-ef615d41f8c6",
   "metadata": {
    "tags": []
   },
   "source": [
    "Another application of ``make_solution`` is to turn the solution\n",
    "at the end of path (with value 1.0 for ``t``) to a solution which\n",
    "can serve at the start of another path (with value 0.0 for ``t``).\n",
    "This is illustrated in the session below.\n",
    "We start by solving a simple system."
   ]
  },
  {
   "cell_type": "code",
   "execution_count": 14,
   "id": "ee3e4bb9-4af6-4297-ac46-78a54497868b",
   "metadata": {
    "tags": []
   },
   "outputs": [
    {
     "name": "stdout",
     "output_type": "stream",
     "text": [
      "t :  1.00000000000000E+00   0.00000000000000E+00\n",
      "m : 1\n",
      "the solution for t :\n",
      " x : -9.60087560673590E-01   1.94043922153735E+00\n",
      " y : -6.14512082773443E-01  -1.24199437256077E+00\n",
      "== err :  3.317E-16 = rco :  2.770E-01 = res :  4.441E-16 =\n"
     ]
    }
   ],
   "source": [
    "p = ['x**2 - 3*y + 1;', 'x*y - 3;']\n",
    "s = solve(p)\n",
    "print(s[0])"
   ]
  },
  {
   "cell_type": "markdown",
   "id": "7594626d-3b14-4751-b1f1-127daf02a3a6",
   "metadata": {},
   "source": [
    "Then we import the functions ``coordinates`` and ``make_solution``\n",
    "of the module ``solutions``."
   ]
  },
  {
   "cell_type": "code",
   "execution_count": 15,
   "id": "d28dfcf3-9283-4446-a33e-a2a570ce2db4",
   "metadata": {
    "tags": []
   },
   "outputs": [
    {
     "data": {
      "text/plain": [
       "['x', 'y']"
      ]
     },
     "execution_count": 15,
     "metadata": {},
     "output_type": "execute_result"
    }
   ],
   "source": [
    "from phcpy.solutions import coordinates\n",
    "(names, values) = coordinates(s[0])\n",
    "names"
   ]
  },
  {
   "cell_type": "code",
   "execution_count": 16,
   "id": "7492cd56-5120-4075-a5f3-6fe0843554b6",
   "metadata": {
    "tags": []
   },
   "outputs": [
    {
     "data": {
      "text/plain": [
       "[(-0.96008756067359+1.94043922153735j), (-0.614512082773443-1.24199437256077j)]"
      ]
     },
     "execution_count": 16,
     "metadata": {},
     "output_type": "execute_result"
    }
   ],
   "source": [
    "values"
   ]
  },
  {
   "cell_type": "markdown",
   "id": "430d68b8-65f9-4d76-bb1d-6e051df0fd0b",
   "metadata": {},
   "source": [
    "With the ``names`` and the ``value`` we can reconstruct the solution string."
   ]
  },
  {
   "cell_type": "code",
   "execution_count": 17,
   "id": "2495ef53-c9ca-4023-8931-6fc5d5930197",
   "metadata": {
    "tags": []
   },
   "outputs": [
    {
     "name": "stdout",
     "output_type": "stream",
     "text": [
      "t : 0.000000000000000E+00 0.000000000000000E+00\n",
      "m : 1\n",
      "the solution for t :\n",
      " x : -9.600875606735900E-01  1.940439221537350E+00\n",
      " y : -6.145120827734430E-01  -1.241994372560770E+00\n",
      "== err : 0.000E+00 = rco : 1.000E+00 = res : 0.000E+00 =\n"
     ]
    }
   ],
   "source": [
    "s0 = make_solution(names, values)\n",
    "print(s0)"
   ]
  },
  {
   "cell_type": "markdown",
   "id": "c654da42-c68b-49f5-9094-b54d18028b7b",
   "metadata": {},
   "source": [
    "Observe that also the diagnostics are set to the defaults."
   ]
  }
 ],
 "metadata": {
  "kernelspec": {
   "display_name": "Python 3 (ipykernel)",
   "language": "python",
   "name": "python3"
  },
  "language_info": {
   "codemirror_mode": {
    "name": "ipython",
    "version": 3
   },
   "file_extension": ".py",
   "mimetype": "text/x-python",
   "name": "python",
   "nbconvert_exporter": "python",
   "pygments_lexer": "ipython3",
   "version": "3.11.5"
  }
 },
 "nbformat": 4,
 "nbformat_minor": 5
}
