{
 "cells": [
  {
   "cell_type": "markdown",
   "id": "acce7bfb-4084-4581-af3c-8baea2a1fe2a",
   "metadata": {},
   "source": [
    "This notebook prepares the documentation in the user manual on increment-and-fix continuation with apriori step size control."
   ]
  },
  {
   "cell_type": "markdown",
   "id": "7cbc2ebc-db87-4903-981a-fa4ec57e4733",
   "metadata": {},
   "source": [
    "# Increment-and-Fix Apriori Step Control"
   ]
  },
  {
   "cell_type": "markdown",
   "id": "e3b91faf-147f-4880-b8fd-becbe957d8a1",
   "metadata": {},
   "source": [
    "As in the previous section, an artificial-parameter homotopy is used with adaptive step size control."
   ]
  },
  {
   "cell_type": "markdown",
   "id": "023412f4-bb9a-492f-a6fb-5575331e9d33",
   "metadata": {},
   "source": [
    "An *apriori step size control algorithm* the predictor determines the step size for the continuation parameter $t$.  It is called apriori because the step size is decided *before* the corrector is applied, in contrast to the aposteriori step control algorithm."
   ]
  },
  {
   "cell_type": "markdown",
   "id": "bc63ab2b-c20d-4a1c-aa54-ed871d4d0760",
   "metadata": {},
   "source": [
    "Let us first define the target and start system for the running example."
   ]
  },
  {
   "cell_type": "code",
   "execution_count": 1,
   "id": "6f31fb13-1822-4d09-85a5-5a6994a80d5c",
   "metadata": {},
   "outputs": [
    {
     "data": {
      "text/plain": [
       "['x^2 + 4*y^2 - 4;', '2*y^2 - x;']"
      ]
     },
     "execution_count": 1,
     "metadata": {},
     "output_type": "execute_result"
    }
   ],
   "source": [
    "target = ['x^2 + 4*y^2 - 4;', '2*y^2 - x;']\n",
    "target"
   ]
  },
  {
   "cell_type": "code",
   "execution_count": 2,
   "id": "b0a970be-4cfb-40b1-a1fd-00b46c054260",
   "metadata": {},
   "outputs": [
    {
     "name": "stdout",
     "output_type": "stream",
     "text": [
      "PHCv2.4.88 released 2023-12-26 works!\n"
     ]
    }
   ],
   "source": [
    "from phcpy.starters import total_degree_start_system"
   ]
  },
  {
   "cell_type": "code",
   "execution_count": 3,
   "id": "996a09f1-ac47-47f7-915a-989aab8d514a",
   "metadata": {},
   "outputs": [],
   "source": [
    "start, startsols = total_degree_start_system(target)"
   ]
  },
  {
   "cell_type": "code",
   "execution_count": 4,
   "id": "0424e507-0671-461a-a89b-04830bfe1139",
   "metadata": {},
   "outputs": [
    {
     "data": {
      "text/plain": [
       "4"
      ]
     },
     "execution_count": 4,
     "metadata": {},
     "output_type": "execute_result"
    }
   ],
   "source": [
    "len(startsols)"
   ]
  },
  {
   "cell_type": "markdown",
   "id": "85c85ae0-44c5-407e-892c-d26e7a54a5ce",
   "metadata": {},
   "source": [
    "# 1. let the path trackers run"
   ]
  },
  {
   "cell_type": "markdown",
   "id": "698fc8c4-155a-4585-b6d2-267227542edc",
   "metadata": {},
   "source": [
    "To run the path trackers in double precision:"
   ]
  },
  {
   "cell_type": "code",
   "execution_count": 5,
   "id": "52a5db82-2856-48bb-bd28-9145a4445730",
   "metadata": {},
   "outputs": [],
   "source": [
    "from phcpy.curves import double_track"
   ]
  },
  {
   "cell_type": "code",
   "execution_count": 6,
   "id": "9d8f553b-9919-4184-9217-17d841b4a703",
   "metadata": {},
   "outputs": [
    {
     "data": {
      "text/plain": [
       "0"
      ]
     },
     "execution_count": 6,
     "metadata": {},
     "output_type": "execute_result"
    }
   ],
   "source": [
    "from phcpy.dimension import set_seed\n",
    "set_seed(2024)"
   ]
  },
  {
   "cell_type": "code",
   "execution_count": 7,
   "id": "e1178628-05de-47fd-9e7d-beabab7adda2",
   "metadata": {},
   "outputs": [
    {
     "data": {
      "text/plain": [
       "(-0.995051052069111-0.09936500277338699j)"
      ]
     },
     "execution_count": 7,
     "metadata": {},
     "output_type": "execute_result"
    }
   ],
   "source": [
    "gamma, sols = double_track(target, start, startsols)\n",
    "gamma"
   ]
  },
  {
   "cell_type": "markdown",
   "id": "0c23f39b-70a0-4fff-aace-c5e0ef50d1fd",
   "metadata": {},
   "source": [
    "By default, ``double_track`` uses a random $\\gamma$ and return the generated value.  This value can then be used in a second run."
   ]
  },
  {
   "cell_type": "code",
   "execution_count": 8,
   "id": "bd3a7c51-b4fb-4f0f-a40e-2380605dec7d",
   "metadata": {},
   "outputs": [
    {
     "name": "stdout",
     "output_type": "stream",
     "text": [
      "Solution 1 :\n",
      "t :  1.00000000000000E+00   0.00000000000000E+00\n",
      "m : 1\n",
      "the solution for t :\n",
      " x :  1.23606797749979E+00   0.00000000000000E+00\n",
      " y :  7.86151377757423E-01   0.00000000000000E+00\n",
      "== err :  9.930E-17 = rco :  1.998E-01 = res :  1.274E-17 =\n",
      "Solution 2 :\n",
      "t :  1.00000000000000E+00   0.00000000000000E+00\n",
      "m : 1\n",
      "the solution for t :\n",
      " x :  1.23606797749979E+00   0.00000000000000E+00\n",
      " y : -7.86151377757423E-01   0.00000000000000E+00\n",
      "== err :  9.930E-17 = rco :  1.998E-01 = res :  1.274E-17 =\n",
      "Solution 3 :\n",
      "t :  1.00000000000000E+00   0.00000000000000E+00\n",
      "m : 1\n",
      "the solution for t :\n",
      " x : -3.23606797749979E+00   0.00000000000000E+00\n",
      " y :  0.00000000000000E+00   1.27201964951407E+00\n",
      "== err :  0.000E+00 = rco :  1.079E-01 = res :  0.000E+00 =\n",
      "Solution 4 :\n",
      "t :  1.00000000000000E+00   0.00000000000000E+00\n",
      "m : 1\n",
      "the solution for t :\n",
      " x : -3.23606797749979E+00   0.00000000000000E+00\n",
      " y :  0.00000000000000E+00  -1.27201964951407E+00\n",
      "== err :  0.000E+00 = rco :  1.079E-01 = res :  0.000E+00 =\n"
     ]
    }
   ],
   "source": [
    "for (idx, sol) in enumerate(sols):\n",
    "    print('Solution', idx+1, ':')\n",
    "    print(sol)"
   ]
  },
  {
   "cell_type": "markdown",
   "id": "55e098c3-de29-422d-a24e-010273ef3562",
   "metadata": {},
   "source": [
    "Suppose we would want to recompute the first path in quad double precision."
   ]
  },
  {
   "cell_type": "code",
   "execution_count": 9,
   "id": "09766367-b800-49d1-84f8-75a93ca3c47f",
   "metadata": {},
   "outputs": [],
   "source": [
    "from phcpy.curves import quad_double_track"
   ]
  },
  {
   "cell_type": "markdown",
   "id": "17f9bdb2-adea-46ae-a349-2e95e05da358",
   "metadata": {},
   "source": [
    "Even if we track only one path, the start solution must be given in a list of one element."
   ]
  },
  {
   "cell_type": "code",
   "execution_count": 10,
   "id": "ce0b6d71-3456-438a-bbfc-db3f4ea2b38e",
   "metadata": {},
   "outputs": [
    {
     "data": {
      "text/plain": [
       "(-0.995051052069111-0.09936500277338699j)"
      ]
     },
     "execution_count": 10,
     "metadata": {},
     "output_type": "execute_result"
    }
   ],
   "source": [
    "gamma, qdsol = quad_double_track(target, start, [startsols[0]])\n",
    "gamma"
   ]
  },
  {
   "cell_type": "code",
   "execution_count": 11,
   "id": "7b32ff09-24a1-4419-ab43-a83a5d783568",
   "metadata": {},
   "outputs": [
    {
     "name": "stdout",
     "output_type": "stream",
     "text": [
      "t : 1.0000000000000000000000000000000000000000000000000000000000000000E+00      0.0000000000000000000000000000000000000000000000000000000000000000E+00    \n",
      "m : 1\n",
      "the solution for t :\n",
      " x : 1.2360679774997896964091736687312762354406183596115257242708972454E+00      6.5642436311782035838428757620506362271925806587869959161667835617E-197   \n",
      " y : 7.8615137775742328606955858584295892952312205783772323766490197011E-01      7.7794941850937841850195885945247107364034811096136093162063963605E-198   \n",
      "== err :  2.654E-67 = rco :  1.998E-01 = res :  4.175E-68 =\n"
     ]
    }
   ],
   "source": [
    "print(qdsol[0])"
   ]
  },
  {
   "cell_type": "markdown",
   "id": "dbcae0ea-6ef9-4a2a-ae81-3e1acef8faef",
   "metadata": {},
   "source": [
    "Observe that the values for the forward and backward error, the ``err`` and ``res`` respectively, are still rather large for quad double precision.  For this example, we could as well run a couple of extra steps of Newton's method, but suppose that we want to track the paths with much smaller tolerances."
   ]
  },
  {
   "cell_type": "markdown",
   "id": "56c7d4d4-7ab5-40fd-85c8-6deb3a7eea9d",
   "metadata": {},
   "source": [
    "# 2. tuning tolerances of the path trackers"
   ]
  },
  {
   "cell_type": "markdown",
   "id": "6ffad56c-21c7-4abf-b6d3-86cceb394a5b",
   "metadata": {},
   "source": [
    "Let us redo the last run, but now with much smaller tolerances on the corrector."
   ]
  },
  {
   "cell_type": "code",
   "execution_count": 12,
   "id": "2d50f946-f943-417a-a3e9-39aec7795b32",
   "metadata": {},
   "outputs": [
    {
     "name": "stdout",
     "output_type": "stream",
     "text": [
      "Values of the HOMOTOPY CONTINUATION PARAMETERS :\n",
      " 1. gamma : (-0.995051052069111-0.09936500277338699j)\n",
      " 2. degree of numerator of Pade approximant    : 5\n",
      " 3. degree of denominator of Pade approximant  : 1\n",
      " 4. maximum step size                          : 0.1\n",
      " 5. minimum step size                          : 1e-06\n",
      " 6. multiplication factor for the pole radius  : 0.5\n",
      " 7. multiplication factor for the curvature    : 0.005\n",
      " 8. tolerance on the residual of the predictor : 0.001\n",
      " 9. tolerance on the residual of the corrector : 1e-08\n",
      "10. tolerance on zero series coefficients      : 1e-12\n",
      "11. maximum number of corrector steps          : 4\n",
      "12. maximum steps on a path                    : 1000\n"
     ]
    }
   ],
   "source": [
    "from phcpy.curves import write_parameters\n",
    "write_parameters()"
   ]
  },
  {
   "cell_type": "code",
   "execution_count": 13,
   "id": "b64373e6-91b9-4b3e-aa01-6655a025ba0f",
   "metadata": {},
   "outputs": [],
   "source": [
    "from phcpy.curves import set_parameter_value"
   ]
  },
  {
   "cell_type": "markdown",
   "id": "a149606d-2cb1-43b0-8c82-016bdaaa6efa",
   "metadata": {},
   "source": [
    "To set the tolerance for the relative precision for the residuals along the path to ``1.0e-32``, the parameter at position ``9`` has to be set, as follows:"
   ]
  },
  {
   "cell_type": "code",
   "execution_count": 14,
   "id": "1033a45b-fe01-4d97-8c1e-e0daa04c9eb7",
   "metadata": {},
   "outputs": [
    {
     "data": {
      "text/plain": [
       "0"
      ]
     },
     "execution_count": 14,
     "metadata": {},
     "output_type": "execute_result"
    }
   ],
   "source": [
    "set_parameter_value(9, 1.0e-32)"
   ]
  },
  {
   "cell_type": "code",
   "execution_count": 15,
   "id": "2bfe4e89-8c5f-433f-8940-eb1083d8520a",
   "metadata": {},
   "outputs": [
    {
     "name": "stdout",
     "output_type": "stream",
     "text": [
      "Values of the HOMOTOPY CONTINUATION PARAMETERS :\n",
      " 1. gamma : (-0.995051052069111-0.09936500277338699j)\n",
      " 2. degree of numerator of Pade approximant    : 5\n",
      " 3. degree of denominator of Pade approximant  : 1\n",
      " 4. maximum step size                          : 0.1\n",
      " 5. minimum step size                          : 1e-06\n",
      " 6. multiplication factor for the pole radius  : 0.5\n",
      " 7. multiplication factor for the curvature    : 0.005\n",
      " 8. tolerance on the residual of the predictor : 0.001\n",
      " 9. tolerance on the residual of the corrector : 1e-32\n",
      "10. tolerance on zero series coefficients      : 1e-12\n",
      "11. maximum number of corrector steps          : 4\n",
      "12. maximum steps on a path                    : 1000\n"
     ]
    }
   ],
   "source": [
    "write_parameters()"
   ]
  },
  {
   "cell_type": "markdown",
   "id": "77229d10-a4af-4ee9-9984-04657d7d304f",
   "metadata": {},
   "source": [
    "Now we rerun the first path once more."
   ]
  },
  {
   "cell_type": "code",
   "execution_count": 16,
   "id": "536b9cea-b9f6-453b-a1ea-d03069a38d4c",
   "metadata": {},
   "outputs": [
    {
     "data": {
      "text/plain": [
       "(-0.995051052069111-0.09936500277338699j)"
      ]
     },
     "execution_count": 16,
     "metadata": {},
     "output_type": "execute_result"
    }
   ],
   "source": [
    "gamma, qdsol = quad_double_track(target, start, [startsols[0]])\n",
    "gamma"
   ]
  },
  {
   "cell_type": "code",
   "execution_count": 17,
   "id": "0b6fdd4d-c3fb-421a-80b7-090154080bdb",
   "metadata": {},
   "outputs": [
    {
     "name": "stdout",
     "output_type": "stream",
     "text": [
      "t : 1.0000000000000000000000000000000000000000000000000000000000000000E+00      0.0000000000000000000000000000000000000000000000000000000000000000E+00    \n",
      "m : 1\n",
      "the solution for t :\n",
      " x : 1.2360679774997896964091736687312762354406183596115257242708972454E+00      -5.7386297539289851571931574133873760183334861888133361201230324073E-262  \n",
      " y : 7.8615137775742328606955858584295892952312205783772323766490197011E-01      9.0738364123547551304527345081571298166307030696790330748996811880E-262   \n",
      "== err :  2.654E-67 = rco :  1.998E-01 = res :  4.175E-68 =\n"
     ]
    }
   ],
   "source": [
    "print(qdsol[0])"
   ]
  },
  {
   "cell_type": "markdown",
   "id": "d75b6ee7-4461-474d-843c-c0b66343bb5f",
   "metadata": {},
   "source": [
    "Observe that the values of ``err`` and ``res`` (forward and backward error respectively) are much smaller than before, very close to the quad double precision."
   ]
  },
  {
   "cell_type": "markdown",
   "id": "4e83f6d8-8a23-4b7f-819f-b5d672565fc3",
   "metadata": {},
   "source": [
    "For the experiments in the next section, the values of the continuation parameters must be reset to their defaults."
   ]
  },
  {
   "cell_type": "code",
   "execution_count": 18,
   "id": "1c1f6a07-a772-4a5f-ac5b-e1db50ed3046",
   "metadata": {},
   "outputs": [],
   "source": [
    "from phcpy.curves import set_default_parameters"
   ]
  },
  {
   "cell_type": "code",
   "execution_count": 19,
   "id": "a5a98164-9b4b-41d0-a921-cd9c18515f63",
   "metadata": {},
   "outputs": [
    {
     "name": "stdout",
     "output_type": "stream",
     "text": [
      "Values of the HOMOTOPY CONTINUATION PARAMETERS :\n",
      " 1. gamma : (-0.10983921948171692-0.9939493678571596j)\n",
      " 2. degree of numerator of Pade approximant    : 5\n",
      " 3. degree of denominator of Pade approximant  : 1\n",
      " 4. maximum step size                          : 0.1\n",
      " 5. minimum step size                          : 1e-06\n",
      " 6. multiplication factor for the pole radius  : 0.5\n",
      " 7. multiplication factor for the curvature    : 0.005\n",
      " 8. tolerance on the residual of the predictor : 0.001\n",
      " 9. tolerance on the residual of the corrector : 1e-08\n",
      "10. tolerance on zero series coefficients      : 1e-12\n",
      "11. maximum number of corrector steps          : 4\n",
      "12. maximum steps on a path                    : 1000\n"
     ]
    }
   ],
   "source": [
    "set_default_parameters()\n",
    "write_parameters()"
   ]
  },
  {
   "cell_type": "markdown",
   "id": "0fe25a65-9cc8-4dc2-a0dc-df7cf72022c8",
   "metadata": {},
   "source": [
    "The first parameter is the ``gamma`` parameter.  Let us fix this parameter as well."
   ]
  },
  {
   "cell_type": "code",
   "execution_count": 20,
   "id": "37d6cdc7-fe86-4910-ac56-5815825b8996",
   "metadata": {
    "tags": []
   },
   "outputs": [
    {
     "name": "stdout",
     "output_type": "stream",
     "text": [
      "Values of the HOMOTOPY CONTINUATION PARAMETERS :\n",
      " 1. gamma : (0.977935486240886+0.20890711991409452j)\n",
      " 2. degree of numerator of Pade approximant    : 5\n",
      " 3. degree of denominator of Pade approximant  : 1\n",
      " 4. maximum step size                          : 0.1\n",
      " 5. minimum step size                          : 1e-06\n",
      " 6. multiplication factor for the pole radius  : 0.5\n",
      " 7. multiplication factor for the curvature    : 0.005\n",
      " 8. tolerance on the residual of the predictor : 0.001\n",
      " 9. tolerance on the residual of the corrector : 1e-08\n",
      "10. tolerance on zero series coefficients      : 1e-12\n",
      "11. maximum number of corrector steps          : 4\n",
      "12. maximum steps on a path                    : 1000\n"
     ]
    }
   ],
   "source": [
    "set_parameter_value(1, complex(0.977935486240886, 0.20890711991409452)) \n",
    "write_parameters()"
   ]
  },
  {
   "cell_type": "markdown",
   "id": "8d43a87a-57bb-452c-a2e6-a8ff2732c378",
   "metadata": {},
   "source": [
    "# 3. a step-by-step path tracker"
   ]
  },
  {
   "cell_type": "markdown",
   "id": "6b7b603d-90e4-4067-b88f-fb22314d62a8",
   "metadata": {},
   "source": [
    "When we run a path tracker, or let a path tracker run, then the path tracker has the control of the order of execution.  In a step-by-step path tracker, we can ask the path tracker for the next point of the path, which is useful to plot the points along a path."
   ]
  },
  {
   "cell_type": "code",
   "execution_count": 21,
   "id": "e6d39d90-6b15-4a0a-bb90-74d823a674c7",
   "metadata": {},
   "outputs": [],
   "source": [
    "from phcpy.curves import initialize_double_artificial_homotopy\n",
    "from phcpy.curves import set_double_solution, get_double_solution\n",
    "from phcpy.curves import double_predict_correct\n",
    "from phcpy.curves import double_t_value, double_closest_pole"
   ]
  },
  {
   "cell_type": "code",
   "execution_count": 22,
   "id": "4d402d0e-4e44-4851-8e75-122e7cffc9de",
   "metadata": {},
   "outputs": [
    {
     "data": {
      "text/plain": [
       "0"
      ]
     },
     "execution_count": 22,
     "metadata": {},
     "output_type": "execute_result"
    }
   ],
   "source": [
    "initialize_double_artificial_homotopy(target, start)"
   ]
  },
  {
   "cell_type": "code",
   "execution_count": 23,
   "id": "cac8a728-6d10-4e0b-a0e8-f23c4371ab88",
   "metadata": {},
   "outputs": [
    {
     "data": {
      "text/plain": [
       "0"
      ]
     },
     "execution_count": 23,
     "metadata": {},
     "output_type": "execute_result"
    }
   ],
   "source": [
    "set_double_solution(len(target), startsols[0])"
   ]
  },
  {
   "cell_type": "code",
   "execution_count": 24,
   "id": "013f3ed0-2016-4e34-af77-1f95e21bb406",
   "metadata": {},
   "outputs": [
    {
     "data": {
      "text/plain": [
       "(0.15514554922219997, -0.08850786865995859)"
      ]
     },
     "execution_count": 24,
     "metadata": {},
     "output_type": "execute_result"
    }
   ],
   "source": [
    "double_predict_correct()\n",
    "pole = double_closest_pole()\n",
    "pole"
   ]
  },
  {
   "cell_type": "code",
   "execution_count": 25,
   "id": "3616f883-b5f2-40d8-962e-b13e880ef130",
   "metadata": {},
   "outputs": [
    {
     "data": {
      "text/plain": [
       "0.089308152284921"
      ]
     },
     "execution_count": 25,
     "metadata": {},
     "output_type": "execute_result"
    }
   ],
   "source": [
    "tval = double_t_value()\n",
    "tval"
   ]
  },
  {
   "cell_type": "code",
   "execution_count": 26,
   "id": "1278c5e7-63a1-4dc5-b633-325fc879c22f",
   "metadata": {},
   "outputs": [
    {
     "name": "stdout",
     "output_type": "stream",
     "text": [
      "t :  8.93081522849210E-02   0.00000000000000E+00\n",
      "m : 1\n",
      "the solution for t :\n",
      " x :  9.95494997861267E-01   9.17030925125147E-04\n",
      " y :  9.95350349513970E-01   9.80921487331958E-04\n",
      "== err :  8.233E-17 = rco :  9.210E-01 = res :  2.265E-17 =\n"
     ]
    }
   ],
   "source": [
    "nextsol = get_double_solution()\n",
    "print(nextsol)"
   ]
  },
  {
   "cell_type": "code",
   "execution_count": 27,
   "id": "eec484da-4735-4e19-806f-2cd229426754",
   "metadata": {},
   "outputs": [
    {
     "name": "stdout",
     "output_type": "stream",
     "text": [
      "closest pole : (0.35111736232319435, -0.048143303085946214)\n",
      "t :  1.89308152284921E-01   0.00000000000000E+00\n",
      "m : 1\n",
      "the solution for t :\n",
      " x :  9.79230904940275E-01   3.20751244815921E-03\n",
      " y :  9.75023847993341E-01   4.94652202413876E-03\n",
      "== err :  1.146E-16 = rco :  7.493E-01 = res :  8.934E-18 =\n"
     ]
    }
   ],
   "source": [
    "double_predict_correct()\n",
    "pole = double_closest_pole()\n",
    "print('closest pole :', pole)\n",
    "nextsol = get_double_solution()\n",
    "print(nextsol)"
   ]
  },
  {
   "cell_type": "code",
   "execution_count": 28,
   "id": "e529d4e3-8e37-4eff-881d-72419650a4f4",
   "metadata": {},
   "outputs": [],
   "source": [
    "from phcpy.solutions import strsol2dict"
   ]
  },
  {
   "cell_type": "code",
   "execution_count": 29,
   "id": "f6d6deda-c9e7-42aa-a3df-b13bd6e5f2da",
   "metadata": {},
   "outputs": [
    {
     "data": {
      "text/plain": [
       "(0.189308152284921+0j)"
      ]
     },
     "execution_count": 29,
     "metadata": {},
     "output_type": "execute_result"
    }
   ],
   "source": [
    "dictsol = strsol2dict(nextsol)\n",
    "dictsol['t']"
   ]
  },
  {
   "cell_type": "markdown",
   "id": "74ac251f-f38e-46b1-a078-1d1e0cef442d",
   "metadata": {},
   "source": [
    "In the code cell below, the loop continues calling ``get_double_solution`` until the value of the continuation parameter is less than 1.0.  The real part and imaginary part of the gamma constant are fixed for a deterministic run."
   ]
  },
  {
   "cell_type": "code",
   "execution_count": 30,
   "id": "800b1736-921e-4f3a-8334-e3e224870f89",
   "metadata": {
    "tags": []
   },
   "outputs": [
    {
     "name": "stdout",
     "output_type": "stream",
     "text": [
      "Values of the HOMOTOPY CONTINUATION PARAMETERS :\n",
      " 1. gamma : (0.977935486240886+0.20890711991409452j)\n",
      " 2. degree of numerator of Pade approximant    : 5\n",
      " 3. degree of denominator of Pade approximant  : 1\n",
      " 4. maximum step size                          : 0.1\n",
      " 5. minimum step size                          : 1e-06\n",
      " 6. multiplication factor for the pole radius  : 0.5\n",
      " 7. multiplication factor for the curvature    : 0.005\n",
      " 8. tolerance on the residual of the predictor : 0.001\n",
      " 9. tolerance on the residual of the corrector : 1e-08\n",
      "10. tolerance on zero series coefficients      : 1e-12\n",
      "11. maximum number of corrector steps          : 4\n",
      "12. maximum steps on a path                    : 1000\n"
     ]
    }
   ],
   "source": [
    "write_parameters()"
   ]
  },
  {
   "cell_type": "code",
   "execution_count": 31,
   "id": "8ff6fcce-118c-49de-ba1b-6d30c9af77f0",
   "metadata": {},
   "outputs": [],
   "source": [
    "initialize_double_artificial_homotopy(target, start)\n",
    "set_double_solution(len(target), startsols[0])\n",
    "tval = 0.0\n",
    "poles = []\n",
    "path = [startsols[0]]\n",
    "while tval < 1.0:\n",
    "    double_predict_correct()\n",
    "    pole = double_closest_pole()\n",
    "    locp = (tval+pole[0], pole[1])\n",
    "    poles.append(locp)\n",
    "    nextsol = get_double_solution()\n",
    "    dictsol = strsol2dict(nextsol)\n",
    "    tval = dictsol['t'].real\n",
    "    path.append(nextsol)"
   ]
  },
  {
   "cell_type": "code",
   "execution_count": 32,
   "id": "ed3e7b2b-a507-4f2d-9e63-4be14d9bace5",
   "metadata": {},
   "outputs": [
    {
     "name": "stdout",
     "output_type": "stream",
     "text": [
      "(1+0j)\n",
      "(0.995494997861267+0.000917030925125147j)\n",
      "(0.979230904940275+0.00320751244815921j)\n",
      "(0.967072243680787+0.00258238975580037j)\n",
      "(0.969688665229834-0.00601218730792353j)\n",
      "(1.00775870703128-0.016752186008432j)\n",
      "(1.07530651742827-0.0205585999286002j)\n",
      "(1.14379875229794-0.0156022327531589j)\n",
      "(1.19382074878865-0.00821447396701445j)\n",
      "(1.22145462283616-0.00302771209969062j)\n",
      "(1.23348940570526-0.000547947192401931j)\n",
      "(1.23606797749979+0j)\n"
     ]
    }
   ],
   "source": [
    "for sol in path:\n",
    "    print(strsol2dict(sol)['x'])"
   ]
  },
  {
   "cell_type": "code",
   "execution_count": 33,
   "id": "4d6e2fb5-3bea-4eeb-ab54-2cc866209da6",
   "metadata": {},
   "outputs": [
    {
     "data": {
      "text/plain": [
       "[1.0,\n",
       " 0.995494997861267,\n",
       " 0.979230904940275,\n",
       " 0.967072243680787,\n",
       " 0.969688665229834,\n",
       " 1.00775870703128,\n",
       " 1.07530651742827,\n",
       " 1.14379875229794,\n",
       " 1.19382074878865,\n",
       " 1.22145462283616,\n",
       " 1.23348940570526,\n",
       " 1.23606797749979]"
      ]
     },
     "execution_count": 33,
     "metadata": {},
     "output_type": "execute_result"
    }
   ],
   "source": [
    "xre = [strsol2dict(sol)['x'].real for sol in path]\n",
    "xre"
   ]
  },
  {
   "cell_type": "markdown",
   "id": "eaf61fa2-ee3b-48f4-90c7-da427a089a83",
   "metadata": {},
   "source": [
    "The imaginary parts of the x-coordinates and the two parts of the y-coordinates are set below."
   ]
  },
  {
   "cell_type": "code",
   "execution_count": 34,
   "id": "c6dfa824-ce3a-4a86-af73-37683f024661",
   "metadata": {},
   "outputs": [
    {
     "data": {
      "text/plain": [
       "[0.0,\n",
       " 0.000917030925125147,\n",
       " 0.00320751244815921,\n",
       " 0.00258238975580037,\n",
       " -0.00601218730792353,\n",
       " -0.016752186008432,\n",
       " -0.0205585999286002,\n",
       " -0.0156022327531589,\n",
       " -0.00821447396701445,\n",
       " -0.00302771209969062,\n",
       " -0.000547947192401931,\n",
       " 0.0]"
      ]
     },
     "execution_count": 34,
     "metadata": {},
     "output_type": "execute_result"
    }
   ],
   "source": [
    "xim = [strsol2dict(sol)['x'].imag for sol in path]\n",
    "xim"
   ]
  },
  {
   "cell_type": "code",
   "execution_count": 35,
   "id": "656b1b60-924d-4170-ad0f-db00d23f66c4",
   "metadata": {},
   "outputs": [],
   "source": [
    "yre = [strsol2dict(sol)['y'].real for sol in path]\n",
    "yim = [strsol2dict(sol)['y'].imag for sol in path]"
   ]
  },
  {
   "cell_type": "markdown",
   "id": "29a940de-4aee-4359-8b22-168f54ef0e11",
   "metadata": {},
   "source": [
    "Let us plot the coordinates of this first solution path."
   ]
  },
  {
   "cell_type": "code",
   "execution_count": 36,
   "id": "7ff71da0-4e00-40c3-8a6e-d6e12a96d475",
   "metadata": {},
   "outputs": [],
   "source": [
    "import matplotlib.pyplot as plt"
   ]
  },
  {
   "cell_type": "code",
   "execution_count": 37,
   "id": "0a6bcd65-89c8-4de8-901e-7c9b872f2081",
   "metadata": {},
   "outputs": [
    {
     "data": {
      "image/png": "[encoded data removed]",
      "text/plain": [
       "<Figure size 640x480 with 2 Axes>"
      ]
     },
     "metadata": {},
     "output_type": "display_data"
    }
   ],
   "source": [
    "fig, axs = plt.subplots(1, 2, constrained_layout=True)\n",
    "fig.suptitle('the coordinates of one solution path')\n",
    "axs[0].set_title('x coordinates')\n",
    "axs[0].set_xlabel('real part')\n",
    "axs[0].set_ylabel('imaginary part')\n",
    "axs[0].set_xlim(min(xre)-0.1, max(xre)+0.1)\n",
    "axs[0].set_ylim(min(xim)-0.025, max(xim)+0.025)\n",
    "dots, = axs[0].plot(xre,xim,'r-')\n",
    "dots, = axs[0].plot(xre,xim,'ro')\n",
    "axs[1].set_title('y coordinates')\n",
    "axs[1].set_xlabel('real part')\n",
    "axs[1].set_ylabel('imaginary part')\n",
    "axs[1].set_xlim(min(yre)-0.1, max(yre)+0.1)\n",
    "axs[1].set_ylim(min(yim)-0.025, max(yim)+0.025)\n",
    "dots, = axs[1].plot(yre,yim,'r-')\n",
    "dots, = axs[1].plot(yre,yim,'ro')\n",
    "plt.savefig('incfixapriorifig1')\n",
    "plt.show()"
   ]
  },
  {
   "cell_type": "markdown",
   "id": "52f679e3-d64b-48ca-8b64-3cf52cce0363",
   "metadata": {},
   "source": [
    "Why do the paths in such a simple homotopy curve so much?"
   ]
  },
  {
   "cell_type": "markdown",
   "id": "a52094b2-ec53-4eb1-90c4-29016523d7cd",
   "metadata": {},
   "source": [
    "Let us look at the plot of the poles."
   ]
  },
  {
   "cell_type": "code",
   "execution_count": 38,
   "id": "f23b5f58-55d6-45e2-80a9-22a0922bf2d2",
   "metadata": {
    "tags": []
   },
   "outputs": [],
   "source": [
    "repoles = [p[0] for p in poles]\n",
    "impoles = [p[1] for p in poles]"
   ]
  },
  {
   "cell_type": "code",
   "execution_count": 39,
   "id": "942d2f60-4643-47af-a112-f9efa9f365e2",
   "metadata": {
    "tags": []
   },
   "outputs": [
    {
     "data": {
      "image/png": "[encoded data removed]",
      "text/plain": [
       "<Figure size 640x480 with 1 Axes>"
      ]
     },
     "metadata": {},
     "output_type": "display_data"
    }
   ],
   "source": [
    "fig, axs = plt.subplots(1, 1, constrained_layout=True)\n",
    "axs.set_title('t goes from 0 to 1')\n",
    "axs.set_xlabel('real part of poles')\n",
    "axs.set_ylabel('imaginary part of poles')\n",
    "dots, = axs.plot([0.0, 1.0],[0.0, 0.0],'b-')\n",
    "axs.set_xlim(-0.1, 1.1)\n",
    "axs.set_ylim(min(min(impoles)-0.1,-0.1), max(max(impoles)+0.1, 0.1))\n",
    "dots, = axs.plot(repoles,impoles,'r+')\n",
    "plt.savefig('incfixapriorifig2')\n",
    "plt.show()"
   ]
  },
  {
   "cell_type": "markdown",
   "id": "6b9ee54d-5427-44bc-ab34-4922e3a37444",
   "metadata": {},
   "source": [
    "For this plot, the closest poles appear towards the middle of the interval $[0,1]$ where the continuation parameter $t$ lives."
   ]
  }
 ],
 "metadata": {
  "kernelspec": {
   "display_name": "Python 3 (ipykernel)",
   "language": "python",
   "name": "python3"
  },
  "language_info": {
   "codemirror_mode": {
    "name": "ipython",
    "version": 3
   },
   "file_extension": ".py",
   "mimetype": "text/x-python",
   "name": "python",
   "nbconvert_exporter": "python",
   "pygments_lexer": "ipython3",
   "version": "3.10.13"
  }
 },
 "nbformat": 4,
 "nbformat_minor": 5
}
