{
 "cells": [
  {
   "cell_type": "markdown",
   "id": "109f7ef4-c128-487e-a2a9-9b6a99feecb0",
   "metadata": {},
   "source": [
    "Illustrates the setting of the seed for reproducible runs."
   ]
  },
  {
   "cell_type": "markdown",
   "id": "6702b6e6-2101-416a-a30b-39a45b72f18f",
   "metadata": {},
   "source": [
    "# Reproducible Runs"
   ]
  },
  {
   "cell_type": "markdown",
   "id": "e72d4eee-a7ad-475b-b50c-d77e25714faf",
   "metadata": {},
   "source": [
    "The correctness of a polynomial homotopy relies on the choice of random complex constants.  Except for an algebraic set of bad choices of complex constants, the solution paths are free of singularities, except at the end of the paths, when the system that is solved has singular solutions."
   ]
  },
  {
   "cell_type": "markdown",
   "id": "899be493-b795-4218-b4eb-ea3c5d5187ee",
   "metadata": {},
   "source": [
    "For correctness, it is important that the random constants are generated *after* the user has provided the input."
   ]
  },
  {
   "cell_type": "markdown",
   "id": "e9625c39-aa4c-43e4-b654-29e47a0058d9",
   "metadata": {},
   "source": [
    "# 1. solving the cyclic 5-roots system twice"
   ]
  },
  {
   "cell_type": "markdown",
   "id": "1b3cecfa-f88b-45ac-ab2c-cf0a3da0b3d1",
   "metadata": {},
   "source": [
    "The random choice of constants makes that the solutions are computed in a random order, as the experiment in this section shows."
   ]
  },
  {
   "cell_type": "code",
   "execution_count": 1,
   "id": "52ea76b5-ff81-4bc2-b28b-702220855bac",
   "metadata": {},
   "outputs": [
    {
     "name": "stdout",
     "output_type": "stream",
     "text": [
      "PHCv2.4.88 released 2023-12-26 works!\n"
     ]
    }
   ],
   "source": [
    "from phcpy.families import cyclic"
   ]
  },
  {
   "cell_type": "code",
   "execution_count": 2,
   "id": "9b4cc739-3917-401d-a214-eb5458bd8c55",
   "metadata": {},
   "outputs": [
    {
     "name": "stdout",
     "output_type": "stream",
     "text": [
      "x0 + x1 + x2 + x3 + x4;\n",
      "x0*x1 + x1*x2 + x2*x3 + x3*x4 + x4*x0;\n",
      "x0*x1*x2 + x1*x2*x3 + x2*x3*x4 + x3*x4*x0 + x4*x0*x1;\n",
      "x0*x1*x2*x3 + x1*x2*x3*x4 + x2*x3*x4*x0 + x3*x4*x0*x1 + x4*x0*x1*x2;\n",
      "x0*x1*x2*x3*x4 - 1;\n"
     ]
    }
   ],
   "source": [
    "c5 = cyclic(5)\n",
    "for pol in c5:\n",
    "    print(pol)"
   ]
  },
  {
   "cell_type": "code",
   "execution_count": 3,
   "id": "3f1e736f-1983-49dc-9c52-2f5b02768671",
   "metadata": {},
   "outputs": [],
   "source": [
    "from phcpy.solver import solve"
   ]
  },
  {
   "cell_type": "code",
   "execution_count": 4,
   "id": "8c636961-d975-4940-8ac1-7fc0f764f0c0",
   "metadata": {},
   "outputs": [
    {
     "name": "stdout",
     "output_type": "stream",
     "text": [
      "t :  1.00000000000000E+00   0.00000000000000E+00\n",
      "m : 1\n",
      "the solution for t :\n",
      " x0 : -8.09016994374948E-01   5.87785252292473E-01\n",
      " x1 :  2.11803398874989E+00  -1.53884176858763E+00\n",
      " x2 :  3.09016994374947E-01  -2.24513988289793E-01\n",
      " x3 : -8.09016994374947E-01   5.87785252292473E-01\n",
      " x4 : -8.09016994374947E-01   5.87785252292473E-01\n",
      "== err :  1.152E-15 = rco :  1.034E-01 = res :  1.665E-15 =\n"
     ]
    }
   ],
   "source": [
    "s1 = solve(c5)\n",
    "print(s1[0])"
   ]
  },
  {
   "cell_type": "code",
   "execution_count": 5,
   "id": "c3292af6-19a1-4442-84e5-409a45c99612",
   "metadata": {},
   "outputs": [
    {
     "name": "stdout",
     "output_type": "stream",
     "text": [
      "t :  1.00000000000000E+00   0.00000000000000E+00\n",
      "m : 1\n",
      "the solution for t :\n",
      " x0 : -1.18033988749895E-01   3.63271264002680E-01\n",
      " x1 :  3.09016994374947E-01  -9.51056516295154E-01\n",
      " x2 :  3.09016994374947E-01  -9.51056516295154E-01\n",
      " x3 :  3.09016994374947E-01  -9.51056516295154E-01\n",
      " x4 : -8.09016994374947E-01   2.48989828488278E+00\n",
      "== err :  6.682E-16 = rco :  4.527E-02 = res :  1.874E-15 =\n"
     ]
    }
   ],
   "source": [
    "s2 = solve(c5)\n",
    "print(s2[0])"
   ]
  },
  {
   "cell_type": "markdown",
   "id": "26eb03ef-06f3-405c-bc17-614ab3ccf95a",
   "metadata": {},
   "source": [
    "The cyclic 5-roots problem has 70 different solutions and with high likelihood, the first solution will be different in each run."
   ]
  },
  {
   "cell_type": "markdown",
   "id": "ea209a6d-6f4c-42bb-a423-344dd5e583ff",
   "metadata": {},
   "source": [
    "## 2. fixing the seed"
   ]
  },
  {
   "cell_type": "markdown",
   "id": "331da555-2f0a-4687-b85e-6ca43d5f527d",
   "metadata": {},
   "source": [
    "Fixing the seed of the random number generators makes the solver deterministic."
   ]
  },
  {
   "cell_type": "markdown",
   "id": "638e047a-8712-48e6-ba66-d657efe500b3",
   "metadata": {},
   "source": [
    "Consider the following experiment."
   ]
  },
  {
   "cell_type": "code",
   "execution_count": 6,
   "id": "07b27f05-bc1f-4d89-a28a-b4e95d36cc53",
   "metadata": {},
   "outputs": [],
   "source": [
    "from phcpy.dimension import set_seed"
   ]
  },
  {
   "cell_type": "code",
   "execution_count": 7,
   "id": "fa5fec7e-e2f8-423f-a1fd-d1991bf63e21",
   "metadata": {},
   "outputs": [
    {
     "name": "stdout",
     "output_type": "stream",
     "text": [
      "t :  1.00000000000000E+00   0.00000000000000E+00\n",
      "m : 1\n",
      "the solution for t :\n",
      " x0 :  1.00000000000000E+00  -8.03364927637306E-17\n",
      " x1 :  3.09016994374947E-01   9.51056516295154E-01\n",
      " x2 : -8.09016994374947E-01   5.87785252292473E-01\n",
      " x3 : -8.09016994374947E-01  -5.87785252292473E-01\n",
      " x4 :  3.09016994374947E-01  -9.51056516295154E-01\n",
      "== err :  6.315E-16 = rco :  2.393E-01 = res :  4.631E-16 =\n"
     ]
    }
   ],
   "source": [
    "set_seed(2024)\n",
    "s3 = solve(c5)\n",
    "print(s3[0])"
   ]
  },
  {
   "cell_type": "code",
   "execution_count": 8,
   "id": "4a5bd9ac-f6fc-42c9-92f3-06ad8232b4aa",
   "metadata": {},
   "outputs": [
    {
     "name": "stdout",
     "output_type": "stream",
     "text": [
      "t :  1.00000000000000E+00   0.00000000000000E+00\n",
      "m : 1\n",
      "the solution for t :\n",
      " x0 :  1.00000000000000E+00  -8.03364927637306E-17\n",
      " x1 :  3.09016994374947E-01   9.51056516295154E-01\n",
      " x2 : -8.09016994374947E-01   5.87785252292473E-01\n",
      " x3 : -8.09016994374947E-01  -5.87785252292473E-01\n",
      " x4 :  3.09016994374947E-01  -9.51056516295154E-01\n",
      "== err :  6.315E-16 = rco :  2.393E-01 = res :  4.631E-16 =\n"
     ]
    }
   ],
   "source": [
    "set_seed(2024)\n",
    "s4 = solve(c5)\n",
    "print(s4[0])"
   ]
  },
  {
   "cell_type": "markdown",
   "id": "ae7914e2-d828-4536-b3b7-32c57f105d84",
   "metadata": {},
   "source": [
    "And of course, the point is that we see twice the same first solution."
   ]
  }
 ],
 "metadata": {
  "kernelspec": {
   "display_name": "Python 3 (ipykernel)",
   "language": "python",
   "name": "python3"
  },
  "language_info": {
   "codemirror_mode": {
    "name": "ipython",
    "version": 3
   },
   "file_extension": ".py",
   "mimetype": "text/x-python",
   "name": "python",
   "nbconvert_exporter": "python",
   "pygments_lexer": "ipython3",
   "version": "3.10.13"
  }
 },
 "nbformat": 4,
 "nbformat_minor": 5
}
