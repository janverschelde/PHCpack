{
 "cells": [
  {
   "cell_type": "markdown",
   "id": "11a9175a-b825-4ee9-b9dd-346859a2e51e",
   "metadata": {},
   "source": [
    "This notebook prepares the first section in the phcpy user manual on the blackbox solver."
   ]
  },
  {
   "cell_type": "markdown",
   "id": "1cd3bc11-78b7-46e0-91c0-bda7768b1d8a",
   "metadata": {},
   "source": [
    "# The Blackbox Solver"
   ]
  },
  {
   "cell_type": "markdown",
   "id": "aaf3783a-d6db-4203-aad0-ddf5f27137c2",
   "metadata": {},
   "source": [
    "A *blackbox* solver runs with default settings and values of the tolerances, executing a selection of algorithms which has shown to work for a large collection of problems.  As to what the *solver* computes, two different types of solvers are available:\n",
    "\n",
    "1. to approximate all isolated solutions, typically of systems with as many equations as unknows; and\n",
    "\n",
    "2. to compute a numerical irreducible decomposition of the entire solution set, which includes the isolated solution points, but also all positive dimensional sets (curves and surfaces), factored into irreducible components.\n",
    "\n",
    "Because the output of the two types is so vastly different and because the complexity of a numerical irreducible decomposition is much higher than computing only the isolated solutions, the user must decide in advance which solver function to call."
   ]
  },
  {
   "cell_type": "markdown",
   "id": "ba72756a-ecbe-41ed-904e-25ec537ec7ec",
   "metadata": {},
   "source": [
    "## 1. approximating all isolated solutions"
   ]
  },
  {
   "cell_type": "markdown",
   "id": "b38c3d54-95e8-4a69-9fb9-fd927bf322e5",
   "metadata": {},
   "source": [
    "The input to the solver is a list of strings, with symbolic representations of the polynomials in the system.  The ``;`` at the end signifies the ``= 0`` of the equations."
   ]
  },
  {
   "cell_type": "code",
   "execution_count": 1,
   "id": "b1416e52-c2ac-4204-9708-b05111586c14",
   "metadata": {},
   "outputs": [],
   "source": [
    "polynomials = ['x^3 + 2*x*y - x^2;', 'x + y - x^3;']"
   ]
  },
  {
   "cell_type": "markdown",
   "id": "b0860e1e-ab7b-4ffb-9d68-37c79fb9c9ba",
   "metadata": {},
   "source": [
    "To call the blackbox solver, we import the ``solve`` function from the ``solver`` module."
   ]
  },
  {
   "cell_type": "code",
   "execution_count": 2,
   "id": "03ab0c2f-c5cc-4dfd-845e-3c31e19f1cd3",
   "metadata": {},
   "outputs": [
    {
     "name": "stdout",
     "output_type": "stream",
     "text": [
      "PHCv2.4.88 released 2023-12-26 works!\n"
     ]
    }
   ],
   "source": [
    "from phcpy.solver import solve\n",
    "solutions = solve(polynomials)"
   ]
  },
  {
   "cell_type": "markdown",
   "id": "703684ef-075b-41b8-b815-6576133d7e60",
   "metadata": {},
   "source": [
    "The output of ``solve`` is also a list of strings."
   ]
  },
  {
   "cell_type": "code",
   "execution_count": 3,
   "id": "3a0d1197-c2a8-4f5a-9662-7a599b6041e8",
   "metadata": {},
   "outputs": [
    {
     "name": "stdout",
     "output_type": "stream",
     "text": [
      "Solution 1 :\n",
      "t :  0.00000000000000E+00   0.00000000000000E+00\n",
      "m : 2\n",
      "the solution for t :\n",
      " x :  0.00000000000000E+00   0.00000000000000E+00\n",
      " y :  0.00000000000000E+00   0.00000000000000E+00\n",
      "== err :  7.124E-17 = rco :  0.000E+00 = res :  0.000E+00 =\n",
      "Solution 2 :\n",
      "t :  1.00000000000000E+00   0.00000000000000E+00\n",
      "m : 1\n",
      "the solution for t :\n",
      " x :  1.00000000000000E+00   0.00000000000000E+00\n",
      " y :  0.00000000000000E+00   0.00000000000000E+00\n",
      "== err :  2.100E-74 = rco :  5.348E-01 = res :  0.000E+00 =\n",
      "Solution 3 :\n",
      "t :  1.00000000000000E+00   0.00000000000000E+00\n",
      "m : 1\n",
      "the solution for t :\n",
      " x : -1.50000000000000E+00   0.00000000000000E+00\n",
      " y : -1.87500000000000E+00   3.30053725596684E-238\n",
      "== err :  6.747E-80 = rco :  1.220E-01 = res : 1.073E-237 =\n"
     ]
    }
   ],
   "source": [
    "for (idx, sol) in enumerate(solutions):\n",
    "    print('Solution', idx+1, ':')\n",
    "    print(sol)"
   ]
  },
  {
   "cell_type": "markdown",
   "id": "bbda1cc6-579b-400a-b677-38079e2ee1b9",
   "metadata": {},
   "source": [
    "How did this actually work?  We can ask to see more output of the solver, giving a value to the verbose level parameter, the ``vrblvl`` as argument to the solver."
   ]
  },
  {
   "cell_type": "code",
   "execution_count": 4,
   "id": "3493a9c3-8d05-470e-a2e5-dfd020dbec9f",
   "metadata": {},
   "outputs": [
    {
     "name": "stdout",
     "output_type": "stream",
     "text": [
      "in solve, tasks : 0, mvfocus : 0, precision : d\n",
      "the polynomials on input :\n",
      "x^3 + 2*x*y - x^2;\n",
      "x + y - x^3;\n",
      "nbr : 4, roco :\n",
      "total degree : 9\n",
      "2-homogeneous Bezout number : 6\n",
      "  with with partition : { x }{ y }\n",
      "general linear-product Bezout number : 5\n",
      "  based on the set structure :\n",
      "     { x }{ x y }{ x }\n",
      "     { x y }{ x }{ x }\n",
      "mixed volume : 2\n",
      "stable mixed volume : 4\u0000\u0000\u0000\u0000\u0000\u0000\u0000\u0000\u0000\u0000\u0000\u0000\u0000\u0000\u0000\u0000\u0000\u0000\u0000\u0000\u0000\u0000\u0000\u0000\u0000\u0000\u0000\u0000\u0000\u0000\u0000\u0000\u0000\u0000\u0000\u0000\u0000\u0000\u0000\u0000\u0000\u0000\u0000\u0000\u0000\u0000\u0000\u0000\u0000\u0000\u0000\u0000\u0000\u0000\u0000\u0000\u0000\u0000\u0000\u0000\u0000\u0000\u0000\u0000\u0000\u0000\u0000\u0000\u0000\u0000\u0000\u0000\u0000\u0000\u0000\u0000\u0000\u0000\u0000\u0000\u0000\u0000\u0000\u0000\u0000\u0000\u0000\u0000\u0000\u0000\u0000\u0000\u0000\u0000\u0000\u0000\u0000\u0000\u0000\u0000\u0000\u0000\u0000\u0000\u0000\u0000\u0000\u0000\u0000\u0000\u0000\u0000\u0000\u0000\u0000\u0000\u0000\u0000\u0000\u0000\u0000\u0000\u0000\u0000\u0000\u0000\u0000\u0000\u0000\u0000\u0000\u0000\u0000\u0000\u0000\u0000\u0000\u0000\u0000\u0000\u0000\u0000\u0000\u0000\u0000\u0000\u0000\u0000\u0000\u0000\u0000\u0000\u0000\u0000\u0000\u0000\u0000\u0000\u0000\u0000\u0000\u0000\u0000\u0000\u0000\u0000\u0000\u0000\u0000\u0000\u0000\u0000\u0000\u0000\u0000\u0000\u0000\u0000\u0000\u0000\u0000\u0000\u0000\u0000\u0000\u0000\u0000\u0000\u0000\u0000\u0000\u0000\u0000\u0000\u0000\u0000\u0000\u0000\u0000\u0000\u0000\u0000\u0000\u0000\u0000\u0000\u0000\u0000\u0000\u0000\u0000\u0000\u0000\u0000\u0000\u0000\u0000\u0000\u0000\u0000\u0000\u0000\u0000\u0000\u0000\u0000\u0000\u0000\u0000\u0000\u0000\u0000\u0000\u0000\u0000\u0000\u0000\u0000\u0000\u0000\u0000\u0000\u0000\u0000\u0000\u0000\u0000\u0000\u0000\u0000\u0000\u0000\u0000\u0000\u0000\u0000\u0000\u0000\u0000\u0000\u0000\u0000\u0000\u0000\u0000\u0000\u0000\u0000\u0000\u0000\u0000\u0000\u0000\u0000\u0000\u0000\u0000\u0000\u0000\u0000\u0000\u0000\u0000\u0000\u0000\u0000\u0000\u0000\u0000\u0000\u0000\u0000\u0000\u0000\u0000\u0000\u0000\u0000\u0000\u0000\u0000\u0000\u0000\u0000\u0000\u0000\u0000\u0000\u0000\u0000\u0000\u0000\u0000\u0000\u0000\u0000\u0000\u0000\u0000\u0000\u0000\u0000\u0000\u0000\u0000\u0000\u0000\u0000\u0000\u0000\u0000\u0000\u0000\u0000\u0000\u0000\u0000\u0000\u0000\u0000\u0000\u0000\u0000\u0000\u0000\u0000\u0000\u0000\u0000\u0000\u0000\u0000\u0000\u0000\u0000\u0000\u0000\u0000\u0000\u0000\u0000\u0000\u0000\u0000\u0000\u0000\u0000\u0000\u0000\u0000\u0000\u0000\u0000\u0000\u0000\u0000\u0000\u0000\u0000\u0000\u0000\u0000\u0000\u0000\u0000\u0000\u0000\u0000\u0000\u0000\u0000\u0000\u0000\u0000\u0000\u0000\u0000\u0000\u0000\u0000\u0000\u0000\u0000\u0000\u0000\u0000\u0000\u0000\u0000\u0000\u0000\u0000\u0000\u0000\u0000\u0000\u0000\u0000\u0000\u0000\u0000\u0000\u0000\u0000\u0000\u0000\u0000\u0000\u0000\u0000\u0000\u0000\u0000\u0000\u0000\u0000\u0000\u0000\u0000\u0000\u0000\u0000\u0000\u0000\u0000\u0000\u0000\u0000\u0000\u0000\u0000\u0000\u0000\u0000\u0000\u0000\u0000\u0000\u0000\u0000\u0000\u0000\u0000\u0000\u0000\u0000\u0000\u0000\u0000\u0000\u0000\u0000\u0000\u0000\u0000\u0000\u0000\u0000\u0000\u0000\u0000\u0000\u0000\u0000\u0000\u0000\u0000\u0000\u0000\u0000\u0000\u0000\u0000\u0000\u0000\u0000\u0000\u0000\u0000\u0000\u0000\u0000\u0000\u0000\u0000\u0000\u0000\u0000\u0000\u0000\u0000\u0000\u0000\u0000\u0000\u0000\u0000\u0000\u0000\u0000\u0000\u0000\u0000\u0000\u0000\u0000\u0000\u0000\u0000\u0000\u0000\u0000\u0000\u0000\u0000\u0000\u0000\u0000\u0000\u0000\u0000\u0000\u0000\u0000\u0000\u0000\u0000\u0000\u0000\u0000\u0000\u0000\u0000\u0000\u0000\u0000\u0000\u0000\u0000\u0000\u0000\u0000\u0000\u0000\u0000\u0000\u0000\u0000\u0000\u0000\u0000\u0000\u0000\u0000\u0000\u0000\u0000\u0000\u0000\u0000\u0000\u0000\u0000\u0000\u0000\u0000\u0000\u0000\u0000\u0000\u0000\u0000\u0000\u0000\u0000\u0000\u0000\u0000\u0000\u0000\u0000\u0000\u0000\u0000\u0000\u0000\u0000\u0000\u0000\u0000\u0000\u0000\u0000\u0000\u0000\u0000\u0000\u0000\u0000\u0000\u0000\u0000\u0000\u0000\u0000\u0000\u0000\u0000\u0000\u0000\u0000\u0000\u0000\u0000\u0000\u0000\u0000\u0000\u0000\u0000\u0000\u0000\u0000\u0000\u0000\u0000\u0000\u0000\u0000\u0000\u0000\u0000\u0000\u0000\u0000\u0000\u0000\u0000\u0000\u0000\u0000\u0000\u0000\u0000\u0000\u0000\u0000\u0000\u0000\u0000\u0000\u0000\u0000\u0000\u0000\u0000\u0000\u0000\u0000\u0000\u0000\u0000\u0000\u0000\u0000\u0000\u0000\u0000\u0000\u0000\u0000\u0000\u0000\u0000\u0000\u0000\u0000\u0000\u0000\u0000\u0000\u0000\u0000\u0000\u0000\u0000\u0000\u0000\u0000\u0000\u0000\u0000\u0000\u0000\u0000\u0000\u0000\u0000\u0000\u0000\u0000\u0000\u0000\u0000\u0000\u0000\u0000\u0000\u0000\u0000\u0000\u0000\u0000\u0000\u0000\u0000\u0000\u0000\u0000\u0000\u0000\u0000\u0000\u0000\u0000\u0000\u0000\u0000\u0000\u0000\u0000\u0000\u0000\u0000\u0000\u0000\u0000\u0000\u0000\u0000\u0000\u0000\u0000\u0000\u0000\u0000\u0000\u0000\u0000\u0000\u0000\u0000\u0000\u0000\u0000\u0000\u0000\u0000\u0000\u0000\u0000\u0000\u0000\u0000\u0000\u0000\u0000\u0000\u0000\u0000\u0000\u0000\u0000\u0000\u0000\u0000\u0000\u0000\u0000\u0000\u0000\u0000\u0000\u0000\u0000\u0000\u0000\u0000\u0000\u0000\u0000\u0000\u0000\u0000\u0000\u0000\u0000\u0000\u0000\u0000\u0000\u0000\u0000\u0000\u0000\u0000\u0000\u0000\u0000\u0000\u0000\u0000\u0000\u0000\u0000\u0000\u0000\u0000\u0000\u0000\u0000\u0000\u0000\u0000\u0000\u0000\u0000\u0000\u0000\u0000\u0000\u0000\u0000\u0000\u0000\u0000\u0000\u0000\u0000\u0000\u0000\u0000\u0000\u0000\u0000\u0000\u0000\u0000\u0000\u0000\u0000\u0000\u0000\u0000\u0000\u0000\u0000\u0000\u0000\u0000\u0000\u0000\u0000\u0000\u0000\u0000\u0000\u0000\u0000\u0000\u0000\u0000\u0000\u0000\u0000\u0000\u0000\u0000\u0000\u0000\u0000\u0000\u0000\u0000\u0000\u0000\u0000\u0000\u0000\u0000\u0000\u0000\u0000\u0000\u0000\u0000\u0000\u0000\u0000\u0000\u0000\u0000\u0000\u0000\u0000\u0000\u0000\u0000\u0000\u0000\u0000\u0000\u0000\u0000\u0000\u0000\u0000\u0000\u0000\u0000\u0000\u0000\u0000\u0000\u0000\u0000\u0000\u0000\u0000\u0000\u0000\u0000\u0000\u0000\u0000\u0000\u0000\u0000\u0000\u0000\u0000\u0000\u0000\u0000\u0000\u0000\u0000\u0000\u0000\u0000\u0000\u0000\u0000\u0000\u0000\u0000\u0000\u0000\u0000\u0000\u0000\u0000\u0000\u0000\u0000\u0000\u0000\u0000\u0000\u0000\u0000\u0000\u0000\u0000\u0000\u0000\u0000\u0000\u0000\u0000\u0000\u0000\u0000\u0000\u0000\u0000\u0000\u0000\u0000\u0000\u0000\u0000\u0000\u0000\u0000\u0000\u0000\u0000\u0000\u0000\u0000\u0000\u0000\u0000\u0000\u0000\u0000\u0000\u0000\u0000\u0000\u0000\u0000\u0000\u0000\u0000\u0000\u0000\u0000\u0000\u0000\u0000\u0000\u0000\u0000\u0000\u0000\u0000\u0000\u0000\u0000\u0000\u0000\u0000\u0000\u0000\u0000\u0000\u0000\u0000\u0000\u0000\u0000\u0000\u0000\u0000\u0000\u0000\u0000\u0000\u0000\u0000\u0000\u0000\u0000\u0000\u0000\u0000\u0000\u0000\u0000\u0000\u0000\u0000\u0000\u0000\u0000\u0000\u0000\u0000\u0000\u0000\u0000\u0000\u0000\u0000\u0000\u0000\u0000\u0000\u0000\u0000\u0000\u0000\u0000\u0000\u0000\u0000\u0000\u0000\u0000\u0000\u0000\u0000\u0000\u0000\u0000\u0000\u0000\u0000\u0000\u0000\u0000\u0000\u0000\u0000\u0000\u0000\u0000\u0000\u0000\u0000\u0000\u0000\u0000\u0000\u0000\u0000\u0000\u0000\u0000\u0000\u0000\u0000\u0000\u0000\u0000\u0000\u0000\u0000\u0000\u0000\u0000\u0000\u0000\u0000\u0000\u0000\u0000\u0000\u0000\u0000\u0000\u0000\u0000\u0000\u0000\u0000\u0000\u0000\u0000\u0000\u0000\u0000\u0000\u0000\u0000\u0000\u0000\u0000\u0000\u0000\u0000\u0000\u0000\u0000\u0000\u0000\u0000\u0000\u0000\u0000\u0000\u0000\u0000\u0000\u0000\u0000\u0000\u0000\u0000\u0000\u0000\u0000\u0000\u0000\u0000\u0000\u0000\u0000\u0000\u0000\u0000\u0000\u0000\u0000\u0000\u0000\u0000\u0000\u0000\u0000\u0000\u0000\u0000\u0000\u0000\u0000\u0000\u0000\u0000\u0000\u0000\u0000\u0000\u0000\u0000\u0000\u0000\u0000\u0000\u0000\u0000\u0000\u0000\u0000\u0000\u0000\u0000\u0000\u0000\u0000\u0000\u0000\u0000\u0000\u0000\u0000\u0000\u0000\u0000\u0000\u0000\u0000\u0000\u0000\u0000\u0000\u0000\u0000\u0000\u0000\u0000\u0000\u0000\u0000\u0000\u0000\u0000\u0000\u0000\u0000\u0000\u0000\u0000\u0000\u0000\u0000\u0000\u0000\u0000\u0000\u0000\u0000\u0000\u0000\u0000\u0000\u0000\u0000\u0000\u0000\u0000\u0000\u0000\u0000\u0000\u0000\u0000\u0000\u0000\u0000\u0000\u0000\u0000\u0000\u0000\u0000\u0000\u0000\u0000\u0000\u0000\u0000\u0000\u0000\u0000\u0000\u0000\u0000\u0000\u0000\u0000\u0000\u0000\u0000\u0000\u0000\u0000\u0000\u0000\u0000\u0000\u0000\u0000\u0000\u0000\u0000\u0000\u0000\u0000\u0000\u0000\u0000\u0000\u0000\u0000\u0000\u0000\u0000\u0000\u0000\u0000\u0000\u0000\u0000\u0000\u0000\u0000\u0000\u0000\u0000\u0000\u0000\u0000\u0000\u0000\u0000\u0000\u0000\u0000\u0000\u0000\u0000\u0000\u0000\u0000\u0000\u0000\u0000\u0000\u0000\u0000\u0000\u0000\u0000\u0000\u0000\u0000\u0000\u0000\u0000\u0000\u0000\u0000\u0000\u0000\u0000\u0000\u0000\u0000\u0000\u0000\u0000\u0000\u0000\u0000\u0000\u0000\u0000\u0000\u0000\u0000\u0000\u0000\u0000\u0000\u0000\u0000\u0000\u0000\u0000\u0000\u0000\u0000\u0000\u0000\u0000\u0000\u0000\u0000\u0000\u0000\u0000\u0000\u0000\u0000\u0000\u0000\u0000\u0000\u0000\u0000\u0000\u0000\u0000\u0000\u0000\u0000\u0000\u0000\u0000\u0000\u0000\u0000\u0000\u0000\u0000\u0000\u0000\u0000\u0000\u0000\u0000\u0000\u0000\u0000\u0000\u0000\u0000\u0000\u0000\u0000\u0000\u0000\u0000\u0000\u0000\u0000\u0000\u0000\u0000\u0000\u0000\u0000\u0000\u0000\u0000\u0000\u0000\u0000\u0000\u0000\u0000\u0000\u0000\u0000\u0000\u0000\u0000\u0000\u0000\u0000\u0000\u0000\u0000\u0000\u0000\u0000\u0000\u0000\u0000\u0000\u0000\u0000\u0000\u0000\u0000\u0000\u0000\u0000\u0000\u0000\u0000\u0000\u0000\u0000\u0000\u0000\u0000\u0000\u0000\u0000\u0000\u0000\u0000\u0000\u0000\u0000\u0000\u0000\u0000\u0000\u0000\u0000\u0000\u0000\u0000\u0000\u0000\u0000\u0000\u0000\u0000\u0000\u0000\u0000\u0000\u0000\u0000\u0000\u0000\u0000\u0000\u0000\u0000\u0000\u0000\u0000\u0000\u0000\u0000\u0000\u0000\u0000\u0000\u0000\u0000\u0000\u0000\u0000\u0000\u0000\u0000\u0000\u0000\u0000\u0000\u0000\u0000\u0000\u0000\u0000\u0000\u0000\u0000\u0000\u0000\u0000\u0000\u0000\u0000\u0000\u0000\u0000\u0000\u0000\u0000\u0000\u0000\u0000\u0000\u0000\u0000\u0000\u0000\u0000\u0000\u0000\u0000\u0000\u0000\u0000\u0000\u0000\u0000\u0000\u0000\u0000\u0000\u0000\u0000\u0000\u0000\u0000\u0000\u0000\u0000\u0000\u0000\u0000\u0000\u0000\u0000\u0000\u0000\u0000\u0000\u0000\u0000\u0000\u0000\u0000\u0000\u0000\u0000\u0000\u0000\u0000\u0000\u0000\u0000\u0000\u0000\u0000\u0000\u0000\u0000\u0000\u0000\u0000\u0000\u0000\u0000\u0000\u0000\u0000\u0000\u0000\u0000\u0000\u0000\u0000\u0000\u0000\u0000\u0000\u0000\u0000\u0000\u0000\u0000\u0000\u0000\u0000\u0000\u0000\u0000\u0000\u0000\u0000\u0000\u0000\u0000\u0000\u0000\u0000\u0000\u0000\u0000\u0000\u0000\u0000\u0000\u0000\u0000\u0000\u0000\u0000\u0000\u0000\u0000\u0000\u0000\u0000\u0000\u0000\u0000\u0000\u0000\u0000\u0000\u0000\u0000\u0000\u0000\u0000\u0000\u0000\u0000\u0000\u0000\u0000\u0000\u0000\u0000\u0000\u0000\u0000\u0000\u0000\u0000\u0000\u0000\u0000\u0000\u0000\u0000\u0000\u0000\u0000\u0000\u0000\u0000\u0000\u0000\u0000\u0000\u0000\u0000\u0000\u0000\n"
     ]
    }
   ],
   "source": [
    "solutions = solve(polynomials, vrblvl=1)"
   ]
  },
  {
   "cell_type": "markdown",
   "id": "9f05d4b1-625b-48f9-b3d5-f528eb299cc1",
   "metadata": {},
   "source": [
    "The ``roco`` is an abbreviation of *root count*.  A root count is an upper bound on the number of solutions.  In the example, the two input polynomials are cubics.  Therefore, the largest number of isolated solutions equals nine, the product of the degrees of the polynomials.  However, not all monomials of degree three or less that could appear with nonzero coefficient are present.  The numbers ``6`` and ``5`` are better bounds computed on the degrees.  Mixed volumes are generically sharp bounds for the number of isolated solutions with all coordinates different from zero.  As in the example, there is one double root at ``(0, 0)``, which is counted by the stable mixed volume."
   ]
  },
  {
   "cell_type": "markdown",
   "id": "9ccf82de-33e3-485e-b9d9-1bfde1802a77",
   "metadata": {},
   "source": [
    "If the coefficients of the polynomials are sufficiently independent from each other, then the number of isolated solutions counted with multiplicity will match one of the computed root counts."
   ]
  },
  {
   "cell_type": "markdown",
   "id": "bb8478ae-eb9e-4f66-8ec9-0ca5e1a54561",
   "metadata": {},
   "source": [
    "## 2. options of the solve function"
   ]
  },
  {
   "cell_type": "markdown",
   "id": "8f28a8d3-fc8e-47f9-98b2-6b0c4a71a902",
   "metadata": {},
   "source": [
    "The blackbox solver runs with default values, which can be changed when calling the ``solve`` function."
   ]
  },
  {
   "cell_type": "markdown",
   "id": "ca5d2049-48f5-42e1-b69b-e5c4bddec74d",
   "metadata": {},
   "source": [
    "In addition to the list of polynomials, there are six parameters with default values:\n",
    "\n",
    "1. ``tasks`` equals the number of the threads and is by default set to zero.\n",
    "   The solutions can approximated independently to each other using *p* threads could in the best case speed up the solver by a factor of *p*.\n",
    "\n",
    "2. ``mvfocus`` is a flag to apply only mixed volumes as root counts, if set to one.\n",
    "   By default, this flag is set to zero and the solver will compute all bounds based on the degrees which may be too time consuming for sparse polynomial systems.\n",
    "\n",
    "3. ``precision`` is by default double (``d``).  Other values are ``dd`` for double double and ``qd`` for quad double.  While running in higher precision leads to more accurate results, the computational overhead can be significant.  The overhead may be compensated (in part) by multithreading.\n",
    "\n",
    "4. ``checkin`` is the option to run some basic checks on the input.  By default ``True``, setting it to ``False`` is okay if the input polynomials are automatically generated in the correct way.\n",
    "\n",
    "5. ``dictionary_output`` is by default ``False`` and a list of strings is returned.  If ``True``, then the output is a list of dictionaries, often convenient for processing.\n",
    "\n",
    "6. ``vrblvl`` is the verbose level parameter to make the blackbox solver less black when set to higher values."
   ]
  },
  {
   "cell_type": "markdown",
   "id": "64226801-80c7-42d7-9e59-07ccd7db3fa6",
   "metadata": {},
   "source": [
    "Of course, then there is always the ``help(solve)``:"
   ]
  },
  {
   "cell_type": "code",
   "execution_count": 5,
   "id": "9f5cb291-294f-4a92-93cb-aa6f55815af1",
   "metadata": {},
   "outputs": [
    {
     "name": "stdout",
     "output_type": "stream",
     "text": [
      "Help on function solve in module phcpy.solver:\n",
      "\n",
      "solve(pols, tasks=0, mvfocus=0, precision='d', checkin=True, dictionary_output=False, vrblvl=0)\n",
      "    Calls the blackbox solver to compute all isolated solutions.\n",
      "    To compute all solutions, also all positive dimensional solution sets,\n",
      "    with a numerical irreducible decomposition, see phcpy.decomposition.\n",
      "    On input in *pols* is a list of strings.\n",
      "    The number of tasks for multithreading is given by *tasks*.\n",
      "    The default zero value for *tasks* indicates no multithreading.\n",
      "    If the *mvfocus* option is set to one, then only mixed volumes\n",
      "    and polyhedral homotopies will be applied in the solver, and no\n",
      "    degree bounds will be computed, as is already the case when the\n",
      "    input system is genuinely laurent and has negative exponents.\n",
      "    Three levels of precision are supported:\n",
      "    \n",
      "    *d*: standard double precision (1.1e-15 or 2^(-53)),\n",
      "    \n",
      "    *dd*: double double precision (4.9e-32 or 2^(-104)),\n",
      "    \n",
      "    *qd*: quad double precision (1.2e-63 or 2^(-209)).\n",
      "    \n",
      "    If *checkin* (by default), the input *pols* is checked for being square.\n",
      "    If *dictionary_output*, then on return is a list of dictionaries,\n",
      "    else the returned list is a list of strings.\n",
      "    If *vrblvl* is larger than 0, then the names of the procedures\n",
      "    called in the running of the blackbox solver will be listed.\n",
      "\n"
     ]
    }
   ],
   "source": [
    "help(solve)"
   ]
  },
  {
   "cell_type": "markdown",
   "id": "46380d3a-5bac-415d-b21a-9611c40e306e",
   "metadata": {},
   "source": [
    "When changing the default values, consider the following."
   ]
  },
  {
   "cell_type": "markdown",
   "id": "4937c838-7f8b-49f7-a5ec-e2009fa1dd19",
   "metadata": {},
   "source": [
    "1. The number of threads should never be set to a value higher than the number of available cores on the system.  To find out the number of available cores, do the following:"
   ]
  },
  {
   "cell_type": "code",
   "execution_count": 6,
   "id": "11e05939-474c-43d4-8936-64df0a3a1057",
   "metadata": {},
   "outputs": [
    {
     "data": {
      "text/plain": [
       "32"
      ]
     },
     "execution_count": 6,
     "metadata": {},
     "output_type": "execute_result"
    }
   ],
   "source": [
    "from phcpy.dimension import get_core_count\n",
    "get_core_count()"
   ]
  },
  {
   "cell_type": "markdown",
   "id": "a000ad4c-0c85-44d5-8740-48f3ff6b3b12",
   "metadata": {},
   "source": [
    "So, use up to the value returned by ``phcpy.dimension.get_core_count()`` as the value to assign to the parameter ``tasks``."
   ]
  },
  {
   "cell_type": "markdown",
   "id": "cb99ce1d-6693-46f1-a766-0c82937596dd",
   "metadata": {},
   "source": [
    "2. The focus on mixed volumes (in the option ``mvfocus``) is automatically applied when the polynomials have negative exponents."
   ]
  },
  {
   "cell_type": "markdown",
   "id": "7f5e969c-b580-47be-878c-63fa481f1755",
   "metadata": {},
   "source": [
    "3. When computing in higher precision, keep in mind that also the coefficients of the polynomials then must also be evaluated in higher precision.  Consider ``1/3`` in double precision:"
   ]
  },
  {
   "cell_type": "code",
   "execution_count": 7,
   "id": "cd701151-d60e-47be-bc2d-4b049f5ae5d2",
   "metadata": {},
   "outputs": [
    {
     "data": {
      "text/plain": [
       "0.3333333333333333"
      ]
     },
     "execution_count": 7,
     "metadata": {},
     "output_type": "execute_result"
    }
   ],
   "source": [
    "1/3"
   ]
  },
  {
   "cell_type": "markdown",
   "id": "7cae9b00-be34-4f9d-91e7-fb0cded31ead",
   "metadata": {},
   "source": [
    "which is of course not equal to the rational number ``1/3``."
   ]
  },
  {
   "cell_type": "markdown",
   "id": "be009abd-d9d8-42dd-b63e-4ac1a77eefcc",
   "metadata": {},
   "source": [
    "4. One of the checks done by default (``checkin=True``) is whether the number of polynomials in the list equals the number of unknowns.  At this stage, if the syntax of the polynomial is incorrect, an error message will be printed as well."
   ]
  },
  {
   "cell_type": "markdown",
   "id": "c276d479-5b24-47b7-a449-286680ec830b",
   "metadata": {},
   "source": [
    "5. If ``dictionary_output`` is wanted after a run, then it can be computed afterwards, the ``solve()`` should not be called again, but can be computed with the ``strsol2dict()`` of the ``solutions`` module.  For example:"
   ]
  },
  {
   "cell_type": "code",
   "execution_count": 8,
   "id": "5e3df165-77a5-4ca7-a353-15e5cf8f770e",
   "metadata": {},
   "outputs": [
    {
     "data": {
      "text/plain": [
       "{'t': 0j, 'm': 2, 'err': 1.17e-16, 'rco': 0.0, 'res': 0.0, 'x': 0j, 'y': 0j}"
      ]
     },
     "execution_count": 8,
     "metadata": {},
     "output_type": "execute_result"
    }
   ],
   "source": [
    "from phcpy.solutions import strsol2dict\n",
    "strsol2dict(solutions[0])"
   ]
  },
  {
   "cell_type": "markdown",
   "id": "afd4caa4-bc97-4e28-8545-3d357e9185ab",
   "metadata": {},
   "source": [
    "6. Higher values of the verbose level ``vrblvl`` are mainly meant for debugging purposes as it should procedures are executed.  As the solving of a polynomial system could take a long time, the user can see which procedures are currently running if the solver appears to be stuck."
   ]
  }
 ],
 "metadata": {
  "kernelspec": {
   "display_name": "Python 3 (ipykernel)",
   "language": "python",
   "name": "python3"
  },
  "language_info": {
   "codemirror_mode": {
    "name": "ipython",
    "version": 3
   },
   "file_extension": ".py",
   "mimetype": "text/x-python",
   "name": "python",
   "nbconvert_exporter": "python",
   "pygments_lexer": "ipython3",
   "version": "3.10.13"
  }
 },
 "nbformat": 4,
 "nbformat_minor": 5
}
